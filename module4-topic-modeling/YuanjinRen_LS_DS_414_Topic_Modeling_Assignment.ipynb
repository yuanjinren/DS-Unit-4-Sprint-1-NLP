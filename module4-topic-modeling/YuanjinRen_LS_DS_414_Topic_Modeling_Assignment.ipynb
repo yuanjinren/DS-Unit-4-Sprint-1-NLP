{
  "nbformat": 4,
  "nbformat_minor": 0,
  "metadata": {
    "kernelspec": {
      "display_name": "U4-S1-NLP (Python 3)",
      "language": "python",
      "name": "u4-s1-nlp"
    },
    "language_info": {
      "codemirror_mode": {
        "name": "ipython",
        "version": 3
      },
      "file_extension": ".py",
      "mimetype": "text/x-python",
      "name": "python",
      "nbconvert_exporter": "python",
      "pygments_lexer": "ipython3",
      "version": "3.7.3"
    },
    "colab": {
      "name": "YuanjinRen_LS_DS_414_Topic_Modeling_Assignment.ipynb",
      "provenance": [],
      "collapsed_sections": [],
      "include_colab_link": true
    }
  },
  "cells": [
    {
      "cell_type": "markdown",
      "metadata": {
        "id": "view-in-github",
        "colab_type": "text"
      },
      "source": [
        "<a href=\"https://colab.research.google.com/github/yuanjinren/DS-Unit-4-Sprint-1-NLP/blob/main/module4-topic-modeling/YuanjinRen_LS_DS_414_Topic_Modeling_Assignment.ipynb\" target=\"_parent\"><img src=\"https://colab.research.google.com/assets/colab-badge.svg\" alt=\"Open In Colab\"/></a>"
      ]
    },
    {
      "cell_type": "markdown",
      "metadata": {
        "id": "0Ahpcgw0vRRp",
        "colab_type": "text"
      },
      "source": [
        "<img align=\"left\" src=\"https://lever-client-logos.s3.amazonaws.com/864372b1-534c-480e-acd5-9711f850815c-1524247202159.png\" width=200>\n",
        "<br></br>\n",
        "<br></br>\n",
        "\n",
        "# Topic Modeling\n",
        "## *Data Science Unit 4 Sprint 1 Assignment 4*\n",
        "\n",
        "Analyze a corpus of Amazon reviews from Unit 4 Sprint 1 Module 1's lecture using topic modeling: \n",
        "\n",
        "- Fit a Gensim LDA topic model on Amazon Reviews\n",
        "- Select appropriate number of topics\n",
        "- Create some dope visualization of the topics\n",
        "- Write a few bullets on your findings in markdown at the end\n",
        "- **Note**: You don't *have* to use generators for this assignment"
      ]
    },
    {
      "cell_type": "code",
      "metadata": {
        "id": "Ks_xtKFJvRRq",
        "colab_type": "code",
        "colab": {}
      },
      "source": [
        "import numpy as np\n",
        "import gensim\n",
        "import os\n",
        "import re\n",
        "\n",
        "from gensim.utils import simple_preprocess\n",
        "from gensim.parsing.preprocessing import STOPWORDS\n",
        "from gensim import corpora\n",
        "\n",
        "# from gensim.models.ldamulticore import LdaMulticore\n",
        "from gensim import models\n",
        "\n",
        "import pandas as pd"
      ],
      "execution_count": 36,
      "outputs": []
    },
    {
      "cell_type": "code",
      "metadata": {
        "id": "6WqJB-C33zvx",
        "colab_type": "code",
        "colab": {}
      },
      "source": [
        "amazon = pd.read_csv('/content/Datafiniti_Amazon_Consumer_Reviews_of_Amazon_Products_May19.csv')"
      ],
      "execution_count": 15,
      "outputs": []
    },
    {
      "cell_type": "code",
      "metadata": {
        "id": "tABG_RvY62Jr",
        "colab_type": "code",
        "colab": {
          "base_uri": "https://localhost:8080/",
          "height": 564
        },
        "outputId": "2e61c9df-37b3-40c8-c7b9-6ff5192ae8ee"
      },
      "source": [
        "amazon.head()"
      ],
      "execution_count": 16,
      "outputs": [
        {
          "output_type": "execute_result",
          "data": {
            "text/html": [
              "<div>\n",
              "<style scoped>\n",
              "    .dataframe tbody tr th:only-of-type {\n",
              "        vertical-align: middle;\n",
              "    }\n",
              "\n",
              "    .dataframe tbody tr th {\n",
              "        vertical-align: top;\n",
              "    }\n",
              "\n",
              "    .dataframe thead th {\n",
              "        text-align: right;\n",
              "    }\n",
              "</style>\n",
              "<table border=\"1\" class=\"dataframe\">\n",
              "  <thead>\n",
              "    <tr style=\"text-align: right;\">\n",
              "      <th></th>\n",
              "      <th>id</th>\n",
              "      <th>dateAdded</th>\n",
              "      <th>dateUpdated</th>\n",
              "      <th>name</th>\n",
              "      <th>asins</th>\n",
              "      <th>brand</th>\n",
              "      <th>categories</th>\n",
              "      <th>primaryCategories</th>\n",
              "      <th>imageURLs</th>\n",
              "      <th>keys</th>\n",
              "      <th>manufacturer</th>\n",
              "      <th>manufacturerNumber</th>\n",
              "      <th>reviews.date</th>\n",
              "      <th>reviews.dateSeen</th>\n",
              "      <th>reviews.didPurchase</th>\n",
              "      <th>reviews.doRecommend</th>\n",
              "      <th>reviews.id</th>\n",
              "      <th>reviews.numHelpful</th>\n",
              "      <th>reviews.rating</th>\n",
              "      <th>reviews.sourceURLs</th>\n",
              "      <th>reviews.text</th>\n",
              "      <th>reviews.title</th>\n",
              "      <th>reviews.username</th>\n",
              "      <th>sourceURLs</th>\n",
              "    </tr>\n",
              "  </thead>\n",
              "  <tbody>\n",
              "    <tr>\n",
              "      <th>0</th>\n",
              "      <td>AVpgNzjwLJeJML43Kpxn</td>\n",
              "      <td>2015-10-30T08:59:32Z</td>\n",
              "      <td>2019-04-25T09:08:16Z</td>\n",
              "      <td>AmazonBasics AAA Performance Alkaline Batterie...</td>\n",
              "      <td>B00QWO9P0O,B00LH3DMUO</td>\n",
              "      <td>Amazonbasics</td>\n",
              "      <td>AA,AAA,Health,Electronics,Health &amp; Household,C...</td>\n",
              "      <td>Health &amp; Beauty</td>\n",
              "      <td>https://images-na.ssl-images-amazon.com/images...</td>\n",
              "      <td>amazonbasics/hl002619,amazonbasicsaaaperforman...</td>\n",
              "      <td>AmazonBasics</td>\n",
              "      <td>HL-002619</td>\n",
              "      <td>2017-03-02T00:00:00.000Z</td>\n",
              "      <td>2017-08-28T00:00:00Z</td>\n",
              "      <td>NaN</td>\n",
              "      <td>NaN</td>\n",
              "      <td>NaN</td>\n",
              "      <td>NaN</td>\n",
              "      <td>3</td>\n",
              "      <td>https://www.amazon.com/product-reviews/B00QWO9...</td>\n",
              "      <td>I order 3 of them and one of the item is bad q...</td>\n",
              "      <td>... 3 of them and one of the item is bad quali...</td>\n",
              "      <td>Byger yang</td>\n",
              "      <td>https://www.barcodable.com/upc/841710106442,ht...</td>\n",
              "    </tr>\n",
              "    <tr>\n",
              "      <th>1</th>\n",
              "      <td>AVpgNzjwLJeJML43Kpxn</td>\n",
              "      <td>2015-10-30T08:59:32Z</td>\n",
              "      <td>2019-04-25T09:08:16Z</td>\n",
              "      <td>AmazonBasics AAA Performance Alkaline Batterie...</td>\n",
              "      <td>B00QWO9P0O,B00LH3DMUO</td>\n",
              "      <td>Amazonbasics</td>\n",
              "      <td>AA,AAA,Health,Electronics,Health &amp; Household,C...</td>\n",
              "      <td>Health &amp; Beauty</td>\n",
              "      <td>https://images-na.ssl-images-amazon.com/images...</td>\n",
              "      <td>amazonbasics/hl002619,amazonbasicsaaaperforman...</td>\n",
              "      <td>AmazonBasics</td>\n",
              "      <td>HL-002619</td>\n",
              "      <td>2016-08-31T00:00:00.000Z</td>\n",
              "      <td>2017-08-28T00:00:00Z</td>\n",
              "      <td>NaN</td>\n",
              "      <td>NaN</td>\n",
              "      <td>NaN</td>\n",
              "      <td>NaN</td>\n",
              "      <td>4</td>\n",
              "      <td>https://www.amazon.com/product-reviews/B00QWO9...</td>\n",
              "      <td>Bulk is always the less expensive way to go fo...</td>\n",
              "      <td>... always the less expensive way to go for pr...</td>\n",
              "      <td>ByMG</td>\n",
              "      <td>https://www.barcodable.com/upc/841710106442,ht...</td>\n",
              "    </tr>\n",
              "    <tr>\n",
              "      <th>2</th>\n",
              "      <td>AVpgNzjwLJeJML43Kpxn</td>\n",
              "      <td>2015-10-30T08:59:32Z</td>\n",
              "      <td>2019-04-25T09:08:16Z</td>\n",
              "      <td>AmazonBasics AAA Performance Alkaline Batterie...</td>\n",
              "      <td>B00QWO9P0O,B00LH3DMUO</td>\n",
              "      <td>Amazonbasics</td>\n",
              "      <td>AA,AAA,Health,Electronics,Health &amp; Household,C...</td>\n",
              "      <td>Health &amp; Beauty</td>\n",
              "      <td>https://images-na.ssl-images-amazon.com/images...</td>\n",
              "      <td>amazonbasics/hl002619,amazonbasicsaaaperforman...</td>\n",
              "      <td>AmazonBasics</td>\n",
              "      <td>HL-002619</td>\n",
              "      <td>2016-12-06T00:00:00.000Z</td>\n",
              "      <td>2017-08-28T00:00:00Z</td>\n",
              "      <td>NaN</td>\n",
              "      <td>NaN</td>\n",
              "      <td>NaN</td>\n",
              "      <td>NaN</td>\n",
              "      <td>5</td>\n",
              "      <td>https://www.amazon.com/product-reviews/B00QWO9...</td>\n",
              "      <td>Well they are not Duracell but for the price i...</td>\n",
              "      <td>... are not Duracell but for the price i am ha...</td>\n",
              "      <td>BySharon Lambert</td>\n",
              "      <td>https://www.barcodable.com/upc/841710106442,ht...</td>\n",
              "    </tr>\n",
              "    <tr>\n",
              "      <th>3</th>\n",
              "      <td>AVpgNzjwLJeJML43Kpxn</td>\n",
              "      <td>2015-10-30T08:59:32Z</td>\n",
              "      <td>2019-04-25T09:08:16Z</td>\n",
              "      <td>AmazonBasics AAA Performance Alkaline Batterie...</td>\n",
              "      <td>B00QWO9P0O,B00LH3DMUO</td>\n",
              "      <td>Amazonbasics</td>\n",
              "      <td>AA,AAA,Health,Electronics,Health &amp; Household,C...</td>\n",
              "      <td>Health &amp; Beauty</td>\n",
              "      <td>https://images-na.ssl-images-amazon.com/images...</td>\n",
              "      <td>amazonbasics/hl002619,amazonbasicsaaaperforman...</td>\n",
              "      <td>AmazonBasics</td>\n",
              "      <td>HL-002619</td>\n",
              "      <td>2016-03-28T00:00:00.000Z</td>\n",
              "      <td>2017-08-28T00:00:00Z</td>\n",
              "      <td>NaN</td>\n",
              "      <td>NaN</td>\n",
              "      <td>NaN</td>\n",
              "      <td>NaN</td>\n",
              "      <td>5</td>\n",
              "      <td>https://www.amazon.com/product-reviews/B00QWO9...</td>\n",
              "      <td>Seem to work as well as name brand batteries a...</td>\n",
              "      <td>... as well as name brand batteries at a much ...</td>\n",
              "      <td>Bymark sexson</td>\n",
              "      <td>https://www.barcodable.com/upc/841710106442,ht...</td>\n",
              "    </tr>\n",
              "    <tr>\n",
              "      <th>4</th>\n",
              "      <td>AVpgNzjwLJeJML43Kpxn</td>\n",
              "      <td>2015-10-30T08:59:32Z</td>\n",
              "      <td>2019-04-25T09:08:16Z</td>\n",
              "      <td>AmazonBasics AAA Performance Alkaline Batterie...</td>\n",
              "      <td>B00QWO9P0O,B00LH3DMUO</td>\n",
              "      <td>Amazonbasics</td>\n",
              "      <td>AA,AAA,Health,Electronics,Health &amp; Household,C...</td>\n",
              "      <td>Health &amp; Beauty</td>\n",
              "      <td>https://images-na.ssl-images-amazon.com/images...</td>\n",
              "      <td>amazonbasics/hl002619,amazonbasicsaaaperforman...</td>\n",
              "      <td>AmazonBasics</td>\n",
              "      <td>HL-002619</td>\n",
              "      <td>2017-04-22T00:00:00.000Z</td>\n",
              "      <td>2017-08-28T00:00:00Z</td>\n",
              "      <td>NaN</td>\n",
              "      <td>NaN</td>\n",
              "      <td>NaN</td>\n",
              "      <td>NaN</td>\n",
              "      <td>5</td>\n",
              "      <td>https://www.amazon.com/product-reviews/B00QWO9...</td>\n",
              "      <td>These batteries are very long lasting the pric...</td>\n",
              "      <td>... batteries are very long lasting the price ...</td>\n",
              "      <td>Bylinda</td>\n",
              "      <td>https://www.barcodable.com/upc/841710106442,ht...</td>\n",
              "    </tr>\n",
              "  </tbody>\n",
              "</table>\n",
              "</div>"
            ],
            "text/plain": [
              "                     id  ...                                         sourceURLs\n",
              "0  AVpgNzjwLJeJML43Kpxn  ...  https://www.barcodable.com/upc/841710106442,ht...\n",
              "1  AVpgNzjwLJeJML43Kpxn  ...  https://www.barcodable.com/upc/841710106442,ht...\n",
              "2  AVpgNzjwLJeJML43Kpxn  ...  https://www.barcodable.com/upc/841710106442,ht...\n",
              "3  AVpgNzjwLJeJML43Kpxn  ...  https://www.barcodable.com/upc/841710106442,ht...\n",
              "4  AVpgNzjwLJeJML43Kpxn  ...  https://www.barcodable.com/upc/841710106442,ht...\n",
              "\n",
              "[5 rows x 24 columns]"
            ]
          },
          "metadata": {
            "tags": []
          },
          "execution_count": 16
        }
      ]
    },
    {
      "cell_type": "code",
      "metadata": {
        "id": "ZWjWaImL6_wm",
        "colab_type": "code",
        "colab": {
          "base_uri": "https://localhost:8080/",
          "height": 35
        },
        "outputId": "c4a92203-b0b0-4ab2-8277-9afa4cd71ef8"
      },
      "source": [
        "amazon['reviews.text'][3]"
      ],
      "execution_count": 18,
      "outputs": [
        {
          "output_type": "execute_result",
          "data": {
            "application/vnd.google.colaboratory.intrinsic+json": {
              "type": "string"
            },
            "text/plain": [
              "'Seem to work as well as name brand batteries at a much better price'"
            ]
          },
          "metadata": {
            "tags": []
          },
          "execution_count": 18
        }
      ]
    },
    {
      "cell_type": "code",
      "metadata": {
        "id": "XxnwseeMd_BG",
        "colab_type": "code",
        "colab": {
          "base_uri": "https://localhost:8080/",
          "height": 51
        },
        "outputId": "2a917a52-ef17-4442-afe9-3181206626e9"
      },
      "source": [
        "import spacy.cli\n",
        "spacy.cli.download('en_core_web_lg')"
      ],
      "execution_count": 5,
      "outputs": [
        {
          "output_type": "stream",
          "text": [
            "\u001b[38;5;2m✔ Download and installation successful\u001b[0m\n",
            "You can now load the model via spacy.load('en_core_web_lg')\n"
          ],
          "name": "stdout"
        }
      ]
    },
    {
      "cell_type": "code",
      "metadata": {
        "id": "G_ghRCq7ek_n",
        "colab_type": "code",
        "colab": {}
      },
      "source": [
        "nlp = spacy.load('en_core_web_lg')"
      ],
      "execution_count": 6,
      "outputs": []
    },
    {
      "cell_type": "code",
      "metadata": {
        "id": "YqzJdOFleqQf",
        "colab_type": "code",
        "colab": {}
      },
      "source": [
        "from spacy.tokenizer import Tokenizer\n",
        "tokenizer = Tokenizer(nlp.vocab)\n",
        "stopwords = nlp.Defaults.stop_words.union([',', '-'])"
      ],
      "execution_count": 19,
      "outputs": []
    },
    {
      "cell_type": "code",
      "metadata": {
        "id": "_Tc_3p1bfE4s",
        "colab_type": "code",
        "colab": {}
      },
      "source": [
        "def get_lemmas(x):\n",
        "    lemmas = []\n",
        "    for token in nlp(x):\n",
        "        if (token.is_stop!=True) and (token.is_punct!=True):\n",
        "            lemmas.append(token.lemma_)\n",
        "    return lemmas"
      ],
      "execution_count": 12,
      "outputs": []
    },
    {
      "cell_type": "code",
      "metadata": {
        "id": "Rqri1IF0jS7b",
        "colab_type": "code",
        "colab": {
          "base_uri": "https://localhost:8080/",
          "height": 34
        },
        "outputId": "8b88e6fb-e4fe-4854-80d7-23bcacab3f94"
      },
      "source": [
        "from tqdm import tqdm\n",
        "tqdm.pandas()\n",
        "amazon['lemmas'] = amazon['reviews.text'].progress_apply(get_lemmas)"
      ],
      "execution_count": 21,
      "outputs": [
        {
          "output_type": "stream",
          "text": [
            "100%|██████████| 28332/28332 [06:04<00:00, 77.65it/s]\n"
          ],
          "name": "stderr"
        }
      ]
    },
    {
      "cell_type": "code",
      "metadata": {
        "id": "KyrG8SHL_nzu",
        "colab_type": "code",
        "colab": {}
      },
      "source": [
        "# STOPWORDS = set(STOPWORDS).union(set(['batteries', 'battery', 'I', 'amazon', 'i', 'Amazon', 'it', \"it's\", 'it.', 'the', 'this']))\n",
        "\n",
        "# def tokenize(text):\n",
        "#     return [token for token in simple_preprocess(text) if token not in STOPWORDS]"
      ],
      "execution_count": null,
      "outputs": []
    },
    {
      "cell_type": "code",
      "metadata": {
        "id": "RpUliN4k_yNz",
        "colab_type": "code",
        "colab": {}
      },
      "source": [
        "# amazon['tokens'] = amazon['reviews.text'].apply(tokenize)"
      ],
      "execution_count": null,
      "outputs": []
    },
    {
      "cell_type": "code",
      "metadata": {
        "id": "-U8B8HY4_3z1",
        "colab_type": "code",
        "colab": {
          "base_uri": "https://localhost:8080/",
          "height": 359
        },
        "outputId": "e6c0179e-434d-4a2d-dd92-cf77e3df1ecb"
      },
      "source": [
        "amazon[['reviews.text', 'lemmas']][:10]"
      ],
      "execution_count": 23,
      "outputs": [
        {
          "output_type": "execute_result",
          "data": {
            "text/html": [
              "<div>\n",
              "<style scoped>\n",
              "    .dataframe tbody tr th:only-of-type {\n",
              "        vertical-align: middle;\n",
              "    }\n",
              "\n",
              "    .dataframe tbody tr th {\n",
              "        vertical-align: top;\n",
              "    }\n",
              "\n",
              "    .dataframe thead th {\n",
              "        text-align: right;\n",
              "    }\n",
              "</style>\n",
              "<table border=\"1\" class=\"dataframe\">\n",
              "  <thead>\n",
              "    <tr style=\"text-align: right;\">\n",
              "      <th></th>\n",
              "      <th>reviews.text</th>\n",
              "      <th>lemmas</th>\n",
              "    </tr>\n",
              "  </thead>\n",
              "  <tbody>\n",
              "    <tr>\n",
              "      <th>0</th>\n",
              "      <td>I order 3 of them and one of the item is bad q...</td>\n",
              "      <td>[order, 3, item, bad, quality, miss, backup, s...</td>\n",
              "    </tr>\n",
              "    <tr>\n",
              "      <th>1</th>\n",
              "      <td>Bulk is always the less expensive way to go fo...</td>\n",
              "      <td>[bulk, expensive, way, product, like]</td>\n",
              "    </tr>\n",
              "    <tr>\n",
              "      <th>2</th>\n",
              "      <td>Well they are not Duracell but for the price i...</td>\n",
              "      <td>[Duracell, price, happy]</td>\n",
              "    </tr>\n",
              "    <tr>\n",
              "      <th>3</th>\n",
              "      <td>Seem to work as well as name brand batteries a...</td>\n",
              "      <td>[work, brand, battery, well, price]</td>\n",
              "    </tr>\n",
              "    <tr>\n",
              "      <th>4</th>\n",
              "      <td>These batteries are very long lasting the pric...</td>\n",
              "      <td>[battery, long, last, price, great]</td>\n",
              "    </tr>\n",
              "    <tr>\n",
              "      <th>5</th>\n",
              "      <td>Bought a lot of batteries for Christmas and th...</td>\n",
              "      <td>[buy, lot, battery, Christmas, AmazonBasics, C...</td>\n",
              "    </tr>\n",
              "    <tr>\n",
              "      <th>6</th>\n",
              "      <td>ive not had any problame with these batteries ...</td>\n",
              "      <td>[have, problame, battery, order, past, pleased]</td>\n",
              "    </tr>\n",
              "    <tr>\n",
              "      <th>7</th>\n",
              "      <td>Well if you are looking for cheap non-recharge...</td>\n",
              "      <td>[look, cheap, non, rechargeable, battery, perf...</td>\n",
              "    </tr>\n",
              "    <tr>\n",
              "      <th>8</th>\n",
              "      <td>These do not hold the amount of high power jui...</td>\n",
              "      <td>[hold, high, power, juice, like, energizer, du...</td>\n",
              "    </tr>\n",
              "    <tr>\n",
              "      <th>9</th>\n",
              "      <td>AmazonBasics AA AAA batteries have done well b...</td>\n",
              "      <td>[AmazonBasics, AA, AAA, battery, appear, good,...</td>\n",
              "    </tr>\n",
              "  </tbody>\n",
              "</table>\n",
              "</div>"
            ],
            "text/plain": [
              "                                        reviews.text                                             lemmas\n",
              "0  I order 3 of them and one of the item is bad q...  [order, 3, item, bad, quality, miss, backup, s...\n",
              "1  Bulk is always the less expensive way to go fo...              [bulk, expensive, way, product, like]\n",
              "2  Well they are not Duracell but for the price i...                           [Duracell, price, happy]\n",
              "3  Seem to work as well as name brand batteries a...                [work, brand, battery, well, price]\n",
              "4  These batteries are very long lasting the pric...                [battery, long, last, price, great]\n",
              "5  Bought a lot of batteries for Christmas and th...  [buy, lot, battery, Christmas, AmazonBasics, C...\n",
              "6  ive not had any problame with these batteries ...    [have, problame, battery, order, past, pleased]\n",
              "7  Well if you are looking for cheap non-recharge...  [look, cheap, non, rechargeable, battery, perf...\n",
              "8  These do not hold the amount of high power jui...  [hold, high, power, juice, like, energizer, du...\n",
              "9  AmazonBasics AA AAA batteries have done well b...  [AmazonBasics, AA, AAA, battery, appear, good,..."
            ]
          },
          "metadata": {
            "tags": []
          },
          "execution_count": 23
        }
      ]
    },
    {
      "cell_type": "code",
      "metadata": {
        "id": "hK_9_qtqACki",
        "colab_type": "code",
        "colab": {}
      },
      "source": [
        "id2word = corpora.Dictionary(amazon['lemmas'])"
      ],
      "execution_count": 24,
      "outputs": []
    },
    {
      "cell_type": "code",
      "metadata": {
        "id": "27HqYoIsAWLd",
        "colab_type": "code",
        "colab": {}
      },
      "source": [
        "corpus = [id2word.doc2bow(text) for text in amazon['lemmas']]"
      ],
      "execution_count": 25,
      "outputs": []
    },
    {
      "cell_type": "code",
      "metadata": {
        "id": "YBYeslPhAzml",
        "colab_type": "code",
        "colab": {
          "base_uri": "https://localhost:8080/",
          "height": 35
        },
        "outputId": "e417b7eb-39f6-4f26-c33a-a0d6fb570457"
      },
      "source": [
        "id2word[20]"
      ],
      "execution_count": 30,
      "outputs": [
        {
          "output_type": "execute_result",
          "data": {
            "application/vnd.google.colaboratory.intrinsic+json": {
              "type": "string"
            },
            "text/plain": [
              "'brand'"
            ]
          },
          "metadata": {
            "tags": []
          },
          "execution_count": 30
        }
      ]
    },
    {
      "cell_type": "code",
      "metadata": {
        "id": "hxIgR7NlA-RE",
        "colab_type": "code",
        "colab": {
          "base_uri": "https://localhost:8080/",
          "height": 306
        },
        "outputId": "84727810-abb1-4d8a-9cea-04d8e18aff78"
      },
      "source": [
        "corpus[5]"
      ],
      "execution_count": 27,
      "outputs": [
        {
          "output_type": "execute_result",
          "data": {
            "text/plain": [
              "[(4, 2),\n",
              " (20, 2),\n",
              " (25, 1),\n",
              " (26, 1),\n",
              " (27, 1),\n",
              " (28, 1),\n",
              " (29, 1),\n",
              " (30, 1),\n",
              " (31, 2),\n",
              " (32, 1),\n",
              " (33, 1),\n",
              " (34, 1),\n",
              " (35, 1),\n",
              " (36, 1),\n",
              " (37, 2),\n",
              " (38, 1),\n",
              " (39, 1)]"
            ]
          },
          "metadata": {
            "tags": []
          },
          "execution_count": 27
        }
      ]
    },
    {
      "cell_type": "code",
      "metadata": {
        "id": "e8Dd5gsQBC2K",
        "colab_type": "code",
        "colab": {
          "base_uri": "https://localhost:8080/",
          "height": 306
        },
        "outputId": "f12d7e90-73ca-4474-a390-3845cbde5d9d"
      },
      "source": [
        "# Human readable format of corpus (term-frequency)\n",
        "[(id2word[word_id], word_count) for word_id, word_count in corpus[5]]"
      ],
      "execution_count": 28,
      "outputs": [
        {
          "output_type": "execute_result",
          "data": {
            "text/plain": [
              "[('battery', 2),\n",
              " ('brand', 2),\n",
              " ('Amazon', 1),\n",
              " ('AmazonBasics', 1),\n",
              " ('Basic', 1),\n",
              " ('Cell', 1),\n",
              " ('Christmas', 1),\n",
              " ('arrive', 1),\n",
              " ('buy', 2),\n",
              " ('difference', 1),\n",
              " ('easy', 1),\n",
              " ('good', 1),\n",
              " ('hand', 1),\n",
              " ('house', 1),\n",
              " ('lot', 2),\n",
              " ('notice', 1),\n",
              " ('purchase', 1)]"
            ]
          },
          "metadata": {
            "tags": []
          },
          "execution_count": 28
        }
      ]
    },
    {
      "cell_type": "code",
      "metadata": {
        "id": "UaywjAgFBE27",
        "colab_type": "code",
        "colab": {}
      },
      "source": [
        "lda_model = gensim.models.ldamodel.LdaModel(corpus=corpus,\n",
        "                                           id2word=id2word,\n",
        "                                           num_topics=10, \n",
        "                                           chunksize=100,\n",
        "                                           passes=10,\n",
        "                                           per_word_topics=True)\n"
      ],
      "execution_count": 31,
      "outputs": []
    },
    {
      "cell_type": "code",
      "metadata": {
        "id": "m2Ge7kVKEbt8",
        "colab_type": "code",
        "colab": {}
      },
      "source": [
        "from pprint import pprint"
      ],
      "execution_count": 32,
      "outputs": []
    },
    {
      "cell_type": "code",
      "metadata": {
        "id": "ckyZSPIoBbTT",
        "colab_type": "code",
        "colab": {
          "base_uri": "https://localhost:8080/",
          "height": 680
        },
        "outputId": "2f3c5537-5b2b-4a7e-9948-d4e9ab8f9534"
      },
      "source": [
        "pprint(lda_model.print_topics())\n",
        "doc_lda = lda_model[corpus]"
      ],
      "execution_count": 33,
      "outputs": [
        {
          "output_type": "stream",
          "text": [
            "[(0,\n",
            "  '0.530*\"great\" + 0.120*\"price\" + 0.024*\"hold\" + 0.017*\"Buy\" + '\n",
            "  '0.012*\"graphic\" + 0.010*\"functionality\" + 0.010*\"buy\" + 0.009*\"wrong\" + '\n",
            "  '0.008*\"point\" + 0.006*\"complaint\"'),\n",
            " (1,\n",
            "  '0.097*\"tablet\" + 0.084*\"use\" + 0.048*\"old\" + 0.041*\"kid\" + 0.034*\"year\" + '\n",
            "  '0.032*\"buy\" + 0.032*\"get\" + 0.030*\"fire\" + 0.030*\"kindle\" + 0.028*\"Fire\"'),\n",
            " (2,\n",
            "  '0.054*\"app\" + 0.040*\"8\" + 0.034*\"download\" + 0.032*\"look\" + 0.021*\"web\" + '\n",
            "  '0.021*\"reading\" + 0.019*\"free\" + 0.019*\"take\" + 0.018*\"user\" + '\n",
            "  '0.016*\"memory\"'),\n",
            " (3,\n",
            "  '0.248*\"good\" + 0.105*\"game\" + 0.068*\"nice\" + 0.063*\"perfect\" + '\n",
            "  '0.048*\"price\" + 0.031*\"case\" + 0.023*\"value\" + 0.021*\"add\" + '\n",
            "  '0.020*\"friendly\" + 0.016*\"well\"'),\n",
            " (4,\n",
            "  '0.114*\"easy\" + 0.075*\"purchase\" + 0.071*\"book\" + 0.049*\"need\" + '\n",
            "  '0.048*\"Kindle\" + 0.029*\"like\" + 0.028*\"thing\" + 0.026*\"happy\" + 0.025*\"set\" '\n",
            "  '+ 0.023*\"light\"'),\n",
            " (5,\n",
            "  '0.046*\"size\" + 0.040*\"device\" + 0.038*\"new\" + 0.031*\"Amazon\" + '\n",
            "  '0.031*\"battery\" + 0.029*\"video\" + 0.028*\"little\" + 0.026*\"7\" + 0.023*\"life\" '\n",
            "  '+ 0.023*\"find\"'),\n",
            " (6,\n",
            "  '0.040*\"far\" + 0.034*\"internet\" + 0.030*\"$\" + 0.026*\"picture\" + '\n",
            "  '0.023*\"email\" + 0.023*\"problem\" + 0.021*\"Kindle\" + 0.021*\"pay\" + '\n",
            "  '0.019*\"sale\" + 0.017*\"check\"'),\n",
            " (7,\n",
            "  '0.138*\"tablet\" + 0.094*\"read\" + 0.083*\"screen\" + 0.063*\"product\" + '\n",
            "  '0.061*\"Amazon\" + 0.035*\"enjoy\" + 0.020*\"iPad\" + 0.018*\"replace\" + '\n",
            "  '0.017*\"learn\" + 0.016*\"excellent\"'),\n",
            " (8,\n",
            "  '0.149*\"work\" + 0.058*\"son\" + 0.047*\"price\" + 0.046*\"recommend\" + '\n",
            "  '0.041*\"big\" + 0.040*\"amazon\" + 0.040*\"well\" + 0.027*\"cheap\" + '\n",
            "  '0.026*\"version\" + 0.025*\"low\"'),\n",
            " (9,\n",
            "  '0.229*\"love\" + 0.064*\"buy\" + 0.057*\"want\" + 0.051*\"gift\" + 0.047*\"watch\" + '\n",
            "  '0.039*\"feature\" + 0.037*\"fast\" + 0.028*\"quality\" + 0.024*\"charge\" + '\n",
            "  '0.023*\"movie\"')]\n"
          ],
          "name": "stdout"
        }
      ]
    },
    {
      "cell_type": "code",
      "metadata": {
        "id": "SJkFE515qzG4",
        "colab_type": "code",
        "colab": {}
      },
      "source": [
        "from gensim.models.coherencemodel import CoherenceModel"
      ],
      "execution_count": 38,
      "outputs": []
    },
    {
      "cell_type": "code",
      "metadata": {
        "id": "OkGf3QaUo4oX",
        "colab_type": "code",
        "colab": {
          "base_uri": "https://localhost:8080/",
          "height": 85
        },
        "outputId": "87c95fe7-b287-4602-fbbf-c5ef8d231acd"
      },
      "source": [
        "# Compute Perplexity\n",
        "print ('\\nPerplexity: ' , lda_model.log_perplexity(corpus))\n",
        "\n",
        "# Compute the Coherence Score\n",
        "coherence_model_lda = CoherenceModel(model = lda_model,\n",
        "                                     texts = amazon['lemmas'],\n",
        "                                     dictionary=id2word,\n",
        "                                     coherence= 'c_v')\n",
        "coherence_lda = coherence_model_lda.get_coherence()\n",
        "print('\\nCoherence Score:', coherence_lda)"
      ],
      "execution_count": 39,
      "outputs": [
        {
          "output_type": "stream",
          "text": [
            "\n",
            "Perplexity:  -7.562061355519513\n",
            "\n",
            "Coherence Score: 0.4271492585831475\n"
          ],
          "name": "stdout"
        }
      ]
    },
    {
      "cell_type": "code",
      "metadata": {
        "id": "pSE7zOafzr9d",
        "colab_type": "code",
        "colab": {
          "base_uri": "https://localhost:8080/",
          "height": 632
        },
        "outputId": "645c8570-489b-4f2b-eee5-2493536392ae"
      },
      "source": [
        "!pip install pyLDAvis"
      ],
      "execution_count": 59,
      "outputs": [
        {
          "output_type": "stream",
          "text": [
            "Collecting pyLDAvis\n",
            "\u001b[?25l  Downloading https://files.pythonhosted.org/packages/a5/3a/af82e070a8a96e13217c8f362f9a73e82d61ac8fff3a2561946a97f96266/pyLDAvis-2.1.2.tar.gz (1.6MB)\n",
            "\u001b[K     |████████████████████████████████| 1.6MB 3.0MB/s \n",
            "\u001b[?25hRequirement already satisfied: wheel>=0.23.0 in /usr/local/lib/python3.6/dist-packages (from pyLDAvis) (0.35.1)\n",
            "Requirement already satisfied: numpy>=1.9.2 in /usr/local/lib/python3.6/dist-packages (from pyLDAvis) (1.18.5)\n",
            "Requirement already satisfied: scipy>=0.18.0 in /usr/local/lib/python3.6/dist-packages (from pyLDAvis) (1.4.1)\n",
            "Requirement already satisfied: pandas>=0.17.0 in /usr/local/lib/python3.6/dist-packages (from pyLDAvis) (1.0.5)\n",
            "Requirement already satisfied: joblib>=0.8.4 in /usr/local/lib/python3.6/dist-packages (from pyLDAvis) (0.16.0)\n",
            "Requirement already satisfied: jinja2>=2.7.2 in /usr/local/lib/python3.6/dist-packages (from pyLDAvis) (2.11.2)\n",
            "Requirement already satisfied: numexpr in /usr/local/lib/python3.6/dist-packages (from pyLDAvis) (2.7.1)\n",
            "Requirement already satisfied: pytest in /usr/local/lib/python3.6/dist-packages (from pyLDAvis) (3.6.4)\n",
            "Requirement already satisfied: future in /usr/local/lib/python3.6/dist-packages (from pyLDAvis) (0.16.0)\n",
            "Collecting funcy\n",
            "\u001b[?25l  Downloading https://files.pythonhosted.org/packages/ce/4b/6ffa76544e46614123de31574ad95758c421aae391a1764921b8a81e1eae/funcy-1.14.tar.gz (548kB)\n",
            "\u001b[K     |████████████████████████████████| 552kB 12.6MB/s \n",
            "\u001b[?25hRequirement already satisfied: pytz>=2017.2 in /usr/local/lib/python3.6/dist-packages (from pandas>=0.17.0->pyLDAvis) (2018.9)\n",
            "Requirement already satisfied: python-dateutil>=2.6.1 in /usr/local/lib/python3.6/dist-packages (from pandas>=0.17.0->pyLDAvis) (2.8.1)\n",
            "Requirement already satisfied: MarkupSafe>=0.23 in /usr/local/lib/python3.6/dist-packages (from jinja2>=2.7.2->pyLDAvis) (1.1.1)\n",
            "Requirement already satisfied: setuptools in /usr/local/lib/python3.6/dist-packages (from pytest->pyLDAvis) (49.6.0)\n",
            "Requirement already satisfied: more-itertools>=4.0.0 in /usr/local/lib/python3.6/dist-packages (from pytest->pyLDAvis) (8.4.0)\n",
            "Requirement already satisfied: six>=1.10.0 in /usr/local/lib/python3.6/dist-packages (from pytest->pyLDAvis) (1.15.0)\n",
            "Requirement already satisfied: py>=1.5.0 in /usr/local/lib/python3.6/dist-packages (from pytest->pyLDAvis) (1.9.0)\n",
            "Requirement already satisfied: atomicwrites>=1.0 in /usr/local/lib/python3.6/dist-packages (from pytest->pyLDAvis) (1.4.0)\n",
            "Requirement already satisfied: pluggy<0.8,>=0.5 in /usr/local/lib/python3.6/dist-packages (from pytest->pyLDAvis) (0.7.1)\n",
            "Requirement already satisfied: attrs>=17.4.0 in /usr/local/lib/python3.6/dist-packages (from pytest->pyLDAvis) (20.1.0)\n",
            "Building wheels for collected packages: pyLDAvis, funcy\n",
            "  Building wheel for pyLDAvis (setup.py) ... \u001b[?25l\u001b[?25hdone\n",
            "  Created wheel for pyLDAvis: filename=pyLDAvis-2.1.2-py2.py3-none-any.whl size=97712 sha256=ce8f3411c0e0e3dee9ebe243a0b6f748820b18c61803ebcfc4621425ab6794af\n",
            "  Stored in directory: /root/.cache/pip/wheels/98/71/24/513a99e58bb6b8465bae4d2d5e9dba8f0bef8179e3051ac414\n",
            "  Building wheel for funcy (setup.py) ... \u001b[?25l\u001b[?25hdone\n",
            "  Created wheel for funcy: filename=funcy-1.14-py2.py3-none-any.whl size=32042 sha256=4d9441f22dbe22e77ac451265e46a5b110e40860a5236f2296737c2568d3f0a3\n",
            "  Stored in directory: /root/.cache/pip/wheels/20/5a/d8/1d875df03deae6f178dfdf70238cca33f948ef8a6f5209f2eb\n",
            "Successfully built pyLDAvis funcy\n",
            "Installing collected packages: funcy, pyLDAvis\n",
            "Successfully installed funcy-1.14 pyLDAvis-2.1.2\n"
          ],
          "name": "stdout"
        }
      ]
    },
    {
      "cell_type": "code",
      "metadata": {
        "id": "e4aj0HWKzxNj",
        "colab_type": "code",
        "colab": {}
      },
      "source": [
        "import pyLDAvis.gensim"
      ],
      "execution_count": 60,
      "outputs": []
    },
    {
      "cell_type": "code",
      "metadata": {
        "id": "l79-Pd12xsmD",
        "colab_type": "code",
        "colab": {
          "base_uri": "https://localhost:8080/",
          "height": 881
        },
        "outputId": "4ca83428-e725-4e53-9a5f-d06ba77fc80e"
      },
      "source": [
        "pyLDAvis.enable_notebook()\n",
        "vis = pyLDAvis.gensim.prepare(lda_model, corpus, id2word)\n",
        "vis"
      ],
      "execution_count": 61,
      "outputs": [
        {
          "output_type": "execute_result",
          "data": {
            "text/html": [
              "\n",
              "<link rel=\"stylesheet\" type=\"text/css\" href=\"https://cdn.rawgit.com/bmabey/pyLDAvis/files/ldavis.v1.0.0.css\">\n",
              "\n",
              "\n",
              "<div id=\"ldavis_el1001403507686424724016189384\"></div>\n",
              "<script type=\"text/javascript\">\n",
              "\n",
              "var ldavis_el1001403507686424724016189384_data = {\"mdsDat\": {\"x\": [0.2367623533500677, 0.08300131650969947, 0.007440315342651498, -0.17257069817701678, -0.049202675950925506, 0.06960791811921306, 0.2754543922823237, -0.015066212079620235, -0.21844286073637387, -0.21698384866001919], \"y\": [0.183245150780626, -0.040372731513839244, -0.21722909324517078, 0.1250358868644843, 0.02867748628160679, -0.14095168406222908, 0.13123368716640105, -0.2808057111085146, 0.12211093614487203, 0.08905607269176329], \"topics\": [1, 2, 3, 4, 5, 6, 7, 8, 9, 10], \"cluster\": [1, 1, 1, 1, 1, 1, 1, 1, 1, 1], \"Freq\": [18.93464469909668, 13.617218971252441, 10.988584518432617, 9.491774559020996, 8.872350692749023, 8.489617347717285, 8.407063484191895, 8.090824127197266, 7.613893508911133, 5.494033336639404]}, \"tinfo\": {\"Term\": [\"great\", \"love\", \"good\", \"tablet\", \"work\", \"easy\", \"use\", \"price\", \"game\", \"read\", \"purchase\", \"screen\", \"book\", \"Amazon\", \"old\", \"app\", \"nice\", \"product\", \"kid\", \"son\", \"want\", \"size\", \"perfect\", \"need\", \"buy\", \"Kindle\", \"gift\", \"device\", \"year\", \"recommend\", \"use\", \"old\", \"kid\", \"year\", \"get\", \"fire\", \"kindle\", \"Fire\", \"play\", \"Christmas\", \"daughter\", \"child\", \"go\", \"think\", \"overall\", \"control\", \"right\", \"3\", \"music\", \"parental\", \"grandson\", \"Netflix\", \"HD\", \"Friday\", \"available\", \"load\", \"worth\", \"computer\", \"ipad\", \"sure\", \"tablet\", \"time\", \"buy\", \"app\", \"lot\", \"like\", \"store\", \"size\", \"device\", \"new\", \"video\", \"little\", \"7\", \"life\", \"find\", \"small\", \"money\", \"card\", \"awesome\", \"give\", \"pretty\", \"4\", \"deal\", \"travel\", \"show\", \"large\", \"keep\", \"age\", \"start\", \"etc\", \"10\", \"online\", \"inch\", \"member\", \"bit\", \"content\", \"inexpensive\", \"battery\", \"Amazon\", \"come\", \"easy\", \"purchase\", \"book\", \"need\", \"thing\", \"happy\", \"set\", \"light\", \"wife\", \"2\", \"access\", \"able\", \"reader\", \"day\", \"camera\", \"e\", \"color\", \"basic\", \"absolutely\", \"navigate\", \"library\", \"prime\", \"cost\", \"especially\", \"carry\", \"view\", \"choice\", \"school\", \"laptop\", \"one\", \"Kindle\", \"have\", \"like\", \"store\", \"work\", \"son\", \"big\", \"amazon\", \"cheap\", \"version\", \"low\", \"know\", \"beat\", \"5\", \"option\", \"highly\", \"expensive\", \"android\", \"unit\", \"star\", \"cover\", \"plenty\", \"ask\", \"sell\", \"extremely\", \"brand\", \"mainly\", \"handy\", \"perfectly\", \"primarily\", \"live\", \"apple\", \"disappoint\", \"surfing\", \"recommend\", \"well\", \"compare\", \"price\", \"long\", \"lot\", \"like\", \"buy\", \"love\", \"want\", \"gift\", \"watch\", \"feature\", \"fast\", \"quality\", \"charge\", \"item\", \"definitely\", \"granddaughter\", \"pleased\", \"hour\", \"present\", \"tv\", \"durable\", \"high\", \"replacement\", \"sound\", \"friend\", \"niece\", \"let\", \"performance\", \"birthday\", \"trip\", \"favorite\", \"nephew\", \"stop\", \"dollar\", \"bad\", \"movie\", \"buy\", \"recommend\", \"long\", \"come\", \"8\", \"download\", \"look\", \"web\", \"reading\", \"free\", \"take\", \"user\", \"memory\", \"storage\", \"Google\", \"issue\", \"phone\", \"slow\", \"surf\", \"Prime\", \"model\", \"display\", \"mom\", \"amazing\", \"fine\", \"account\", \"return\", \"black\", \"second\", \"feel\", \"fact\", \"GB\", \"service\", \"hard\", \"app\", \"movie\", \"iPad\", \"read\", \"screen\", \"product\", \"enjoy\", \"replace\", \"learn\", \"excellent\", \"expect\", \"try\", \"resolution\", \"make\", \"help\", \"ad\", \"allow\", \"affordable\", \"tell\", \"power\", \"experience\", \"touch\", \"browser\", \"best\", \"people\", \"processor\", \"wonderful\", \"pad\", \"cool\", \"Store\", \"customer\", \"handle\", \"2nd\", \"Amazon\", \"iPad\", \"tablet\", \"build\", \"HD8\", \"hd\", \"way\", \"time\", \"far\", \"internet\", \"$\", \"picture\", \"problem\", \"email\", \"pay\", \"sale\", \"check\", \"clear\", \"break\", \"better\", \"offer\", \"9\", \"extra\", \"plus\", \"browse\", \"turn\", \"actually\", \"instead\", \"spend\", \"include\", \"glad\", \"Facebook\", \"program\", \"own\", \"regular\", \"figure\", \"learning\", \"receive\", \"upgrade\", \"Kindle\", \"good\", \"game\", \"nice\", \"perfect\", \"case\", \"value\", \"add\", \"friendly\", \"simple\", \"say\", \"thank\", \"fit\", \"quick\", \"ok\", \"job\", \"playing\", \"see\", \"worry\", \"wait\", \"meet\", \"expandable\", \"finally\", \"news\", \"protective\", \"application\", \"save\", \"market\", \"kind\", \"audio\", \"non\", \"price\", \"review\", \"well\", \"store\", \"buy\", \"great\", \"hold\", \"Buy\", \"graphic\", \"functionality\", \"wrong\", \"heavy\", \"damage\", \"Ipad\", \"solid\", \"tho\", \"investment\", \"number\", \"office\", \"durability\", \"avid\", \"pink\", \"continue\", \"fairly\", \"fraction\", \"amd\", \"entry\", \"twice\", \"terrific\", \"Freetime\", \"likely\", \"Parental\", \"quad\", \"encourage\", \"intermediate\", \"price\", \"point\", \"complaint\", \"buy\"], \"Freq\": [9600.0, 6704.0, 6214.0, 9891.0, 4657.0, 4132.0, 5227.0, 4840.0, 2629.0, 2610.0, 2701.0, 2303.0, 2561.0, 3096.0, 3008.0, 2683.0, 1700.0, 1754.0, 2579.0, 1809.0, 1682.0, 2044.0, 1577.0, 1789.0, 5246.0, 2300.0, 1489.0, 1788.0, 2110.0, 1904.0, 5227.02392578125, 3007.369140625, 2578.647216796875, 2109.413330078125, 1998.1600341796875, 1886.379638671875, 1854.2113037109375, 1766.3182373046875, 1760.082275390625, 1046.309326171875, 911.6514282226562, 799.6023559570312, 622.6715698242188, 545.7474975585938, 528.6052856445312, 517.9075927734375, 473.7978820800781, 436.4864807128906, 424.6758728027344, 419.5362548828125, 400.4914855957031, 389.5235290527344, 389.4881286621094, 386.4881896972656, 380.9114990234375, 370.2997741699219, 361.78662109375, 351.92193603515625, 332.5055847167969, 324.7197265625, 6060.205078125, 1108.3868408203125, 2002.22021484375, 1165.58740234375, 716.4244384765625, 1104.061279296875, 397.0284423828125, 2043.270263671875, 1787.3570556640625, 1715.7677001953125, 1323.9244384765625, 1237.8541259765625, 1188.530029296875, 1029.5933837890625, 1012.7328491210938, 843.0293579101562, 819.7308349609375, 805.4830932617188, 787.4849853515625, 686.1532592773438, 676.1050415039062, 654.4552612304688, 643.6731567382812, 635.6596069335938, 547.6583251953125, 539.6455078125, 538.2713623046875, 462.39642333984375, 451.32733154296875, 431.2427978515625, 429.01416015625, 423.6264953613281, 404.0706787109375, 391.9623107910156, 389.3352966308594, 365.7950439453125, 365.7416076660156, 1381.32177734375, 1408.5914306640625, 501.6838073730469, 4131.62451171875, 2700.425048828125, 2560.531982421875, 1788.857177734375, 1028.7391357421875, 948.0558471679688, 892.4072265625, 851.287353515625, 747.6588745117188, 705.3267822265625, 696.2612915039062, 636.6724243164062, 559.9827270507812, 521.874267578125, 508.63787841796875, 406.4513244628906, 392.79046630859375, 388.6720275878906, 347.27215576171875, 331.4610290527344, 327.0228271484375, 293.9591064453125, 283.47918701171875, 283.0473937988281, 276.7450256347656, 254.1320343017578, 216.24783325195312, 179.29376220703125, 169.29969787597656, 166.8636016845703, 1727.671142578125, 369.7171936035156, 1055.431396484375, 228.03662109375, 4656.4970703125, 1808.9676513671875, 1279.9405517578125, 1256.9942626953125, 840.1226806640625, 801.1544189453125, 782.1312255859375, 780.0011596679688, 727.2727661132812, 654.3184814453125, 528.7229614257812, 525.7484741210938, 498.3712158203125, 474.419677734375, 347.2039489746094, 338.07916259765625, 313.0088195800781, 295.3337097167969, 253.92108154296875, 247.5819854736328, 219.6001434326172, 214.07994079589844, 196.9037322998047, 196.60980224609375, 196.22274780273438, 185.11053466796875, 178.86248779296875, 170.90933227539062, 165.1670379638672, 156.45449829101562, 1452.285888671875, 1248.720947265625, 308.5722961425781, 1462.2998046875, 349.6192932128906, 437.0522766113281, 562.3343505859375, 621.4253540039062, 6703.1982421875, 1681.287841796875, 1488.835693359375, 1372.5914306640625, 1131.222412109375, 1089.3778076171875, 820.1199951171875, 711.156494140625, 441.3852844238281, 350.00640869140625, 341.0920715332031, 328.883056640625, 299.1268615722656, 284.22601318359375, 272.863037109375, 261.20050048828125, 249.6979217529297, 244.86561584472656, 242.94825744628906, 235.04217529296875, 209.00343322753906, 207.17544555664062, 196.5452880859375, 195.26756286621094, 194.8070068359375, 180.70697021484375, 167.57374572753906, 166.13006591796875, 161.5349578857422, 160.30029296875, 682.0087280273438, 1865.50341796875, 451.6136779785156, 205.7110595703125, 183.2964324951172, 1120.39306640625, 942.2060546875, 897.48388671875, 588.8489990234375, 577.9461669921875, 541.87158203125, 526.7125244140625, 494.1642761230469, 458.3553771972656, 457.6292724609375, 397.6448669433594, 391.2454528808594, 378.816650390625, 350.3262634277344, 347.1177673339844, 342.68084716796875, 341.8638610839844, 315.02716064453125, 314.0731506347656, 306.3367004394531, 298.7266540527344, 285.6087646484375, 276.07421875, 261.561279296875, 254.08804321289062, 247.63809204101562, 247.26095581054688, 239.8368377685547, 217.5203094482422, 208.75546264648438, 1517.129638671875, 372.8663330078125, 286.8184814453125, 2609.69091796875, 2302.4853515625, 1753.8392333984375, 960.767822265625, 495.0825500488281, 482.45257568359375, 429.9810791015625, 390.5522766113281, 362.6537780761719, 360.0373229980469, 351.1368103027344, 338.6726379394531, 311.9595031738281, 260.7930908203125, 209.05984497070312, 183.52989196777344, 166.8048553466797, 161.9877166748047, 156.80035400390625, 156.59799194335938, 156.071533203125, 154.78956604003906, 144.8433380126953, 138.5170135498047, 136.12828063964844, 116.79286193847656, 108.380615234375, 103.49026489257812, 102.37122344970703, 100.79847717285156, 1687.49560546875, 562.1172485351562, 3830.650390625, 166.7028045654297, 228.34471130371094, 308.6784362792969, 219.66058349609375, 239.60922241210938, 1076.1927490234375, 894.3837890625, 796.7822265625, 690.7870483398438, 622.6331787109375, 622.6781616210938, 553.5093383789062, 499.3733825683594, 445.7535400390625, 439.2337341308594, 401.78887939453125, 394.7765808105469, 298.0425720214844, 273.76007080078125, 262.9528503417969, 246.96815490722656, 245.7313995361328, 243.8657989501953, 221.358154296875, 220.24880981445312, 214.1982421875, 208.99571228027344, 201.57806396484375, 198.28369140625, 190.75582885742188, 190.1303253173828, 188.13302612304688, 182.67068481445312, 179.6743927001953, 178.95980834960938, 395.3945007324219, 572.4188842773438, 6214.14111328125, 2629.1083984375, 1699.8101806640625, 1576.8408203125, 774.1646118164062, 579.3954467773438, 521.623779296875, 500.3292236328125, 394.46990966796875, 365.68280029296875, 298.79742431640625, 265.0360412597656, 220.71090698242188, 213.26266479492188, 188.67225646972656, 179.12649536132812, 171.24118041992188, 170.2582244873047, 168.6444854736328, 142.4703826904297, 142.43479919433594, 113.97899627685547, 112.50386047363281, 109.63566589355469, 102.30870819091797, 93.06419372558594, 92.1924057006836, 90.52730560302734, 87.81446075439453, 84.95902252197266, 1203.5347900390625, 183.38198852539062, 397.76422119140625, 184.94308471679688, 282.0662841796875, 9599.896484375, 428.2928161621094, 311.6310119628906, 225.5646209716797, 180.58750915527344, 169.8739776611328, 113.36629486083984, 109.802490234375, 96.46524810791016, 95.42550659179688, 79.8891372680664, 76.1098861694336, 69.884521484375, 67.55612182617188, 66.73237609863281, 61.92890548706055, 59.09941482543945, 56.8455924987793, 56.477176666259766, 55.9879264831543, 57.10506820678711, 55.055694580078125, 54.972984313964844, 52.45027542114258, 51.864036560058594, 40.56696319580078, 49.12118911743164, 36.196292877197266, 30.431352615356445, 28.440431594848633, 2173.937744140625, 149.91925048828125, 116.07476043701172, 176.43582153320312], \"Total\": [9600.0, 6704.0, 6214.0, 9891.0, 4657.0, 4132.0, 5227.0, 4840.0, 2629.0, 2610.0, 2701.0, 2303.0, 2561.0, 3096.0, 3008.0, 2683.0, 1700.0, 1754.0, 2579.0, 1809.0, 1682.0, 2044.0, 1577.0, 1789.0, 5246.0, 2300.0, 1489.0, 1788.0, 2110.0, 1904.0, 5227.8515625, 3008.197021484375, 2579.47509765625, 2110.2412109375, 1998.98828125, 1887.2078857421875, 1855.03955078125, 1767.146484375, 1760.9105224609375, 1047.137451171875, 912.4793090820312, 800.4302368164062, 623.4996337890625, 546.5756225585938, 529.43359375, 518.7354736328125, 474.62603759765625, 437.314453125, 425.5042419433594, 420.3642272949219, 401.3194885253906, 390.3517150878906, 390.3163757324219, 387.31640625, 381.7396240234375, 371.1279296875, 362.6147155761719, 352.75018310546875, 333.3338317871094, 325.5478515625, 9891.6123046875, 1496.7744140625, 5246.67822265625, 2683.473876953125, 1275.8883056640625, 3023.394775390625, 810.66552734375, 2044.0576171875, 1788.1444091796875, 1716.5550537109375, 1324.7119140625, 1238.6414794921875, 1189.3175048828125, 1030.3807373046875, 1013.5200805664062, 843.8164672851562, 820.5181884765625, 806.2705078125, 788.2722778320312, 686.9405517578125, 676.8922729492188, 655.2423706054688, 644.4605102539062, 636.4468994140625, 548.4456787109375, 540.4327392578125, 539.0584716796875, 463.1836242675781, 452.1145935058594, 432.03009033203125, 429.8013916015625, 424.4138488769531, 404.8580017089844, 392.7496643066406, 390.12255859375, 366.582275390625, 366.5289001464844, 1587.0972900390625, 3096.80224609375, 835.4710083007812, 4132.4453125, 2701.24609375, 2561.35302734375, 1789.678466796875, 1029.5604248046875, 948.8770141601562, 893.2282104492188, 852.1083984375, 748.4800415039062, 706.1477661132812, 697.0823974609375, 637.4935302734375, 560.8037719726562, 522.6953125, 509.4590759277344, 407.27239990234375, 393.6115417480469, 389.4933166503906, 348.0933532714844, 332.2821044921875, 327.84393310546875, 294.78033447265625, 284.3005676269531, 283.8685607910156, 277.56610107421875, 254.95323181152344, 217.06898498535156, 180.11485290527344, 170.12081909179688, 167.6847381591797, 2300.819580078125, 521.6665649414062, 3023.394775390625, 810.66552734375, 4657.26318359375, 1809.7340087890625, 1280.7069091796875, 1257.7606201171875, 840.8887939453125, 801.9205932617188, 782.8975219726562, 780.767333984375, 728.0389404296875, 655.0845947265625, 529.4890747070312, 526.5145263671875, 499.1374206542969, 475.1858825683594, 347.97021484375, 338.84539794921875, 313.7749938964844, 296.0999755859375, 254.6873016357422, 248.3483428955078, 220.36630249023438, 214.84613037109375, 197.67005920410156, 197.3760223388672, 196.98907470703125, 185.87684631347656, 179.62872314453125, 171.67556762695312, 165.93325805664062, 157.23931884765625, 1904.5877685546875, 1647.1610107421875, 366.7027587890625, 4840.353515625, 748.842529296875, 1275.8883056640625, 3023.394775390625, 5246.67822265625, 6704.021484375, 1682.1114501953125, 1489.6593017578125, 1373.4150390625, 1132.0460205078125, 1090.2015380859375, 820.9434814453125, 711.9799194335938, 442.208740234375, 350.8298034667969, 341.9153747558594, 329.7065124511719, 299.9503479003906, 285.0494079589844, 273.6864929199219, 262.02386474609375, 250.52145385742188, 245.68911743164062, 243.77175903320312, 235.86557006835938, 209.82672119140625, 207.9990234375, 197.36883544921875, 196.0908660888672, 195.63043212890625, 181.53036499023438, 168.3970489501953, 166.95367431640625, 162.35874938964844, 161.12374877929688, 1055.62744140625, 5246.67822265625, 1904.5877685546875, 748.842529296875, 835.4710083007812, 1121.2236328125, 943.0362548828125, 898.314208984375, 589.6793212890625, 578.7764282226562, 542.7018432617188, 527.5428466796875, 494.99456787109375, 459.1856689453125, 458.4595947265625, 398.4752197265625, 392.07568359375, 379.64697265625, 351.1565246582031, 347.9481201171875, 343.5111999511719, 342.6941833496094, 315.8575134277344, 314.90350341796875, 307.1670227050781, 299.5570068359375, 286.4390869140625, 276.9045104980469, 262.3917541503906, 254.91844177246094, 248.4683837890625, 248.09132385253906, 240.6671905517578, 218.3506622314453, 209.5857696533203, 2683.473876953125, 1055.62744140625, 849.6942138671875, 2610.520263671875, 2303.31494140625, 1754.6689453125, 961.5973510742188, 495.9122009277344, 483.2821350097656, 430.8106384277344, 391.38189697265625, 363.48345947265625, 360.866943359375, 351.9664001464844, 339.50225830078125, 312.7891540527344, 261.6226806640625, 209.88954162597656, 184.35952758789062, 167.63462829589844, 162.81729125976562, 157.62989807128906, 157.42774963378906, 156.9011688232422, 155.6193084716797, 145.6734619140625, 139.34658813476562, 136.9578857421875, 117.6225357055664, 109.21017456054688, 104.31985473632812, 103.20082092285156, 101.62812042236328, 3096.80224609375, 849.6942138671875, 9891.6123046875, 209.1994171142578, 339.1808166503906, 607.4725341796875, 511.1708068847656, 1496.7744140625, 1077.0029296875, 895.19384765625, 797.5924072265625, 691.5971069335938, 623.4431762695312, 623.4882202148438, 554.3195190429688, 500.1834411621094, 446.5635986328125, 440.0438232421875, 402.5989074707031, 395.586669921875, 298.8526611328125, 274.57025146484375, 263.7629699707031, 247.77821350097656, 246.5415496826172, 244.67575073242188, 222.1682586669922, 221.05886840820312, 215.00827026367188, 209.8057098388672, 202.38807678222656, 199.0948944091797, 191.5658416748047, 190.94039916992188, 188.9430694580078, 183.48068237304688, 180.48434448242188, 179.7698516845703, 538.4331665039062, 2300.819580078125, 6214.95263671875, 2629.91943359375, 1700.621337890625, 1577.6519775390625, 774.9756469726562, 580.2066650390625, 522.4349975585938, 501.14031982421875, 395.2810363769531, 366.49407958984375, 299.6086120605469, 265.84716796875, 221.52215576171875, 214.07382202148438, 189.48338317871094, 179.93760681152344, 172.0524139404297, 171.06930541992188, 169.45571899414062, 143.2815399169922, 143.24595642089844, 114.79031372070312, 113.31527709960938, 110.44669342041016, 103.11996459960938, 93.87543487548828, 93.00349426269531, 91.33841705322266, 88.62570190429688, 85.77082824707031, 4840.353515625, 307.4730529785156, 1647.1610107421875, 810.66552734375, 5246.67822265625, 9600.703125, 429.09979248046875, 312.43804931640625, 226.37164306640625, 181.3945770263672, 170.68099975585938, 114.1733169555664, 110.6094741821289, 97.27230072021484, 96.23248291015625, 80.69647216796875, 76.91677856445312, 70.69143676757812, 68.36353302001953, 67.53948211669922, 62.73589324951172, 59.90648651123047, 57.652557373046875, 57.2849006652832, 56.7950325012207, 57.929054260253906, 55.86276626586914, 55.78012466430664, 53.25749969482422, 52.675193786621094, 41.375484466552734, 50.22780990600586, 37.05044937133789, 31.238338470458984, 29.251741409301758, 4840.353515625, 275.226318359375, 252.40097045898438, 5246.67822265625], \"Category\": [\"Default\", \"Default\", \"Default\", \"Default\", \"Default\", \"Default\", \"Default\", \"Default\", \"Default\", \"Default\", \"Default\", \"Default\", \"Default\", \"Default\", \"Default\", \"Default\", \"Default\", \"Default\", \"Default\", \"Default\", \"Default\", \"Default\", \"Default\", \"Default\", \"Default\", \"Default\", \"Default\", \"Default\", \"Default\", \"Default\", \"Topic1\", \"Topic1\", \"Topic1\", \"Topic1\", \"Topic1\", \"Topic1\", \"Topic1\", \"Topic1\", \"Topic1\", \"Topic1\", \"Topic1\", \"Topic1\", \"Topic1\", \"Topic1\", \"Topic1\", \"Topic1\", \"Topic1\", \"Topic1\", \"Topic1\", \"Topic1\", \"Topic1\", \"Topic1\", \"Topic1\", \"Topic1\", \"Topic1\", \"Topic1\", \"Topic1\", \"Topic1\", \"Topic1\", \"Topic1\", \"Topic1\", \"Topic1\", \"Topic1\", \"Topic1\", \"Topic1\", \"Topic1\", \"Topic1\", \"Topic2\", \"Topic2\", \"Topic2\", \"Topic2\", \"Topic2\", \"Topic2\", \"Topic2\", \"Topic2\", \"Topic2\", \"Topic2\", \"Topic2\", \"Topic2\", \"Topic2\", \"Topic2\", \"Topic2\", \"Topic2\", \"Topic2\", \"Topic2\", \"Topic2\", \"Topic2\", \"Topic2\", \"Topic2\", \"Topic2\", \"Topic2\", \"Topic2\", \"Topic2\", \"Topic2\", \"Topic2\", \"Topic2\", \"Topic2\", \"Topic2\", \"Topic2\", \"Topic2\", \"Topic3\", \"Topic3\", \"Topic3\", \"Topic3\", \"Topic3\", \"Topic3\", \"Topic3\", \"Topic3\", \"Topic3\", \"Topic3\", \"Topic3\", \"Topic3\", \"Topic3\", \"Topic3\", \"Topic3\", \"Topic3\", \"Topic3\", \"Topic3\", \"Topic3\", \"Topic3\", \"Topic3\", \"Topic3\", \"Topic3\", \"Topic3\", \"Topic3\", \"Topic3\", \"Topic3\", \"Topic3\", \"Topic3\", \"Topic3\", \"Topic3\", \"Topic3\", \"Topic3\", \"Topic3\", \"Topic4\", \"Topic4\", \"Topic4\", \"Topic4\", \"Topic4\", \"Topic4\", \"Topic4\", \"Topic4\", \"Topic4\", \"Topic4\", \"Topic4\", \"Topic4\", \"Topic4\", \"Topic4\", \"Topic4\", \"Topic4\", \"Topic4\", \"Topic4\", \"Topic4\", \"Topic4\", \"Topic4\", \"Topic4\", \"Topic4\", \"Topic4\", \"Topic4\", \"Topic4\", \"Topic4\", \"Topic4\", \"Topic4\", \"Topic4\", \"Topic4\", \"Topic4\", \"Topic4\", \"Topic4\", \"Topic4\", \"Topic4\", \"Topic4\", \"Topic4\", \"Topic5\", \"Topic5\", \"Topic5\", \"Topic5\", \"Topic5\", \"Topic5\", \"Topic5\", \"Topic5\", \"Topic5\", \"Topic5\", \"Topic5\", \"Topic5\", \"Topic5\", \"Topic5\", \"Topic5\", \"Topic5\", \"Topic5\", \"Topic5\", \"Topic5\", \"Topic5\", \"Topic5\", \"Topic5\", \"Topic5\", \"Topic5\", \"Topic5\", \"Topic5\", \"Topic5\", \"Topic5\", \"Topic5\", \"Topic5\", \"Topic5\", \"Topic5\", \"Topic5\", \"Topic5\", \"Topic5\", \"Topic6\", \"Topic6\", \"Topic6\", \"Topic6\", \"Topic6\", \"Topic6\", \"Topic6\", \"Topic6\", \"Topic6\", \"Topic6\", \"Topic6\", \"Topic6\", \"Topic6\", \"Topic6\", \"Topic6\", \"Topic6\", \"Topic6\", \"Topic6\", \"Topic6\", \"Topic6\", \"Topic6\", \"Topic6\", \"Topic6\", \"Topic6\", \"Topic6\", \"Topic6\", \"Topic6\", \"Topic6\", \"Topic6\", \"Topic6\", \"Topic6\", \"Topic6\", \"Topic6\", \"Topic7\", \"Topic7\", \"Topic7\", \"Topic7\", \"Topic7\", \"Topic7\", \"Topic7\", \"Topic7\", \"Topic7\", \"Topic7\", \"Topic7\", \"Topic7\", \"Topic7\", \"Topic7\", \"Topic7\", \"Topic7\", \"Topic7\", \"Topic7\", \"Topic7\", \"Topic7\", \"Topic7\", \"Topic7\", \"Topic7\", \"Topic7\", \"Topic7\", \"Topic7\", \"Topic7\", \"Topic7\", \"Topic7\", \"Topic7\", \"Topic7\", \"Topic7\", \"Topic7\", \"Topic7\", \"Topic7\", \"Topic7\", \"Topic7\", \"Topic7\", \"Topic8\", \"Topic8\", \"Topic8\", \"Topic8\", \"Topic8\", \"Topic8\", \"Topic8\", \"Topic8\", \"Topic8\", \"Topic8\", \"Topic8\", \"Topic8\", \"Topic8\", \"Topic8\", \"Topic8\", \"Topic8\", \"Topic8\", \"Topic8\", \"Topic8\", \"Topic8\", \"Topic8\", \"Topic8\", \"Topic8\", \"Topic8\", \"Topic8\", \"Topic8\", \"Topic8\", \"Topic8\", \"Topic8\", \"Topic8\", \"Topic8\", \"Topic8\", \"Topic9\", \"Topic9\", \"Topic9\", \"Topic9\", \"Topic9\", \"Topic9\", \"Topic9\", \"Topic9\", \"Topic9\", \"Topic9\", \"Topic9\", \"Topic9\", \"Topic9\", \"Topic9\", \"Topic9\", \"Topic9\", \"Topic9\", \"Topic9\", \"Topic9\", \"Topic9\", \"Topic9\", \"Topic9\", \"Topic9\", \"Topic9\", \"Topic9\", \"Topic9\", \"Topic9\", \"Topic9\", \"Topic9\", \"Topic9\", \"Topic9\", \"Topic9\", \"Topic9\", \"Topic9\", \"Topic9\", \"Topic10\", \"Topic10\", \"Topic10\", \"Topic10\", \"Topic10\", \"Topic10\", \"Topic10\", \"Topic10\", \"Topic10\", \"Topic10\", \"Topic10\", \"Topic10\", \"Topic10\", \"Topic10\", \"Topic10\", \"Topic10\", \"Topic10\", \"Topic10\", \"Topic10\", \"Topic10\", \"Topic10\", \"Topic10\", \"Topic10\", \"Topic10\", \"Topic10\", \"Topic10\", \"Topic10\", \"Topic10\", \"Topic10\", \"Topic10\", \"Topic10\", \"Topic10\", \"Topic10\", \"Topic10\"], \"logprob\": [30.0, 29.0, 28.0, 27.0, 26.0, 25.0, 24.0, 23.0, 22.0, 21.0, 20.0, 19.0, 18.0, 17.0, 16.0, 15.0, 14.0, 13.0, 12.0, 11.0, 10.0, 9.0, 8.0, 7.0, 6.0, 5.0, 4.0, 3.0, 2.0, 1.0, -2.480299949645996, -3.0329999923706055, -3.186800003051758, -3.387700080871582, -3.4419000148773193, -3.4993999004364014, -3.5165998935699463, -3.565200090408325, -3.568700075149536, -4.088799953460693, -4.226600170135498, -4.357699871063232, -4.607800006866455, -4.739699840545654, -4.771599769592285, -4.792099952697754, -4.881100177764893, -4.963099956512451, -4.990499973297119, -5.002699851989746, -5.049200057983398, -5.076900005340576, -5.077000141143799, -5.084700107574463, -5.099299907684326, -5.127500057220459, -5.1508002281188965, -5.178400039672852, -5.235199928283691, -5.258900165557861, -2.33240008354187, -4.031199932098389, -3.4398000240325928, -3.9809000492095947, -4.467599868774414, -4.035099983215332, -5.057799816131592, -3.089900016784668, -3.2237000465393066, -3.2646000385284424, -3.5237998962402344, -3.591099977493286, -3.631700038909912, -3.7753000259399414, -3.791800022125244, -3.9751999378204346, -4.003200054168701, -4.0208001136779785, -4.043300151824951, -4.181099891662598, -4.195799827575684, -4.228400230407715, -4.244999885559082, -4.257500171661377, -4.406499862670898, -4.421299934387207, -4.423799991607666, -4.575799942016602, -4.599999904632568, -4.645500183105469, -4.650700092315674, -4.663300037384033, -4.710599899291992, -4.741000175476074, -4.747799873352051, -4.810100078582764, -4.810299873352051, -3.4814000129699707, -3.4618000984191895, -4.494200229644775, -2.171299934387207, -2.59660005569458, -2.6496999263763428, -3.0083999633789062, -3.5615999698638916, -3.6433000564575195, -3.7037999629974365, -3.750999927520752, -3.8808000087738037, -3.9391000270843506, -3.9519999027252197, -4.041500091552734, -4.1697998046875, -4.240300178527832, -4.265999794006348, -4.490300178527832, -4.524400234222412, -4.534999847412109, -4.647600173950195, -4.694200038909912, -4.707699775695801, -4.814300060272217, -4.850599765777588, -4.852099895477295, -4.874599933624268, -4.95989990234375, -5.121300220489502, -5.308700084686279, -5.366000175476074, -5.380499839782715, -3.0432000160217285, -4.585000038146973, -3.5360000133514404, -5.06820011138916, -1.9053000211715698, -2.850800037384033, -3.196700096130371, -3.2147998809814453, -3.6177000999450684, -3.6651999950408936, -3.689300060272217, -3.691999912261963, -3.76200008392334, -3.8677000999450684, -4.0808000564575195, -4.08650016784668, -4.139900207519531, -4.189199924468994, -4.501399993896484, -4.5279998779296875, -4.605100154876709, -4.6631999015808105, -4.814300060272217, -4.8394999504089355, -4.959499835968018, -4.984899997711182, -5.068600177764893, -5.070099830627441, -5.072000026702881, -5.130300045013428, -5.164700031280518, -5.21019983291626, -5.24429988861084, -5.298500061035156, -3.0703999996185303, -3.221400022506714, -4.61929988861084, -3.063499927520752, -4.4944000244140625, -4.271200180053711, -4.019199848175049, -3.919300079345703, -1.4735000133514404, -2.8564999103546143, -2.9779999256134033, -3.059299945831299, -3.252700090408325, -3.2904000282287598, -3.5743000507354736, -3.716900110244751, -4.193900108337402, -4.42579984664917, -4.451600074768066, -4.488100051879883, -4.582900047302246, -4.633999824523926, -4.674799919128418, -4.718500137329102, -4.763500213623047, -4.783100128173828, -4.790900230407715, -4.823999881744385, -4.941400051116943, -4.950200080871582, -5.002900123596191, -5.009399890899658, -5.0117998123168945, -5.086900234222412, -5.162399768829346, -5.171000003814697, -5.199100017547607, -5.206699848175049, -3.7588000297546387, -2.752500057220459, -4.171000003814697, -4.957300186157227, -5.072700023651123, -3.2183001041412354, -3.3914999961853027, -3.4400999546051025, -3.8615000247955322, -3.880199909210205, -3.944700002670288, -3.9730000495910645, -4.036799907684326, -4.112100124359131, -4.11359977722168, -4.2540998458862305, -4.270400047302246, -4.302599906921387, -4.380799770355225, -4.389999866485596, -4.402900218963623, -4.405300140380859, -4.486999988555908, -4.490099906921387, -4.514999866485596, -4.540200233459473, -4.585100173950195, -4.61899995803833, -4.672999858856201, -4.702000141143799, -4.727700233459473, -4.729300022125244, -4.759699821472168, -4.857399940490723, -4.898499965667725, -2.91510009765625, -4.31850004196167, -4.580900192260742, -2.3629000186920166, -2.4881999492645264, -2.7604000568389893, -3.3622000217437744, -4.025199890136719, -4.051000118255615, -4.166200160980225, -4.262400150299072, -4.33650016784668, -4.343699932098389, -4.368800163269043, -4.404900074005127, -4.487100124359131, -4.666200160980225, -4.88730001449585, -5.017600059509277, -5.113100051879883, -5.142399787902832, -5.175000190734863, -5.176199913024902, -5.179599761962891, -5.187900066375732, -5.254300117492676, -5.298900127410889, -5.316299915313721, -5.4695000648498535, -5.544300079345703, -5.5904998779296875, -5.60129976272583, -5.616799831390381, -2.7988998889923096, -3.898200035095215, -1.979099988937378, -5.113699913024902, -4.799099922180176, -4.497600078582764, -4.837800025939941, -4.750899791717529, -3.210400104522705, -3.3954999446868896, -3.510999917984009, -3.6538000106811523, -3.7576000690460205, -3.7576000690460205, -3.8752999305725098, -3.9781999588012695, -4.091800212860107, -4.106599807739258, -4.195700168609619, -4.2133002281188965, -4.4944000244140625, -4.5792999267578125, -4.61959981918335, -4.682300090789795, -4.687300205230713, -4.695000171661377, -4.791800022125244, -4.796800136566162, -4.824699878692627, -4.849299907684326, -4.88539981842041, -4.901899814605713, -4.9405999183654785, -4.943900108337402, -4.954400062561035, -4.98390007019043, -5.000400066375732, -5.00439977645874, -4.211699962615967, -3.8417000770568848, -1.3961999416351318, -2.2564001083374023, -2.6926000118255615, -2.767699956893921, -3.4790000915527344, -3.7688000202178955, -3.8738999366760254, -3.915600061416626, -4.153299808502197, -4.229100227355957, -4.431099891662598, -4.551000118255615, -4.734000205993652, -4.7683000564575195, -4.8907999992370605, -4.942699909210205, -4.987800121307373, -4.993500232696533, -5.002999782562256, -5.1717000007629395, -5.171899795532227, -5.394800186157227, -5.407800197601318, -5.433700084686279, -5.502799987792969, -5.597499847412109, -5.60699987411499, -5.625199794769287, -5.655600070953369, -5.688700199127197, -3.0378000736236572, -4.919300079345703, -4.144999980926514, -4.910799980163574, -4.488699913024902, -0.6349999904632568, -3.7446999549865723, -4.062699794769287, -4.385900020599365, -4.60830020904541, -4.66949987411499, -5.07390022277832, -5.105800151824951, -5.235300064086914, -5.246200084686279, -5.423900127410889, -5.472300052642822, -5.557700157165527, -5.591599941253662, -5.603799819946289, -5.678500175476074, -5.725299835205078, -5.764200210571289, -5.770699977874756, -5.779399871826172, -5.7596001625061035, -5.796199798583984, -5.797699928283691, -5.844699859619141, -5.855899810791016, -6.101600170135498, -5.910200119018555, -6.21560001373291, -6.388999938964844, -6.456699848175049, -2.1201999187469482, -4.794400215148926, -5.050300121307373, -4.6315999031066895], \"loglift\": [30.0, 29.0, 28.0, 27.0, 26.0, 25.0, 24.0, 23.0, 22.0, 21.0, 20.0, 19.0, 18.0, 17.0, 16.0, 15.0, 14.0, 13.0, 12.0, 11.0, 10.0, 9.0, 8.0, 7.0, 6.0, 5.0, 4.0, 3.0, 2.0, 1.0, 1.6640000343322754, 1.6639000177383423, 1.6639000177383423, 1.6638000011444092, 1.6638000011444092, 1.663699984550476, 1.663699984550476, 1.663699984550476, 1.663699984550476, 1.6634000539779663, 1.6633000373840332, 1.663100004196167, 1.6627999544143677, 1.6627000570297241, 1.662600040435791, 1.662600040435791, 1.6624000072479248, 1.6622999906539917, 1.6621999740600586, 1.6621999740600586, 1.6620999574661255, 1.6620999574661255, 1.6620999574661255, 1.6619999408721924, 1.6619999408721924, 1.6619000434875488, 1.6619000434875488, 1.6618000268936157, 1.6617000102996826, 1.6615999937057495, 1.1742000579833984, 1.363800048828125, 0.7008000016212463, 0.830299973487854, 1.0871000289916992, 0.6567999720573425, 0.9502999782562256, 1.993399977684021, 1.993399977684021, 1.993399977684021, 1.9931999444961548, 1.9931999444961548, 1.9931999444961548, 1.9931000471115112, 1.9931000471115112, 1.992900013923645, 1.992900013923645, 1.992900013923645, 1.992799997329712, 1.9926999807357788, 1.9926999807357788, 1.9925999641418457, 1.9925999641418457, 1.9925999641418457, 1.992400050163269, 1.992400050163269, 1.992400050163269, 1.9921000003814697, 1.9921000003814697, 1.9919999837875366, 1.9919999837875366, 1.9919999837875366, 1.9918999671936035, 1.9917999505996704, 1.9917999505996704, 1.9917000532150269, 1.9917000532150269, 1.8550000190734863, 1.2060999870300293, 1.4838000535964966, 2.2081000804901123, 2.2079999446868896, 2.2079999446868896, 2.207900047302246, 2.2074999809265137, 2.20740008354187, 2.20740008354187, 2.2072999477386475, 2.207200050354004, 2.207200050354004, 2.2070999145507812, 2.2070000171661377, 2.2067999839782715, 2.206700086593628, 2.206700086593628, 2.2063000202178955, 2.206199884414673, 2.206199884414673, 2.2060000896453857, 2.2058000564575195, 2.2058000564575195, 2.2054998874664307, 2.205399990081787, 2.205399990081787, 2.205399990081787, 2.2051000595092773, 2.2044999599456787, 2.203700065612793, 2.2035000324249268, 2.203399896621704, 1.9218000173568726, 1.8639999628067017, 1.155900001525879, 0.9399999976158142, 2.354599952697754, 2.354300022125244, 2.354099988937378, 2.354099988937378, 2.353800058364868, 2.353800058364868, 2.353800058364868, 2.353800058364868, 2.3536999225616455, 2.353600025177002, 2.353300094604492, 2.353300094604492, 2.3531999588012695, 2.353100061416626, 2.3524999618530273, 2.3524999618530273, 2.352299928665161, 2.3522000312805176, 2.3517000675201416, 2.3517000675201416, 2.351300001144409, 2.3512001037597656, 2.3508999347686768, 2.3508999347686768, 2.350800037384033, 2.350600004196167, 2.3505001068115234, 2.3503000736236572, 2.350100040435791, 2.3496999740600586, 2.0836000442504883, 2.0778000354766846, 2.1821000576019287, 1.1577999591827393, 1.5930999517440796, 1.283400058746338, 0.6726999878883362, 0.22139999270439148, 2.422100067138672, 2.4217000007629395, 2.4217000007629395, 2.421600103378296, 2.4214999675750732, 2.4214999675750732, 2.4212000370025635, 2.421099901199341, 2.4203999042510986, 2.4198999404907227, 2.419800043106079, 2.4196999073028564, 2.4195001125335693, 2.419300079345703, 2.4191999435424805, 2.419100046157837, 2.4189000129699707, 2.4189000129699707, 2.418800115585327, 2.4186999797821045, 2.418299913406372, 2.418299913406372, 2.4179999828338623, 2.4179999828338623, 2.4179999828338623, 2.4177000522613525, 2.41729998588562, 2.41729998588562, 2.417099952697754, 2.417099952697754, 1.9853999614715576, 1.388200044631958, 0.9829999804496765, 1.1302000284194946, 0.9053000211715698, 2.46560001373291, 2.465399980545044, 2.465399980545044, 2.464900016784668, 2.464900016784668, 2.4647998809814453, 2.4647998809814453, 2.464600086212158, 2.4644999504089355, 2.4644999504089355, 2.464200019836426, 2.464200019836426, 2.464099884033203, 2.4639999866485596, 2.463900089263916, 2.463900089263916, 2.463900089263916, 2.46370005607605, 2.46370005607605, 2.463599920272827, 2.463599920272827, 2.463399887084961, 2.4632999897003174, 2.463200092315674, 2.463099956512451, 2.4630000591278076, 2.4630000591278076, 2.462899923324585, 2.4625000953674316, 2.462399959564209, 1.8960000276565552, 1.4256999492645264, 1.3803000450134277, 2.475800037384033, 2.4756999015808105, 2.475600004196167, 2.4751999378204346, 2.474400043487549, 2.474400043487549, 2.4742000102996826, 2.4739999771118164, 2.47379994392395, 2.47379994392395, 2.4737000465393066, 2.4737000465393066, 2.473400115966797, 2.472899913787842, 2.472100019454956, 2.47160005569458, 2.471100091934204, 2.4709999561309814, 2.4707999229431152, 2.4707999229431152, 2.4707999229431152, 2.4707999229431152, 2.470400094985962, 2.470099925994873, 2.4700000286102295, 2.4690001010894775, 2.4684998989105225, 2.468100070953369, 2.4679999351501465, 2.467900037765503, 1.86899995803833, 2.0629000663757324, 1.527400016784668, 2.249000072479248, 2.080399990081787, 1.7991000413894653, 1.631500005722046, 0.6439999938011169, 2.513700008392334, 2.5134999752044678, 2.513400077819824, 2.5132999420166016, 2.5130999088287354, 2.5130999088287354, 2.513000011444092, 2.5127999782562256, 2.5125999450683594, 2.5125999450683594, 2.512399911880493, 2.512399911880493, 2.511699914932251, 2.5114998817443848, 2.511399984359741, 2.511199951171875, 2.5111000537872314, 2.5111000537872314, 2.5107998847961426, 2.5107998847961426, 2.510699987411499, 2.5106000900268555, 2.5104000568389893, 2.5104000568389893, 2.510200023651123, 2.510200023651123, 2.5100998878479004, 2.509999990463257, 2.5099000930786133, 2.5099000930786133, 2.205699920654297, 1.1232999563217163, 2.5750999450683594, 2.574899911880493, 2.574700117111206, 2.574700117111206, 2.5741000175476074, 2.5738000869750977, 2.5736000537872314, 2.5736000537872314, 2.5731000900268555, 2.572999954223633, 2.572499990463257, 2.5720999240875244, 2.571500062942505, 2.5713999271392822, 2.5708999633789062, 2.57069993019104, 2.570499897003174, 2.5703999996185303, 2.5703999996185303, 2.569499969482422, 2.569499969482422, 2.5680999755859375, 2.568000078201294, 2.5678000450134277, 2.5673000812530518, 2.566499948501587, 2.5664000511169434, 2.5662999153137207, 2.565999984741211, 2.565700054168701, 1.183500051498413, 2.0583999156951904, 1.1541999578475952, 1.0973999500274658, -0.3479999899864197, 2.901400089263916, 2.899600028991699, 2.898900032043457, 2.897900104522705, 2.8970000743865967, 2.8968000411987305, 2.894399881362915, 2.894200086593628, 2.893199920654297, 2.8931000232696533, 2.8914999961853027, 2.8910000324249268, 2.890000104904175, 2.8896000385284424, 2.8894999027252197, 2.8886001110076904, 2.8879001140594482, 2.887399911880493, 2.8873000144958496, 2.887200117111206, 2.887200117111206, 2.88700008392334, 2.886899948120117, 2.886199951171875, 2.885999917984009, 2.8817999362945557, 2.879199981689453, 2.878200054168701, 2.8752999305725098, 2.8733999729156494, 2.101099967956543, 2.2939999103546143, 2.1247000694274902, -0.4909000098705292]}, \"token.table\": {\"Topic\": [8, 2, 3, 7, 1, 2, 4, 2, 6, 8, 2, 7, 10, 1, 8, 1, 10, 1, 6, 6, 1, 6, 7, 10, 3, 8, 1, 10, 6, 7, 3, 3, 3, 6, 8, 7, 9, 7, 2, 7, 6, 4, 10, 4, 1, 6, 4, 9, 4, 9, 1, 10, 2, 5, 3, 2, 4, 4, 7, 8, 4, 5, 2, 6, 3, 4, 8, 8, 7, 7, 8, 1, 2, 3, 4, 5, 9, 10, 3, 2, 3, 9, 5, 4, 8, 1, 3, 8, 3, 2, 5, 8, 3, 4, 8, 10, 1, 2, 10, 1, 7, 3, 4, 7, 10, 1, 3, 2, 5, 2, 4, 6, 5, 6, 10, 5, 3, 3, 8, 10, 7, 10, 3, 2, 7, 9, 7, 4, 7, 8, 4, 6, 10, 8, 5, 5, 5, 6, 8, 9, 2, 6, 1, 9, 10, 6, 5, 9, 10, 9, 1, 5, 2, 8, 1, 9, 5, 1, 10, 10, 7, 4, 3, 6, 3, 5, 1, 7, 10, 7, 5, 4, 10, 5, 6, 7, 2, 8, 2, 8, 10, 8, 10, 1, 6, 5, 9, 2, 1, 9, 1, 4, 3, 2, 7, 8, 5, 3, 2, 3, 1, 2, 3, 4, 10, 2, 4, 1, 1, 4, 5, 6, 1, 3, 4, 5, 4, 4, 7, 9, 9, 2, 6, 6, 6, 2, 5, 6, 1, 3, 3, 5, 2, 9, 9, 5, 9, 10, 8, 10, 9, 1, 3, 2, 4, 1, 8, 7, 1, 8, 7, 9, 4, 5, 6, 8, 10, 1, 9, 5, 4, 8, 8, 10, 7, 5, 2, 4, 9, 10, 4, 3, 8, 7, 7, 8, 9, 3, 10, 5, 9, 7, 3, 6, 8, 4, 5, 8, 7, 5, 7, 6, 8, 9, 1, 8, 9, 9, 3, 7, 6, 9, 4, 6, 3, 2, 9, 2, 6, 2, 10, 4, 5, 8, 4, 2, 5, 6, 1, 3, 9, 1, 6, 4, 1, 7, 6, 7, 10, 9, 3, 1, 10, 1, 2, 7, 7, 2, 5, 7, 8, 5, 10, 4, 6, 8, 1, 6, 9, 4, 2, 3, 9, 5, 5, 1, 7, 6, 4, 9, 3, 7, 4, 9, 1, 10, 1], \"Freq\": [0.9992572665214539, 0.9981354475021362, 0.9983745813369751, 0.9938194155693054, 0.9969942569732666, 0.9981039762496948, 0.998344361782074, 0.999733030796051, 0.9989086389541626, 0.9979231357574463, 0.45498546957969666, 0.5447554588317871, 0.9985979795455933, 0.9989137649536133, 0.9945006370544434, 0.9993512034416199, 0.9871819615364075, 0.9966012239456177, 0.9972277283668518, 0.998807430267334, 0.9966273903846741, 0.3243107795715332, 0.6722078323364258, 0.9869202375411987, 0.7510367035865784, 0.2486070692539215, 0.9990989565849304, 0.9755551815032959, 0.9985118508338928, 0.9889188408851624, 0.9992258548736572, 0.9968590140342712, 0.9984472393989563, 0.9984670877456665, 0.9947415590286255, 0.9974770545959473, 0.9991673827171326, 0.9957618713378906, 0.9974445700645447, 0.9976199269294739, 0.996200680732727, 0.9993952512741089, 0.9839621782302856, 0.9975043535232544, 0.4345113933086395, 0.5653120279312134, 0.9960648417472839, 0.989139199256897, 0.9973013997077942, 0.9929399490356445, 0.9980624914169312, 0.9882699847221375, 0.9983859658241272, 0.993025541305542, 0.9987334609031677, 0.8701419830322266, 0.1291666179895401, 0.9985729455947876, 0.9942564368247986, 0.9985169768333435, 0.9994480609893799, 0.9944369196891785, 0.9971225261688232, 0.9985069632530212, 0.9998621940612793, 0.9960616827011108, 0.9985123872756958, 0.9978033900260925, 0.997282862663269, 0.7982813715934753, 0.20076537132263184, 0.38157474994659424, 0.04707740619778633, 0.009911032393574715, 0.11836060136556625, 0.3556536138057709, 0.053748294711112976, 0.03354503586888313, 0.9990988969802856, 0.998424232006073, 0.9979605078697205, 0.998741090297699, 0.9986236691474915, 0.998943030834198, 0.9987379312515259, 0.9994624853134155, 0.9950753450393677, 0.9976279139518738, 0.9984463453292847, 0.6008586883544922, 0.21903811395168304, 0.17953944206237793, 0.15543924272060394, 0.8426443338394165, 0.5388252139091492, 0.4595862030982971, 0.9978733062744141, 0.9984115958213806, 0.9886811971664429, 0.9985821843147278, 0.9947073459625244, 0.9954254031181335, 0.9975301027297974, 0.9873480200767517, 0.994489848613739, 0.9994747042655945, 0.9986697435379028, 0.9992854595184326, 0.997634768486023, 0.9993600249290466, 0.9943757057189941, 0.9972851276397705, 0.9977903962135315, 0.9989011287689209, 0.9920123219490051, 0.9960924983024597, 0.9968758225440979, 0.9998922348022461, 0.9992169737815857, 0.9603583812713623, 0.9993788003921509, 0.9845556020736694, 0.9969402551651001, 0.9976156949996948, 0.9981183409690857, 0.991301953792572, 0.9990242123603821, 0.997721254825592, 0.9949803352355957, 0.9971073865890503, 0.9983377456665039, 0.9956011176109314, 0.9775699973106384, 0.9990687966346741, 0.9988978505134583, 0.9970783591270447, 0.9990760087966919, 0.9981149435043335, 0.9973801970481873, 0.9931151270866394, 0.9994868636131287, 0.9981405735015869, 0.9993599653244019, 0.9968133568763733, 0.98600172996521, 0.9987067580223083, 0.9963302612304688, 0.9977245330810547, 0.9978247880935669, 0.9996504187583923, 0.9995056390762329, 0.9995574355125427, 0.9986308217048645, 0.9980825185775757, 0.9991986751556396, 0.9998466968536377, 0.9973227977752686, 0.9967121481895447, 0.9983582496643066, 0.999926745891571, 0.9883642196655273, 0.998094916343689, 0.999075710773468, 0.9972050786018372, 0.7092652916908264, 0.28945693373680115, 0.49055716395378113, 0.5086649656295776, 0.9897233843803406, 0.9985206127166748, 0.9979185461997986, 0.9990227818489075, 0.9974370002746582, 0.9968316555023193, 0.3377685844898224, 0.661414384841919, 0.997880756855011, 0.9961597323417664, 0.9985570311546326, 0.9952099919319153, 0.957207977771759, 0.9986664056777954, 0.9880809187889099, 0.9989985227584839, 0.9972564578056335, 0.9972665905952454, 0.9974489212036133, 0.9980364441871643, 0.999815821647644, 0.9962949156761169, 0.9994395971298218, 0.9990171790122986, 0.9934116005897522, 0.9991992712020874, 0.9973469972610474, 0.9973164200782776, 0.9951969981193542, 0.9974257946014404, 0.9996305108070374, 0.9986992478370667, 0.3651524484157562, 0.09955696016550064, 0.3489454984664917, 0.1858837604522705, 0.9909249544143677, 0.9994820952415466, 0.9964998960494995, 0.9969608187675476, 0.2577310800552368, 0.46738797426223755, 0.2750912010669708, 0.998537003993988, 0.561177670955658, 0.09561965614557266, 0.342506468296051, 0.9998476505279541, 0.9988535642623901, 0.9966102242469788, 0.9972543120384216, 0.9892101287841797, 0.9910557866096497, 0.9980912208557129, 0.9974178671836853, 0.9979743361473083, 0.9971308708190918, 0.9993684887886047, 0.6460612416267395, 0.3533443510532379, 0.9988149404525757, 0.9961414933204651, 0.9996209144592285, 0.9976421594619751, 0.9996766448020935, 0.9972177147865295, 0.9996346235275269, 0.9960599541664124, 0.9910129308700562, 0.9902189373970032, 0.9971469044685364, 0.9946823716163635, 0.9949838519096375, 0.9996020793914795, 0.995916485786438, 0.9990248680114746, 0.9990763068199158, 0.9991810321807861, 0.9950749278068542, 0.9930059909820557, 0.9991335272789001, 0.9994235634803772, 0.9960203766822815, 0.9995867609977722, 0.9949790239334106, 0.9981312155723572, 0.9982958436012268, 0.9991366267204285, 0.9848682880401611, 0.9994829297065735, 0.9947892427444458, 0.9978571534156799, 0.9962851405143738, 0.9968592524528503, 0.45417168736457825, 0.5450060367584229, 0.9962142109870911, 0.996318519115448, 0.9986817836761475, 0.3020440638065338, 0.24874216318130493, 0.4491407573223114, 0.9952826499938965, 0.9973528385162354, 0.9992891550064087, 0.9953768849372864, 0.9996187686920166, 0.9970462322235107, 0.9959555864334106, 0.9995387196540833, 0.9716481566429138, 0.9988507628440857, 0.9976428747177124, 0.9998006820678711, 0.998566746711731, 0.9986584782600403, 0.9957175850868225, 0.762369692325592, 0.23732168972492218, 0.9950087070465088, 0.9981605410575867, 0.9971951842308044, 0.9975976347923279, 0.9967334866523743, 0.4000350534915924, 0.5951741337776184, 0.9986810088157654, 0.9976339936256409, 0.9906744956970215, 0.9986518621444702, 0.9938102960586548, 0.9994291067123413, 0.9963971376419067, 0.9938831925392151, 0.9985973834991455, 0.9983940124511719, 0.9986249804496765, 0.9991873502731323, 0.9967591762542725, 0.9994825720787048, 0.9967065453529358, 0.9990324378013611, 0.9871926307678223, 0.9995943903923035, 0.9968340992927551, 0.9953105449676514, 0.9975050687789917, 0.9975346922874451, 0.9942877888679504, 0.9989975094795227, 0.4897210896015167, 0.28125038743019104, 0.2282075583934784, 0.9983171224594116, 0.9972751140594482, 0.992118239402771, 0.6126402616500854, 0.3872978389263153, 0.9989709854125977, 0.9980498552322388, 0.9763883352279663, 0.9979686141014099, 0.9994556903839111, 0.9989468455314636, 0.9913692474365234, 0.740258514881134, 0.09887929260730743, 0.16034480929374695, 0.9960039258003235, 0.9992977976799011, 0.9967774152755737, 0.9986699223518372, 0.9972381591796875, 0.9974916577339172, 0.9860143065452576, 0.9972118139266968, 0.26372817158699036, 0.7336100935935974, 0.9998371005058289, 0.9979907274246216, 0.9979202747344971, 0.998852014541626, 0.9994626045227051, 0.9962611794471741, 0.9973106980323792, 0.9993392825126648, 0.9996978044509888, 0.5692813396453857, 0.4303845167160034, 0.9988479614257812, 0.7582743763923645, 0.24162787199020386, 0.9993586540222168, 0.9975127577781677, 0.999728798866272, 0.9937492609024048, 0.9983047842979431, 0.9960101246833801, 0.9994118213653564], \"Term\": [\"$\", \"10\", \"2\", \"2nd\", \"3\", \"4\", \"5\", \"7\", \"8\", \"9\", \"Amazon\", \"Amazon\", \"Buy\", \"Christmas\", \"Facebook\", \"Fire\", \"Freetime\", \"Friday\", \"GB\", \"Google\", \"HD\", \"HD8\", \"HD8\", \"Ipad\", \"Kindle\", \"Kindle\", \"Netflix\", \"Parental\", \"Prime\", \"Store\", \"able\", \"absolutely\", \"access\", \"account\", \"actually\", \"ad\", \"add\", \"affordable\", \"age\", \"allow\", \"amazing\", \"amazon\", \"amd\", \"android\", \"app\", \"app\", \"apple\", \"application\", \"ask\", \"audio\", \"available\", \"avid\", \"awesome\", \"bad\", \"basic\", \"battery\", \"battery\", \"beat\", \"best\", \"better\", \"big\", \"birthday\", \"bit\", \"black\", \"book\", \"brand\", \"break\", \"browse\", \"browser\", \"build\", \"build\", \"buy\", \"buy\", \"buy\", \"buy\", \"buy\", \"buy\", \"buy\", \"camera\", \"card\", \"carry\", \"case\", \"charge\", \"cheap\", \"check\", \"child\", \"choice\", \"clear\", \"color\", \"come\", \"come\", \"come\", \"compare\", \"compare\", \"complaint\", \"complaint\", \"computer\", \"content\", \"continue\", \"control\", \"cool\", \"cost\", \"cover\", \"customer\", \"damage\", \"daughter\", \"day\", \"deal\", \"definitely\", \"device\", \"disappoint\", \"display\", \"dollar\", \"download\", \"durability\", \"durable\", \"e\", \"easy\", \"email\", \"encourage\", \"enjoy\", \"entry\", \"especially\", \"etc\", \"excellent\", \"expandable\", \"expect\", \"expensive\", \"experience\", \"extra\", \"extremely\", \"fact\", \"fairly\", \"far\", \"fast\", \"favorite\", \"feature\", \"feel\", \"figure\", \"finally\", \"find\", \"fine\", \"fire\", \"fit\", \"fraction\", \"free\", \"friend\", \"friendly\", \"functionality\", \"game\", \"get\", \"gift\", \"give\", \"glad\", \"go\", \"good\", \"granddaughter\", \"grandson\", \"graphic\", \"great\", \"handle\", \"handy\", \"happy\", \"hard\", \"have\", \"have\", \"hd\", \"hd\", \"heavy\", \"help\", \"high\", \"highly\", \"hold\", \"hour\", \"iPad\", \"iPad\", \"inch\", \"include\", \"inexpensive\", \"instead\", \"intermediate\", \"internet\", \"investment\", \"ipad\", \"issue\", \"item\", \"job\", \"keep\", \"kid\", \"kind\", \"kindle\", \"know\", \"laptop\", \"large\", \"learn\", \"learning\", \"let\", \"library\", \"life\", \"light\", \"like\", \"like\", \"like\", \"like\", \"likely\", \"little\", \"live\", \"load\", \"long\", \"long\", \"long\", \"look\", \"lot\", \"lot\", \"lot\", \"love\", \"low\", \"mainly\", \"make\", \"market\", \"meet\", \"member\", \"memory\", \"model\", \"mom\", \"money\", \"movie\", \"movie\", \"music\", \"navigate\", \"need\", \"nephew\", \"new\", \"news\", \"nice\", \"niece\", \"non\", \"number\", \"offer\", \"office\", \"ok\", \"old\", \"one\", \"online\", \"option\", \"overall\", \"own\", \"pad\", \"parental\", \"pay\", \"people\", \"perfect\", \"perfectly\", \"performance\", \"phone\", \"picture\", \"pink\", \"play\", \"playing\", \"pleased\", \"plenty\", \"plus\", \"point\", \"point\", \"power\", \"present\", \"pretty\", \"price\", \"price\", \"price\", \"primarily\", \"prime\", \"problem\", \"processor\", \"product\", \"program\", \"protective\", \"purchase\", \"quad\", \"quality\", \"quick\", \"read\", \"reader\", \"reading\", \"receive\", \"recommend\", \"recommend\", \"regular\", \"replace\", \"replacement\", \"resolution\", \"return\", \"review\", \"review\", \"right\", \"sale\", \"save\", \"say\", \"school\", \"screen\", \"second\", \"see\", \"sell\", \"service\", \"set\", \"show\", \"simple\", \"size\", \"slow\", \"small\", \"solid\", \"son\", \"sound\", \"spend\", \"star\", \"start\", \"stop\", \"storage\", \"store\", \"store\", \"store\", \"sure\", \"surf\", \"surfing\", \"tablet\", \"tablet\", \"take\", \"tell\", \"terrific\", \"thank\", \"thing\", \"think\", \"tho\", \"time\", \"time\", \"time\", \"touch\", \"travel\", \"trip\", \"try\", \"turn\", \"tv\", \"twice\", \"unit\", \"upgrade\", \"upgrade\", \"use\", \"user\", \"value\", \"version\", \"video\", \"view\", \"wait\", \"want\", \"watch\", \"way\", \"way\", \"web\", \"well\", \"well\", \"wife\", \"wonderful\", \"work\", \"worry\", \"worth\", \"wrong\", \"year\"]}, \"R\": 30, \"lambda.step\": 0.01, \"plot.opts\": {\"xlab\": \"PC1\", \"ylab\": \"PC2\"}, \"topic.order\": [2, 6, 5, 9, 10, 3, 8, 7, 4, 1]};\n",
              "\n",
              "function LDAvis_load_lib(url, callback){\n",
              "  var s = document.createElement('script');\n",
              "  s.src = url;\n",
              "  s.async = true;\n",
              "  s.onreadystatechange = s.onload = callback;\n",
              "  s.onerror = function(){console.warn(\"failed to load library \" + url);};\n",
              "  document.getElementsByTagName(\"head\")[0].appendChild(s);\n",
              "}\n",
              "\n",
              "if(typeof(LDAvis) !== \"undefined\"){\n",
              "   // already loaded: just create the visualization\n",
              "   !function(LDAvis){\n",
              "       new LDAvis(\"#\" + \"ldavis_el1001403507686424724016189384\", ldavis_el1001403507686424724016189384_data);\n",
              "   }(LDAvis);\n",
              "}else if(typeof define === \"function\" && define.amd){\n",
              "   // require.js is available: use it to load d3/LDAvis\n",
              "   require.config({paths: {d3: \"https://cdnjs.cloudflare.com/ajax/libs/d3/3.5.5/d3.min\"}});\n",
              "   require([\"d3\"], function(d3){\n",
              "      window.d3 = d3;\n",
              "      LDAvis_load_lib(\"https://cdn.rawgit.com/bmabey/pyLDAvis/files/ldavis.v1.0.0.js\", function(){\n",
              "        new LDAvis(\"#\" + \"ldavis_el1001403507686424724016189384\", ldavis_el1001403507686424724016189384_data);\n",
              "      });\n",
              "    });\n",
              "}else{\n",
              "    // require.js not available: dynamically load d3 & LDAvis\n",
              "    LDAvis_load_lib(\"https://cdnjs.cloudflare.com/ajax/libs/d3/3.5.5/d3.min.js\", function(){\n",
              "         LDAvis_load_lib(\"https://cdn.rawgit.com/bmabey/pyLDAvis/files/ldavis.v1.0.0.js\", function(){\n",
              "                 new LDAvis(\"#\" + \"ldavis_el1001403507686424724016189384\", ldavis_el1001403507686424724016189384_data);\n",
              "            })\n",
              "         });\n",
              "}\n",
              "</script>"
            ],
            "text/plain": [
              "PreparedData(topic_coordinates=              x         y  topics  cluster       Freq\n",
              "topic                                                \n",
              "1      0.236762  0.183245       1        1  18.934645\n",
              "5      0.083001 -0.040373       2        1  13.617219\n",
              "4      0.007440 -0.217229       3        1  10.988585\n",
              "8     -0.172571  0.125036       4        1   9.491775\n",
              "9     -0.049203  0.028677       5        1   8.872351\n",
              "2      0.069608 -0.140952       6        1   8.489617\n",
              "7      0.275454  0.131234       7        1   8.407063\n",
              "6     -0.015066 -0.280806       8        1   8.090824\n",
              "3     -0.218443  0.122111       9        1   7.613894\n",
              "0     -0.216984  0.089056      10        1   5.494033, topic_info=              Term         Freq        Total Category  logprob  loglift\n",
              "22           great  9600.000000  9600.000000  Default  30.0000  30.0000\n",
              "88            love  6704.000000  6704.000000  Default  29.0000  29.0000\n",
              "34            good  6214.000000  6214.000000  Default  28.0000  28.0000\n",
              "3961        tablet  9891.000000  9891.000000  Default  27.0000  27.0000\n",
              "11            work  4657.000000  4657.000000  Default  26.0000  26.0000\n",
              "...            ...          ...          ...      ...      ...      ...\n",
              "7245  intermediate    28.440432    29.251741  Topic10  -6.4567   2.8734\n",
              "19           price  2173.937744  4840.353516  Topic10  -2.1202   2.1011\n",
              "738          point   149.919250   275.226318  Topic10  -4.7944   2.2940\n",
              "692      complaint   116.074760   252.400970  Topic10  -5.0503   2.1247\n",
              "31             buy   176.435822  5246.678223  Topic10  -4.6316  -0.4909\n",
              "\n",
              "[379 rows x 6 columns], token_table=      Topic      Freq   Term\n",
              "term                        \n",
              "5730      8  0.999257      $\n",
              "210       2  0.998135     10\n",
              "213       3  0.998375      2\n",
              "2003      7  0.993819    2nd\n",
              "0         1  0.996994      3\n",
              "...     ...       ...    ...\n",
              "11        4  0.999729   work\n",
              "606       9  0.993749  worry\n",
              "246       1  0.998305  worth\n",
              "695      10  0.996010  wrong\n",
              "101       1  0.999412   year\n",
              "\n",
              "[367 rows x 3 columns], R=30, lambda_step=0.01, plot_opts={'xlab': 'PC1', 'ylab': 'PC2'}, topic_order=[2, 6, 5, 9, 10, 3, 8, 7, 4, 1])"
            ]
          },
          "metadata": {
            "tags": []
          },
          "execution_count": 61
        }
      ]
    },
    {
      "cell_type": "markdown",
      "metadata": {
        "id": "hH9ptlLt0vHZ",
        "colab_type": "text"
      },
      "source": [
        "1. Based on above visualization, there are 10 topics, sizes of all topics are very similar. \n",
        "2. 10 topics do not spread evenly on the plane. Topic 4, 9 and 10 are clustered together, and have overlaps partially . \n",
        "3. Topic 1 and 7 have overlaps. And topic 3 and 8 also have overlaps. \n",
        "4. Take topic 5 as an example, the top-30 most relevant terms include 'love, gift, granddaughter ...' It seems that this topic is associated with giving presents to relatives. \n",
        "5. Topic 6 has words like 'app, google, memory, download..' It seems that this topic is related to technology. "
      ]
    },
    {
      "cell_type": "markdown",
      "metadata": {
        "id": "i4I-cIULvRRu",
        "colab_type": "text"
      },
      "source": [
        "## Stretch Goals\n",
        "\n",
        "* Incorporate Named Entity Recognition in your analysis\n",
        "* Incorporate some custom pre-processing from our previous lessons (like spacy lemmatization)\n",
        "* Analyze a dataset of interest to you with topic modeling"
      ]
    }
  ]
}
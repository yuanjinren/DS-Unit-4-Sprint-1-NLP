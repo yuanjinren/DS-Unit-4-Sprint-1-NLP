{
 "cells": [
  {
   "cell_type": "markdown",
   "metadata": {
    "colab_type": "text",
    "id": "cOMBkFKn6uEK"
   },
   "source": [
    "# Topic Modeling (Prepare)\n",
    "\n",
    "On Monday we talked about summarizing your documents using just token counts. Today, we're going to learn about a much more sophisticated approach - learning 'topics' from documents. Topics are a latent structure. They are not directly observable in the data, but we know they're there by reading them.\n",
    "\n",
    "> **latent**: existing but not yet developed or manifest; hidden or concealed.\n",
    "\n",
    "## Use Cases\n",
    "Primary use case: what the hell are your documents about? Who might want to know that in industry - \n",
    "* Identifying common themes in customer reviews\n",
    "* Discovering the needle in a haystack \n",
    "* Monitoring communications (Email - State Department) \n",
    "\n",
    "## Learning Objectives\n",
    "*At the end of the lesson you should be able to:*\n",
    "* Part 0: Warm-Up\n",
    "* Part 1: Describe how an LDA Model works\n",
    "* Part 2: Estimate a LDA Model with Gensim\n",
    "* Part 3: Interpret LDA results & Select the appropriate number of topics"
   ]
  },
  {
   "cell_type": "markdown",
   "metadata": {
    "colab_type": "text",
    "id": "cxH0cRGX6uEL"
   },
   "source": [
    "# Part 0: Warm-Up\n",
    "How do we do a grid search? "
   ]
  },
  {
   "cell_type": "code",
   "execution_count": 1,
   "metadata": {},
   "outputs": [],
   "source": [
    "import warnings\n",
    "warnings.filterwarnings(\"ignore\")"
   ]
  },
  {
   "cell_type": "code",
   "execution_count": 2,
   "metadata": {
    "colab": {},
    "colab_type": "code",
    "id": "rnyNg8sQ6uEL"
   },
   "outputs": [],
   "source": [
    "import pandas as pd\n",
    "from sklearn.datasets import fetch_20newsgroups\n",
    "from sklearn.ensemble import RandomForestClassifier\n",
    "from sklearn.model_selection import GridSearchCV\n",
    "from sklearn.feature_extraction.text import TfidfVectorizer"
   ]
  },
  {
   "cell_type": "code",
   "execution_count": 3,
   "metadata": {
    "colab": {
     "base_uri": "https://localhost:8080/",
     "height": 52
    },
    "colab_type": "code",
    "id": "boKWVkRz6uEO",
    "outputId": "2d3f688e-8cc8-44a4-9629-7c58285e1323"
   },
   "outputs": [],
   "source": [
    "data = fetch_20newsgroups()"
   ]
  },
  {
   "cell_type": "code",
   "execution_count": 4,
   "metadata": {
    "colab": {
     "base_uri": "https://localhost:8080/",
     "height": 35
    },
    "colab_type": "code",
    "id": "hPpukADi7Ofv",
    "outputId": "e7687121-ebeb-4b2b-af87-f87228e7fb59"
   },
   "outputs": [
    {
     "data": {
      "text/plain": [
       "dict_keys(['data', 'filenames', 'target_names', 'target', 'DESCR'])"
      ]
     },
     "execution_count": 4,
     "metadata": {},
     "output_type": "execute_result"
    }
   ],
   "source": [
    "data.keys()"
   ]
  },
  {
   "cell_type": "code",
   "execution_count": 5,
   "metadata": {
    "colab": {
     "base_uri": "https://localhost:8080/",
     "height": 369
    },
    "colab_type": "code",
    "id": "g9Jhb3j-7_e2",
    "outputId": "686ece7b-115b-4902-a13e-dcfe956e9d7c"
   },
   "outputs": [
    {
     "data": {
      "text/plain": [
       "['alt.atheism',\n",
       " 'comp.graphics',\n",
       " 'comp.os.ms-windows.misc',\n",
       " 'comp.sys.ibm.pc.hardware',\n",
       " 'comp.sys.mac.hardware',\n",
       " 'comp.windows.x',\n",
       " 'misc.forsale',\n",
       " 'rec.autos',\n",
       " 'rec.motorcycles',\n",
       " 'rec.sport.baseball',\n",
       " 'rec.sport.hockey',\n",
       " 'sci.crypt',\n",
       " 'sci.electronics',\n",
       " 'sci.med',\n",
       " 'sci.space',\n",
       " 'soc.religion.christian',\n",
       " 'talk.politics.guns',\n",
       " 'talk.politics.mideast',\n",
       " 'talk.politics.misc',\n",
       " 'talk.religion.misc']"
      ]
     },
     "execution_count": 5,
     "metadata": {},
     "output_type": "execute_result"
    }
   ],
   "source": [
    "data['target_names']"
   ]
  },
  {
   "cell_type": "code",
   "execution_count": 6,
   "metadata": {},
   "outputs": [
    {
     "data": {
      "text/plain": [
       "11314"
      ]
     },
     "execution_count": 6,
     "metadata": {},
     "output_type": "execute_result"
    }
   ],
   "source": [
    "len(data['data'])"
   ]
  },
  {
   "cell_type": "code",
   "execution_count": 8,
   "metadata": {
    "colab": {
     "base_uri": "https://localhost:8080/",
     "height": 103
    },
    "colab_type": "code",
    "id": "JbVoIoMm8HbR",
    "outputId": "c8d0bd77-f656-4cc1-d65f-54020ee5587b"
   },
   "outputs": [
    {
     "data": {
      "text/plain": [
       "'From: cdw2t@dayhoff.med.Virginia.EDU (Dances With Federal Rangers)\\nSubject: Re: Misc./buying info. needed\\nOrganization: University of Virginia\\nLines: 28\\n\\nIn article <1993Apr18.160449.1@hamp.hampshire.edu> jyaruss@hamp.hampshire.edu writes:\\n\\n>Is there a buying guide for new/used motorcycles (that lists reliability, how\\n>to go about the buying process, what to look for, etc...)?\\n\\n_Cycle World_ puts one out, but I\\'m sure it\\'s not very objective.  Try talking\\nwith dealers and the people that hang out there, as well as us.  We love to\\ngive advice.\\n\\n>Is there a pricing guide for new/used motorcycles (Blue Book)?\\n\\nMost of the bigger banks have a blue book which includes motos -- ask for the\\none with RVs in it.\\n\\n>Are there any books/articles on riding cross country, motorcycle camping, etc?\\n\\nCouldn\\'t help you here.\\n\\n>Is there an idiots\\' guide to motorcycles?\\n\\nYou\\'re reading it.\\n\\n----------------------------------------------------------------------------\\n|        Cliff Weston           DoD# 0598          \\'92 Seca II (Tem)       |\\n|                                                                          |\\n|   \"the female body is a beautiful work of art, while the male body       |\\n|    is lumpy and hairy and should not be seen by the light of day.\"       |\\n----------------------------------------------------------------------------\\n'"
      ]
     },
     "execution_count": 8,
     "metadata": {},
     "output_type": "execute_result"
    }
   ],
   "source": [
    "data['data'][2000]"
   ]
  },
  {
   "cell_type": "code",
   "execution_count": 12,
   "metadata": {},
   "outputs": [
    {
     "data": {
      "text/plain": [
       "array([7, 4, 4, ..., 3, 1, 8])"
      ]
     },
     "execution_count": 12,
     "metadata": {},
     "output_type": "execute_result"
    }
   ],
   "source": [
    "data['target']"
   ]
  },
  {
   "cell_type": "markdown",
   "metadata": {
    "colab_type": "text",
    "id": "w-39zg9a6uEQ"
   },
   "source": [
    "### GridSearch on Just Classifier\n",
    "* Fit the vectorizer and prepare BEFORE it goes into the gridsearch"
   ]
  },
  {
   "cell_type": "code",
   "execution_count": 13,
   "metadata": {
    "colab": {},
    "colab_type": "code",
    "id": "2q3NmHEo6uEQ"
   },
   "outputs": [
    {
     "data": {
      "text/plain": [
       "<11314x130107 sparse matrix of type '<class 'numpy.float64'>'\n",
       "\twith 1787565 stored elements in Compressed Sparse Row format>"
      ]
     },
     "execution_count": 13,
     "metadata": {},
     "output_type": "execute_result"
    }
   ],
   "source": [
    "v1 = TfidfVectorizer()\n",
    "X_train = v1.fit_transform(data['data'])\n",
    "X_train"
   ]
  },
  {
   "cell_type": "code",
   "execution_count": 17,
   "metadata": {},
   "outputs": [
    {
     "data": {
      "text/plain": [
       "(0.0, 0.38133891259493113)"
      ]
     },
     "execution_count": 17,
     "metadata": {},
     "output_type": "execute_result"
    }
   ],
   "source": [
    "X_train.todense()[0].min(), X_train.todense()[0].max()"
   ]
  },
  {
   "cell_type": "code",
   "execution_count": 18,
   "metadata": {
    "colab": {},
    "colab_type": "code",
    "id": "LX3a4nUI6uES"
   },
   "outputs": [],
   "source": [
    "p1 = {\n",
    "    'n_estimators':[10,20],\n",
    "    'max_depth': [None, 7]\n",
    "}"
   ]
  },
  {
   "cell_type": "code",
   "execution_count": 19,
   "metadata": {
    "colab": {
     "base_uri": "https://localhost:8080/",
     "height": 422
    },
    "colab_type": "code",
    "id": "7OfA7KNQ6uEU",
    "outputId": "a00f5e73-6373-4bf0-bb79-11fb2de865af"
   },
   "outputs": [
    {
     "name": "stdout",
     "output_type": "stream",
     "text": [
      "Fitting 5 folds for each of 4 candidates, totalling 20 fits\n"
     ]
    },
    {
     "name": "stderr",
     "output_type": "stream",
     "text": [
      "[Parallel(n_jobs=-1)]: Using backend LokyBackend with 12 concurrent workers.\n",
      "[Parallel(n_jobs=-1)]: Done  18 out of  20 | elapsed:   17.6s remaining:    2.0s\n",
      "[Parallel(n_jobs=-1)]: Done  20 out of  20 | elapsed:   18.0s finished\n"
     ]
    },
    {
     "data": {
      "text/plain": [
       "GridSearchCV(cv=5, error_score=nan,\n",
       "             estimator=RandomForestClassifier(bootstrap=True, ccp_alpha=0.0,\n",
       "                                              class_weight=None,\n",
       "                                              criterion='gini', max_depth=None,\n",
       "                                              max_features='auto',\n",
       "                                              max_leaf_nodes=None,\n",
       "                                              max_samples=None,\n",
       "                                              min_impurity_decrease=0.0,\n",
       "                                              min_impurity_split=None,\n",
       "                                              min_samples_leaf=1,\n",
       "                                              min_samples_split=2,\n",
       "                                              min_weight_fraction_leaf=0.0,\n",
       "                                              n_estimators=100, n_jobs=None,\n",
       "                                              oob_score=False,\n",
       "                                              random_state=None, verbose=0,\n",
       "                                              warm_start=False),\n",
       "             iid='deprecated', n_jobs=-1,\n",
       "             param_grid={'max_depth': [None, 7], 'n_estimators': [10, 20]},\n",
       "             pre_dispatch='2*n_jobs', refit=True, return_train_score=False,\n",
       "             scoring=None, verbose=1)"
      ]
     },
     "execution_count": 19,
     "metadata": {},
     "output_type": "execute_result"
    }
   ],
   "source": [
    "clf = RandomForestClassifier()\n",
    "gs1 = GridSearchCV(clf, p1, cv=5,n_jobs=-1, verbose=1)\n",
    "gs1.fit(X_train, data['target'])"
   ]
  },
  {
   "cell_type": "code",
   "execution_count": 20,
   "metadata": {},
   "outputs": [
    {
     "data": {
      "text/plain": [
       "{'max_depth': None, 'n_estimators': 20}"
      ]
     },
     "execution_count": 20,
     "metadata": {},
     "output_type": "execute_result"
    }
   ],
   "source": [
    "gs1.best_params_"
   ]
  },
  {
   "cell_type": "code",
   "execution_count": null,
   "metadata": {},
   "outputs": [],
   "source": []
  },
  {
   "cell_type": "code",
   "execution_count": 22,
   "metadata": {
    "colab": {
     "base_uri": "https://localhost:8080/",
     "height": 35
    },
    "colab_type": "code",
    "id": "gDkMaXvG83Zt",
    "outputId": "f3a55d86-209d-47b2-dd44-c23532ffcf2a"
   },
   "outputs": [
    {
     "data": {
      "text/plain": [
       "(1, 130107)"
      ]
     },
     "execution_count": 22,
     "metadata": {},
     "output_type": "execute_result"
    }
   ],
   "source": [
    "test_sample = v1.transform([\"Sample text\"])\n",
    "test_sample.shape"
   ]
  },
  {
   "cell_type": "code",
   "execution_count": 25,
   "metadata": {
    "colab": {
     "base_uri": "https://localhost:8080/",
     "height": 35
    },
    "colab_type": "code",
    "id": "BLgsZtKJ8o01",
    "outputId": "f0cb136d-b00a-44af-a0f9-7eb5f8586bf8"
   },
   "outputs": [
    {
     "data": {
      "text/plain": [
       "array([1])"
      ]
     },
     "execution_count": 25,
     "metadata": {},
     "output_type": "execute_result"
    }
   ],
   "source": [
    "#best_clf = gs1.best_estimator_\n",
    "pred = gs1.predict(test_sample)\n",
    "pred"
   ]
  },
  {
   "cell_type": "code",
   "execution_count": 26,
   "metadata": {
    "colab": {
     "base_uri": "https://localhost:8080/",
     "height": 35
    },
    "colab_type": "code",
    "id": "vLGkB8Vz9Otq",
    "outputId": "b0f83ac4-2a4d-4d84-b94d-73328a86a7f7"
   },
   "outputs": [
    {
     "data": {
      "text/plain": [
       "'comp.graphics'"
      ]
     },
     "execution_count": 26,
     "metadata": {},
     "output_type": "execute_result"
    }
   ],
   "source": [
    "data['target_names'][pred[0]]"
   ]
  },
  {
   "cell_type": "markdown",
   "metadata": {
    "colab_type": "text",
    "id": "WdVTuXKl6uEZ"
   },
   "source": [
    "### GridSearch with BOTH the Vectoizer & Classifier"
   ]
  },
  {
   "cell_type": "code",
   "execution_count": 27,
   "metadata": {
    "colab": {
     "base_uri": "https://localhost:8080/",
     "height": 668
    },
    "colab_type": "code",
    "id": "97TjUtoI6uEZ",
    "outputId": "207e8cb3-5e82-4077-ac25-2406d21c3607"
   },
   "outputs": [
    {
     "data": {
      "text/plain": [
       "GridSearchCV(cv=3, error_score=nan,\n",
       "             estimator=Pipeline(memory=None,\n",
       "                                steps=[('vect',\n",
       "                                        TfidfVectorizer(analyzer='word',\n",
       "                                                        binary=False,\n",
       "                                                        decode_error='strict',\n",
       "                                                        dtype=<class 'numpy.float64'>,\n",
       "                                                        encoding='utf-8',\n",
       "                                                        input='content',\n",
       "                                                        lowercase=True,\n",
       "                                                        max_df=1.0,\n",
       "                                                        max_features=None,\n",
       "                                                        min_df=1,\n",
       "                                                        ngram_range=(1, 1),\n",
       "                                                        norm='l2',\n",
       "                                                        preprocessor=None,\n",
       "                                                        smooth_idf=True,\n",
       "                                                        stop_words=None,\n",
       "                                                        strip_acce...\n",
       "                                                               min_samples_split=2,\n",
       "                                                               min_weight_fraction_leaf=0.0,\n",
       "                                                               n_estimators=100,\n",
       "                                                               n_jobs=None,\n",
       "                                                               oob_score=False,\n",
       "                                                               random_state=None,\n",
       "                                                               verbose=0,\n",
       "                                                               warm_start=False))],\n",
       "                                verbose=False),\n",
       "             iid='deprecated', n_jobs=-1,\n",
       "             param_grid={'clf__max_depth': [None, 7],\n",
       "                         'clf__n_estimators': [10, 30],\n",
       "                         'vect__max_features': [1000, 5000]},\n",
       "             pre_dispatch='2*n_jobs', refit=True, return_train_score=False,\n",
       "             scoring=None, verbose=0)"
      ]
     },
     "execution_count": 27,
     "metadata": {},
     "output_type": "execute_result"
    }
   ],
   "source": [
    "from sklearn.pipeline import Pipeline\n",
    "\n",
    "# 1. Create a pipeline with a vectorize and a classifier\n",
    "# 2. Use Grid Search to optimize the entire pipeline\n",
    "\n",
    "v2 = TfidfVectorizer()\n",
    "clf = RandomForestClassifier()\n",
    "\n",
    "pipe = Pipeline([\n",
    "    ('vect', v2),\n",
    "    ('clf', clf)\n",
    "])\n",
    "\n",
    "p2 = {\n",
    "    'vect__max_features': [1000, 5000],\n",
    "    'clf__n_estimators': [10, 30],\n",
    "    'clf__max_depth': [None, 7]\n",
    "}\n",
    "\n",
    "gs2 = GridSearchCV(pipe, p2, cv=3, n_jobs=-1)\n",
    "gs2.fit(data['data'], data['target'])"
   ]
  },
  {
   "cell_type": "code",
   "execution_count": 28,
   "metadata": {},
   "outputs": [
    {
     "data": {
      "text/plain": [
       "{'clf__max_depth': None, 'clf__n_estimators': 30, 'vect__max_features': 5000}"
      ]
     },
     "execution_count": 28,
     "metadata": {},
     "output_type": "execute_result"
    }
   ],
   "source": [
    "gs2.best_params_"
   ]
  },
  {
   "cell_type": "code",
   "execution_count": 34,
   "metadata": {
    "colab": {},
    "colab_type": "code",
    "id": "IdIE67Us6uEc"
   },
   "outputs": [],
   "source": [
    "pred = gs2.predict([\"\"\"Previous studies have found that hunger follows a daily rhythm and that this rhythm is, in some ways, not what people might expect. Although people typically cease eating during an extended period of sleep, they break that fast with what is often the smallest meal of the day.\n",
    "\n",
    "Meanwhile, hunger tends to be strongest late in the day, peaking at about 8:00 p.m., after most people have completed the majority of their daily activities.\n",
    "\n",
    "EI consumption naturally tends to be a response to hunger, and other research has investigated the effect of meal timing on metabolism and other bodily processes. The new study, however, looks at its implications for the quantity and quality of food that people consume.\"\"\"])"
   ]
  },
  {
   "cell_type": "code",
   "execution_count": 35,
   "metadata": {},
   "outputs": [
    {
     "data": {
      "text/plain": [
       "array([13])"
      ]
     },
     "execution_count": 35,
     "metadata": {},
     "output_type": "execute_result"
    }
   ],
   "source": [
    "pred"
   ]
  },
  {
   "cell_type": "code",
   "execution_count": 36,
   "metadata": {
    "colab": {
     "base_uri": "https://localhost:8080/",
     "height": 35
    },
    "colab_type": "code",
    "id": "xhcb5G0W-Dch",
    "outputId": "ead7a46e-5c4e-401d-d9ca-89b6f42ef85d"
   },
   "outputs": [
    {
     "data": {
      "text/plain": [
       "'sci.med'"
      ]
     },
     "execution_count": 36,
     "metadata": {},
     "output_type": "execute_result"
    }
   ],
   "source": [
    "data['target_names'][pred[0]]"
   ]
  },
  {
   "cell_type": "markdown",
   "metadata": {
    "colab_type": "text",
    "id": "F2R2ACd36uEd"
   },
   "source": [
    "Advantages to using GS with the Pipe:\n",
    "* Allows us to make predictions on raw text increasing reproducibility. :)\n",
    "* Allows us to tune the parameters of the vectorizer along side the classifier. :D "
   ]
  },
  {
   "cell_type": "markdown",
   "metadata": {
    "colab_type": "text",
    "id": "xbZjG6U86uEe"
   },
   "source": [
    "# Part 1: Describe how an LDA Model works"
   ]
  },
  {
   "cell_type": "markdown",
   "metadata": {},
   "source": [
    "[Your Guide to Latent Dirichlet Allocation](https://medium.com/@lettier/how-does-lda-work-ill-explain-using-emoji-108abf40fa7d)\n",
    "\n",
    "[LDA Topic Modeling](https://lettier.com/projects/lda-topic-modeling/)\n",
    "\n",
    "[Topic Modeling with Gensim](https://www.machinelearningplus.com/nlp/topic-modeling-gensim-python/)"
   ]
  },
  {
   "cell_type": "code",
   "execution_count": 37,
   "metadata": {
    "colab": {
     "base_uri": "https://localhost:8080/",
     "height": 51
    },
    "colab_type": "code",
    "id": "yPIlE_IeF0cX",
    "outputId": "11cab929-9e79-43fd-fee7-08f42113cf24"
   },
   "outputs": [
    {
     "name": "stdout",
     "output_type": "stream",
     "text": [
      "\u001b[38;5;2m✔ Download and installation successful\u001b[0m\n",
      "You can now load the model via spacy.load('en_core_web_lg')\n"
     ]
    }
   ],
   "source": [
    "# Download spacy model\n",
    "import spacy.cli\n",
    "spacy.cli.download(\"en_core_web_lg\")"
   ]
  },
  {
   "cell_type": "code",
   "execution_count": 38,
   "metadata": {
    "colab": {},
    "colab_type": "code",
    "id": "qapChu_UGBFc"
   },
   "outputs": [],
   "source": [
    "import re\n",
    "import numpy as np\n",
    "import pandas as pd\n",
    "from pprint import pprint\n",
    "\n",
    "import gensim\n",
    "import gensim.corpora as corpora\n",
    "from gensim.utils import simple_preprocess\n",
    "from gensim.models import CoherenceModel\n",
    "\n",
    "import spacy\n",
    "\n",
    "import pyLDAvis\n",
    "import pyLDAvis.gensim \n",
    "import matplotlib.pyplot as plt\n",
    "%matplotlib inline"
   ]
  },
  {
   "cell_type": "code",
   "execution_count": 46,
   "metadata": {
    "colab": {
     "base_uri": "https://localhost:8080/",
     "height": 419
    },
    "colab_type": "code",
    "id": "qaMsy1XAGLxc",
    "outputId": "0a981642-93ef-4a95-c6a2-c5ca7c5151e0"
   },
   "outputs": [
    {
     "name": "stderr",
     "output_type": "stream",
     "text": [
      "/home/akim/.local/share/virtualenvs/DS-Unit-4-Sprint-1-NLP-2AapNZ9Q/lib/python3.7/site-packages/ipykernel/ipkernel.py:287: DeprecationWarning: `should_run_async` will not call `transform_cell` automatically in the future. Please pass the result to `transformed_cell` argument and any exception that happen during thetransform in `preprocessing_exc_tuple` in IPython 7.17 and above.\n",
      "  and should_run_async(code)\n"
     ]
    },
    {
     "data": {
      "text/html": [
       "<div>\n",
       "<style scoped>\n",
       "    .dataframe tbody tr th:only-of-type {\n",
       "        vertical-align: middle;\n",
       "    }\n",
       "\n",
       "    .dataframe tbody tr th {\n",
       "        vertical-align: top;\n",
       "    }\n",
       "\n",
       "    .dataframe thead th {\n",
       "        text-align: right;\n",
       "    }\n",
       "</style>\n",
       "<table border=\"1\" class=\"dataframe\">\n",
       "  <thead>\n",
       "    <tr style=\"text-align: right;\">\n",
       "      <th></th>\n",
       "      <th>content</th>\n",
       "      <th>target</th>\n",
       "      <th>target_names</th>\n",
       "    </tr>\n",
       "  </thead>\n",
       "  <tbody>\n",
       "    <tr>\n",
       "      <th>0</th>\n",
       "      <td>From: lerxst@wam.umd.edu (where's my thing)\\nS...</td>\n",
       "      <td>7</td>\n",
       "      <td>rec.autos</td>\n",
       "    </tr>\n",
       "    <tr>\n",
       "      <th>1</th>\n",
       "      <td>From: guykuo@carson.u.washington.edu (Guy Kuo)...</td>\n",
       "      <td>4</td>\n",
       "      <td>comp.sys.mac.hardware</td>\n",
       "    </tr>\n",
       "    <tr>\n",
       "      <th>2</th>\n",
       "      <td>From: twillis@ec.ecn.purdue.edu (Thomas E Will...</td>\n",
       "      <td>4</td>\n",
       "      <td>comp.sys.mac.hardware</td>\n",
       "    </tr>\n",
       "    <tr>\n",
       "      <th>3</th>\n",
       "      <td>From: jgreen@amber (Joe Green)\\nSubject: Re: W...</td>\n",
       "      <td>1</td>\n",
       "      <td>comp.graphics</td>\n",
       "    </tr>\n",
       "    <tr>\n",
       "      <th>4</th>\n",
       "      <td>From: jcm@head-cfa.harvard.edu (Jonathan McDow...</td>\n",
       "      <td>14</td>\n",
       "      <td>sci.space</td>\n",
       "    </tr>\n",
       "    <tr>\n",
       "      <th>...</th>\n",
       "      <td>...</td>\n",
       "      <td>...</td>\n",
       "      <td>...</td>\n",
       "    </tr>\n",
       "    <tr>\n",
       "      <th>11309</th>\n",
       "      <td>From: jim.zisfein@factory.com (Jim Zisfein) \\n...</td>\n",
       "      <td>13</td>\n",
       "      <td>sci.med</td>\n",
       "    </tr>\n",
       "    <tr>\n",
       "      <th>11310</th>\n",
       "      <td>From: ebodin@pearl.tufts.edu\\nSubject: Screen ...</td>\n",
       "      <td>4</td>\n",
       "      <td>comp.sys.mac.hardware</td>\n",
       "    </tr>\n",
       "    <tr>\n",
       "      <th>11311</th>\n",
       "      <td>From: westes@netcom.com (Will Estes)\\nSubject:...</td>\n",
       "      <td>3</td>\n",
       "      <td>comp.sys.ibm.pc.hardware</td>\n",
       "    </tr>\n",
       "    <tr>\n",
       "      <th>11312</th>\n",
       "      <td>From: steve@hcrlgw (Steven Collins)\\nSubject: ...</td>\n",
       "      <td>1</td>\n",
       "      <td>comp.graphics</td>\n",
       "    </tr>\n",
       "    <tr>\n",
       "      <th>11313</th>\n",
       "      <td>From: gunning@cco.caltech.edu (Kevin J. Gunnin...</td>\n",
       "      <td>8</td>\n",
       "      <td>rec.motorcycles</td>\n",
       "    </tr>\n",
       "  </tbody>\n",
       "</table>\n",
       "<p>11314 rows × 3 columns</p>\n",
       "</div>"
      ],
      "text/plain": [
       "                                                 content  target  \\\n",
       "0      From: lerxst@wam.umd.edu (where's my thing)\\nS...       7   \n",
       "1      From: guykuo@carson.u.washington.edu (Guy Kuo)...       4   \n",
       "2      From: twillis@ec.ecn.purdue.edu (Thomas E Will...       4   \n",
       "3      From: jgreen@amber (Joe Green)\\nSubject: Re: W...       1   \n",
       "4      From: jcm@head-cfa.harvard.edu (Jonathan McDow...      14   \n",
       "...                                                  ...     ...   \n",
       "11309  From: jim.zisfein@factory.com (Jim Zisfein) \\n...      13   \n",
       "11310  From: ebodin@pearl.tufts.edu\\nSubject: Screen ...       4   \n",
       "11311  From: westes@netcom.com (Will Estes)\\nSubject:...       3   \n",
       "11312  From: steve@hcrlgw (Steven Collins)\\nSubject: ...       1   \n",
       "11313  From: gunning@cco.caltech.edu (Kevin J. Gunnin...       8   \n",
       "\n",
       "                   target_names  \n",
       "0                     rec.autos  \n",
       "1         comp.sys.mac.hardware  \n",
       "2         comp.sys.mac.hardware  \n",
       "3                 comp.graphics  \n",
       "4                     sci.space  \n",
       "...                         ...  \n",
       "11309                   sci.med  \n",
       "11310     comp.sys.mac.hardware  \n",
       "11311  comp.sys.ibm.pc.hardware  \n",
       "11312             comp.graphics  \n",
       "11313           rec.motorcycles  \n",
       "\n",
       "[11314 rows x 3 columns]"
      ]
     },
     "execution_count": 46,
     "metadata": {},
     "output_type": "execute_result"
    }
   ],
   "source": [
    "df = pd.DataFrame({\n",
    "    'content': data['data'],\n",
    "    'target': data['target'],\n",
    "    'target_names': [data['target_names'][i] for i in data['target']]\n",
    "})\n",
    "df"
   ]
  },
  {
   "cell_type": "code",
   "execution_count": 47,
   "metadata": {
    "colab": {
     "base_uri": "https://localhost:8080/",
     "height": 289
    },
    "colab_type": "code",
    "id": "na2bkOcFGter",
    "outputId": "6c8d1a19-3719-4e28-d8c6-d3202fdd6257"
   },
   "outputs": [
    {
     "name": "stderr",
     "output_type": "stream",
     "text": [
      "/home/akim/.local/share/virtualenvs/DS-Unit-4-Sprint-1-NLP-2AapNZ9Q/lib/python3.7/site-packages/ipykernel/ipkernel.py:287: DeprecationWarning: `should_run_async` will not call `transform_cell` automatically in the future. Please pass the result to `transformed_cell` argument and any exception that happen during thetransform in `preprocessing_exc_tuple` in IPython 7.17 and above.\n",
      "  and should_run_async(code)\n"
     ]
    }
   ],
   "source": [
    "# For reference on regex: https://docs.python.org/3/library/re.html"
   ]
  },
  {
   "cell_type": "code",
   "execution_count": 48,
   "metadata": {},
   "outputs": [
    {
     "name": "stderr",
     "output_type": "stream",
     "text": [
      "/home/akim/.local/share/virtualenvs/DS-Unit-4-Sprint-1-NLP-2AapNZ9Q/lib/python3.7/site-packages/ipykernel/ipkernel.py:287: DeprecationWarning: `should_run_async` will not call `transform_cell` automatically in the future. Please pass the result to `transformed_cell` argument and any exception that happen during thetransform in `preprocessing_exc_tuple` in IPython 7.17 and above.\n",
      "  and should_run_async(code)\n"
     ]
    }
   ],
   "source": [
    "# From 'content' column: \n",
    "# 1. Remove extra whitespace \n",
    "df['content'] = df['content'].apply(lambda x: x.strip())"
   ]
  },
  {
   "cell_type": "code",
   "execution_count": 49,
   "metadata": {},
   "outputs": [
    {
     "name": "stderr",
     "output_type": "stream",
     "text": [
      "/home/akim/.local/share/virtualenvs/DS-Unit-4-Sprint-1-NLP-2AapNZ9Q/lib/python3.7/site-packages/ipykernel/ipkernel.py:287: DeprecationWarning: `should_run_async` will not call `transform_cell` automatically in the future. Please pass the result to `transformed_cell` argument and any exception that happen during thetransform in `preprocessing_exc_tuple` in IPython 7.17 and above.\n",
      "  and should_run_async(code)\n",
      "<>:2: DeprecationWarning: invalid escape sequence \\S\n",
      "<>:2: DeprecationWarning: invalid escape sequence \\S\n",
      "<>:2: DeprecationWarning: invalid escape sequence \\S\n",
      "<ipython-input-49-062306a2b703>:2: DeprecationWarning: invalid escape sequence \\S\n",
      "  df['content'] = df['content'].apply(lambda x: re.sub('From: \\S+@\\S+', '', x))\n"
     ]
    }
   ],
   "source": [
    "# 2. Remove Emails\n",
    "df['content'] = df['content'].apply(lambda x: re.sub('From: \\S+@\\S+', '', x))"
   ]
  },
  {
   "cell_type": "code",
   "execution_count": 50,
   "metadata": {},
   "outputs": [
    {
     "name": "stderr",
     "output_type": "stream",
     "text": [
      "/home/akim/.local/share/virtualenvs/DS-Unit-4-Sprint-1-NLP-2AapNZ9Q/lib/python3.7/site-packages/ipykernel/ipkernel.py:287: DeprecationWarning: `should_run_async` will not call `transform_cell` automatically in the future. Please pass the result to `transformed_cell` argument and any exception that happen during thetransform in `preprocessing_exc_tuple` in IPython 7.17 and above.\n",
      "  and should_run_async(code)\n"
     ]
    },
    {
     "data": {
      "text/plain": [
       "0         (where's my thing)\\nSubject: WHAT car is this...\n",
       "1         (Guy Kuo)\\nSubject: SI Clock Poll - Final Cal...\n",
       "2         (Thomas E Willis)\\nSubject: PB questions...\\n...\n",
       "3         (Joe Green)\\nSubject: Re: Weitek P9000 ?\\nOrg...\n",
       "4         (Jonathan McDowell)\\nSubject: Re: Shuttle Lau...\n",
       "                               ...                        \n",
       "11309     (Jim Zisfein) \\nSubject: Re: Migraines and sc...\n",
       "11310    \\nSubject: Screen Death: Mac Plus/512\\nLines: ...\n",
       "11311     (Will Estes)\\nSubject: Mounting CPU Cooler in...\n",
       "11312     (Steven Collins)\\nSubject: Re: Sphere from 4 ...\n",
       "11313     (Kevin J. Gunning)\\nSubject: stolen CBR900RR\\...\n",
       "Name: content, Length: 11314, dtype: object"
      ]
     },
     "execution_count": 50,
     "metadata": {},
     "output_type": "execute_result"
    }
   ],
   "source": [
    "df['content']"
   ]
  },
  {
   "cell_type": "code",
   "execution_count": 51,
   "metadata": {},
   "outputs": [
    {
     "name": "stderr",
     "output_type": "stream",
     "text": [
      "/home/akim/.local/share/virtualenvs/DS-Unit-4-Sprint-1-NLP-2AapNZ9Q/lib/python3.7/site-packages/ipykernel/ipkernel.py:287: DeprecationWarning: `should_run_async` will not call `transform_cell` automatically in the future. Please pass the result to `transformed_cell` argument and any exception that happen during thetransform in `preprocessing_exc_tuple` in IPython 7.17 and above.\n",
      "  and should_run_async(code)\n",
      "<>:2: DeprecationWarning: invalid escape sequence \\s\n",
      "<>:2: DeprecationWarning: invalid escape sequence \\s\n",
      "<>:2: DeprecationWarning: invalid escape sequence \\s\n",
      "<ipython-input-51-a55e649520fe>:2: DeprecationWarning: invalid escape sequence \\s\n",
      "  df['content'] = df['content'].apply(lambda x: re.sub('\\s+', ' ', x))\n"
     ]
    }
   ],
   "source": [
    "# 3. Remove new line characters\n",
    "df['content'] = df['content'].apply(lambda x: re.sub('\\s+', ' ', x))"
   ]
  },
  {
   "cell_type": "code",
   "execution_count": 52,
   "metadata": {},
   "outputs": [
    {
     "name": "stderr",
     "output_type": "stream",
     "text": [
      "/home/akim/.local/share/virtualenvs/DS-Unit-4-Sprint-1-NLP-2AapNZ9Q/lib/python3.7/site-packages/ipykernel/ipkernel.py:287: DeprecationWarning: `should_run_async` will not call `transform_cell` automatically in the future. Please pass the result to `transformed_cell` argument and any exception that happen during thetransform in `preprocessing_exc_tuple` in IPython 7.17 and above.\n",
      "  and should_run_async(code)\n"
     ]
    },
    {
     "data": {
      "text/plain": [
       "0         (where's my thing) Subject: WHAT car is this!...\n",
       "1         (Guy Kuo) Subject: SI Clock Poll - Final Call...\n",
       "2         (Thomas E Willis) Subject: PB questions... Or...\n",
       "3         (Joe Green) Subject: Re: Weitek P9000 ? Organ...\n",
       "4         (Jonathan McDowell) Subject: Re: Shuttle Laun...\n",
       "                               ...                        \n",
       "11309     (Jim Zisfein) Subject: Re: Migraines and scan...\n",
       "11310     Subject: Screen Death: Mac Plus/512 Lines: 22...\n",
       "11311     (Will Estes) Subject: Mounting CPU Cooler in ...\n",
       "11312     (Steven Collins) Subject: Re: Sphere from 4 p...\n",
       "11313     (Kevin J. Gunning) Subject: stolen CBR900RR O...\n",
       "Name: content, Length: 11314, dtype: object"
      ]
     },
     "execution_count": 52,
     "metadata": {},
     "output_type": "execute_result"
    }
   ],
   "source": [
    "df['content']"
   ]
  },
  {
   "cell_type": "code",
   "execution_count": 53,
   "metadata": {},
   "outputs": [
    {
     "name": "stderr",
     "output_type": "stream",
     "text": [
      "/home/akim/.local/share/virtualenvs/DS-Unit-4-Sprint-1-NLP-2AapNZ9Q/lib/python3.7/site-packages/ipykernel/ipkernel.py:287: DeprecationWarning: `should_run_async` will not call `transform_cell` automatically in the future. Please pass the result to `transformed_cell` argument and any exception that happen during thetransform in `preprocessing_exc_tuple` in IPython 7.17 and above.\n",
      "  and should_run_async(code)\n"
     ]
    }
   ],
   "source": [
    "# 4. Remove non-alphanumeric characters\n",
    "\n",
    "df['content'] = df['content'].apply(lambda x: re.sub('[^0-9 a-zA-Z]', '', x))"
   ]
  },
  {
   "cell_type": "code",
   "execution_count": 54,
   "metadata": {},
   "outputs": [
    {
     "name": "stderr",
     "output_type": "stream",
     "text": [
      "/home/akim/.local/share/virtualenvs/DS-Unit-4-Sprint-1-NLP-2AapNZ9Q/lib/python3.7/site-packages/ipykernel/ipkernel.py:287: DeprecationWarning: `should_run_async` will not call `transform_cell` automatically in the future. Please pass the result to `transformed_cell` argument and any exception that happen during thetransform in `preprocessing_exc_tuple` in IPython 7.17 and above.\n",
      "  and should_run_async(code)\n"
     ]
    },
    {
     "data": {
      "text/plain": [
       "0         wheres my thing Subject WHAT car is this Nntp...\n",
       "1         Guy Kuo Subject SI Clock Poll  Final Call Sum...\n",
       "2         Thomas E Willis Subject PB questions Organiza...\n",
       "3         Joe Green Subject Re Weitek P9000  Organizati...\n",
       "4         Jonathan McDowell Subject Re Shuttle Launch Q...\n",
       "                               ...                        \n",
       "11309     Jim Zisfein Subject Re Migraines and scans Di...\n",
       "11310     Subject Screen Death Mac Plus512 Lines 22 Org...\n",
       "11311     Will Estes Subject Mounting CPU Cooler in ver...\n",
       "11312     Steven Collins Subject Re Sphere from 4 point...\n",
       "11313     Kevin J Gunning Subject stolen CBR900RR Organ...\n",
       "Name: content, Length: 11314, dtype: object"
      ]
     },
     "execution_count": 54,
     "metadata": {},
     "output_type": "execute_result"
    }
   ],
   "source": [
    "df['content']"
   ]
  },
  {
   "cell_type": "code",
   "execution_count": 55,
   "metadata": {},
   "outputs": [
    {
     "name": "stdout",
     "output_type": "stream",
     "text": [
      "INFO: Pandarallel will run on 12 workers.\n",
      "INFO: Pandarallel will use Memory file system to transfer data between the main process and workers.\n"
     ]
    },
    {
     "name": "stderr",
     "output_type": "stream",
     "text": [
      "/home/akim/.local/share/virtualenvs/DS-Unit-4-Sprint-1-NLP-2AapNZ9Q/lib/python3.7/site-packages/ipykernel/ipkernel.py:287: DeprecationWarning: `should_run_async` will not call `transform_cell` automatically in the future. Please pass the result to `transformed_cell` argument and any exception that happen during thetransform in `preprocessing_exc_tuple` in IPython 7.17 and above.\n",
      "  and should_run_async(code)\n"
     ]
    }
   ],
   "source": [
    "from pandarallel import pandarallel\n",
    "pandarallel.initialize(progress_bar=True)"
   ]
  },
  {
   "cell_type": "code",
   "execution_count": 56,
   "metadata": {},
   "outputs": [
    {
     "name": "stderr",
     "output_type": "stream",
     "text": [
      "/home/akim/.local/share/virtualenvs/DS-Unit-4-Sprint-1-NLP-2AapNZ9Q/lib/python3.7/site-packages/ipykernel/ipkernel.py:287: DeprecationWarning: `should_run_async` will not call `transform_cell` automatically in the future. Please pass the result to `transformed_cell` argument and any exception that happen during thetransform in `preprocessing_exc_tuple` in IPython 7.17 and above.\n",
      "  and should_run_async(code)\n"
     ]
    }
   ],
   "source": [
    "nlp = spacy.load(\"en_core_web_lg\")"
   ]
  },
  {
   "cell_type": "code",
   "execution_count": 74,
   "metadata": {},
   "outputs": [
    {
     "name": "stderr",
     "output_type": "stream",
     "text": [
      "/home/akim/.local/share/virtualenvs/DS-Unit-4-Sprint-1-NLP-2AapNZ9Q/lib/python3.7/site-packages/ipykernel/ipkernel.py:287: DeprecationWarning: `should_run_async` will not call `transform_cell` automatically in the future. Please pass the result to `transformed_cell` argument and any exception that happen during thetransform in `preprocessing_exc_tuple` in IPython 7.17 and above.\n",
      "  and should_run_async(code)\n",
      "Process ForkPoolWorker-83:\n",
      "Traceback (most recent call last):\n",
      "  File \"/home/akim/miniconda3/lib/python3.7/multiprocessing/process.py\", line 297, in _bootstrap\n",
      "    self.run()\n",
      "  File \"/home/akim/miniconda3/lib/python3.7/multiprocessing/process.py\", line 99, in run\n",
      "    self._target(*self._args, **self._kwargs)\n",
      "  File \"/home/akim/miniconda3/lib/python3.7/multiprocessing/pool.py\", line 110, in worker\n",
      "    task = get()\n",
      "  File \"/home/akim/miniconda3/lib/python3.7/multiprocessing/queues.py\", line 351, in get\n",
      "    with self._rlock:\n",
      "  File \"/home/akim/miniconda3/lib/python3.7/multiprocessing/synchronize.py\", line 95, in __enter__\n",
      "    return self._semlock.__enter__()\n",
      "KeyboardInterrupt\n"
     ]
    }
   ],
   "source": [
    "def get_lemmas(x):\n",
    "    lemmas = []\n",
    "    for token in nlp(x):\n",
    "        if (token.is_stop!=True) and (token.is_punct!=True):\n",
    "            lemmas.append(token.lemma_)\n",
    "    return lemmas"
   ]
  },
  {
   "cell_type": "code",
   "execution_count": null,
   "metadata": {},
   "outputs": [],
   "source": []
  },
  {
   "cell_type": "code",
   "execution_count": 58,
   "metadata": {
    "colab": {},
    "colab_type": "code",
    "id": "6EBPQXqEKE9P"
   },
   "outputs": [
    {
     "name": "stderr",
     "output_type": "stream",
     "text": [
      "/home/akim/.local/share/virtualenvs/DS-Unit-4-Sprint-1-NLP-2AapNZ9Q/lib/python3.7/site-packages/ipykernel/ipkernel.py:287: DeprecationWarning: `should_run_async` will not call `transform_cell` automatically in the future. Please pass the result to `transformed_cell` argument and any exception that happen during thetransform in `preprocessing_exc_tuple` in IPython 7.17 and above.\n",
      "  and should_run_async(code)\n"
     ]
    },
    {
     "data": {
      "application/vnd.jupyter.widget-view+json": {
       "model_id": "e90005b3f0274b4da7ad9378e49b4a84",
       "version_major": 2,
       "version_minor": 0
      },
      "text/plain": [
       "VBox(children=(HBox(children=(IntProgress(value=0, description='0.00%', max=943), Label(value='0 / 943'))), HB…"
      ]
     },
     "metadata": {},
     "output_type": "display_data"
    }
   ],
   "source": [
    "# Create 'lemmas' column\n",
    "\n",
    "df['lemmas'] = df['content'].parallel_apply(get_lemmas)"
   ]
  },
  {
   "cell_type": "code",
   "execution_count": 62,
   "metadata": {
    "colab": {},
    "colab_type": "code",
    "id": "-yvsyIpvKBlw"
   },
   "outputs": [
    {
     "name": "stderr",
     "output_type": "stream",
     "text": [
      "/home/akim/.local/share/virtualenvs/DS-Unit-4-Sprint-1-NLP-2AapNZ9Q/lib/python3.7/site-packages/ipykernel/ipkernel.py:287: DeprecationWarning: `should_run_async` will not call `transform_cell` automatically in the future. Please pass the result to `transformed_cell` argument and any exception that happen during thetransform in `preprocessing_exc_tuple` in IPython 7.17 and above.\n",
      "  and should_run_async(code)\n"
     ]
    },
    {
     "data": {
      "text/plain": [
       "[' ',\n",
       " 'TsungKun',\n",
       " 'Chen',\n",
       " 'Subject',\n",
       " ' ',\n",
       " 'software',\n",
       " 'forsale',\n",
       " 'lot',\n",
       " ' ',\n",
       " 'NntpPostingHost',\n",
       " 'magnusugmagnusacsohiostateedu',\n",
       " 'Organization',\n",
       " 'Ohio',\n",
       " 'State',\n",
       " 'University',\n",
       " ' ',\n",
       " 'post',\n",
       " 'friend',\n",
       " '  ',\n",
       " 'JK',\n",
       " 'Lee',\n",
       " '6147910748',\n",
       " 'drop',\n",
       " 'mail',\n",
       " ' ',\n",
       " 'Distribution',\n",
       " 'usa',\n",
       " 'line',\n",
       " '39',\n",
       " '1',\n",
       " 'software',\n",
       " 'publish',\n",
       " 'SuperBase',\n",
       " '4',\n",
       " 'window',\n",
       " 'v13',\n",
       " '80',\n",
       " '2',\n",
       " 'OCR',\n",
       " 'system',\n",
       " 'ReadRight',\n",
       " 'v31',\n",
       " 'Windows',\n",
       " '65',\n",
       " '3',\n",
       " 'OCR',\n",
       " 'System',\n",
       " 'ReadRight',\n",
       " 'v201',\n",
       " 'DOS',\n",
       " '65',\n",
       " '4',\n",
       " 'Unregistered',\n",
       " 'Zortech',\n",
       " '32',\n",
       " 'bit',\n",
       " 'c',\n",
       " 'compiler',\n",
       " 'v31',\n",
       " ' ',\n",
       " '250',\n",
       " 'Multiscope',\n",
       " 'window',\n",
       " 'Debugger',\n",
       " 'WhiteWater',\n",
       " 'Resource',\n",
       " 'Toolkit',\n",
       " 'Library',\n",
       " 'Source',\n",
       " 'Code',\n",
       " '5',\n",
       " 'glockenspielimagesoft',\n",
       " 'Commonview',\n",
       " '2',\n",
       " 'Windows',\n",
       " 'Applications',\n",
       " 'Framework',\n",
       " 'Borland',\n",
       " 'C',\n",
       " '70',\n",
       " '6',\n",
       " 'Spontaneous',\n",
       " 'Assembly',\n",
       " 'Library',\n",
       " 'Source',\n",
       " 'Code',\n",
       " '50',\n",
       " '7',\n",
       " 'Microsoft',\n",
       " 'Macro',\n",
       " 'Assembly',\n",
       " '60',\n",
       " '50',\n",
       " '8',\n",
       " 'Microsoft',\n",
       " 'Windows',\n",
       " 'v31',\n",
       " 'SDK',\n",
       " 'Documentation',\n",
       " '125',\n",
       " '9',\n",
       " 'Microsoft',\n",
       " 'FoxPro',\n",
       " 'V20',\n",
       " '75',\n",
       " '10',\n",
       " 'WordPerfect',\n",
       " '50',\n",
       " 'Developers',\n",
       " 'Toolkit',\n",
       " '20',\n",
       " '11',\n",
       " 'Kedwell',\n",
       " 'Software',\n",
       " 'DataBoss',\n",
       " 'v35',\n",
       " 'C',\n",
       " 'Code',\n",
       " 'Generator',\n",
       " '100',\n",
       " '12',\n",
       " 'Kedwell',\n",
       " 'InstallBoss',\n",
       " 'v20',\n",
       " 'Installation',\n",
       " 'Generator',\n",
       " '35',\n",
       " '13',\n",
       " 'Liant',\n",
       " 'Software',\n",
       " 'CViews',\n",
       " 'v21',\n",
       " 'Windows',\n",
       " 'Application',\n",
       " 'Framework',\n",
       " 'Source',\n",
       " 'Code',\n",
       " '195',\n",
       " '14',\n",
       " 'IBM',\n",
       " 'OS2',\n",
       " '20',\n",
       " ' ',\n",
       " 'Developers',\n",
       " 'Toolkit',\n",
       " '95',\n",
       " '15',\n",
       " 'CBTree',\n",
       " 'doswindow',\n",
       " 'Library',\n",
       " 'Source',\n",
       " 'Code',\n",
       " '120',\n",
       " '16',\n",
       " 'Symantec',\n",
       " 'TimeLine',\n",
       " 'Windows',\n",
       " '90',\n",
       " '17',\n",
       " 'TimeSlip',\n",
       " 'TimeSheet',\n",
       " 'Professional',\n",
       " 'Windows',\n",
       " '30',\n",
       " 'SoftwareBooks',\n",
       " 'AvailablePrice',\n",
       " 'negotiable']"
      ]
     },
     "execution_count": 62,
     "metadata": {},
     "output_type": "execute_result"
    }
   ],
   "source": [
    "df['lemmas'].iloc[100]"
   ]
  },
  {
   "cell_type": "markdown",
   "metadata": {},
   "source": [
    "### The two main inputs to the LDA topic model are the dictionary (id2word) and the corpus."
   ]
  },
  {
   "cell_type": "code",
   "execution_count": 63,
   "metadata": {
    "colab": {},
    "colab_type": "code",
    "id": "1klqRpqtJxWc"
   },
   "outputs": [
    {
     "name": "stderr",
     "output_type": "stream",
     "text": [
      "/home/akim/.local/share/virtualenvs/DS-Unit-4-Sprint-1-NLP-2AapNZ9Q/lib/python3.7/site-packages/ipykernel/ipkernel.py:287: DeprecationWarning: `should_run_async` will not call `transform_cell` automatically in the future. Please pass the result to `transformed_cell` argument and any exception that happen during thetransform in `preprocessing_exc_tuple` in IPython 7.17 and above.\n",
      "  and should_run_async(code)\n"
     ]
    }
   ],
   "source": [
    "# Create Dictionary\n",
    "id2word = corpora.Dictionary(df['lemmas'])\n",
    "\n",
    "# Term Document Frequency\n",
    "corpus = [id2word.doc2bow(text) for text in df['lemmas']]"
   ]
  },
  {
   "cell_type": "code",
   "execution_count": 65,
   "metadata": {
    "colab": {},
    "colab_type": "code",
    "id": "ArZPxcP5LH1J"
   },
   "outputs": [
    {
     "name": "stderr",
     "output_type": "stream",
     "text": [
      "/home/akim/.local/share/virtualenvs/DS-Unit-4-Sprint-1-NLP-2AapNZ9Q/lib/python3.7/site-packages/ipykernel/ipkernel.py:287: DeprecationWarning: `should_run_async` will not call `transform_cell` automatically in the future. Please pass the result to `transformed_cell` argument and any exception that happen during thetransform in `preprocessing_exc_tuple` in IPython 7.17 and above.\n",
      "  and should_run_async(code)\n"
     ]
    },
    {
     "data": {
      "text/plain": [
       "'bug'"
      ]
     },
     "execution_count": 65,
     "metadata": {},
     "output_type": "execute_result"
    }
   ],
   "source": [
    "id2word[300]"
   ]
  },
  {
   "cell_type": "code",
   "execution_count": 66,
   "metadata": {},
   "outputs": [
    {
     "name": "stderr",
     "output_type": "stream",
     "text": [
      "/home/akim/.local/share/virtualenvs/DS-Unit-4-Sprint-1-NLP-2AapNZ9Q/lib/python3.7/site-packages/ipykernel/ipkernel.py:287: DeprecationWarning: `should_run_async` will not call `transform_cell` automatically in the future. Please pass the result to `transformed_cell` argument and any exception that happen during thetransform in `preprocessing_exc_tuple` in IPython 7.17 and above.\n",
      "  and should_run_async(code)\n"
     ]
    },
    {
     "data": {
      "text/plain": [
       "' Foxvog Douglas Subject Re Rewording the Second Amendment ideas Organization VTT Lines 58 In article 1r1eu14ttransferstratuscom cdtswstratuscom C D Tavares writes In article 1993Apr2008305716899ousrvroulufi dfovttoulutkovttfi Foxvog Douglas writes  In article 1qv87v4j3transferstratuscom cdtswstratuscom C D Tavares writes  In article C5n3GIF8Fulowellulowelledu jrutledgcsulowelledu John Lawrence Rutledge writes    The massive destructive power of many modern weapons makes the   cost of an accidental or crimial usage of these weapons to great   The weapons of mass destruction need to be in the control of   the government only Individual access would result in the   needless deaths of millions This makes the right of the people   to keep and bear many modern weapons nonexistant  Thanks for stating where youre coming from Needless to say I  disagree on every count  You believe that individuals should have the right to own weapons of  mass destruction I find it hard to believe that you would support a  neighbors right to keep nuclear weapons biological weapons and nerve  gas on hisher property  If we cannot even agree on keeping weapons of mass destruction out of  the hands of individuals can there be any hope for us I dont sign any blank checks Of course The term must be rigidly defined in any bill When Doug Foxvog says weapons of mass destruction he means CBW and nukes When Sarah Brady says weapons of mass destruction she means Street Sweeper shotguns and semiautomatic SKS rifles I doubt she uses this term for that You are using a quote allegedly from her can you back it up When John Lawrence Rutledge says weapons of mass destruction and then immediately follows it with  The US has thousands of people killed each year by handguns  this number can easily be reduced by putting reasonable restrictions  on them what does Rutledge mean by the term I read the article as presenting first an argument about weapons of mass destruction as commonly understood and then switching to other topics The first point evidently was to show that not all weapons should be allowed and then the later analysis was given this understanding to consider another class cdtrocketswstratuscom If you believe that I speak for my company OR cdtvosstratuscom write today for my special Investors Packet  doug foxvog douglasfoxvogvttfi'"
      ]
     },
     "execution_count": 66,
     "metadata": {},
     "output_type": "execute_result"
    }
   ],
   "source": [
    "df['content'][5]"
   ]
  },
  {
   "cell_type": "code",
   "execution_count": 71,
   "metadata": {},
   "outputs": [
    {
     "name": "stderr",
     "output_type": "stream",
     "text": [
      "/home/akim/.local/share/virtualenvs/DS-Unit-4-Sprint-1-NLP-2AapNZ9Q/lib/python3.7/site-packages/ipykernel/ipkernel.py:287: DeprecationWarning: `should_run_async` will not call `transform_cell` automatically in the future. Please pass the result to `transformed_cell` argument and any exception that happen during thetransform in `preprocessing_exc_tuple` in IPython 7.17 and above.\n",
      "  and should_run_async(code)\n"
     ]
    },
    {
     "data": {
      "text/plain": [
       "'article'"
      ]
     },
     "execution_count": 71,
     "metadata": {},
     "output_type": "execute_result"
    }
   ],
   "source": [
    "id2word[255]"
   ]
  },
  {
   "cell_type": "code",
   "execution_count": 67,
   "metadata": {},
   "outputs": [
    {
     "name": "stderr",
     "output_type": "stream",
     "text": [
      "/home/akim/.local/share/virtualenvs/DS-Unit-4-Sprint-1-NLP-2AapNZ9Q/lib/python3.7/site-packages/ipykernel/ipkernel.py:287: DeprecationWarning: `should_run_async` will not call `transform_cell` automatically in the future. Please pass the result to `transformed_cell` argument and any exception that happen during thetransform in `preprocessing_exc_tuple` in IPython 7.17 and above.\n",
      "  and should_run_async(code)\n"
     ]
    },
    {
     "data": {
      "text/plain": [
       "[(0, 15),\n",
       " (9, 1),\n",
       " (12, 1),\n",
       " (46, 1),\n",
       " (49, 1),\n",
       " (64, 1),\n",
       " (91, 1),\n",
       " (92, 1),\n",
       " (108, 1),\n",
       " (109, 1),\n",
       " (132, 1),\n",
       " (162, 1),\n",
       " (165, 1),\n",
       " (190, 2),\n",
       " (225, 1),\n",
       " (233, 5),\n",
       " (255, 5),\n",
       " (269, 1),\n",
       " (279, 5),\n",
       " (302, 1),\n",
       " (321, 1),\n",
       " (322, 3),\n",
       " (333, 1),\n",
       " (341, 1),\n",
       " (342, 1),\n",
       " (343, 1),\n",
       " (344, 1),\n",
       " (345, 1),\n",
       " (346, 1),\n",
       " (347, 1),\n",
       " (348, 1),\n",
       " (349, 2),\n",
       " (350, 1),\n",
       " (351, 2),\n",
       " (352, 3),\n",
       " (353, 1),\n",
       " (354, 1),\n",
       " (355, 2),\n",
       " (356, 2),\n",
       " (357, 1),\n",
       " (358, 1),\n",
       " (359, 3),\n",
       " (360, 1),\n",
       " (361, 1),\n",
       " (362, 1),\n",
       " (363, 1),\n",
       " (364, 1),\n",
       " (365, 2),\n",
       " (366, 1),\n",
       " (367, 1),\n",
       " (368, 1),\n",
       " (369, 1),\n",
       " (370, 1),\n",
       " (371, 1),\n",
       " (372, 1),\n",
       " (373, 1),\n",
       " (374, 3),\n",
       " (375, 1),\n",
       " (376, 1),\n",
       " (377, 1),\n",
       " (378, 2),\n",
       " (379, 1),\n",
       " (380, 2),\n",
       " (381, 1),\n",
       " (382, 1),\n",
       " (383, 1),\n",
       " (384, 1),\n",
       " (385, 1),\n",
       " (386, 1),\n",
       " (387, 1),\n",
       " (388, 1),\n",
       " (389, 1),\n",
       " (390, 1),\n",
       " (391, 1),\n",
       " (392, 1),\n",
       " (393, 1),\n",
       " (394, 7),\n",
       " (395, 1),\n",
       " (396, 1),\n",
       " (397, 1),\n",
       " (398, 1),\n",
       " (399, 1),\n",
       " (400, 1),\n",
       " (401, 1),\n",
       " (402, 1),\n",
       " (403, 1),\n",
       " (404, 1),\n",
       " (405, 1),\n",
       " (406, 1),\n",
       " (407, 1),\n",
       " (408, 1),\n",
       " (409, 1),\n",
       " (410, 1),\n",
       " (411, 1),\n",
       " (412, 1),\n",
       " (413, 1),\n",
       " (414, 1),\n",
       " (415, 2),\n",
       " (416, 1),\n",
       " (417, 1),\n",
       " (418, 1),\n",
       " (419, 1),\n",
       " (420, 2),\n",
       " (421, 7),\n",
       " (422, 1),\n",
       " (423, 3),\n",
       " (424, 1),\n",
       " (425, 2),\n",
       " (426, 1),\n",
       " (427, 1),\n",
       " (428, 1),\n",
       " (429, 1),\n",
       " (430, 1),\n",
       " (431, 1),\n",
       " (432, 1),\n",
       " (433, 1),\n",
       " (434, 1),\n",
       " (435, 1),\n",
       " (436, 1),\n",
       " (437, 1),\n",
       " (438, 1),\n",
       " (439, 1),\n",
       " (440, 1),\n",
       " (441, 1),\n",
       " (442, 1),\n",
       " (443, 1),\n",
       " (444, 1),\n",
       " (445, 3),\n",
       " (446, 1),\n",
       " (447, 1),\n",
       " (448, 1),\n",
       " (449, 1),\n",
       " (450, 1),\n",
       " (451, 1),\n",
       " (452, 1),\n",
       " (453, 1),\n",
       " (454, 3),\n",
       " (455, 1),\n",
       " (456, 1),\n",
       " (457, 1),\n",
       " (458, 1),\n",
       " (459, 13)]"
      ]
     },
     "execution_count": 67,
     "metadata": {},
     "output_type": "execute_result"
    }
   ],
   "source": [
    "corpus[5]"
   ]
  },
  {
   "cell_type": "code",
   "execution_count": 72,
   "metadata": {
    "colab": {},
    "colab_type": "code",
    "id": "6K2jWxHJLOzK"
   },
   "outputs": [
    {
     "name": "stderr",
     "output_type": "stream",
     "text": [
      "/home/akim/.local/share/virtualenvs/DS-Unit-4-Sprint-1-NLP-2AapNZ9Q/lib/python3.7/site-packages/ipykernel/ipkernel.py:287: DeprecationWarning: `should_run_async` will not call `transform_cell` automatically in the future. Please pass the result to `transformed_cell` argument and any exception that happen during thetransform in `preprocessing_exc_tuple` in IPython 7.17 and above.\n",
      "  and should_run_async(code)\n"
     ]
    },
    {
     "data": {
      "text/plain": [
       "[(' ', 15),\n",
       " ('Lines', 1),\n",
       " ('Organization', 1),\n",
       " ('thank', 1),\n",
       " ('year', 1),\n",
       " ('Subject', 1),\n",
       " ('not', 1),\n",
       " ('number', 1),\n",
       " ('usage', 1),\n",
       " ('   ', 1),\n",
       " ('access', 1),\n",
       " ('give', 1),\n",
       " ('great', 1),\n",
       " ('people', 2),\n",
       " ('use', 1),\n",
       " ('  ', 5),\n",
       " ('article', 5),\n",
       " ('point', 1),\n",
       " ('write', 5),\n",
       " ('check', 1),\n",
       " ('quote', 1),\n",
       " ('right', 3),\n",
       " ('understanding', 1),\n",
       " ('1993apr2008305716899ousrvroulufi', 1),\n",
       " ('1qv87v4j3transferstratuscom', 1),\n",
       " ('1r1eu14ttransferstratuscom', 1),\n",
       " ('58', 1),\n",
       " ('Amendment', 1),\n",
       " ('Brady', 1),\n",
       " ('C5n3GIF8Fulowellulowelledu', 1),\n",
       " ('CBW', 1),\n",
       " ('D', 2),\n",
       " ('Doug', 1),\n",
       " ('Douglas', 2),\n",
       " ('Foxvog', 3),\n",
       " ('Individual', 1),\n",
       " ('Investors', 1),\n",
       " ('John', 2),\n",
       " ('Lawrence', 2),\n",
       " ('Needless', 1),\n",
       " ('Packet', 1),\n",
       " ('Rutledge', 3),\n",
       " ('SKS', 1),\n",
       " ('Sarah', 1),\n",
       " ('Second', 1),\n",
       " ('Street', 1),\n",
       " ('Sweeper', 1),\n",
       " ('Tavares', 2),\n",
       " ('VTT', 1),\n",
       " ('accidental', 1),\n",
       " ('agree', 1),\n",
       " ('allegedly', 1),\n",
       " ('allow', 1),\n",
       " ('analysis', 1),\n",
       " ('argument', 1),\n",
       " ('bear', 1),\n",
       " ('believe', 3),\n",
       " ('bill', 1),\n",
       " ('biological', 1),\n",
       " ('blank', 1),\n",
       " ('c', 2),\n",
       " ('cdtrocketswstratuscom', 1),\n",
       " ('cdtswstratuscom', 2),\n",
       " ('cdtvosstratuscom', 1),\n",
       " ('class', 1),\n",
       " ('come', 1),\n",
       " ('commonly', 1),\n",
       " ('company', 1),\n",
       " ('consider', 1),\n",
       " ('control', 1),\n",
       " ('cost', 1),\n",
       " ('count', 1),\n",
       " ('course', 1),\n",
       " ('crimial', 1),\n",
       " ('death', 1),\n",
       " ('define', 1),\n",
       " ('destruction', 7),\n",
       " ('destructive', 1),\n",
       " ('dfovttoulutkovttfi', 1),\n",
       " ('disagree', 1),\n",
       " ('doubt', 1),\n",
       " ('doug', 1),\n",
       " ('douglasfoxvogvttfi', 1),\n",
       " ('easily', 1),\n",
       " ('evidently', 1),\n",
       " ('find', 1),\n",
       " ('follow', 1),\n",
       " ('foxvog', 1),\n",
       " ('gas', 1),\n",
       " ('government', 1),\n",
       " ('hand', 1),\n",
       " ('handgun', 1),\n",
       " ('hard', 1),\n",
       " ('hisher', 1),\n",
       " ('hope', 1),\n",
       " ('idea', 1),\n",
       " ('immediately', 1),\n",
       " ('individual', 2),\n",
       " ('jrutledgcsulowelledu', 1),\n",
       " ('keep', 1),\n",
       " ('kill', 1),\n",
       " ('later', 1),\n",
       " ('make', 2),\n",
       " ('mass', 7),\n",
       " ('massive', 1),\n",
       " ('mean', 3),\n",
       " ('million', 1),\n",
       " ('modern', 2),\n",
       " ('need', 1),\n",
       " ('needless', 1),\n",
       " ('neighbor', 1),\n",
       " ('nerve', 1),\n",
       " ('nonexistant', 1),\n",
       " ('nuclear', 1),\n",
       " ('nuke', 1),\n",
       " ('power', 1),\n",
       " ('present', 1),\n",
       " ('property', 1),\n",
       " ('put', 1),\n",
       " ('read', 1),\n",
       " ('reasonable', 1),\n",
       " ('reduce', 1),\n",
       " ('restriction', 1),\n",
       " ('result', 1),\n",
       " ('reword', 1),\n",
       " ('rifle', 1),\n",
       " ('rigidly', 1),\n",
       " ('say', 3),\n",
       " ('semiautomatic', 1),\n",
       " ('shotgun', 1),\n",
       " ('sign', 1),\n",
       " ('speak', 1),\n",
       " ('special', 1),\n",
       " ('state', 1),\n",
       " ('support', 1),\n",
       " ('switch', 1),\n",
       " ('term', 3),\n",
       " ('thousand', 1),\n",
       " ('today', 1),\n",
       " ('topic', 1),\n",
       " ('understand', 1),\n",
       " ('weapon', 13)]"
      ]
     },
     "execution_count": 72,
     "metadata": {},
     "output_type": "execute_result"
    }
   ],
   "source": [
    "# Human readable format of corpus (term-frequency)\n",
    "[(id2word[word_id], word_count) for word_id, word_count in corpus[5]]"
   ]
  },
  {
   "cell_type": "markdown",
   "metadata": {},
   "source": [
    "# Part 2: Estimate a LDA Model with Gensim"
   ]
  },
  {
   "cell_type": "markdown",
   "metadata": {},
   "source": [
    " ### Train an LDA model"
   ]
  },
  {
   "cell_type": "code",
   "execution_count": null,
   "metadata": {
    "colab": {},
    "colab_type": "code",
    "id": "Fasvjf0VLQ2a"
   },
   "outputs": [],
   "source": [
    "# %%time\n",
    "# lda_model = gensim.models.ldamodel.LdaModel(corpus=corpus,\n",
    "#                                            id2word=id2word,\n",
    "#                                            num_topics=20, \n",
    "#                                            chunksize=100,\n",
    "#                                            passes=10,\n",
    "#                                            per_word_topics=True)\n",
    "\n",
    "# # # https://radimrehurek.com/gensim/models/ldamodel.html"
   ]
  },
  {
   "cell_type": "code",
   "execution_count": null,
   "metadata": {},
   "outputs": [],
   "source": [
    "# lda_model.save('lda_model.model')"
   ]
  },
  {
   "cell_type": "code",
   "execution_count": 75,
   "metadata": {},
   "outputs": [
    {
     "name": "stderr",
     "output_type": "stream",
     "text": [
      "/home/akim/.local/share/virtualenvs/DS-Unit-4-Sprint-1-NLP-2AapNZ9Q/lib/python3.7/site-packages/ipykernel/ipkernel.py:287: DeprecationWarning: `should_run_async` will not call `transform_cell` automatically in the future. Please pass the result to `transformed_cell` argument and any exception that happen during thetransform in `preprocessing_exc_tuple` in IPython 7.17 and above.\n",
      "  and should_run_async(code)\n"
     ]
    }
   ],
   "source": [
    "# %%time\n",
    "lda_multicore = gensim.models.ldamulticore.LdaMulticore(corpus=corpus,\n",
    "                                                        id2word=id2word,\n",
    "                                                        num_topics=20, \n",
    "                                                        chunksize=100,\n",
    "                                                        passes=10,\n",
    "                                                        per_word_topics=True,\n",
    "                                                        workers=12)\n",
    "\n",
    "# # https://radimrehurek.com/gensim/models/ldamulticore.html"
   ]
  },
  {
   "cell_type": "code",
   "execution_count": null,
   "metadata": {},
   "outputs": [],
   "source": [
    "lda_multicore.save('lda_multicore.model')"
   ]
  },
  {
   "cell_type": "code",
   "execution_count": 76,
   "metadata": {},
   "outputs": [
    {
     "name": "stderr",
     "output_type": "stream",
     "text": [
      "/home/akim/.local/share/virtualenvs/DS-Unit-4-Sprint-1-NLP-2AapNZ9Q/lib/python3.7/site-packages/ipykernel/ipkernel.py:287: DeprecationWarning: `should_run_async` will not call `transform_cell` automatically in the future. Please pass the result to `transformed_cell` argument and any exception that happen during thetransform in `preprocessing_exc_tuple` in IPython 7.17 and above.\n",
      "  and should_run_async(code)\n"
     ]
    }
   ],
   "source": [
    "from gensim import models\n",
    "lda_multicore =  models.LdaModel.load('lda_multicore.model')"
   ]
  },
  {
   "cell_type": "markdown",
   "metadata": {},
   "source": [
    "### View the topics in LDA model"
   ]
  },
  {
   "cell_type": "code",
   "execution_count": 78,
   "metadata": {
    "colab": {},
    "colab_type": "code",
    "id": "JawR8yscLVNS"
   },
   "outputs": [
    {
     "name": "stdout",
     "output_type": "stream",
     "text": [
      "[(0,\n",
      "  '0.023*\" \" + 0.007*\"launch\" + 0.006*\"ground\" + 0.006*\"orbit\" + 0.006*\"space\" '\n",
      "  '+ 0.005*\"wire\" + 0.004*\"satellite\" + 0.004*\"Space\" + 0.004*\"circuit\" + '\n",
      "  '0.004*\"mission\"'),\n",
      " (1,\n",
      "  '0.047*\" \" + 0.015*\"not\" + 0.010*\"people\" + 0.009*\"write\" + 0.008*\"  \" + '\n",
      "  '0.008*\"think\" + 0.007*\"God\" + 0.006*\"know\" + 0.006*\"article\" + '\n",
      "  '0.006*\"believe\"'),\n",
      " (2,\n",
      "  '0.055*\" \" + 0.053*\"1\" + 0.034*\"2\" + 0.030*\"0\" + 0.021*\"3\" + 0.017*\"4\" + '\n",
      "  '0.014*\"5\" + 0.012*\"7\" + 0.012*\"25\" + 0.011*\"6\"'),\n",
      " (3,\n",
      "  '0.012*\"outlet\" + 0.009*\"wiring\" + 0.008*\"NT\" + 0.006*\"neutral\" + '\n",
      "  '0.005*\"C650\" + 0.005*\"yeast\" + 0.004*\"disc\" + 0.004*\"SE\" + 0.003*\"Candida\" '\n",
      "  '+ 0.003*\"sinus\"'),\n",
      " (4,\n",
      "  '0.020*\" \" + 0.005*\"year\" + 0.005*\"Organization\" + 0.004*\"Subject\" + '\n",
      "  '0.004*\"University\" + 0.004*\"use\" + 0.004*\"1993\" + 0.004*\"program\" + '\n",
      "  '0.003*\"space\" + 0.003*\"report\"'),\n",
      " (5,\n",
      "  '0.009*\"Gainey\" + 0.006*\"Weaver\" + 0.005*\"BeHanna\" + 0.005*\"Bob\" + '\n",
      "  '0.004*\"Chris\" + 0.003*\"behannasylnjneccom\" + 0.003*\"plane\" + 0.003*\"NEC\" + '\n",
      "  '0.003*\"Henrik\" + 0.003*\"dog\"'),\n",
      " (6,\n",
      "  '0.035*\" \" + 0.017*\"not\" + 0.014*\"car\" + 0.009*\"Organization\" + '\n",
      "  '0.008*\"write\" + 0.008*\"Subject\" + 0.008*\"article\" + 0.007*\"like\" + 0.007*\"  '\n",
      "  '\" + 0.006*\"good\"'),\n",
      " (7,\n",
      "  '0.015*\"JPEG\" + 0.006*\"Adam\" + 0.005*\"Apr\" + 0.004*\"expose\" + 0.004*\"Nick\" + '\n",
      "  '0.004*\"93\" + 0.003*\"jpeg\" + 0.003*\"Gazans\" + 0.003*\"injector\" + '\n",
      "  '0.003*\"Portable\"'),\n",
      " (8,\n",
      "  '0.129*\" \" + 0.027*\"  \" + 0.018*\"Organization\" + 0.016*\"Subject\" + '\n",
      "  '0.014*\"write\" + 0.012*\"Lines\" + 0.009*\"article\" + 0.008*\"University\" + '\n",
      "  '0.007*\"line\" + 0.007*\"not\"'),\n",
      " (9,\n",
      "  '0.114*\"x\" + 0.103*\" \" + 0.057*\"X\" + 0.018*\"entry\" + 0.014*\"file\" + '\n",
      "  '0.014*\"DB\" + 0.008*\"program\" + 0.006*\"section\" + 0.005*\"n\" + 0.005*\"int\"'),\n",
      " (10,\n",
      "  '0.161*\"maxaxaxaxaxaxaxaxaxaxaxaxaxaxax\" + 0.023*\"SCSI\" + 0.023*\"M\" + '\n",
      "  '0.017*\"MAXAXAXAXAXAXAXAXAXAXAXAXAXAXAX\" + 0.016*\"T\" + 0.015*\"t\" + 0.014*\"g\" '\n",
      "  '+ 0.012*\"IDE\" + 0.010*\"p\" + 0.008*\"scsi2\"'),\n",
      " (11,\n",
      "  '0.010*\"PT\" + 0.007*\"Tyre\" + 0.005*\"Doug\" + 0.005*\"Brian\" + 0.004*\"cub\" + '\n",
      "  '0.004*\"Gateway\" + 0.004*\"suck\" + 0.004*\"JB\" + 0.003*\"csutexasedu\" + '\n",
      "  '0.003*\"NuBus\"'),\n",
      " (12,\n",
      "  '0.016*\" \" + 0.008*\"  \" + 0.007*\"dog\" + 0.005*\"AHL\" + 0.004*\"new\" + '\n",
      "  '0.004*\"militia\" + 0.004*\"Blues\" + 0.004*\"Stars\" + 0.003*\"Hockey\" + '\n",
      "  '0.003*\"s1\"'),\n",
      " (13,\n",
      "  '0.016*\"not\" + 0.015*\" \" + 0.010*\"gun\" + 0.010*\"people\" + 0.009*\"say\" + '\n",
      "  '0.007*\"go\" + 0.007*\"kill\" + 0.006*\"know\" + 0.005*\"come\" + 0.005*\"like\"'),\n",
      " (14,\n",
      "  '0.017*\" \" + 0.010*\"Keith\" + 0.007*\"system\" + 0.007*\"Clayton\" + '\n",
      "  '0.006*\"homosexual\" + 0.006*\"man\" + 0.006*\"Cramer\" + 0.006*\"NNTPPostingHost\" '\n",
      "  '+ 0.005*\"Organization\" + 0.005*\"write\"'),\n",
      " (15,\n",
      "  '0.031*\" \" + 0.013*\"key\" + 0.009*\"government\" + 0.009*\"not\" + 0.006*\"law\" + '\n",
      "  '0.006*\"encryption\" + 0.006*\"Q\" + 0.005*\"use\" + 0.005*\"chip\" + '\n",
      "  '0.005*\"system\"'),\n",
      " (16,\n",
      "  '0.020*\"game\" + 0.019*\" \" + 0.017*\"not\" + 0.016*\"team\" + 0.012*\"year\" + '\n",
      "  '0.012*\"play\" + 0.011*\"player\" + 0.010*\"win\" + 0.009*\"good\" + 0.008*\"think\"'),\n",
      " (17,\n",
      "  '0.018*\"Israel\" + 0.017*\" \" + 0.014*\"israeli\" + 0.012*\"Jews\" + 0.006*\"war\" + '\n",
      "  '0.006*\"arab\" + 0.006*\"jewish\" + 0.005*\"attack\" + 0.005*\"village\" + '\n",
      "  '0.004*\"state\"'),\n",
      " (18,\n",
      "  '0.041*\" \" + 0.009*\"Organization\" + 0.008*\"use\" + 0.008*\"Subject\" + '\n",
      "  '0.008*\"not\" + 0.007*\"file\" + 0.007*\"drive\" + 0.006*\"problem\" + 0.006*\"line\" '\n",
      "  '+ 0.006*\"Lines\"'),\n",
      " (19,\n",
      "  '0.005*\"Easter\" + 0.004*\"Slick\" + 0.004*\"Napoleon\" + 0.004*\"fallacy\" + '\n",
      "  '0.004*\"Resurrection\" + 0.003*\"Liverpool\" + 0.003*\"Tesla\" + 0.003*\"WINDOWS\" '\n",
      "  '+ 0.003*\"projector\" + 0.002*\"lcd\"')]\n"
     ]
    },
    {
     "name": "stderr",
     "output_type": "stream",
     "text": [
      "/home/akim/.local/share/virtualenvs/DS-Unit-4-Sprint-1-NLP-2AapNZ9Q/lib/python3.7/site-packages/ipykernel/ipkernel.py:287: DeprecationWarning: `should_run_async` will not call `transform_cell` automatically in the future. Please pass the result to `transformed_cell` argument and any exception that happen during thetransform in `preprocessing_exc_tuple` in IPython 7.17 and above.\n",
      "  and should_run_async(code)\n"
     ]
    }
   ],
   "source": [
    "pprint(lda_multicore.print_topics())\n",
    "doc_lda = lda_multicore[corpus]"
   ]
  },
  {
   "cell_type": "markdown",
   "metadata": {},
   "source": [
    "### What is topic Perplexity?\n",
    "Perplexity is a statistical measure of how well a probability model predicts a sample. As applied to LDA, for a given value of , you estimate the LDA model. Then given the theoretical word distributions represented by the topics, compare that to the actual topic mixtures, or distribution of words in your documents.\n",
    "\n",
    "### What is topic coherence?\n",
    "Topic Coherence measures score a single topic by measuring the degree of semantic similarity between high scoring words in the topic. These measurements help distinguish between topics that are semantically interpretable topics and topics that are artifacts of statistical inference.\n",
    "A set of statements or facts is said to be coherent, if they support each other. Thus, a coherent fact set can be interpreted in a context that covers all or most of the facts. An example of a coherent fact set is “the game is a team sport”, “the game is played with a ball”, “the game demands great physical efforts”"
   ]
  },
  {
   "cell_type": "code",
   "execution_count": 79,
   "metadata": {
    "colab": {},
    "colab_type": "code",
    "id": "xCjhr8k4LXSy"
   },
   "outputs": [
    {
     "name": "stderr",
     "output_type": "stream",
     "text": [
      "/home/akim/.local/share/virtualenvs/DS-Unit-4-Sprint-1-NLP-2AapNZ9Q/lib/python3.7/site-packages/ipykernel/ipkernel.py:287: DeprecationWarning: `should_run_async` will not call `transform_cell` automatically in the future. Please pass the result to `transformed_cell` argument and any exception that happen during thetransform in `preprocessing_exc_tuple` in IPython 7.17 and above.\n",
      "  and should_run_async(code)\n"
     ]
    },
    {
     "name": "stdout",
     "output_type": "stream",
     "text": [
      "\n",
      "Perplexity:  -10.879445632491258\n",
      "\n",
      "Coherence Score:  0.5216363367119417\n"
     ]
    }
   ],
   "source": [
    "# Compute Perplexity\n",
    "print('\\nPerplexity: ', lda_multicore.log_perplexity(corpus))  # a measure of how good the model is. lower the better.\n",
    "\n",
    "# Compute Coherence Score\n",
    "coherence_model_lda = CoherenceModel(model=lda_multicore, \n",
    "                                     texts=df['lemmas'], \n",
    "                                     dictionary=id2word, \n",
    "                                     coherence='c_v')\n",
    "coherence_lda = coherence_model_lda.get_coherence()\n",
    "print('\\nCoherence Score: ', coherence_lda)"
   ]
  },
  {
   "cell_type": "markdown",
   "metadata": {},
   "source": [
    "# Part 3: Interpret LDA results & Select the appropriate number of topics"
   ]
  },
  {
   "cell_type": "code",
   "execution_count": 81,
   "metadata": {},
   "outputs": [
    {
     "name": "stderr",
     "output_type": "stream",
     "text": [
      "/home/akim/.local/share/virtualenvs/DS-Unit-4-Sprint-1-NLP-2AapNZ9Q/lib/python3.7/site-packages/ipykernel/ipkernel.py:287: DeprecationWarning: `should_run_async` will not call `transform_cell` automatically in the future. Please pass the result to `transformed_cell` argument and any exception that happen during thetransform in `preprocessing_exc_tuple` in IPython 7.17 and above.\n",
      "  and should_run_async(code)\n"
     ]
    },
    {
     "data": {
      "text/plain": [
       "['alt.atheism',\n",
       " 'comp.graphics',\n",
       " 'comp.os.ms-windows.misc',\n",
       " 'comp.sys.ibm.pc.hardware',\n",
       " 'comp.sys.mac.hardware',\n",
       " 'comp.windows.x',\n",
       " 'misc.forsale',\n",
       " 'rec.autos',\n",
       " 'rec.motorcycles',\n",
       " 'rec.sport.baseball',\n",
       " 'rec.sport.hockey',\n",
       " 'sci.crypt',\n",
       " 'sci.electronics',\n",
       " 'sci.med',\n",
       " 'sci.space',\n",
       " 'soc.religion.christian',\n",
       " 'talk.politics.guns',\n",
       " 'talk.politics.mideast',\n",
       " 'talk.politics.misc',\n",
       " 'talk.religion.misc']"
      ]
     },
     "execution_count": 81,
     "metadata": {},
     "output_type": "execute_result"
    }
   ],
   "source": [
    "data['target_names']"
   ]
  },
  {
   "cell_type": "code",
   "execution_count": 80,
   "metadata": {
    "colab": {},
    "colab_type": "code",
    "id": "CYXi480VLaHK"
   },
   "outputs": [
    {
     "name": "stderr",
     "output_type": "stream",
     "text": [
      "/home/akim/.local/share/virtualenvs/DS-Unit-4-Sprint-1-NLP-2AapNZ9Q/lib/python3.7/site-packages/ipykernel/ipkernel.py:287: DeprecationWarning: `should_run_async` will not call `transform_cell` automatically in the future. Please pass the result to `transformed_cell` argument and any exception that happen during thetransform in `preprocessing_exc_tuple` in IPython 7.17 and above.\n",
      "  and should_run_async(code)\n"
     ]
    },
    {
     "data": {
      "text/html": [
       "\n",
       "<link rel=\"stylesheet\" type=\"text/css\" href=\"https://cdn.rawgit.com/bmabey/pyLDAvis/files/ldavis.v1.0.0.css\">\n",
       "\n",
       "\n",
       "<div id=\"ldavis_el1641403177884296481354774762\"></div>\n",
       "<script type=\"text/javascript\">\n",
       "\n",
       "var ldavis_el1641403177884296481354774762_data = {\"mdsDat\": {\"x\": [-0.2535343435974217, -0.23954080524149604, -0.21895889872135535, -0.20857893651646028, -0.18015133014809834, -0.18779277442743622, -0.2039629717407351, -0.1613741085646826, -0.024477964821401046, -0.0992000091397848, -0.023186950532903212, 0.04214585606102527, 0.23947112409033167, 0.12330103853328214, 0.1481449034695154, 0.23215131520165785, 0.21680739670103982, 0.25047897705481237, 0.2633566230150638, 0.2849018593250453], \"y\": [-0.08113476845413232, 0.06541635622062052, 0.10427173926745761, -0.08686482775555453, -0.01634801025459983, -0.12847750894492907, -0.007798673204106833, -0.006651779144152445, 0.33781526794665984, -0.014804689116109507, -0.10935754962166802, 0.06315379568640546, 0.024628180351585375, -0.013774631934039154, 0.004980793030646815, -0.02850637942509924, -0.036679073966226786, -0.018753207205644027, -0.026556898540940097, -0.024558134936173384], \"topics\": [1, 2, 3, 4, 5, 6, 7, 8, 9, 10, 11, 12, 13, 14, 15, 16, 17, 18, 19, 20], \"cluster\": [1, 1, 1, 1, 1, 1, 1, 1, 1, 1, 1, 1, 1, 1, 1, 1, 1, 1, 1, 1], \"Freq\": [18.786488104031886, 16.457097877467962, 14.207381833310631, 7.622657047607302, 7.241427499186659, 7.068712651459437, 6.83353039507847, 4.857024915449474, 4.846527277474571, 3.416130209397782, 2.5213000309306235, 1.663680073446278, 1.1132114466028484, 0.9555347548525609, 0.7532880027845532, 0.5954260198484816, 0.4182691686432589, 0.3198921644097441, 0.21261064226634446, 0.10980988575112101]}, \"tinfo\": {\"Term\": [\" \", \"maxaxaxaxaxaxaxaxaxaxaxaxaxaxax\", \"x\", \"1\", \"2\", \"  \", \"0\", \"X\", \"file\", \"not\", \"3\", \"game\", \"car\", \"4\", \"key\", \"God\", \"system\", \"team\", \"program\", \"Organization\", \"M\", \"5\", \"Subject\", \"people\", \"write\", \"gun\", \"7\", \"year\", \"government\", \"Israel\", \"God\", \"Jesus\", \"atheist\", \"faith\", \"Christianity\", \"god\", \"atheism\", \"scripture\", \"eternal\", \"worship\", \"doctrine\", \"marriage\", \"Bible\", \"revelation\", \"prayer\", \"Christians\", \"verse\", \"bible\", \"contradiction\", \"prophet\", \"Satan\", \"Quran\", \"clh\", \"Testament\", \"sin\", \"belief\", \"prophecy\", \"arrogance\", \"follower\", \"theist\", \"Christ\", \"church\", \"christian\", \"interpretation\", \"religion\", \"Islam\", \"heaven\", \"evidence\", \"truth\", \"Lord\", \"argument\", \"religious\", \"evil\", \"existence\", \"Christian\", \"believe\", \"conclusion\", \"life\", \"human\", \"claim\", \"people\", \"word\", \"think\", \"reason\", \"not\", \"man\", \" \", \"true\", \"say\", \"thing\", \"write\", \"mean\", \"know\", \"  \", \"way\", \"article\", \"question\", \"right\", \"point\", \"fact\", \"like\", \"time\", \"good\", \"come\", \"Organization\", \"Subject\", \"be\", \"Lines\", \"have\", \"s\", \"motherboard\", \"floppy\", \"menu\", \"font\", \"cache\", \"ATI\", \"cpu\", \"swap\", \"24bit\", \"VESA\", \"VLB\", \"Xt\", \"Maxtor\", \"animation\", \"breaker\", \"MB\", \"EISA\", \"MHz\", \"R5\", \"LC\", \"Mouse\", \"Motif\", \"bitmap\", \"configure\", \"W4WG\", \"dos\", \"CMOS\", \"SIMM\", \"keyboard\", \"RAM\", \"Windows\", \"mb\", \"ram\", \"interface\", \"X11R5\", \"Diamond\", \"vga\", \"graphic\", \"disk\", \"RIPEM\", \"connector\", \"Mac\", \"meg\", \"bio\", \"window\", \"motif\", \"card\", \"port\", \"pc\", \"screen\", \"mouse\", \"widget\", \"color\", \"display\", \"format\", \"software\", \"server\", \"mode\", \"image\", \"file\", \"drive\", \"memory\", \"application\", \"video\", \"driver\", \"monitor\", \"machine\", \"use\", \"problem\", \"run\", \"program\", \" \", \"system\", \"version\", \"thank\", \"work\", \"set\", \"Organization\", \"need\", \"Subject\", \"line\", \"not\", \"Lines\", \"know\", \"help\", \"University\", \"like\", \"  \", \"write\", \"have\", \"try\", \"be\", \"Alomar\", \"pixmap\", \"catcher\", \"SGI\", \"Reds\", \"Yankees\", \"Privacy\", \"Face\", \"width\", \"S3\", \"xfree86\", \"Nyx\", \"Sound\", \"Daker\", \"scroll\", \"2419760\", \"cview\", \"MathCS\", \"authorization\", \"emulate\", \"Edition\", \"SALE\", \"Hz\", \"Snyder\", \"parking\", \"Orchid\", \"XV\", \"Orlando\", \"SE30\", \"User\", \"Video\", \"NETCOM\", \"Sparc\", \"Sale\", \"Silicon\", \"leather\", \"Communication\", \"Morgan\", \"Desktop\", \"sale\", \"shipping\", \"  \", \"XNewsreader\", \"Linux\", \" \", \"408\", \"Andre\", \"TIN\", \"Distribution\", \"Organization\", \"   \", \"Subject\", \"Lines\", \"usa\", \"email\", \"Denver\", \"write\", \"offer\", \"University\", \"sell\", \"article\", \"guest\", \"    \", \"Institute\", \"NNTPPostingHost\", \"line\", \"ReplyTo\", \"State\", \"nntppostinghost\", \"internet\", \"NntpPostingHost\", \"Computer\", \"Inc\", \"11\", \"John\", \"Technology\", \"list\", \"not\", \"good\", \"like\", \"thank\", \"know\", \"be\", \"new\", \"want\", \"look\", \"encryption\", \"DES\", \"NSA\", \"escrow\", \"privacy\", \"MR\", \"crypto\", \"enforcement\", \"wiretap\", \"RSA\", \"cipher\", \"encrypt\", \"cryptography\", \"Senate\", \"keyescrow\", \"decrypt\", \"Sternlight\", \"Attorney\", \"scicrypt\", \"cellular\", \"vat\", \"Senator\", \"plaintext\", \"Kratz\", \"80bit\", \"restraint\", \"semiauto\", \"Glock\", \"Clintons\", \"cryptosystem\", \"PGP\", \"Clipper\", \"clipper\", \"patent\", \"Chip\", \"secure\", \"Q\", \"security\", \"key\", \"President\", \"Amendment\", \"House\", \"tap\", \"federal\", \"secret\", \"Clinton\", \"government\", \"agency\", \"tax\", \"private\", \"law\", \"chip\", \"public\", \"protect\", \"algorithm\", \" \", \"system\", \"not\", \"use\", \"right\", \"number\", \"s\", \"people\", \"know\", \"information\", \"need\", \"work\", \"think\", \"state\", \"write\", \"Subject\", \"Organization\", \"MSG\", \"diet\", \"CDC\", \"gonorrhea\", \"HIV\", \"egg\", \"Newsletter\", \"SSTO\", \"Digest\", \"newsletter\", \"hicnet\", \"Associate\", \"clinical\", \"Cancer\", \"Dillon\", \"laboratory\", \"Onur\", \"Yalcin\", \"pyronskndivdsegticom\", \"Pyron\", \"glutamate\", \"nsmcaacad3alaskaedu\", \"Mohammad\", \"SSF\", \"msg\", \"TIDSEG\", \"Disease\", \"MMWR\", \"Lyme\", \"706\", \"Medical\", \"physician\", \"sensitivity\", \"Water\", \"Programs\", \"therapy\", \"cancer\", \"seizure\", \"patient\", \"Health\", \"password\", \"Page\", \"disease\", \"research\", \"food\", \"diagnose\", \"researcher\", \"chemical\", \"doctor\", \"Space\", \"medical\", \"NASA\", \"Dr\", \"treatment\", \"material\", \"study\", \"health\", \"billion\", \"report\", \"space\", \"1993\", \"increase\", \"scientific\", \"Center\", \"develop\", \"year\", \"program\", \" \", \"1992\", \"information\", \"age\", \"April\", \"use\", \"include\", \"University\", \"Organization\", \"list\", \"Subject\", \"send\", \"cost\", \"Research\", \"article\", \"work\", \"1\", \"Lines\", \"write\", \"high\", \"available\", \"not\", \"Azerbaijan\", \"homicide\", \"Sumgait\", \"apartment\", \"shameful\", \"shout\", \"gebcadredslpittedu\", \"azerbaijani\", \"Baku\", \"SDPA\", \"azeri\", \"Manes\", \"chastity\", \"N3JXP\", \"Azerbaijanis\", \"ARMENIA\", \"Mamma\", \"iranian\", \"Cyprus\", \"corpse\", \"dbdurartusdpaorg\", \"Davidian\", \"Karina\", \"Azeris\", \"balcony\", \"pistol\", \"Lyuda\", \"Crary\", \"1923\", \"Marina\", \"Firearms\", \"gun\", \"Greece\", \"surrender\", \"selfdefense\", \"BATF\", \"skepticism\", \"handgun\", \"turkish\", \"Armenians\", \"knife\", \"Banks\", \"weapon\", \"Armenia\", \"shoot\", \"fire\", \"kill\", \"armenian\", \"building\", \"firearm\", \"Turkey\", \"crime\", \"Gordon\", \"Turks\", \"Gun\", \"greek\", \"daughter\", \"arm\", \"burn\", \"say\", \"woman\", \"people\", \"not\", \"go\", \"happen\", \"come\", \"child\", \"tell\", \"know\", \" \", \"time\", \"like\", \"start\", \"take\", \"s\", \"year\", \"live\", \"think\", \"   \", \"want\", \"see\", \"right\", \"write\", \"tire\", \"helmet\", \"Toyota\", \"lane\", \"automotive\", \"brake\", \"DeskJet\", \"SHO\", \"odometer\", \"valve\", \"Yamaha\", \"sedan\", \"convertible\", \"dealership\", \"steam\", \"mph\", \"Nissan\", \"pedal\", \"suspension\", \"torque\", \"BJ200\", \"Divine\", \"Integra\", \"carb\", \"compartment\", \"Mustang\", \"Boyle\", \"jimfcenterlinecom\", \"CONVEX\", \"Honda\", \"car\", \"bike\", \"aftermarket\", \"fluid\", \"ride\", \"rear\", \"engine\", \"drain\", \"wheel\", \"oil\", \"BMW\", \"motorcycle\", \"dealer\", \"280\", \"Ford\", \"plastic\", \"Duo\", \"gear\", \"mile\", \"repair\", \"auto\", \"buy\", \"cool\", \"rider\", \"road\", \"insurance\", \"light\", \"not\", \"price\", \"DoD\", \"water\", \" \", \"speed\", \"drive\", \"get\", \"like\", \"article\", \"good\", \"write\", \"Organization\", \"Subject\", \"go\", \"be\", \"look\", \"time\", \"  \", \"have\", \"Lines\", \"think\", \"thing\", \"know\", \"line\", \"s\", \"problem\", \"University\", \"work\", \"Braves\", \"hitter\", \"puck\", \"pitching\", \"pitcher\", \"player\", \"Mets\", \"Lopez\", \"hockey\", \"Phillies\", \"inning\", \"Hawks\", \"Jays\", \"Habs\", \"Dodgers\", \"Giants\", \"rookie\", \"Keller\", \"homer\", \"flyer\", \"Fame\", \"AAA\", \"ESPN\", \"Clemens\", \"Cherry\", \"9192\", \"Stephenson\", \"Callison\", \"bench\", \"Cardinals\", \"coach\", \"Sox\", \"baseball\", \"league\", \"rbi\", \"team\", \"Cup\", \"score\", \"game\", \"Stanley\", \"Baseball\", \"season\", \"playoff\", \"fan\", \"Pens\", \"stat\", \"win\", \"NHL\", \"Wings\", \"play\", \"Gerald\", \"Roger\", \"Leafs\", \"pitch\", \"goal\", \"year\", \"hit\", \"not\", \"good\", \"Toronto\", \"think\", \"point\", \" \", \"get\", \"s\", \"run\", \"Organization\", \"go\", \"time\", \"Subject\", \"University\", \"write\", \"like\", \"line\", \"article\", \"Lines\", \"pts\", \"DET\", \"CHI\", \"NYI\", \"VAN\", \"TOR\", \"CAL\", \"QUE\", \"04\", \"Devils\", \"STL\", \"Pts\", \"Jagr\", \"SJ\", \"BUF\", \"BOS\", \"Scorer\", \"MON\", \"IHL\", \"Bulletin\", \"Persians\", \"prong\", \"LED\", \"Flames\", \"253\", \"Shanahan\", \"168\", \"Vernon\", \"Coffey\", \"Yzerman\", \"0\", \"captain\", \"TB\", \"550\", \"00\", \"Winnipeg\", \"03\", \"1\", \"Tampa\", \"Selanne\", \"Hartford\", \"LA\", \"2\", \"7\", \"3\", \"25\", \"4\", \"pp\", \"6\", \"5\", \"1st\", \"9\", \"8\", \"Calgary\", \"vs\", \"34\", \"10\", \"p\", \"37\", \"36\", \" \", \"38\", \"period\", \"o\", \"12\", \"15\", \"35\", \"33\", \"14\", \"13\", \"11\", \"16\", \"28\", \"20\", \"New\", \"orbit\", \"detector\", \"radar\", \"spacecraft\", \"Zoology\", \"Jupiter\", \"Baalke\", \"henryzootorontoedu\", \"Venus\", \"Titan\", \"resistor\", \"steering\", \"Magellan\", \"IR\", \"comet\", \"baalkekelvinjplnasagov\", \"ham\", \"billboard\", \"Orbit\", \"utzoohenry\", \"payload\", \"vandalize\", \"Spacecraft\", \"countersteere\", \"trajectory\", \"egreeneastsuncom\", \"flyby\", \"Medin\", \"dtmedincatbyteb30ingrcom\", \"Jet\", \"Propulsion\", \"Henry\", \"receiver\", \"Mars\", \"launch\", \"JPL\", \"Rockefeller\", \"satellite\", \"probe\", \"circuit\", \"mission\", \"solar\", \"orbital\", \"wire\", \"Moon\", \"antenna\", \"ground\", \"lunar\", \"Spencer\", \"rocket\", \"voltage\", \"Space\", \"space\", \"km\", \"surface\", \"NASA\", \"Earth\", \" \", \"wave\", \"signal\", \"project\", \"power\", \"vehicle\", \"radio\", \"work\", \"Organization\", \"write\", \"build\", \"system\", \"Subject\", \"like\", \"time\", \"article\", \"not\", \"israeli\", \"arab\", \"palestinian\", \"Israelis\", \"Palestine\", \"Palestinians\", \"israels\", \"Lebanon\", \"Yassin\", \"lebanese\", \"Ottoman\", \"Shai\", \"Arabs\", \"cprigcapcorg\", \"Guday\", \"History\", \"Andi\", \"citizenship\", \"Istanbul\", \"Dir\", \"Beyer\", \"Wtte\", \"occupied\", \"Arab\", \"zionist\", \"cpr\", \"collaborator\", \"Basil\", \"IDF\", \"Deir\", \"Israel\", \"Elias\", \"Nazi\", \"Nazis\", \"guerilla\", \"territory\", \"Hernlem\", \"Thinking\", \"Jews\", \"village\", \"Holocaust\", \"Syria\", \"inhabitant\", \"Policy\", \"occupy\", \"occupation\", \"Gaza\", \"jewish\", \"war\", \"german\", \"civilian\", \"peace\", \"Jerusalem\", \"attack\", \"land\", \"soldier\", \"population\", \"Serdar\", \" \", \"state\", \"Argic\", \"armenian\", \"Research\", \"University\", \"Center\", \"force\", \"world\", \"write\", \"article\", \"Subject\", \"DB\", \"X\", \"x\", \"Keenan\", \"wasgo\", \"Gehrels\", \"uart\", \"UART\", \"retaliation\", \"Temporary\", \"preprocessor\", \"hernlemchessncsuedu\", \"char\", \"printf\", \"newline\", \"rite\", \"domino\", \"ore\", \"Maxim\", \"Mohney\", \"Lebanese\", \"DoD0721\", \"CollieGolden\", \"Doright\", \"Studley\", \"cjacksonmvusadobecom\", \"Dating\", \"Aided\", \"unpack\", \"SYSMGRCADLABENGUMDEDU\", \"entry\", \"syrian\", \"shelling\", \"UTC\", \"Comet\", \"int\", \"rs6000\", \"Hezbollah\", \"Hizbollah\", \"contest\", \"divorce\", \"filename\", \"obfuscate\", \"ANSI\", \"db\", \"GL\", \"echo\", \"section\", \"remark\", \"n\", \"file\", \" \", \"stream\", \"output\", \"guideline\", \"y\", \"rule\", \"program\", \"buffer\", \"build\", \"info\", \"c\", \"author\", \"0\", \"byte\", \"return\", \"line\", \"source\", \"use\", \"C\", \"number\", \"s\", \"title\", \"bit\", \"include\", \"write\", \"maxaxaxaxaxaxaxaxaxaxaxaxaxaxax\", \"MAXAXAXAXAXAXAXAXAXAXAXAXAXAXAX\", \"scsi2\", \"SCSI1\", \"ESDI\", \"asynchronous\", \"CPU\", \"oscillator\", \"decimal\", \"SCSI2\", \"GRUBB\", \"wlsmithvalveheartrriuwoca\", \"rag\", \"Dane\", \"RecArtsComicsInfo\", \"ericsnetcomcom\", \"10mbs\", \"Fly\", \"bgrubbdantenmsuedu\", \"pwisemansalmonusdedu\", \"ericsinfoservcom\", \"702623610\", \"Pure\", \"Cruces\", \"Ingres\", \"formatting\", \"386SX\", \"romanbmp\", \"XGA2\", \"5mbs\", \"ide\", \"Askew\", \"interleave\", \"controler\", \"synchronous\", \"Seagate\", \"bottleneck\", \"SCSI\", \"MFM\", \"Hanover\", \"polygon\", \"t\", \"T\", \"IDE\", \"g\", \"M\", \"mp\", \"16bit\", \"Dartmouth\", \"VRAM\", \"p\", \"m\", \"K\", \"controller\", \"G\", \"Quadra\", \"burst\", \"8bit\", \"SI\", \"chip\", \" \", \"14\", \"keith\", \"Cramer\", \"punishercaltechedu\", \"jon\", \"LDS\", \"solntzewpdsgicom\", \"PISGA\", \"Homeopathy\", \"keithccocaltechedu\", \"uunetpyramidoptilinkcramer\", \"Optilink\", \"motorcycling\", \"crameroptilinkCOM\", \"aa888freenetcarletonca\", \"Percentage\", \"b64635studentcwruedu\", \"Saddam\", \"Merrill\", \"fixture\", \"Petaluma\", \"sasghmtheseusunxsascom\", \"Wisdom\", \"instinctive\", \"Memphis\", \"Kinsey\", \"gaybi\", \"Clayton\", \"Schneider\", \"Pink\", \"chaos\", \"liveseysolntzewpdsgicom\", \"Livesey\", \"promiscuous\", \"Allan\", \"Political\", \"methodology\", \"sgi\", \"Keith\", \"homosexual\", \"Gay\", \"Atheists\", \"morality\", \"motto\", \"heterosexual\", \"sexual\", \"Pasadena\", \"gay\", \"Jon\", \"moral\", \"man\", \"Institute\", \"system\", \"objective\", \"male\", \" \", \"NNTPPostingHost\", \"Ryan\", \"Technology\", \"M\", \"California\", \"Organization\", \"write\", \"Subject\", \"  \", \"not\", \"Lines\", \"article\", \"Blues\", \"Canadiens\", \"loser\", \"RANCH\", \"holland\", \"SURVIVORS\", \"occupant\", \"craig\", \"douglas\", \"Mode\", \"Champs\", \"AHL\", \"Breton\", \"Carderock\", \"Rauser\", \"ver\", \"Kovalev\", \"nonlethal\", \"hispanic\", \"219\", \"Blackhawks\", \"Dog\", \"frankd012s658uucp\", \"Thor\", \"DIVIDIAN\", \"BURNS\", \"hollandCSColoStateEDU\", \"Cache\", \"amino\", \"Stony\", \"s1\", \"disguise\", \"championship\", \"Stars\", \"Fraser\", \"Expos\", \"Senators\", \"Europeans\", \"dog\", \"Militia\", \"militia\", \"acid\", \"ATF\", \"Hockey\", \" \", \"trial\", \"  \", \"witness\", \"canadian\", \"audio\", \"new\", \"Rangers\", \"   \", \"GM\", \"Americans\", \"outlet\", \"C650\", \"Candida\", \"sinus\", \"Virgin\", \"candida\", \"0333\", \"hernia\", \"Netware\", \"386bsd\", \"Kingman\", \"bloom\", \"yeast\", \"Anas\", \"IIfx\", \"Ft\", \"Omran\", \"packaging\", \"adb\", \"F1\", \"antifungal\", \"systemic\", \"Chicogo\", \"Olde\", \"Albicans\", \"GI\", \"7135201569\", \"Krehbiel\", \"Lauderdale\", \"0273\", \"disc\", \"wiring\", \"110v\", \"MOA\", \"SE\", \"Turpin\", \"NT\", \"neutral\", \"os\", \"antibiotic\", \"hypothesis\", \"infection\", \"Ye\", \"symptom\", \"AC\", \"JPEG\", \"injector\", \"Gazans\", \"Portable\", \"Pettefar\", \"jpeg\", \"modifier\", \"Aiken\", \"arabs\", \"Paradise\", \"Sega\", \"0700\", \"npetbnrca\", \"Maidenhead\", \"Isreal\", \"grammar\", \"Kay\", \"assailant\", \"Arafat\", \"adamdasharvardedu\", \"Panther\", \"Analyst\", \"Zbib\", \"JEWS\", \"Libraries\", \"SNES\", \"Biker\", \"K100RS\", \"CapsLock\", \"Trent\", \"Computation\", \"ghetto\", \"Shostack\", \"Adam\", \"Rider\", \"manually\", \"cleaning\", \"expose\", \"Nick\", \"Warsaw\", \"Apr\", \"Gaza\", \"93\", \"BNR\", \"Genesis\", \"event\", \"Harvard\", \"right\", \" \", \"purchase\", \"PT\", \"Tyre\", \"cub\", \"JB\", \"MailtoNews\", \"UTexas\", \"Mayhew\", \"SPSS\", \"libXmulibXmua\", \"PS2\", \"OKeefe\", \"je\", \"Hitachi\", \"QuickDraw\", \"suis\", \"ceux\", \"aucun\", \"xrdb\", \"Symbol\", \"qui\", \"RoseMail\", \"Thx\", \"analgesic\", \"pas\", \"Ville\", \"wtmuhuraneoucomedu\", \"aeweosvcrwimseybcca\", \"Mistake\", \"NEOUCOM\", \"Rootstown\", \"placebo\", \"cica\", \"csutexasedu\", \"costly\", \"Kendig\", \"Ezekiel\", \"NuBus\", \"suck\", \"Doug\", \"Gateway\", \"Brian\", \"undefined\", \"PDS\", \"Memorial\", \"ne\", \"de\", \"build\", \"K\", \"Gainey\", \"BeHanna\", \"behannasylnjneccom\", \"cb360\", \"Cobra\", \"Jubilees\", \"FXWG\", \"Glide\", \"FAN\", \"Azerbadjan\", \"plugger\", \"militant\", \"Spence\", \"Jarvis\", \"Selke\", \"Henrik\", \"Lurie\", \"arc\", \"Liberalizer\", \"NagarnoKarabagh\", \"Hilmi\", \"flattery\", \"Eren\", \"Weaver\", \"Higher\", \"Nystrom\", \"Fizuli\", \"Butch\", \"Cashman\", \"042293\", \"Baby\", \"ZX11\", \"HGA\", \"Allegheny\", \"1975\", \"Cooper\", \"Bike\", \"Wide\", \"Bob\", \"Chris\", \"plane\", \"NEC\", \"dog\", \"Lady\", \"1983\", \"114\", \"Doug\", \"technical\", \"hd\", \"corn\", \"Slick\", \"Resurrection\", \"Tesla\", \"Rolla\", \"Liverpool\", \"RC2\", \"furnish\", \"Kincy\", \"Ishtar\", \"Mau\", \"Thessaloniki\", \"Konstantinople\", \"WINDOWS\", \"mauherkycsuiowaedu\", \"Dong\", \"disapproval\", \"lcd\", \"Osinski\", \"1993apr151746576176newsuiowaedu\", \"Solun\", \"aesthetically\", \"cpk\", \"Duffey\", \"lakesorry\", \"involment\", \"next4csumredu\", \"ARGUMENTUM\", \"InterNews\", \"Actix\", \"Napoleon\", \"argumentum\", \"projector\", \"Chan\", \"DC1\", \"Easter\", \"fallacy\", \"goddess\", \"Aegean\", \"whore\", \"ET\", \"celebrate\", \"wireless\", \"inference\"], \"Freq\": [85684.0, 3202.0, 3433.0, 6303.0, 4777.0, 12967.0, 2761.0, 1687.0, 2849.0, 16293.0, 2948.0, 1858.0, 1821.0, 2570.0, 2008.0, 2512.0, 3169.0, 1526.0, 2294.0, 12038.0, 1172.0, 2255.0, 11117.0, 5963.0, 10901.0, 1326.0, 1557.0, 3840.0, 1759.0, 844.0, 2511.076880624613, 1238.1671044944658, 583.0915171760569, 611.8105321517459, 351.77064251446734, 684.3923104936075, 231.92812013544352, 260.7557508183396, 209.38325181737804, 212.47003259176205, 195.50548395388532, 196.31191998577592, 715.3085262434251, 174.859391390021, 166.37878463132077, 640.0492897788504, 142.95971492408492, 146.96037721985564, 134.41850063977037, 133.76943938637754, 131.91352285584085, 128.50220170294617, 119.49596240391828, 117.85822321377883, 436.4075356277195, 629.2610917086195, 113.32864201627544, 105.80254283716133, 103.94226724565127, 101.30391389811325, 535.5928483746247, 453.19228031430475, 379.1468716740684, 234.7562437884448, 730.0155883914294, 267.50956481909515, 191.66654574577146, 914.6254677928449, 652.2617208178531, 247.04202797429724, 768.0801180360011, 424.61544679049933, 291.12982420629055, 361.7635216210619, 446.8615975342097, 1882.6242533252496, 307.2493976423285, 1043.2717135441978, 776.6230973986964, 1006.9313046604643, 3204.838734257435, 854.3055036773892, 2634.9242975867955, 950.6034212442322, 5020.480193893502, 855.8431697496117, 15714.58589488466, 873.4755421315139, 1836.1722272445145, 1501.8773819822206, 2965.5445032075963, 1176.1387785500133, 2152.8718350336007, 2700.328857656442, 1338.977927656431, 1912.3830457443978, 1199.7256867324459, 1271.5172170540854, 1141.1981060776352, 929.2827566808758, 1532.221439285885, 1365.8258425267834, 1377.2668270434535, 1197.7275009836974, 1664.5373317498309, 1558.2411520749229, 1047.5814693446944, 1112.1979267932556, 1014.2738746952404, 991.5236721761556, 252.67504134374596, 314.7957199319725, 189.0798827263541, 442.2795629300852, 216.52554963138272, 163.88821348447732, 231.6122442216378, 161.10190565355597, 125.50932696688972, 120.88363942750735, 126.68243052910262, 154.03251362255125, 106.293768799525, 103.27502375980215, 101.22223988679737, 156.47043473402886, 98.7235377565163, 156.96206475962802, 110.26652382602127, 114.19717208629378, 96.92693114168122, 102.82964369004303, 87.46062276241129, 98.80405231761571, 76.58796205952169, 78.34135990512164, 75.14085270980064, 98.88812062486022, 364.2154464802337, 72.08500690202955, 1085.1072720177337, 570.4279906279636, 385.38104596077903, 436.68835844225293, 171.1837980405527, 157.38854846767342, 274.9842465849682, 543.5003334795341, 1036.644972519847, 263.2894318370102, 191.5134129111044, 643.2029026710425, 186.65749216894318, 196.10849210328047, 1413.3080299446651, 336.7738971368443, 1458.4322683519713, 511.01393394748226, 616.7868141143242, 540.645171817052, 397.6321415776678, 394.90761425665323, 772.8973466245739, 741.5366303546115, 584.4688416471674, 955.9342719697206, 704.5879899778738, 591.6577283923004, 940.1611747286073, 2062.7168668453664, 1947.2392526864921, 667.2976432410325, 733.8139982749965, 555.2126265078115, 909.0681512211502, 550.0694332287111, 783.4331104843783, 2362.308191431346, 1726.50295809146, 1432.8715391558644, 1267.1920667610877, 12147.821840357217, 1509.6032058251278, 1022.0968925797054, 1149.2362613961977, 1626.7438364973546, 954.4584422004328, 2543.856233824249, 1389.8509817839006, 2277.5419147756934, 1669.9210320647899, 2242.7026277598757, 1633.8711477563968, 1452.8368950465456, 993.659884268062, 1280.7981306076956, 1281.1905461916388, 1397.980586138399, 1322.5442599390167, 1016.6811884784223, 975.1022902397359, 967.0399336969059, 112.3985096298872, 107.15236499369588, 102.7635332626897, 110.62680976600008, 70.7433593953303, 80.36624098958974, 68.58455304880978, 62.18678690765336, 61.59198588668574, 62.60556842063369, 59.12375616164344, 64.51885087651158, 53.5097755560426, 53.56033760681293, 52.70788842281844, 110.25259454135188, 49.70244797063371, 52.03348683373683, 47.158581665559254, 46.51007321537126, 45.58872069993757, 101.60724347036496, 46.49225923730304, 45.22013249465018, 75.1069985992899, 43.57948760789465, 48.693707033291766, 42.164683106311195, 41.83433355814811, 40.40753015682672, 112.01667617326034, 79.56673962407622, 52.691943972152536, 123.47990284269193, 85.2013624671488, 73.14017464857643, 132.49785404364812, 59.08908325007741, 57.7395462731902, 669.2285661976663, 164.79346424008722, 6915.7491587714, 491.84214237225564, 106.83739940672109, 32680.90812702544, 170.67441483371107, 85.8106882779344, 220.03545465129108, 1097.5838884435195, 4559.3829561526045, 1414.3992086922415, 4151.28384162563, 2978.6940713094996, 512.740435036914, 998.3215559508288, 164.81983674498142, 3476.1647080148814, 490.4902417522424, 2103.7867524341427, 557.1165109400109, 2384.1910242478502, 181.41398321378466, 615.4140834870616, 438.0309930990705, 906.5932050184866, 1849.8064325488, 766.8149171544962, 474.0854817279815, 591.4670230586264, 416.05077874593337, 610.3923337631791, 608.8828471016168, 544.4900399838151, 606.0329646040555, 564.8537436846112, 393.9407963290047, 547.8583457487264, 1832.2182727411655, 1019.1705845403492, 1006.937754194118, 641.2707020662932, 925.4032908862196, 648.3202437213032, 602.2611064152597, 622.6192052212797, 616.7190799876321, 814.8950628422778, 307.51847557879717, 276.96793831688063, 265.6052515867952, 323.1812117671077, 416.7843584066888, 228.41710273763638, 341.71656699566665, 186.7068002583509, 170.935362334658, 137.20973095024323, 314.20844379688464, 130.02599918545755, 143.0645096117798, 114.37638380941144, 108.03597682132612, 86.1260009083735, 81.08926294924001, 75.98026555899293, 80.94764839226075, 82.2352052536792, 74.04758099153888, 72.92279975585423, 72.21324712059997, 71.14109157946196, 85.51218746900274, 67.05437798192689, 66.52122034388235, 85.99739637272276, 66.27239972915523, 247.73160313646358, 328.0117282263629, 434.1851511426518, 127.20998639980947, 204.35242513534914, 323.53343197957116, 800.2440694804933, 442.16023090792993, 1745.6309757390832, 582.390154425024, 165.3475898286107, 279.7790525604349, 194.44214426564469, 269.2652143265675, 349.41590394879694, 388.05918094990426, 1235.261070624343, 315.3037229890701, 276.87936887727676, 395.46143992209005, 877.497196274623, 722.91275594018, 595.14510336458, 367.24637558868545, 318.842100590344, 4151.471342725153, 650.0699314127602, 1210.1524258604627, 735.060950405709, 565.1048058442558, 494.3885658493699, 502.5882346689689, 543.5086769117581, 561.116901934256, 407.05998472740384, 442.19074589712875, 442.09495921941556, 458.0530640428026, 391.4858179786972, 428.6598172426155, 413.18688175475705, 394.2356806619821, 209.9614332488738, 117.00728643725566, 92.93978018884691, 88.67826849281748, 75.55262572550438, 71.75259761859658, 101.61498753943944, 58.76842962397853, 59.93147201497747, 57.169622229153795, 55.34356884279737, 52.71456333100763, 51.772835343174876, 56.36677535370416, 50.31824673847664, 48.92321458882477, 45.14694290680291, 45.14683389789125, 45.115127340310075, 43.80605811482227, 50.55869408510319, 43.78381277898761, 42.651172597557895, 42.698144161699496, 117.79304522607055, 40.637142740363366, 40.90852230540551, 39.928393109244446, 39.87969995608422, 39.51804973540343, 167.24822330379726, 104.22944975884249, 101.10042036926727, 60.390989684761216, 79.28751161037525, 70.5398697174485, 93.30249418614838, 90.05902047504186, 299.190971084741, 193.901984775985, 70.7583235764156, 111.85997584293115, 267.25388596790077, 328.59808716549895, 356.08448125851544, 77.06682716916882, 70.91156755264196, 99.39714484779216, 239.16764214651388, 395.91372136528497, 190.0487828737549, 306.49544023727, 247.46758068032406, 180.97247535324456, 221.90503600313517, 345.744752934007, 216.881138532522, 175.55599544353504, 416.9689505274346, 425.5483578393177, 477.2981208825005, 281.16579873823514, 180.60837055258744, 356.9692727641097, 235.30182528195513, 663.6823398961893, 468.06805817155737, 2643.606781881697, 210.77918051486898, 383.14259813225885, 190.12618671888964, 243.87948845125166, 489.8901988575886, 357.39941441166496, 489.8994307847278, 606.5131349080423, 299.84075441250775, 528.0419346531706, 306.92597281333605, 263.07735611583047, 260.6847834155758, 356.8223738583275, 319.9693025755617, 321.85811878253855, 313.3564160300292, 310.23605472839495, 269.5357958281803, 270.9032036160463, 284.5130188618183, 151.01223081432948, 118.85874946063139, 113.47215979080244, 155.95996797222003, 90.26197614339715, 103.27191557450462, 86.45904514275948, 80.27078514539984, 75.80914607179363, 75.35304063338968, 63.73509901205147, 64.53872873191152, 89.09676148401722, 87.84456301460058, 58.936998518174576, 57.294759889174145, 82.03323286073339, 52.48621297214806, 75.1894277046148, 49.8123652895661, 49.22226163304306, 110.44379052119874, 46.117127481562264, 45.102360395755504, 45.75142928586035, 53.323581666668005, 44.33219445500349, 44.27836253578267, 43.973581627443856, 42.5259209307153, 46.75323282653677, 1252.2240075638615, 140.1040368676476, 138.7144094088985, 63.96933812725961, 179.0064286126297, 97.1640200168406, 207.89680989879662, 552.1743122182055, 491.77169190694997, 121.14145620142206, 257.3182910957532, 515.5180298748886, 242.44142504072423, 351.0619019290627, 503.3814804014046, 837.1556124387621, 388.10055197997696, 236.54958367620043, 293.766921883447, 238.55007187463204, 401.0521205998947, 264.84441243391717, 236.48440269242028, 151.1325830023496, 191.94449430413542, 138.51597506962634, 280.38830847540333, 215.1579656210671, 1156.0646054208746, 337.48781895515907, 1249.4176293727705, 1996.0078093677196, 856.7805337592409, 474.1103899194995, 676.2263026231923, 365.9130683888205, 510.84073288973696, 756.5876894828175, 1850.090703110317, 598.0890241981784, 617.8259024077082, 412.36778008850507, 408.5952967237269, 494.4592736822075, 457.749038333627, 352.6219011193407, 486.2005010609231, 389.83473894676996, 408.0864124477473, 360.96424512581854, 361.95958707493696, 360.8763880285639, 198.89148348298306, 202.70153881899404, 75.53880302160478, 77.18640372178874, 70.69553518656954, 173.92330943094373, 63.67018254374115, 63.83418351422924, 59.73346400199004, 61.1699853720303, 53.502551583962074, 52.48536176053792, 53.72993381803715, 49.470158123839106, 53.08131874132613, 156.35920774347719, 47.269003600742415, 46.43650553079845, 56.279334118649686, 41.974036073230806, 40.19511470149692, 39.87313944324038, 39.3193124863845, 40.10210017867522, 44.50826147762523, 37.684815121083595, 37.1497847455881, 37.16071010331409, 35.59338595205767, 153.06061522558133, 1753.5707675951044, 689.9238542729826, 51.02212292478593, 74.11295870570584, 442.82923846210304, 122.69305844147773, 394.79376071458347, 78.09488978303338, 153.6049534383083, 268.07757408388545, 197.0525613236079, 202.13519381427616, 306.0919448169465, 79.4149993381868, 130.6441790750446, 106.56495313932953, 87.83536408608482, 113.1682464433044, 244.45981681310693, 105.21969397824195, 116.66567337742508, 651.4478091377291, 156.7589481372619, 140.68398689662368, 247.4564863608063, 218.33871955667433, 294.74378993573976, 2022.7287886142087, 373.62981041150914, 221.54278644707597, 197.08898391228664, 4294.415434761195, 317.4080614413412, 595.2124673198969, 663.4691646977244, 872.2842499246556, 926.3678354439666, 740.677731288043, 1030.836049264752, 1076.6387811788152, 945.1790312439139, 574.7419792681211, 585.4286817772888, 547.5017990386933, 603.3499007746325, 832.6114098887897, 532.5186783206167, 678.6623928147703, 582.6240147500415, 463.7740573045018, 521.6794748441257, 501.3371965747033, 447.0823241482909, 410.1772886989293, 439.5555188690041, 409.90421151088475, 160.37920394715687, 129.6132723123501, 114.39718581873764, 103.83842164921411, 128.5166137048869, 920.9580511888116, 86.03476018063401, 82.96865830348298, 423.99774815053934, 106.80480436917253, 80.06765577123487, 79.05707149696737, 81.10271601582059, 60.92361473323024, 56.69907940057966, 56.31302567920914, 58.72250695914817, 59.367247583951915, 56.69090057407448, 98.6575838347302, 53.0609840811096, 52.24270812080911, 141.00121418255895, 46.3957548075662, 43.98408511165722, 43.72698657465381, 42.49786324937862, 44.68204357550884, 42.115997268706344, 41.4840921573853, 166.54001846692773, 111.18215063723584, 311.2434576332557, 304.29528735301767, 51.192268455236466, 1413.945360670149, 197.14475360005906, 414.3324930433245, 1705.4067077796014, 158.08484645756292, 96.53884420550764, 553.1592285410578, 270.89176989165367, 427.79925864225345, 160.9896106449114, 211.1525117625439, 848.5692041706553, 354.4308483983252, 177.62259058796664, 1015.0346047124143, 130.80100734665456, 212.26015278932167, 165.34333815628528, 157.0834696661551, 308.0443565403829, 1024.4257128162792, 332.5874315584276, 1429.7314841420337, 783.6656675773964, 228.01148347274406, 707.1118514889234, 454.0949018819048, 1658.7244267953993, 472.60724706956245, 496.8747430332539, 414.2952597172368, 589.7400637842572, 419.005820050106, 443.8651766425717, 531.3831382680512, 449.13068699384655, 506.2684328628714, 406.6654129896609, 377.77868524159703, 366.0232004219662, 355.757088985308, 128.2375888943435, 125.44946454663192, 119.9136593274813, 116.38231691965895, 114.150297917997, 111.07898873182168, 108.95760311611153, 96.06747526448252, 94.29068940032178, 109.45494013635083, 87.52909162376011, 85.05713885629413, 81.26770387377657, 82.30045656919802, 80.6850722765564, 129.7377812305552, 57.45696194151477, 52.693930017561364, 43.43045190487619, 40.74476708878577, 39.51590529518084, 38.63344202679632, 37.91957039308014, 37.01014061423496, 36.066081297513975, 33.99957966279175, 33.924748162311104, 33.007972342739635, 31.27011797866086, 31.05503747872501, 2618.249510674395, 113.12087609857609, 90.63383032677477, 286.57347648313606, 159.5815144561646, 138.58615772685758, 69.01605262349176, 4584.872604581752, 69.03325544078162, 79.51372092507579, 83.77534028564723, 296.91929809767987, 2911.820483409032, 1052.6258890829356, 1835.1143935821526, 1047.4289979810737, 1507.8855930876082, 170.92719259197338, 993.0278028149098, 1187.834417788401, 216.18504256900056, 559.3353498416207, 740.6291140974223, 125.84283999598999, 392.92776352268436, 295.0876383156007, 693.1827075158521, 405.3210373814095, 235.36006046940247, 232.4893686365413, 4731.655595307838, 236.07258616757463, 269.86632574398794, 363.07969311412563, 435.4032552908166, 425.08430207180595, 275.73647644687964, 254.8233450583596, 368.5990049623853, 330.58718892707543, 387.4492674842683, 368.4949930761566, 264.3449610295527, 288.43908906166797, 278.3100662161751, 349.1212016665748, 185.144921965834, 193.18952694160657, 138.31765339851515, 85.3310539383189, 79.88118606081576, 75.13314905571292, 71.51872644661411, 71.15067415407093, 69.60879685351676, 60.724996617951724, 60.601201272854375, 57.3166879741031, 50.68441247427812, 50.55838281223207, 48.26942440126418, 45.78120393035546, 44.86563049626586, 44.28182475677952, 42.73230112711204, 74.55772377805164, 36.653600703803995, 33.86795363514005, 33.76088729487923, 32.437033223565315, 32.644966561188006, 31.25406524873888, 30.024829180400154, 30.024775982377566, 85.91284169948173, 94.29000524712674, 151.4941510311773, 103.09002923672003, 138.82469439140687, 454.13557361397875, 79.13986097644607, 45.14063944730246, 274.14359653583983, 144.99977899204, 239.13322600522483, 234.6451570969055, 100.2766411725438, 62.789271407251356, 301.2693391842092, 106.4592727993148, 74.93152145703435, 378.30274288597803, 131.8904101708144, 132.77406479135112, 156.45632071680174, 110.43635696800122, 262.277798876773, 337.96644168435085, 86.86549770185009, 127.75736358603903, 170.41010529710314, 135.84146277378102, 1404.8456632467535, 108.07631535925111, 123.23096372917757, 140.52989671437615, 188.0231477799406, 121.3468032582219, 123.50536622275668, 182.07888585278235, 194.6283986842908, 179.8099121656334, 137.82384807364338, 151.2857850163042, 165.4586745189718, 157.79278271946905, 154.5765579490467, 149.64762638793528, 152.69156049586897, 650.5835095142229, 260.88148309835327, 129.0221048394991, 133.82686204049335, 107.94384349152139, 97.04470599337519, 64.20764217795558, 142.64453732843543, 53.111319694951426, 143.0371483071538, 85.52377041270091, 50.54192594625903, 156.98832364930365, 64.75162061412051, 46.225084578476284, 39.88047734174382, 39.966277886248925, 56.97551928113346, 59.94335590131574, 37.181407740361365, 42.74711701110052, 35.40250768700599, 38.501362961041615, 41.262732777798725, 33.583213661814916, 31.186310967815988, 29.783439738462867, 29.6740891314509, 37.01587674082025, 28.84612264575617, 818.6645643732442, 45.97409331542661, 137.4662562950827, 100.17904995780405, 48.3337221525735, 144.4465189035409, 52.05643813548546, 43.375108207765656, 522.5321478314755, 226.54610446914265, 85.58042981617136, 63.46950987534804, 79.83416221357454, 128.9423953248321, 101.33373331600978, 74.15070524784721, 83.91084895927442, 250.72557164757822, 280.2408333151199, 111.1247902471998, 148.7936348098314, 174.43239442439295, 84.35673747186682, 229.7503997362761, 167.87761917401141, 128.32236146839378, 138.93828047557162, 110.94874456486552, 761.1478203144716, 191.04627379957938, 109.6448820177756, 129.68144376858416, 139.52514478748543, 174.5134231823081, 130.4301143119, 121.51774667525854, 123.76383159649762, 128.4176820281637, 126.15797539687843, 124.33155641112897, 406.1139242431745, 1679.9410471899635, 3393.139611907175, 44.815200302971675, 37.231038038836424, 36.46122340747658, 30.065090185114702, 27.96818541893615, 26.32148949497185, 24.88650710301129, 23.230942068309744, 23.131785928423774, 143.1647813585924, 20.78393455324119, 17.68795684728835, 25.272421369335774, 15.672798165254507, 14.468600915961888, 13.27230296130545, 12.191455438783311, 29.957589999664634, 12.074312362340832, 12.07431754390504, 12.074320998281179, 12.074289908895928, 12.074264864668919, 11.482444736224622, 11.409718891773252, 11.37108342184503, 11.229282144927327, 519.6792756833368, 32.301304759420596, 31.6808746241979, 23.24182508033611, 56.741199025778485, 153.85327055580876, 16.13161876718363, 61.30413628361191, 27.429846805472074, 103.6495647327581, 31.769489735295284, 63.33804531932901, 47.70344219104499, 45.70125469141362, 38.61453986319537, 50.11233066541813, 77.82029620260472, 181.19302723157205, 94.14982308755201, 154.89690667496606, 426.73809735435657, 3054.260117275731, 78.03926219731258, 126.87659644727833, 48.92260897933657, 65.67104114992522, 147.93426612891346, 251.20261972846052, 61.615873003912554, 124.22098261154319, 102.63903535451834, 96.88980660610953, 82.32707566754412, 137.20585816103318, 67.26232024467735, 87.5222570269961, 145.6484363501211, 98.66063035506966, 115.76830382662442, 82.57527950189369, 90.69633126870264, 85.93108847228042, 68.79164164899785, 71.9859447173752, 72.59179393091458, 72.83942433882504, 3201.1820205759236, 334.1022629891049, 158.79929611005815, 130.77556350937115, 72.59435014004933, 48.4214309057581, 39.35104111410778, 33.9871632011797, 31.598859165259963, 27.36127944245026, 26.362645192219496, 24.463371339706175, 21.041079998070067, 18.79588476093006, 17.927824519031265, 17.362160607079733, 15.91679733515829, 15.435235325813595, 15.392859043188857, 15.544631016336682, 14.340996428247381, 14.340827695128684, 13.763554713469636, 13.5204958116949, 13.070855565853574, 33.66856733613136, 12.91263244018137, 12.637543138511779, 14.730818472098527, 12.384421502048804, 52.71181022624402, 32.90204513767338, 54.03976760732951, 23.250406734718037, 33.05058575602756, 45.57163947879328, 21.329192953949118, 459.9294249976786, 51.563731595338396, 32.877167404022416, 115.61641370405124, 296.6948239980631, 310.4607282624253, 235.19577202181551, 283.80322541240406, 451.9289418633135, 27.270921701682468, 60.48060660875189, 35.0690892039063, 69.77611411769318, 200.7982175161919, 132.55184709824348, 153.9350762556017, 88.96351518789909, 73.1832472155977, 50.250544140670236, 40.16641039472185, 42.44526442192275, 36.370839789104515, 46.47421373340938, 53.03329535702344, 39.66185676439544, 48.86360384430135, 100.69416053707342, 32.02794831724103, 33.20040561751424, 28.15632745555992, 27.023221230832217, 26.17451451825895, 26.557172678007987, 25.823572920659274, 26.27708245979753, 27.229624903426046, 23.141769544338768, 27.32531622764887, 21.869563596585163, 21.619719780849813, 21.530899121879287, 20.969726674881947, 20.77795119024804, 20.514181530040876, 27.823785670131723, 19.208144053588974, 18.784843220523925, 17.600898437775744, 17.219254112835806, 17.517942545333025, 16.990559962589774, 121.81084365874652, 78.9280834838206, 16.853628774683934, 16.422853141925543, 39.06415434246996, 67.31102061931877, 26.832346491801697, 79.2297896124913, 52.508421327895086, 57.37641959655565, 29.2372340837563, 174.8765765284755, 107.89937143616507, 35.395758751495826, 48.60807779198425, 87.29651011265553, 44.11367070640423, 27.585998750942206, 66.97530836808833, 57.5503626990678, 59.1784147447109, 68.32106197997787, 75.15027706235172, 100.81639211225783, 82.28419017729478, 123.51419724322467, 60.935936074704, 50.05417922574234, 288.58365404409193, 98.66603856204391, 49.783046863036965, 66.5630843251196, 61.21951221808001, 55.37967293203722, 90.00390537782657, 88.30429762528497, 88.03668491610476, 70.65598504999856, 68.3976848769007, 65.12418488814635, 54.39289223537407, 49.775899885180586, 40.394400683046676, 39.999841009543694, 26.43815394414809, 24.740332991065536, 25.19050377203377, 23.06369915826773, 22.946170545213203, 21.831469318272664, 21.71495423348807, 21.60533364347796, 68.26604646902659, 20.9343106730481, 20.26139672163313, 20.14270599205922, 19.758957286768858, 19.753448572931347, 19.60717517199899, 19.408911524627452, 19.371945896337937, 18.58880918148088, 19.064111709735055, 18.353343728707543, 16.552092841313023, 31.949858315687415, 32.497554603160516, 15.507187425356287, 14.975228979630204, 16.2908950319086, 14.325604281207996, 44.13137013132756, 23.16947678692101, 19.918240762005702, 47.58704794661786, 29.797368267895376, 23.41305672220116, 29.760036643286163, 43.64508302122193, 91.1311378808188, 27.587332337221568, 50.65888008323394, 34.92602777322068, 39.74810436141215, 46.74713018734198, 214.3810491992999, 41.38200264958127, 108.81913940248599, 36.65952085477911, 31.85442712145637, 32.840561974538495, 58.08853968145957, 30.608478675819963, 37.192095550718705, 28.398192491252345, 26.598907661011076, 126.47886469428535, 56.501647960450136, 34.29444217615913, 33.83720009065171, 31.655643361804337, 30.7491754292101, 30.545634184821658, 26.90201397838577, 26.55405186611618, 22.643608617050475, 21.06845732934328, 21.043221755832885, 51.62459520966485, 19.658603251585443, 18.924950534158913, 19.287727357254244, 18.58150961003, 18.234804825717497, 17.246464691252857, 16.30483484673382, 15.954171395638037, 15.019063089932802, 14.529815393655392, 14.273667893709398, 14.389236979354017, 14.027508547711596, 13.720158004824862, 13.661968570256294, 13.353329791645582, 13.274812936948761, 45.896411792125285, 96.98291514334103, 14.697963536022696, 25.72322636589799, 45.514208819384216, 19.56742039401708, 79.70461792481277, 62.55429369693744, 23.729146260520285, 20.23563766000534, 23.31480415545626, 23.73620064923527, 17.986289071571996, 20.25270245626068, 19.000914407310614, 108.38518285566695, 23.798580193959047, 24.97797168931996, 22.969729924623696, 19.871709046862737, 25.325636537126375, 17.003577834826135, 15.960062208396181, 15.356564708705223, 14.556782186650986, 14.252419337035082, 13.362905452063849, 13.368574835220441, 12.745878031999649, 12.250017175945578, 12.172972447396148, 12.279291619487607, 11.714690361131554, 11.306576410195335, 10.767180805539303, 9.212508799747392, 8.970774048717772, 7.911878657226532, 7.4834667860795525, 7.301958809428498, 7.322840342611261, 7.127791589690907, 6.999939096417447, 6.738737552579157, 6.820899316293818, 11.829696855483334, 19.832243956574466, 20.62419981180775, 42.42898266212758, 16.749876412455418, 14.264082043286592, 15.00366992441459, 32.814973323321645, 31.095927418742708, 12.568408448681645, 34.802012220311866, 19.11083753016204, 27.063444903977825, 14.769424004720644, 15.290058884047527, 22.40105292865216, 15.257965381417522, 16.346945500532456, 16.537590667776417, 13.765250145599756, 56.14608793545201, 40.29534445864288, 23.17767405623589, 20.90997589857627, 17.204795755859134, 17.20478778537579, 12.245108029010673, 10.673668787189296, 10.428773693770983, 10.27747133683293, 9.721627761889422, 9.78523620423, 8.998170900047775, 10.34748671936958, 8.854148251232152, 8.562837048049994, 8.562801180874938, 8.256235136776004, 7.821261949149617, 7.869272155582607, 7.496042981400844, 7.413910471557849, 6.712732439081401, 6.7458863287649, 6.309289155156822, 6.132066122171517, 5.976001401434391, 6.005569902026203, 5.840696468778157, 5.840657280568374, 12.763663690242032, 10.686353147227077, 19.170178793870875, 16.674033299383794, 13.982850077426763, 9.425902239347622, 18.52561776142691, 22.16880348468098, 28.053561449601265, 22.184416333141368, 26.91603266429351, 12.671798556026959, 13.407365238898548, 14.138686310974645, 9.482429571442466, 12.954690936175192, 11.182917580700627, 9.61797229018518, 32.525530052136986, 20.846046641823825, 12.24937230560528, 8.250490156515944, 8.059791141545212, 8.041464647477211, 8.041431097023166, 8.041412555982774, 7.7887590959937, 7.157609278884592, 6.879449527662176, 6.454020941321846, 6.6470848218493135, 6.034490613093058, 5.998725387629184, 10.1374701091063, 6.000088154098036, 5.143744157821211, 5.175901385115364, 4.9604434594204445, 4.792618349400655, 4.415418982201413, 4.395158481039133, 22.10577790049433, 4.145543544407723, 4.021107559079883, 3.883660619383247, 3.6852480901558726, 3.678213751866944, 3.517661806394472, 8.40327980713741, 8.467821168743853, 7.978671441107778, 5.72249346315425, 9.63415502661032, 9.412238197058658, 8.753325820681772, 7.8023205426808175, 17.98543251288676, 15.169897833490765, 12.161257335499746, 12.142184785282618, 10.08226901732427, 7.999817939128817, 8.274709169802033, 7.834407137440142, 8.846128142379877, 8.66001317891953, 7.939522475772266, 7.408659821786396, 8.663012343965237, 7.013523849332777, 5.694840871810895, 4.629756001120277, 6.791678402635285, 3.2358585907018154, 2.993525445951415, 2.9618252265907836, 2.8589355176738587, 2.801271643527546, 2.637541745635468, 2.5942819838509363, 5.4054553573610296, 2.3374441772563403, 2.3257968535382676, 2.2810646460452695, 4.726939697912692, 1.9139591697594722, 1.878666985442015, 1.7989036574804593, 1.7764432743439862, 1.7450472114675755, 1.7278898445141888, 1.5970487475061605, 1.5969837665481375, 1.574402427628397, 1.5733260237588287, 1.555012223755993, 1.5491833178196426, 7.783009657966355, 1.8127509856334951, 5.125581687145574, 2.4519481494039224, 2.183567216627452, 10.23714390360019, 7.100917537789772, 3.325952522968871, 2.648260183658853, 2.352228371221716, 2.639891548278927, 2.8105183198525485, 2.1675458764226616, 2.2241889795196084], \"Total\": [85684.0, 3202.0, 3433.0, 6303.0, 4777.0, 12967.0, 2761.0, 1687.0, 2849.0, 16293.0, 2948.0, 1858.0, 1821.0, 2570.0, 2008.0, 2512.0, 3169.0, 1526.0, 2294.0, 12038.0, 1172.0, 2255.0, 11117.0, 5963.0, 10901.0, 1326.0, 1557.0, 3840.0, 1759.0, 844.0, 2512.974106213927, 1239.134266571574, 583.956447785202, 612.7252314171255, 352.64907683415464, 686.6779882465363, 232.80240778027573, 261.7543534646678, 210.24272143108976, 213.35511427462126, 196.36402672080578, 197.2276237059103, 718.7033745974176, 175.7031641449132, 167.26129240484414, 643.6678987644622, 143.82757437817773, 147.87765206625173, 135.2699468746983, 134.6198985557707, 132.77650415649362, 129.34624170598246, 120.35505332611926, 118.7082183327947, 439.6505002363111, 633.9682076937602, 114.1875592951498, 106.6553488587095, 104.80073944269651, 102.14684285441275, 543.8866260041098, 460.2927572798061, 385.1870904376092, 237.9828163484478, 749.7708233027317, 272.5666551738206, 194.3362596504077, 971.3392478778981, 689.3290400853277, 253.58040753654078, 856.4905983570369, 456.12357504177913, 306.7700942989817, 391.13194310935637, 496.87592558853106, 2570.057750282292, 327.96642397994543, 1339.393704038926, 965.6168678803422, 1393.0145499332598, 5963.0070586113015, 1258.5592318689548, 6087.340442774113, 1536.44012663467, 16293.081072471427, 1370.8018373884993, 85684.08536936891, 1419.9564376327853, 4537.51794971912, 3497.777485642037, 10901.00751417671, 2402.6167859507214, 6990.645909558678, 12967.86688797221, 3465.7378555573778, 7493.828770089636, 2808.6668061543, 3424.6135675223245, 2657.9320368485683, 1695.7354472333077, 6436.684266208119, 4894.584416082213, 5200.358420310409, 3534.0389240285617, 12038.047867916988, 11117.061183159982, 4147.713107872914, 7607.659031224262, 3791.788898726818, 4033.6509061357247, 253.61512124847542, 316.2073427729625, 190.00547752239243, 444.45257937118527, 217.63673917312155, 164.8221355413423, 232.98218776022676, 162.11084916184834, 126.36540577551085, 121.75641748752719, 127.6266107727957, 155.1975457723982, 107.13163726381902, 104.1247837470306, 102.05771827342845, 157.7970710352439, 99.57471397398496, 158.32182724743106, 111.23558599985306, 115.20662964283694, 97.79104609249016, 103.78106451402591, 88.30492249800933, 99.81626091221877, 77.42393829504734, 79.20318378264209, 75.97965214441352, 99.99748228144064, 368.3061843627577, 72.93904644396484, 1101.0461186780985, 581.656138623067, 392.7248135718082, 446.0938885524058, 173.464786622497, 159.3625963835564, 280.42256828440895, 560.0402324233722, 1085.386764445495, 268.59607487119877, 194.60021368943003, 670.4169023820444, 189.87404552417996, 199.6914669994774, 1519.7992912245538, 349.55279879799366, 1592.263328928099, 538.1692052216666, 658.0125024387778, 579.4429097894285, 422.8735449709864, 420.03478849161127, 876.3399088350498, 843.9744522743574, 654.0540924758415, 1121.296627016666, 809.5351571852498, 680.233111784958, 1159.6572494741383, 2849.3214393600574, 2734.258206730494, 789.6361889645573, 890.3689167466972, 647.0354333223625, 1182.1822898828798, 656.0611231966274, 1066.3773680768895, 5015.0413651216195, 3423.7644760962553, 2736.6196559626924, 2294.4253180988917, 85684.08536936891, 3169.1117905265464, 1713.303578176827, 2187.2618725855236, 4192.6901810417585, 1689.187307926293, 12038.047867916988, 3684.901906083906, 11117.061183159982, 6513.037982974301, 16293.081072471427, 7607.659031224262, 6990.645909558678, 2297.5051461667904, 5903.604470915831, 6436.684266208119, 12967.86688797221, 10901.00751417671, 3791.788898726818, 3096.5069233042605, 4147.713107872914, 113.24734324922504, 108.01871756035116, 103.59965068982719, 111.53536856557524, 71.57710213834513, 81.32745328534145, 69.41900518102209, 63.02019448941334, 62.428839363640236, 63.48141825489866, 59.95719518469117, 65.45645459265816, 54.34318335323785, 54.404349687331404, 53.54314513878536, 112.06486714875125, 50.538572035107805, 52.9354480767474, 47.99588987074532, 47.34375351556061, 46.422031082955314, 103.46958309447899, 47.34989894996925, 46.06984555642818, 76.54236790894397, 44.42932268899461, 49.65562263341698, 42.99802521460734, 42.69424728766582, 41.24101672535619, 114.43055222742662, 81.34232598287053, 53.83314986202324, 128.36603001043778, 88.11759787168945, 75.38127637693232, 140.15422676134338, 60.799451226068314, 59.42856289638904, 806.6042055243075, 191.9153154028438, 12967.86688797221, 675.449976762276, 119.58207256538229, 85684.08536936891, 204.8406002965603, 94.07233928612948, 283.8730750955104, 2050.599009263182, 12038.047867916988, 2923.604274689216, 11117.061183159982, 7607.659031224262, 866.0942160950349, 2031.7367901285543, 212.09910531952093, 10901.00751417671, 875.2836672248958, 5903.604470915831, 1038.0856727218966, 7493.828770089636, 242.4852204166192, 1279.3536801315395, 829.4966669564554, 2345.779786259521, 6513.037982974301, 1858.6861726944671, 969.4743147254259, 1397.811820071357, 826.0818648824971, 1500.6130472589703, 1503.897128968828, 1266.6016260128729, 1573.74705410726, 1405.5895280313648, 804.552497352612, 1517.5010336432917, 16293.081072471427, 5200.358420310409, 6436.684266208119, 2187.2618725855236, 6990.645909558678, 4147.713107872914, 2872.573750765676, 3822.8112710757828, 3563.274394931212, 815.8337957568433, 308.3767548636704, 277.8302223435317, 266.4600192003786, 324.24041771813063, 418.20198124638944, 229.28810586514328, 343.08157776073335, 187.5580232314505, 171.83670190543145, 138.06011881509653, 316.15917752602536, 130.9020306524476, 144.1177449096509, 115.23117862200031, 108.88570007614742, 86.97159051883679, 81.96209317543958, 76.82522689426777, 81.85082378188159, 83.1728668727971, 74.89410324932427, 73.7630815136898, 73.06625149850798, 71.98434161749996, 86.55534129128347, 67.89938830078461, 67.36244472354123, 87.09856596315794, 67.12336723185811, 250.95594822150034, 333.91939704593136, 445.69299275071046, 129.214018828034, 209.89201861358785, 340.33272041856617, 887.9339724569837, 479.39862986049826, 2008.569717531947, 642.6668295940425, 176.14080591006277, 310.89807936445567, 210.14402280476043, 303.72591430414934, 407.1821524144706, 459.4870307280158, 1759.9426765918074, 390.8630572065322, 345.3052454037652, 568.6315779546894, 1681.5147779053116, 1411.9311003822838, 1104.7360201753092, 612.7578699447834, 478.86767876360517, 85684.08536936891, 3169.1117905265464, 16293.081072471427, 5015.0413651216195, 3424.6135675223245, 2395.400071975875, 4033.6509061357247, 5963.0070586113015, 6990.645909558678, 1820.5194188620246, 3684.901906083906, 4192.6901810417585, 6087.340442774113, 1760.2063195577214, 10901.00751417671, 11117.061183159982, 12038.047867916988, 211.02878638446634, 117.88816925785333, 93.78940681419394, 89.5237130879537, 76.39801922697961, 72.59324234261616, 103.07066250929905, 59.61210691038654, 60.79231782810666, 58.0286472105264, 56.189225740004495, 53.56232740568937, 52.616309735561536, 57.293419486021826, 51.160376588612365, 49.76852588039835, 45.98717010993442, 45.987162917242394, 45.95727793197758, 44.64773260738484, 51.53895145536162, 44.64258759957375, 43.505281473648225, 43.554628133660216, 120.15904104403614, 41.47883694872897, 41.76262374025057, 40.77449768414547, 40.728822615855016, 40.367397455783404, 171.40895124258384, 106.91932035941782, 103.67790107181325, 61.693941192160075, 81.2832485004731, 72.31841299139485, 96.9239907112011, 93.7971308801582, 324.28936662121384, 208.42556793621, 73.5779299191105, 123.13649127979528, 323.70899507953914, 427.1089211533372, 476.00648489630083, 83.77336865338587, 76.2284858087274, 114.07428578361605, 345.0419439660639, 660.5942115427268, 263.4625468693147, 486.7821882717036, 382.17621162911865, 266.1423121109774, 356.4666552419475, 702.6697668279427, 365.6683838421374, 274.22089093304794, 1001.2884933955689, 1039.8830677406993, 1330.336625126916, 599.9706241835659, 300.8534797472757, 985.5427865561837, 514.7254757164211, 3840.1596614035616, 2294.4253180988917, 85684.08536936891, 473.6758777298784, 1820.5194188620246, 390.51926864013393, 748.7300113289358, 5015.0413651216195, 2230.2652861132083, 5903.604470915831, 12038.047867916988, 1517.5010336432917, 11117.061183159982, 1711.4929294462668, 966.7491784592762, 947.1847315640922, 7493.828770089636, 4192.6901810417585, 6303.675887011073, 7607.659031224262, 10901.00751417671, 1494.0993359853505, 1663.7706937439182, 16293.081072471427, 151.85766491982923, 119.71609727246403, 114.31799730840774, 157.156693199766, 91.10915630630058, 104.25906277081441, 87.30394934377381, 81.1105004780904, 76.65010872174275, 76.19313589156529, 64.57340127715533, 65.38926683319819, 90.33232621789367, 89.07912359905929, 59.77683905385093, 58.16029228620256, 83.33350321539461, 53.35792881093456, 76.45696573469063, 50.65369338822545, 50.06212419855384, 112.3951225824834, 46.959280961846005, 45.93998111400517, 46.60133520794904, 54.325074350241074, 45.17101628076879, 45.121528558727746, 44.81854938985882, 43.36450154228217, 47.706412775439816, 1326.8796218131054, 145.31808421511133, 144.60697452550852, 65.64408870004306, 191.60355675304933, 102.82220806119956, 232.229766487458, 658.4354261177979, 588.0551856886528, 131.07326259470054, 301.63158362686295, 656.4983989557595, 287.7612251111855, 453.1647837069139, 691.2522028760693, 1249.4125146753609, 518.6058859673353, 293.7483388995861, 403.98111004697233, 312.6904901000025, 603.2486894934881, 377.65063429637985, 331.16162355554394, 188.23820951326144, 262.5063182141756, 167.37318070507206, 475.2862130227702, 323.25412503375395, 4537.51794971912, 686.061404453879, 5963.0070586113015, 16293.081072471427, 3833.841464038197, 1461.839390981719, 3534.0389240285617, 1184.6409100680814, 2608.1291098758556, 6990.645909558678, 85684.08536936891, 4894.584416082213, 6436.684266208119, 1902.5020078202215, 1979.7619019119504, 4033.6509061357247, 3840.1596614035616, 1313.808561549787, 6087.340442774113, 2923.604274689216, 3822.8112710757828, 1913.0940322218567, 3424.6135675223245, 10901.00751417671, 199.77240023542143, 204.99520140365632, 76.43748037750156, 78.12971590381237, 71.57825778171407, 176.19663713366114, 64.51153983686557, 64.70172882822077, 60.58035823324038, 62.075299191007595, 54.34121836374069, 53.33921866397086, 54.63266442372353, 50.315172526060245, 54.01337080574836, 159.14472042862621, 48.13649493111293, 47.310408372716665, 57.37613794613902, 42.81743953955895, 41.036021478496586, 40.71105631701641, 40.16396559243507, 40.97616025612519, 45.48410391244696, 38.529997860390175, 37.991354599763845, 38.00733637458135, 36.43148390206243, 156.72965423515745, 1821.038442349501, 722.4653487984694, 52.378970831125805, 76.69781535947588, 485.52526744747246, 129.49735515101324, 438.6886369255652, 81.5045011298213, 164.9851959009916, 295.734546074532, 222.36722804629014, 239.77268637700521, 382.0240595208974, 85.43388233977467, 149.6950161987329, 120.02040933104246, 97.96083295045733, 133.83583483467615, 341.5934941591788, 122.762863694787, 142.39052667793706, 1463.1045450963015, 215.43348052126564, 189.0104503299134, 432.1317590095862, 391.5232995978308, 683.1421136627467, 16293.081072471427, 1026.588852980381, 438.22739223819076, 366.9812834030258, 85684.08536936891, 871.0634549077442, 2734.258206730494, 3337.550109747596, 6436.684266208119, 7493.828770089636, 5200.358420310409, 10901.00751417671, 12038.047867916988, 11117.061183159982, 3833.841464038197, 4147.713107872914, 3563.274394931212, 4894.584416082213, 12967.86688797221, 3791.788898726818, 7607.659031224262, 6087.340442774113, 3497.777485642037, 6990.645909558678, 6513.037982974301, 4033.6509061357247, 3423.7644760962553, 5903.604470915831, 4192.6901810417585, 161.23801875247955, 130.56767516394356, 115.27002252785441, 104.68914597477493, 129.72274682521115, 930.0418885879293, 86.89393255141424, 83.8181593821788, 428.38183327501366, 107.91257317177387, 80.9231308163887, 79.92866716086796, 82.14712271024138, 61.81016738004715, 57.54356023287136, 57.15391850912208, 59.60077979265654, 60.25648567719032, 57.546097968470576, 100.22784567480798, 53.92856600633894, 53.100352600975995, 143.40573255060735, 47.26762203779492, 44.82521336938742, 44.57759322379706, 43.342922999728685, 45.57688423051161, 42.96654567743076, 42.32606622087111, 170.1363246997203, 113.5886099173659, 322.0201106148083, 314.82667505743115, 52.2431484685844, 1526.847785806466, 205.25582825397947, 438.3009122928259, 1858.9196108881188, 165.60681402097623, 100.13239774838361, 618.8685936879075, 295.0659810895169, 483.5752271663365, 172.38892030023712, 230.49495363950592, 1117.4564299384908, 426.44986620562463, 198.19399460392688, 1424.6699073220607, 143.09157880466026, 255.49906743471766, 195.92247410516578, 190.44473408643805, 531.8658670233572, 3840.1596614035616, 655.9503636901476, 16293.081072471427, 5200.358420310409, 452.5557119370942, 6087.340442774113, 2657.9320368485683, 85684.08536936891, 3337.550109747596, 4033.6509061357247, 2736.6196559626924, 12038.047867916988, 3833.841464038197, 4894.584416082213, 11117.061183159982, 5903.604470915831, 10901.00751417671, 6436.684266208119, 6513.037982974301, 7493.828770089636, 7607.659031224262, 129.07887351131345, 126.29133722532927, 120.75339999263545, 117.22368650265835, 114.99203007128257, 111.91994368898372, 109.79748206514888, 96.90728317402703, 95.13863976513277, 110.4849579273347, 88.36878302122406, 85.899428650627, 82.1088810482951, 83.15565748782194, 81.52485232651249, 131.6368917735551, 58.298298807487214, 53.53370873601213, 44.27128948395592, 41.60421389917603, 40.35546616812825, 39.47297928150796, 38.762156622688394, 37.85404530848272, 36.911483010651345, 34.8402633146652, 34.768508997503076, 33.848330642964626, 32.110352803288826, 31.89569724129133, 2761.263328173669, 117.85751615847016, 94.3450672399165, 307.09385583885444, 171.68365664440398, 150.8159233868991, 72.84223691176008, 6303.675887011073, 73.30575363509679, 85.38173230542185, 90.39602403546527, 366.9606069597001, 4777.215572334112, 1557.2817124496255, 2948.105075403942, 1621.1620077841337, 2570.954983203052, 208.15681538612935, 1686.93084422719, 2255.521558259746, 280.3503257107153, 1052.4548331250176, 1711.3498029997015, 146.91932116768908, 786.7844534186726, 518.684560261779, 1895.0602654145914, 875.428120730746, 385.73971692208795, 398.9953100308343, 85684.08536936891, 420.6993361574747, 547.273953103847, 948.2979143909282, 1433.8114499508274, 1416.8933260693088, 596.9221681515959, 523.7534172652596, 1146.9092362743731, 973.1946782661848, 1573.74705410726, 1384.7747657473583, 598.3850135736258, 1431.1341376053674, 1422.3878632279004, 350.31347153485757, 186.00149976371304, 194.13479498387744, 139.16631711136958, 86.17747883794972, 80.73602645374685, 75.97965784982128, 72.36909980665486, 72.00772650087482, 70.49363975476093, 61.5661829760217, 61.442614906673114, 58.1657414191982, 51.525342914462094, 51.4000369315064, 49.116942358184936, 46.62221224608434, 45.711608910230446, 45.12643883110288, 43.5762983835988, 76.14509850406324, 37.49788534098019, 34.709899958638154, 34.60503758849543, 33.28244687073805, 33.50438722863586, 32.09729651009812, 30.86678811659384, 30.866789514064813, 88.42901223292871, 97.28886155756028, 159.10006802133015, 107.71389933066403, 147.77468468408722, 501.7906352833283, 83.58930192512727, 46.69087276636845, 308.92782597563877, 161.0963274733734, 282.2126001792727, 276.5084038702872, 111.03963672756686, 66.18805950551767, 390.91331643444687, 122.49639320727005, 81.49272634315004, 563.5286767571223, 165.06703913012748, 169.46747075770836, 225.7137280075566, 144.8687624972644, 660.5942115427268, 1039.8830677406993, 102.28875981694954, 247.68768278364104, 486.7821882717036, 294.08073345442574, 85684.08536936891, 183.45053825639, 291.87419592364415, 463.28845569298124, 1520.4370669518412, 318.150128395304, 363.4537170461865, 4192.6901810417585, 12038.047867916988, 10901.00751417671, 1045.6243784177004, 3169.1117905265464, 11117.061183159982, 6436.684266208119, 4894.584416082213, 7493.828770089636, 16293.081072471427, 652.116213456215, 261.84754768005075, 129.91111379092976, 134.79289135919944, 108.82442940689086, 97.94404203791508, 65.10735132889256, 144.70190648992536, 53.95542858540926, 145.61889726231047, 87.07071967954153, 51.47037542869707, 159.88722427269965, 66.01303966209953, 47.17154949643412, 40.725362294671235, 40.84901535455006, 58.24580767580524, 61.28037802607964, 38.02466201180415, 43.729739712993684, 36.245753521563486, 39.44217933872794, 42.28676576439172, 34.45324618620071, 32.04047372516569, 30.633267594655567, 30.52114076242058, 38.080536598963675, 29.689371801691966, 844.6446660610211, 47.36662345678522, 144.57385665906963, 105.69542889396968, 50.24688840991123, 157.30217561498083, 54.702402495431556, 44.990237154387366, 724.3231779113834, 285.87459479521965, 96.07863754865662, 68.80745837607954, 89.84859843099112, 157.68752699052203, 127.68695834970644, 87.27692807641458, 103.84439508877342, 493.23546820731286, 631.3913052677109, 166.42721776576244, 265.4519903307868, 375.3974551158646, 114.54708692990205, 751.7579420867929, 448.2900570988729, 325.77949070274, 406.68090617339953, 240.06401744948047, 85684.08536936891, 1760.2063195577214, 238.9462449792975, 518.6058859673353, 947.1847315640922, 5903.604470915831, 985.5427865561837, 798.0163151066274, 2241.349902029998, 10901.00751417671, 7493.828770089636, 11117.061183159982, 406.9690372161928, 1687.8014900022215, 3433.614612813105, 45.653895028092016, 38.07229904670821, 37.3002960275731, 30.90431520524227, 28.807684316358888, 27.161608434254155, 25.72529438359612, 24.07171012151068, 23.972036047195363, 148.65874023058612, 21.755839024693348, 18.527512830934242, 26.52447040226894, 16.51665863809618, 15.307498465939496, 14.111434742133476, 13.030228972042469, 32.03214812405399, 12.91340248362529, 12.91341434613475, 12.91341917081957, 12.913398747861201, 12.913399892506789, 12.321585446059766, 12.2484884506501, 12.21020978084704, 12.068039453479134, 558.5992891486825, 34.85391050260737, 34.47852965125097, 25.135862125183863, 62.848918239917836, 178.01249644380374, 17.424101871115823, 71.15823980808561, 31.379917793331597, 143.67963577124118, 38.466077198057285, 85.25467293000861, 64.50770935746218, 62.37431038399639, 50.89356846903355, 72.5967861978285, 134.26454916526853, 528.1498677522628, 202.53733019775026, 450.82482671042237, 2849.3214393600574, 85684.08536936891, 186.38598420696223, 454.40970973202764, 83.49344311868, 147.32874266839787, 771.1486326063283, 2294.4253180988917, 149.48721485520142, 1045.6243784177004, 845.5010998627722, 723.2266917091481, 462.4621870517527, 2761.263328173669, 243.684369917924, 726.6802442798532, 6513.037982974301, 1242.0436058614905, 5015.0413651216195, 925.1645376108154, 2395.400071975875, 4033.6509061357247, 326.9611601732554, 1435.5641259977806, 2230.2652861132083, 10901.00751417671, 3202.0773969215243, 334.9487618160209, 159.63492394189174, 131.61461893831665, 73.49804791139724, 49.25413948607234, 40.182992324551904, 34.81862360994473, 32.431334441880054, 28.193519973170122, 27.195254237605084, 25.3000425600224, 21.87245742376651, 19.627399736575043, 18.760464512011307, 18.194428422753376, 16.74962298660888, 16.266869736712504, 16.224497120391526, 16.38472463814868, 15.172860497152724, 15.172852743444526, 14.595083487648091, 14.355150325101471, 13.90226420991149, 35.849736099287526, 13.755903175366056, 13.469371304177114, 15.714966263094142, 13.216241449865707, 56.96776202516168, 35.516145839202274, 59.1151423651547, 25.218876426164154, 36.651603370857444, 51.7091755885304, 23.256801770328885, 714.0624894739016, 64.0920748557287, 38.71157469644855, 166.20660329298974, 524.4841352869942, 565.4537972125098, 417.73918638472156, 529.2360781985261, 1172.4415113527493, 32.59836097506435, 106.59412671738947, 47.672941204219214, 145.4956431656725, 875.428120730746, 485.00463033570105, 850.5266501051306, 513.1737376894741, 426.811552356121, 183.31413786050783, 89.65400125583024, 120.80550627122432, 62.52075807547737, 1411.9311003822838, 85684.08536936891, 1146.9092362743731, 49.72038268675614, 103.30473352781529, 32.88576857740705, 34.16320004488686, 29.008655664248632, 27.890562469577667, 27.03144783302988, 27.42720937756287, 26.676506369630147, 27.164633783294683, 28.179229599100626, 23.99446268267646, 28.35829346180899, 22.72200934208683, 22.474552814479924, 22.385042047882525, 21.823127734386368, 21.63062522807629, 21.36664366756903, 28.982031561033214, 20.060657811703926, 19.636737948439706, 18.454773125539123, 18.07121609015883, 18.395276971605394, 17.844955742495298, 127.96670812928907, 82.96780255442808, 17.724038843882298, 17.27474799228467, 41.31168998936243, 71.65035885339002, 28.34523726774198, 87.12853005921666, 61.629546643168545, 69.7625400490056, 33.797710935658856, 312.83837998891846, 230.38947706846193, 49.474241377250706, 84.46799925500456, 255.26138144203335, 77.09952552488163, 34.620099556674184, 200.9845442954637, 150.18518289999508, 195.3696299335143, 285.9812757809213, 417.84403319432045, 1370.8018373884993, 829.4966669564554, 3169.1117905265464, 349.68009209455397, 203.99047863099662, 85684.08536936891, 2345.779786259521, 212.0826084064896, 804.552497352612, 1172.4415113527493, 665.3678595191238, 12038.047867916988, 10901.00751417671, 11117.061183159982, 12967.86688797221, 16293.081072471427, 7607.659031224262, 7493.828770089636, 50.71939330323681, 41.253067020809645, 40.85554286261822, 27.346653734432344, 25.633043408369396, 26.10271772023275, 23.91940090526356, 23.803692068279037, 22.688509028685946, 22.570656167043754, 22.461317931250115, 70.98981064701324, 21.79025559119992, 21.117774661624686, 21.009935962795154, 20.614658991095922, 20.609992259103528, 20.463659894683598, 20.265336957810433, 20.22764763538478, 19.450827551706393, 20.014964867993083, 19.270934614209835, 17.4077945985774, 33.603928599024734, 34.25388142349862, 16.363151609406565, 15.833727663417706, 17.25764451867886, 15.181401463706802, 46.902775364710294, 24.591414810800188, 21.117146921259565, 52.139339897457816, 33.07475298569702, 25.98662343737306, 35.251395106571586, 68.67319139227206, 218.9470333068268, 37.37756052539967, 192.46648401804333, 82.0172000431575, 131.72148140078485, 219.83261657739945, 85684.08536936891, 289.1922657315452, 12967.86688797221, 206.09123135830168, 122.81024634048083, 143.20730343947943, 2872.573750765676, 167.6791580783196, 2923.604274689216, 205.58575949160232, 265.77219391459766, 127.33729953113904, 57.357701900235476, 35.166123342607456, 34.70068980174375, 32.524234430872355, 31.611369696041137, 31.422023363276857, 27.758044581448452, 27.424029869882784, 23.49984901033564, 21.924450803264893, 21.919832253724703, 53.826548602933784, 20.51866879649305, 19.781894217929363, 20.171787734653265, 19.441837939929123, 19.109515211276502, 18.102508426681467, 17.161456454572907, 16.813642362010256, 15.877316620149097, 15.387284883563908, 15.131774627706198, 15.262236913570742, 14.890288934266902, 14.577269193059376, 14.519112139552686, 14.209424863647111, 14.140721764420569, 48.91995268234758, 105.12794832930683, 15.698665493585072, 29.00453900143552, 55.25534566728216, 21.976499073108773, 171.52226199527772, 138.8946595759731, 41.250481728001205, 35.707401995990324, 63.87202562364533, 87.82803875696557, 28.045091818645183, 111.67113130836051, 89.21949758795121, 109.452896241336, 24.6620111276323, 25.906729442852583, 23.860400122802307, 20.751945146178752, 26.561410405474287, 17.872995276900696, 16.826987812682628, 16.231899809078357, 15.419974199103311, 15.118387718811697, 14.226347334704831, 14.251483463652182, 13.61159334287529, 13.113228839907553, 13.03619861699818, 13.164324624170892, 12.578111974143491, 12.179375345792403, 11.631444410562754, 10.076065455876318, 9.84407699287855, 8.778974332714135, 8.346673072967418, 8.165096633292674, 8.192374095039042, 7.9924432757569575, 7.86527268164691, 7.610935203366465, 7.740292559205316, 13.894645786498332, 25.111032918399797, 33.38497159065841, 118.38880473727767, 31.196780900798576, 24.375139886442835, 26.715710557682154, 110.69679956686254, 118.77743630550792, 20.38791537229547, 826.2024041215105, 103.84439508877342, 640.2345686260114, 42.612171905294396, 54.48475780825206, 653.463221315984, 69.12580707445396, 3424.6135675223245, 85684.08536936891, 393.5195103154537, 57.01342978797806, 41.41841335242757, 24.04540321826702, 21.785350413944013, 18.0723227021209, 18.072330505513523, 13.115626120865464, 11.547375540761664, 11.29665131058287, 11.145498360565838, 10.589126791961702, 10.665278233928985, 9.865394802371023, 11.356412707022363, 9.72661928606612, 9.43348098996304, 9.433570921957143, 9.123367120716015, 8.689155334525308, 8.74481834227893, 8.365085868119541, 8.285617984119723, 7.5805672616590245, 7.646870895100943, 7.194426567207438, 7.000695947619153, 6.843448969709993, 6.883310026068792, 6.70871664661172, 6.708757961550741, 14.932635395523796, 12.983041810742325, 33.31509674317354, 32.87722741175559, 26.621439394930515, 14.706439280137197, 70.72735026489032, 118.89889670882036, 274.8289376034008, 215.45953380896776, 424.3437695179353, 46.43864123924849, 58.88396123827158, 73.0159899202039, 18.186590768503887, 253.46800351681992, 1045.6243784177004, 850.5266501051306, 33.404089801434225, 21.777291170100256, 13.128262647025869, 9.146618922279742, 8.935611361216726, 8.916466396310366, 8.916530332306419, 8.916588918226685, 8.66187080638639, 8.031026816884287, 7.753985650778248, 7.3413081194925915, 7.59555140250524, 6.9083697550931475, 6.872666485920933, 11.69388487691373, 6.94903650892538, 6.016696362816777, 6.079547015533902, 5.833723047349303, 5.666105645784509, 5.288700778853645, 5.26866510761003, 26.626359727706763, 5.018452433757611, 4.894483474233446, 4.756671525925762, 4.558635471362927, 4.551614167955128, 4.390380390117618, 14.691470232647658, 20.493719754095995, 18.806237775255624, 10.482521778822392, 32.011278470318835, 30.558964534947165, 26.42746028593004, 28.65664859286112, 483.4792574397979, 370.662462000217, 208.00305812106524, 215.17833220098896, 218.9470333068268, 69.03523279371709, 92.95763877478511, 60.72393489582713, 274.8289376034008, 284.0399717229184, 181.534511219722, 46.14652263937767, 9.542760648310422, 8.00979666164522, 6.5899506931746155, 5.516551618988395, 8.310137688608103, 4.115848561966773, 3.873942548592069, 3.8434400442710954, 3.7388809306978756, 3.6816924704077536, 3.517313451250094, 3.4744518927197237, 7.412975158799109, 3.2176466201445555, 3.205728138801277, 3.162418682115642, 6.621575508656077, 2.794268624701743, 2.7590939204644234, 2.6786685306897384, 2.6562976493723953, 2.6248618563082875, 2.6108285815260794, 2.477652833393842, 2.477852910205882, 2.454175999645203, 2.458526047307927, 2.434806951913651, 2.428860586981463, 12.281030056358635, 2.8649358929839366, 9.491570012428024, 4.178809537594719, 3.6959760468740672, 61.8451402661288, 49.57342450844685, 10.837798598668156, 8.025748453918062, 9.826870290914925, 18.472121504962278, 50.40721801210299, 12.212595323657478, 16.8711578777011], \"Category\": [\"Default\", \"Default\", \"Default\", \"Default\", \"Default\", \"Default\", \"Default\", \"Default\", \"Default\", \"Default\", \"Default\", \"Default\", \"Default\", \"Default\", \"Default\", \"Default\", \"Default\", \"Default\", \"Default\", \"Default\", \"Default\", \"Default\", \"Default\", \"Default\", \"Default\", \"Default\", \"Default\", \"Default\", \"Default\", \"Default\", \"Topic1\", \"Topic1\", \"Topic1\", \"Topic1\", \"Topic1\", \"Topic1\", \"Topic1\", \"Topic1\", \"Topic1\", \"Topic1\", \"Topic1\", \"Topic1\", \"Topic1\", \"Topic1\", \"Topic1\", \"Topic1\", \"Topic1\", \"Topic1\", \"Topic1\", \"Topic1\", \"Topic1\", \"Topic1\", \"Topic1\", \"Topic1\", \"Topic1\", \"Topic1\", \"Topic1\", \"Topic1\", \"Topic1\", \"Topic1\", \"Topic1\", \"Topic1\", \"Topic1\", \"Topic1\", \"Topic1\", \"Topic1\", \"Topic1\", \"Topic1\", \"Topic1\", \"Topic1\", \"Topic1\", \"Topic1\", \"Topic1\", \"Topic1\", \"Topic1\", \"Topic1\", \"Topic1\", \"Topic1\", \"Topic1\", \"Topic1\", \"Topic1\", \"Topic1\", \"Topic1\", \"Topic1\", \"Topic1\", \"Topic1\", \"Topic1\", \"Topic1\", \"Topic1\", \"Topic1\", \"Topic1\", \"Topic1\", \"Topic1\", \"Topic1\", \"Topic1\", \"Topic1\", \"Topic1\", \"Topic1\", \"Topic1\", \"Topic1\", \"Topic1\", \"Topic1\", \"Topic1\", \"Topic1\", \"Topic1\", \"Topic1\", \"Topic1\", \"Topic1\", \"Topic1\", \"Topic1\", \"Topic2\", \"Topic2\", \"Topic2\", \"Topic2\", \"Topic2\", \"Topic2\", \"Topic2\", \"Topic2\", \"Topic2\", \"Topic2\", \"Topic2\", \"Topic2\", \"Topic2\", \"Topic2\", \"Topic2\", \"Topic2\", \"Topic2\", \"Topic2\", \"Topic2\", \"Topic2\", \"Topic2\", \"Topic2\", \"Topic2\", \"Topic2\", \"Topic2\", \"Topic2\", \"Topic2\", \"Topic2\", \"Topic2\", \"Topic2\", \"Topic2\", \"Topic2\", \"Topic2\", \"Topic2\", \"Topic2\", \"Topic2\", \"Topic2\", \"Topic2\", \"Topic2\", \"Topic2\", \"Topic2\", \"Topic2\", \"Topic2\", \"Topic2\", \"Topic2\", \"Topic2\", \"Topic2\", \"Topic2\", \"Topic2\", \"Topic2\", \"Topic2\", \"Topic2\", \"Topic2\", \"Topic2\", \"Topic2\", \"Topic2\", \"Topic2\", \"Topic2\", \"Topic2\", \"Topic2\", \"Topic2\", \"Topic2\", \"Topic2\", \"Topic2\", \"Topic2\", \"Topic2\", \"Topic2\", \"Topic2\", \"Topic2\", \"Topic2\", \"Topic2\", \"Topic2\", \"Topic2\", \"Topic2\", \"Topic2\", \"Topic2\", \"Topic2\", \"Topic2\", \"Topic2\", \"Topic2\", \"Topic2\", \"Topic2\", \"Topic2\", \"Topic2\", \"Topic2\", \"Topic2\", \"Topic2\", \"Topic2\", \"Topic2\", \"Topic2\", \"Topic2\", \"Topic2\", \"Topic3\", \"Topic3\", \"Topic3\", \"Topic3\", \"Topic3\", \"Topic3\", \"Topic3\", \"Topic3\", \"Topic3\", \"Topic3\", \"Topic3\", \"Topic3\", \"Topic3\", \"Topic3\", \"Topic3\", \"Topic3\", \"Topic3\", \"Topic3\", \"Topic3\", \"Topic3\", \"Topic3\", \"Topic3\", \"Topic3\", \"Topic3\", \"Topic3\", \"Topic3\", \"Topic3\", \"Topic3\", \"Topic3\", \"Topic3\", \"Topic3\", \"Topic3\", \"Topic3\", \"Topic3\", \"Topic3\", \"Topic3\", \"Topic3\", \"Topic3\", \"Topic3\", \"Topic3\", \"Topic3\", \"Topic3\", \"Topic3\", \"Topic3\", \"Topic3\", \"Topic3\", \"Topic3\", \"Topic3\", \"Topic3\", \"Topic3\", \"Topic3\", \"Topic3\", \"Topic3\", \"Topic3\", \"Topic3\", \"Topic3\", \"Topic3\", \"Topic3\", \"Topic3\", \"Topic3\", \"Topic3\", \"Topic3\", \"Topic3\", \"Topic3\", \"Topic3\", \"Topic3\", \"Topic3\", \"Topic3\", \"Topic3\", \"Topic3\", \"Topic3\", \"Topic3\", \"Topic3\", \"Topic3\", \"Topic3\", \"Topic3\", \"Topic3\", \"Topic3\", \"Topic3\", \"Topic3\", \"Topic3\", \"Topic3\", \"Topic3\", \"Topic3\", \"Topic3\", \"Topic3\", \"Topic4\", \"Topic4\", \"Topic4\", \"Topic4\", \"Topic4\", \"Topic4\", \"Topic4\", \"Topic4\", \"Topic4\", \"Topic4\", \"Topic4\", \"Topic4\", \"Topic4\", \"Topic4\", \"Topic4\", \"Topic4\", \"Topic4\", \"Topic4\", \"Topic4\", \"Topic4\", \"Topic4\", \"Topic4\", \"Topic4\", \"Topic4\", \"Topic4\", \"Topic4\", \"Topic4\", \"Topic4\", \"Topic4\", \"Topic4\", \"Topic4\", \"Topic4\", \"Topic4\", \"Topic4\", \"Topic4\", \"Topic4\", \"Topic4\", \"Topic4\", \"Topic4\", \"Topic4\", \"Topic4\", \"Topic4\", \"Topic4\", \"Topic4\", \"Topic4\", \"Topic4\", \"Topic4\", \"Topic4\", \"Topic4\", \"Topic4\", \"Topic4\", \"Topic4\", \"Topic4\", \"Topic4\", \"Topic4\", \"Topic4\", \"Topic4\", \"Topic4\", \"Topic4\", \"Topic4\", \"Topic4\", \"Topic4\", \"Topic4\", \"Topic4\", \"Topic4\", \"Topic4\", \"Topic4\", \"Topic4\", \"Topic4\", \"Topic4\", \"Topic4\", \"Topic4\", \"Topic5\", \"Topic5\", \"Topic5\", \"Topic5\", \"Topic5\", \"Topic5\", \"Topic5\", \"Topic5\", \"Topic5\", \"Topic5\", \"Topic5\", \"Topic5\", \"Topic5\", \"Topic5\", \"Topic5\", \"Topic5\", \"Topic5\", \"Topic5\", \"Topic5\", \"Topic5\", \"Topic5\", \"Topic5\", \"Topic5\", \"Topic5\", \"Topic5\", \"Topic5\", \"Topic5\", \"Topic5\", \"Topic5\", \"Topic5\", \"Topic5\", \"Topic5\", \"Topic5\", \"Topic5\", \"Topic5\", \"Topic5\", \"Topic5\", \"Topic5\", \"Topic5\", \"Topic5\", \"Topic5\", \"Topic5\", \"Topic5\", \"Topic5\", \"Topic5\", \"Topic5\", \"Topic5\", \"Topic5\", \"Topic5\", \"Topic5\", \"Topic5\", \"Topic5\", \"Topic5\", \"Topic5\", \"Topic5\", \"Topic5\", \"Topic5\", \"Topic5\", \"Topic5\", \"Topic5\", \"Topic5\", \"Topic5\", \"Topic5\", \"Topic5\", \"Topic5\", \"Topic5\", \"Topic5\", \"Topic5\", \"Topic5\", \"Topic5\", \"Topic5\", \"Topic5\", \"Topic5\", \"Topic5\", \"Topic5\", \"Topic5\", \"Topic5\", \"Topic5\", \"Topic5\", \"Topic5\", \"Topic5\", \"Topic5\", \"Topic5\", \"Topic5\", \"Topic5\", \"Topic5\", \"Topic5\", \"Topic5\", \"Topic5\", \"Topic6\", \"Topic6\", \"Topic6\", \"Topic6\", \"Topic6\", \"Topic6\", \"Topic6\", \"Topic6\", \"Topic6\", \"Topic6\", \"Topic6\", \"Topic6\", \"Topic6\", \"Topic6\", \"Topic6\", \"Topic6\", \"Topic6\", \"Topic6\", \"Topic6\", \"Topic6\", \"Topic6\", \"Topic6\", \"Topic6\", \"Topic6\", \"Topic6\", \"Topic6\", \"Topic6\", \"Topic6\", \"Topic6\", \"Topic6\", \"Topic6\", \"Topic6\", \"Topic6\", \"Topic6\", \"Topic6\", \"Topic6\", \"Topic6\", \"Topic6\", \"Topic6\", \"Topic6\", \"Topic6\", \"Topic6\", \"Topic6\", \"Topic6\", \"Topic6\", \"Topic6\", \"Topic6\", \"Topic6\", \"Topic6\", \"Topic6\", \"Topic6\", \"Topic6\", \"Topic6\", \"Topic6\", \"Topic6\", \"Topic6\", \"Topic6\", \"Topic6\", \"Topic6\", \"Topic6\", \"Topic6\", \"Topic6\", \"Topic6\", \"Topic6\", \"Topic6\", \"Topic6\", \"Topic6\", \"Topic6\", \"Topic6\", \"Topic6\", \"Topic6\", \"Topic6\", \"Topic6\", \"Topic6\", \"Topic6\", \"Topic6\", \"Topic6\", \"Topic6\", \"Topic6\", \"Topic6\", \"Topic6\", \"Topic6\", \"Topic6\", \"Topic7\", \"Topic7\", \"Topic7\", \"Topic7\", \"Topic7\", \"Topic7\", \"Topic7\", \"Topic7\", \"Topic7\", \"Topic7\", \"Topic7\", \"Topic7\", \"Topic7\", \"Topic7\", \"Topic7\", \"Topic7\", \"Topic7\", \"Topic7\", \"Topic7\", \"Topic7\", \"Topic7\", \"Topic7\", \"Topic7\", \"Topic7\", \"Topic7\", \"Topic7\", \"Topic7\", \"Topic7\", \"Topic7\", \"Topic7\", \"Topic7\", \"Topic7\", \"Topic7\", \"Topic7\", \"Topic7\", \"Topic7\", \"Topic7\", \"Topic7\", \"Topic7\", \"Topic7\", \"Topic7\", \"Topic7\", \"Topic7\", \"Topic7\", \"Topic7\", \"Topic7\", \"Topic7\", \"Topic7\", \"Topic7\", \"Topic7\", \"Topic7\", \"Topic7\", \"Topic7\", \"Topic7\", \"Topic7\", \"Topic7\", \"Topic7\", \"Topic7\", \"Topic7\", \"Topic7\", \"Topic7\", \"Topic7\", \"Topic7\", \"Topic7\", \"Topic7\", \"Topic7\", \"Topic7\", \"Topic7\", \"Topic7\", \"Topic7\", \"Topic7\", \"Topic7\", \"Topic7\", \"Topic7\", \"Topic7\", \"Topic7\", \"Topic7\", \"Topic7\", \"Topic7\", \"Topic7\", \"Topic7\", \"Topic7\", \"Topic7\", \"Topic7\", \"Topic7\", \"Topic7\", \"Topic8\", \"Topic8\", \"Topic8\", \"Topic8\", \"Topic8\", \"Topic8\", \"Topic8\", \"Topic8\", \"Topic8\", \"Topic8\", \"Topic8\", \"Topic8\", \"Topic8\", \"Topic8\", \"Topic8\", \"Topic8\", \"Topic8\", \"Topic8\", \"Topic8\", \"Topic8\", \"Topic8\", \"Topic8\", \"Topic8\", \"Topic8\", \"Topic8\", \"Topic8\", \"Topic8\", \"Topic8\", \"Topic8\", \"Topic8\", \"Topic8\", \"Topic8\", \"Topic8\", \"Topic8\", \"Topic8\", \"Topic8\", \"Topic8\", \"Topic8\", \"Topic8\", \"Topic8\", \"Topic8\", \"Topic8\", \"Topic8\", \"Topic8\", \"Topic8\", \"Topic8\", \"Topic8\", \"Topic8\", \"Topic8\", \"Topic8\", \"Topic8\", \"Topic8\", \"Topic8\", \"Topic8\", \"Topic8\", \"Topic8\", \"Topic8\", \"Topic8\", \"Topic8\", \"Topic8\", \"Topic8\", \"Topic8\", \"Topic8\", \"Topic8\", \"Topic8\", \"Topic8\", \"Topic8\", \"Topic8\", \"Topic8\", \"Topic8\", \"Topic8\", \"Topic8\", \"Topic8\", \"Topic8\", \"Topic8\", \"Topic8\", \"Topic9\", \"Topic9\", \"Topic9\", \"Topic9\", \"Topic9\", \"Topic9\", \"Topic9\", \"Topic9\", \"Topic9\", \"Topic9\", \"Topic9\", \"Topic9\", \"Topic9\", \"Topic9\", \"Topic9\", \"Topic9\", \"Topic9\", \"Topic9\", \"Topic9\", \"Topic9\", \"Topic9\", \"Topic9\", \"Topic9\", \"Topic9\", \"Topic9\", \"Topic9\", \"Topic9\", \"Topic9\", \"Topic9\", \"Topic9\", \"Topic9\", \"Topic9\", \"Topic9\", \"Topic9\", \"Topic9\", \"Topic9\", \"Topic9\", \"Topic9\", \"Topic9\", \"Topic9\", \"Topic9\", \"Topic9\", \"Topic9\", \"Topic9\", \"Topic9\", \"Topic9\", \"Topic9\", \"Topic9\", \"Topic9\", \"Topic9\", \"Topic9\", \"Topic9\", \"Topic9\", \"Topic9\", \"Topic9\", \"Topic9\", \"Topic9\", \"Topic9\", \"Topic9\", \"Topic9\", \"Topic9\", \"Topic9\", \"Topic9\", \"Topic9\", \"Topic9\", \"Topic9\", \"Topic9\", \"Topic9\", \"Topic9\", \"Topic9\", \"Topic9\", \"Topic9\", \"Topic9\", \"Topic9\", \"Topic9\", \"Topic10\", \"Topic10\", \"Topic10\", \"Topic10\", \"Topic10\", \"Topic10\", \"Topic10\", \"Topic10\", \"Topic10\", \"Topic10\", \"Topic10\", \"Topic10\", \"Topic10\", \"Topic10\", \"Topic10\", \"Topic10\", \"Topic10\", \"Topic10\", \"Topic10\", \"Topic10\", \"Topic10\", \"Topic10\", \"Topic10\", \"Topic10\", \"Topic10\", \"Topic10\", \"Topic10\", \"Topic10\", \"Topic10\", \"Topic10\", \"Topic10\", \"Topic10\", \"Topic10\", \"Topic10\", \"Topic10\", \"Topic10\", \"Topic10\", \"Topic10\", \"Topic10\", \"Topic10\", \"Topic10\", \"Topic10\", \"Topic10\", \"Topic10\", \"Topic10\", \"Topic10\", \"Topic10\", \"Topic10\", \"Topic10\", \"Topic10\", \"Topic10\", \"Topic10\", \"Topic10\", \"Topic10\", \"Topic10\", \"Topic10\", \"Topic10\", \"Topic10\", \"Topic10\", \"Topic10\", \"Topic10\", \"Topic10\", \"Topic10\", \"Topic10\", \"Topic10\", \"Topic10\", \"Topic10\", \"Topic10\", \"Topic10\", \"Topic10\", \"Topic10\", \"Topic10\", \"Topic10\", \"Topic10\", \"Topic11\", \"Topic11\", \"Topic11\", \"Topic11\", \"Topic11\", \"Topic11\", \"Topic11\", \"Topic11\", \"Topic11\", \"Topic11\", \"Topic11\", \"Topic11\", \"Topic11\", \"Topic11\", \"Topic11\", \"Topic11\", \"Topic11\", \"Topic11\", \"Topic11\", \"Topic11\", \"Topic11\", \"Topic11\", \"Topic11\", \"Topic11\", \"Topic11\", \"Topic11\", \"Topic11\", \"Topic11\", \"Topic11\", \"Topic11\", \"Topic11\", \"Topic11\", \"Topic11\", \"Topic11\", \"Topic11\", \"Topic11\", \"Topic11\", \"Topic11\", \"Topic11\", \"Topic11\", \"Topic11\", \"Topic11\", \"Topic11\", \"Topic11\", \"Topic11\", \"Topic11\", \"Topic11\", \"Topic11\", \"Topic11\", \"Topic11\", \"Topic11\", \"Topic11\", \"Topic11\", \"Topic11\", \"Topic11\", \"Topic11\", \"Topic11\", \"Topic11\", \"Topic11\", \"Topic11\", \"Topic11\", \"Topic11\", \"Topic11\", \"Topic11\", \"Topic11\", \"Topic11\", \"Topic11\", \"Topic11\", \"Topic11\", \"Topic11\", \"Topic12\", \"Topic12\", \"Topic12\", \"Topic12\", \"Topic12\", \"Topic12\", \"Topic12\", \"Topic12\", \"Topic12\", \"Topic12\", \"Topic12\", \"Topic12\", \"Topic12\", \"Topic12\", \"Topic12\", \"Topic12\", \"Topic12\", \"Topic12\", \"Topic12\", \"Topic12\", \"Topic12\", \"Topic12\", \"Topic12\", \"Topic12\", \"Topic12\", \"Topic12\", \"Topic12\", \"Topic12\", \"Topic12\", \"Topic12\", \"Topic12\", \"Topic12\", \"Topic12\", \"Topic12\", \"Topic12\", \"Topic12\", \"Topic12\", \"Topic12\", \"Topic12\", \"Topic12\", \"Topic12\", \"Topic12\", \"Topic12\", \"Topic12\", \"Topic12\", \"Topic12\", \"Topic12\", \"Topic12\", \"Topic12\", \"Topic12\", \"Topic12\", \"Topic12\", \"Topic12\", \"Topic12\", \"Topic12\", \"Topic12\", \"Topic12\", \"Topic12\", \"Topic12\", \"Topic12\", \"Topic12\", \"Topic12\", \"Topic12\", \"Topic12\", \"Topic12\", \"Topic12\", \"Topic12\", \"Topic12\", \"Topic12\", \"Topic12\", \"Topic12\", \"Topic12\", \"Topic12\", \"Topic12\", \"Topic12\", \"Topic12\", \"Topic13\", \"Topic13\", \"Topic13\", \"Topic13\", \"Topic13\", \"Topic13\", \"Topic13\", \"Topic13\", \"Topic13\", \"Topic13\", \"Topic13\", \"Topic13\", \"Topic13\", \"Topic13\", \"Topic13\", \"Topic13\", \"Topic13\", \"Topic13\", \"Topic13\", \"Topic13\", \"Topic13\", \"Topic13\", \"Topic13\", \"Topic13\", \"Topic13\", \"Topic13\", \"Topic13\", \"Topic13\", \"Topic13\", \"Topic13\", \"Topic13\", \"Topic13\", \"Topic13\", \"Topic13\", \"Topic13\", \"Topic13\", \"Topic13\", \"Topic13\", \"Topic13\", \"Topic13\", \"Topic13\", \"Topic13\", \"Topic13\", \"Topic13\", \"Topic13\", \"Topic13\", \"Topic13\", \"Topic13\", \"Topic13\", \"Topic13\", \"Topic13\", \"Topic13\", \"Topic13\", \"Topic13\", \"Topic13\", \"Topic13\", \"Topic13\", \"Topic13\", \"Topic13\", \"Topic13\", \"Topic13\", \"Topic13\", \"Topic14\", \"Topic14\", \"Topic14\", \"Topic14\", \"Topic14\", \"Topic14\", \"Topic14\", \"Topic14\", \"Topic14\", \"Topic14\", \"Topic14\", \"Topic14\", \"Topic14\", \"Topic14\", \"Topic14\", \"Topic14\", \"Topic14\", \"Topic14\", \"Topic14\", \"Topic14\", \"Topic14\", \"Topic14\", \"Topic14\", \"Topic14\", \"Topic14\", \"Topic14\", \"Topic14\", \"Topic14\", \"Topic14\", \"Topic14\", \"Topic14\", \"Topic14\", \"Topic14\", \"Topic14\", \"Topic14\", \"Topic14\", \"Topic14\", \"Topic14\", \"Topic14\", \"Topic14\", \"Topic14\", \"Topic14\", \"Topic14\", \"Topic14\", \"Topic14\", \"Topic14\", \"Topic14\", \"Topic14\", \"Topic14\", \"Topic14\", \"Topic14\", \"Topic14\", \"Topic14\", \"Topic14\", \"Topic14\", \"Topic14\", \"Topic14\", \"Topic14\", \"Topic14\", \"Topic14\", \"Topic14\", \"Topic14\", \"Topic14\", \"Topic14\", \"Topic14\", \"Topic14\", \"Topic14\", \"Topic15\", \"Topic15\", \"Topic15\", \"Topic15\", \"Topic15\", \"Topic15\", \"Topic15\", \"Topic15\", \"Topic15\", \"Topic15\", \"Topic15\", \"Topic15\", \"Topic15\", \"Topic15\", \"Topic15\", \"Topic15\", \"Topic15\", \"Topic15\", \"Topic15\", \"Topic15\", \"Topic15\", \"Topic15\", \"Topic15\", \"Topic15\", \"Topic15\", \"Topic15\", \"Topic15\", \"Topic15\", \"Topic15\", \"Topic15\", \"Topic15\", \"Topic15\", \"Topic15\", \"Topic15\", \"Topic15\", \"Topic15\", \"Topic15\", \"Topic15\", \"Topic15\", \"Topic15\", \"Topic15\", \"Topic15\", \"Topic15\", \"Topic15\", \"Topic15\", \"Topic15\", \"Topic15\", \"Topic15\", \"Topic15\", \"Topic15\", \"Topic15\", \"Topic15\", \"Topic15\", \"Topic15\", \"Topic15\", \"Topic16\", \"Topic16\", \"Topic16\", \"Topic16\", \"Topic16\", \"Topic16\", \"Topic16\", \"Topic16\", \"Topic16\", \"Topic16\", \"Topic16\", \"Topic16\", \"Topic16\", \"Topic16\", \"Topic16\", \"Topic16\", \"Topic16\", \"Topic16\", \"Topic16\", \"Topic16\", \"Topic16\", \"Topic16\", \"Topic16\", \"Topic16\", \"Topic16\", \"Topic16\", \"Topic16\", \"Topic16\", \"Topic16\", \"Topic16\", \"Topic16\", \"Topic16\", \"Topic16\", \"Topic16\", \"Topic16\", \"Topic16\", \"Topic16\", \"Topic16\", \"Topic16\", \"Topic16\", \"Topic16\", \"Topic16\", \"Topic16\", \"Topic16\", \"Topic16\", \"Topic17\", \"Topic17\", \"Topic17\", \"Topic17\", \"Topic17\", \"Topic17\", \"Topic17\", \"Topic17\", \"Topic17\", \"Topic17\", \"Topic17\", \"Topic17\", \"Topic17\", \"Topic17\", \"Topic17\", \"Topic17\", \"Topic17\", \"Topic17\", \"Topic17\", \"Topic17\", \"Topic17\", \"Topic17\", \"Topic17\", \"Topic17\", \"Topic17\", \"Topic17\", \"Topic17\", \"Topic17\", \"Topic17\", \"Topic17\", \"Topic17\", \"Topic17\", \"Topic17\", \"Topic17\", \"Topic17\", \"Topic17\", \"Topic17\", \"Topic17\", \"Topic17\", \"Topic17\", \"Topic17\", \"Topic17\", \"Topic17\", \"Topic17\", \"Topic17\", \"Topic17\", \"Topic17\", \"Topic17\", \"Topic17\", \"Topic17\", \"Topic18\", \"Topic18\", \"Topic18\", \"Topic18\", \"Topic18\", \"Topic18\", \"Topic18\", \"Topic18\", \"Topic18\", \"Topic18\", \"Topic18\", \"Topic18\", \"Topic18\", \"Topic18\", \"Topic18\", \"Topic18\", \"Topic18\", \"Topic18\", \"Topic18\", \"Topic18\", \"Topic18\", \"Topic18\", \"Topic18\", \"Topic18\", \"Topic18\", \"Topic18\", \"Topic18\", \"Topic18\", \"Topic18\", \"Topic18\", \"Topic18\", \"Topic18\", \"Topic18\", \"Topic18\", \"Topic18\", \"Topic18\", \"Topic18\", \"Topic18\", \"Topic18\", \"Topic18\", \"Topic18\", \"Topic18\", \"Topic18\", \"Topic18\", \"Topic18\", \"Topic18\", \"Topic18\", \"Topic18\", \"Topic19\", \"Topic19\", \"Topic19\", \"Topic19\", \"Topic19\", \"Topic19\", \"Topic19\", \"Topic19\", \"Topic19\", \"Topic19\", \"Topic19\", \"Topic19\", \"Topic19\", \"Topic19\", \"Topic19\", \"Topic19\", \"Topic19\", \"Topic19\", \"Topic19\", \"Topic19\", \"Topic19\", \"Topic19\", \"Topic19\", \"Topic19\", \"Topic19\", \"Topic19\", \"Topic19\", \"Topic19\", \"Topic19\", \"Topic19\", \"Topic19\", \"Topic19\", \"Topic19\", \"Topic19\", \"Topic19\", \"Topic19\", \"Topic19\", \"Topic19\", \"Topic19\", \"Topic19\", \"Topic19\", \"Topic19\", \"Topic19\", \"Topic19\", \"Topic19\", \"Topic19\", \"Topic19\", \"Topic19\", \"Topic19\", \"Topic19\", \"Topic20\", \"Topic20\", \"Topic20\", \"Topic20\", \"Topic20\", \"Topic20\", \"Topic20\", \"Topic20\", \"Topic20\", \"Topic20\", \"Topic20\", \"Topic20\", \"Topic20\", \"Topic20\", \"Topic20\", \"Topic20\", \"Topic20\", \"Topic20\", \"Topic20\", \"Topic20\", \"Topic20\", \"Topic20\", \"Topic20\", \"Topic20\", \"Topic20\", \"Topic20\", \"Topic20\", \"Topic20\", \"Topic20\", \"Topic20\", \"Topic20\", \"Topic20\", \"Topic20\", \"Topic20\", \"Topic20\", \"Topic20\", \"Topic20\", \"Topic20\", \"Topic20\", \"Topic20\", \"Topic20\", \"Topic20\", \"Topic20\"], \"logprob\": [30.0, 29.0, 28.0, 27.0, 26.0, 25.0, 24.0, 23.0, 22.0, 21.0, 20.0, 19.0, 18.0, 17.0, 16.0, 15.0, 14.0, 13.0, 12.0, 11.0, 10.0, 9.0, 8.0, 7.0, 6.0, 5.0, 4.0, 3.0, 2.0, 1.0, -4.893599987030029, -5.6006999015808105, -6.353700160980225, -6.305699825286865, -6.859099864959717, -6.193600177764893, -7.275700092315674, -7.1585001945495605, -7.377900123596191, -7.36329984664917, -7.446499824523926, -7.442399978637695, -6.149400234222412, -7.55810022354126, -7.607800006866455, -6.260499954223633, -7.759500026702881, -7.731900215148926, -7.821100234985352, -7.826000213623047, -7.839900016784668, -7.866099834442139, -7.938799858093262, -7.952600002288818, -6.643499851226807, -6.277500152587891, -7.991799831390381, -8.060500144958496, -8.078300476074219, -8.104000091552734, -6.438700199127197, -6.605800151824951, -6.784200191497803, -7.263500213623047, -6.129000186920166, -7.132900238037109, -7.466300010681152, -5.903600215911865, -6.241600036621094, -7.212500095367432, -6.078199863433838, -6.670899868011475, -7.048299789428711, -6.831099987030029, -6.619800090789795, -5.181700229644775, -6.9944000244140625, -5.771999835968018, -6.0671000480651855, -5.807400226593018, -4.649700164794922, -5.971799850463867, -4.8454999923706055, -5.864999771118164, -4.200799942016602, -5.96999979019165, -3.0597000122070312, -5.9496002197265625, -5.206699848175049, -5.407599925994873, -4.72730016708374, -5.652100086212158, -5.047500133514404, -4.821000099182129, -5.52239990234375, -5.165999889373779, -5.632199764251709, -5.574100017547607, -5.682300090789795, -5.887700080871582, -5.387599945068359, -5.502600193023682, -5.494200229644775, -5.633900165557861, -5.304800033569336, -5.370800018310547, -5.767899990081787, -5.708000183105469, -5.80019998550415, -5.82289981842041, -7.057600021362305, -6.837800025939941, -7.347499847412109, -6.497799873352051, -7.211999893188477, -7.490499973297119, -7.144599914550781, -7.507699966430664, -7.757299900054932, -7.794899940490723, -7.748000144958496, -7.552499771118164, -7.923500061035156, -7.952300071716309, -7.972400188446045, -7.536799907684326, -7.997399806976318, -7.533699989318848, -7.8867998123168945, -7.851799964904785, -8.015800476074219, -7.956600189208984, -8.118499755859375, -7.996600151062012, -8.251299858093262, -8.228599548339844, -8.270299911499023, -7.995699882507324, -6.691999912261963, -8.31190013885498, -5.600299835205078, -6.243299961090088, -6.635499954223633, -6.510499954223633, -7.447000026702881, -7.531000137329102, -6.9730000495910645, -6.2916998863220215, -5.645999908447266, -7.016499996185303, -7.334799766540527, -6.123300075531006, -7.360400199890137, -7.310999870300293, -5.335999965667725, -6.770299911499023, -5.304599761962891, -6.353300094604492, -6.165200233459473, -6.296999931335449, -6.6041998863220215, -6.611100196838379, -5.939599990844727, -5.980999946594238, -6.218999862670898, -5.7270002365112305, -6.032100200653076, -6.2067999839782715, -5.74370002746582, -4.957900047302246, -5.015500068664551, -6.08650016784668, -5.991499900817871, -6.270400047302246, -5.777299880981445, -6.279699802398682, -5.926000118255615, -4.822299957275391, -5.135900020599365, -5.322299957275391, -5.445199966430664, -3.184799909591675, -5.270100116729736, -5.660099983215332, -5.542900085449219, -5.195400238037109, -5.728600025177002, -4.748300075531006, -5.352799892425537, -4.85890007019043, -5.1691999435424805, -4.874300003051758, -5.190999984741211, -5.3084001541137695, -5.688300132751465, -5.434500217437744, -5.434199810028076, -5.34689998626709, -5.402400016784668, -5.66540002822876, -5.707200050354004, -5.7154998779296875, -7.720699787139893, -7.768499851226807, -7.810299873352051, -7.736599922180176, -8.183699607849121, -8.056099891662598, -8.214599609375, -8.312600135803223, -8.322199821472168, -8.305899620056152, -8.363100051879883, -8.275799751281738, -8.462900161743164, -8.461899757385254, -8.477999687194824, -7.7399001121521, -8.536700248718262, -8.490799903869629, -8.589200019836426, -8.602999687194824, -8.623100280761719, -7.821599960327148, -8.603400230407715, -8.631199836730957, -8.123800277709961, -8.668100357055664, -8.55720043182373, -8.70110034942627, -8.708999633789062, -8.74370002746582, -7.724100112915039, -8.066100120544434, -8.478300094604492, -7.6265997886657715, -7.997700214385986, -8.150300025939941, -7.55620002746582, -8.363699913024902, -8.386799812316895, -5.936600208282471, -7.3379998207092285, -3.6012001037597656, -6.24459981918335, -7.771399974822998, -2.0481998920440674, -7.302999973297119, -7.990600109100342, -7.048900127410889, -5.44189977645874, -4.0177998542785645, -5.188300132751465, -4.111499786376953, -4.44350004196167, -6.202899932861328, -5.536600112915039, -7.337900161743164, -4.289000034332275, -6.247300148010254, -4.791200160980225, -6.119900226593018, -4.666100025177002, -7.2418999671936035, -6.020400047302246, -6.360400199890137, -5.632999897003174, -4.919899940490723, -5.80049991607666, -6.281300067901611, -6.060100078582764, -6.411900043487549, -6.028600215911865, -6.031099796295166, -6.142899990081787, -6.035799980163574, -6.106200218200684, -6.4664998054504395, -6.13670015335083, -4.9293999671936035, -5.515999794006348, -5.5279998779296875, -5.979300022125244, -5.612500190734863, -5.968299865722656, -6.041999816894531, -6.008800029754639, -6.0183000564575195, -5.117000102996826, -6.0914998054504395, -6.196199893951416, -6.238100051879883, -6.041900157928467, -5.787499904632568, -6.388899803161621, -5.986100196838379, -6.5904998779296875, -6.678800106048584, -6.898600101470947, -6.070000171661377, -6.952300071716309, -6.856800079345703, -7.080599784851074, -7.137599945068359, -7.364299774169922, -7.424499988555908, -7.48960018157959, -7.426300048828125, -7.4105000495910645, -7.515399932861328, -7.530700206756592, -7.540500164031982, -7.5553998947143555, -7.371399879455566, -7.61460018157959, -7.622600078582764, -7.365799903869629, -7.626299858093262, -6.307700157165527, -6.0269999504089355, -5.746600151062012, -6.9741997718811035, -6.500199794769287, -6.040800094604492, -5.135200023651123, -5.728400230407715, -4.355199813842773, -5.452899932861328, -6.711999893188477, -6.186100006103516, -6.549900054931641, -6.224400043487549, -5.963799953460693, -5.85890007019043, -4.701000213623047, -6.066500186920166, -6.196499824523926, -5.840000152587891, -5.043000221252441, -5.236800193786621, -5.431300163269043, -5.914000034332275, -6.0553998947143555, -3.4888999462127686, -5.3429999351501465, -4.72160005569458, -5.220099925994873, -5.483099937438965, -5.616799831390381, -5.600299835205078, -5.521999835968018, -5.490200042724609, -5.811100006103516, -5.728300094604492, -5.728600025177002, -5.6930999755859375, -5.850100040435791, -5.759399890899658, -5.796199798583984, -5.843100070953369, -6.421899795532227, -7.006499767303467, -7.236800193786621, -7.28380012512207, -7.443900108337402, -7.49560022354126, -7.147600173950195, -7.695199966430664, -7.675600051879883, -7.722799777984619, -7.755199909210205, -7.803899765014648, -7.821899890899658, -7.7368998527526855, -7.850399971008301, -7.878499984741211, -7.958899974822998, -7.958899974822998, -7.95959997177124, -7.988999843597412, -7.845600128173828, -7.989500045776367, -8.015700340270996, -8.014599800109863, -6.999800205230713, -8.06410026550293, -8.05739974975586, -8.081700325012207, -8.082900047302246, -8.092000007629395, -6.6493000984191895, -7.122200012207031, -7.152699947357178, -7.667900085449219, -7.395699977874756, -7.512599945068359, -7.232900142669678, -7.2683000564575195, -6.067699909210205, -6.501399993896484, -7.509500026702881, -7.051499843597412, -6.180600166320801, -5.973899841308594, -5.893599987030029, -7.424099922180176, -7.507299900054932, -7.1697001457214355, -6.291600227355957, -5.787600040435791, -6.521500110626221, -6.043600082397461, -6.257500171661377, -6.570400238037109, -6.366499900817871, -5.923099994659424, -6.389400005340576, -6.600800037384033, -5.735799789428711, -5.715400218963623, -5.600599765777588, -6.129799842834473, -6.572400093078613, -5.89109992980957, -6.3078999519348145, -5.270999908447266, -5.620200157165527, -3.8889000415802, -6.418000221252441, -5.820400238037109, -6.521100044250488, -6.27209997177124, -5.5746002197265625, -5.889900207519531, -5.5746002197265625, -5.361000061035156, -6.065499782562256, -5.499599933624268, -6.042200088500977, -6.196300029754639, -6.20550012588501, -5.891499996185303, -6.000500202178955, -5.994699954986572, -6.021399974822998, -6.031400203704834, -6.172100067138672, -6.166999816894531, -6.118000030517578, -6.72730016708374, -6.966700077056885, -7.0131001472473145, -6.695000171661377, -7.2418999671936035, -7.1072998046875, -7.284999847412109, -7.3592000007629395, -7.416399955749512, -7.422500133514404, -7.589900016784668, -7.577400207519531, -7.254899978637695, -7.269100189208984, -7.6682000160217285, -7.696400165557861, -7.337500095367432, -7.78410005569458, -7.424600124359131, -7.836400032043457, -7.848299980163574, -7.04010009765625, -7.913400173187256, -7.935699939727783, -7.92140007019043, -7.7683000564575195, -7.952899932861328, -7.954100131988525, -7.960999965667725, -7.994500160217285, -7.899799823760986, -4.611999988555908, -6.802199840545654, -6.81220006942749, -7.58620023727417, -6.557199954986572, -7.1682000160217285, -6.407599925994873, -5.430799961090088, -5.546599864959717, -6.947700023651123, -6.194300174713135, -5.499499797821045, -6.253900051116943, -5.883699893951416, -5.5233001708984375, -5.014599800109863, -5.783400058746338, -6.278500080108643, -6.061800003051758, -6.270100116729736, -5.750500202178955, -6.165500164031982, -6.278800010681152, -6.726500034332275, -6.487400054931641, -6.813600063323975, -6.108500003814697, -6.373300075531006, -4.69189977645874, -5.923099994659424, -4.614200115203857, -4.145699977874756, -4.991499900817871, -5.583199977874756, -5.228099822998047, -5.842199802398682, -5.508600234985352, -5.115799903869629, -4.22160005569458, -5.350900173187256, -5.318399906158447, -5.722700119018555, -5.731900215148926, -5.541200160980225, -5.618299961090088, -5.879199981689453, -5.558000087738037, -5.778900146484375, -5.7332000732421875, -5.855899810791016, -5.853099822998047, -5.856100082397461, -6.418000221252441, -6.399099826812744, -7.386199951171875, -7.36460018157959, -7.452400207519531, -6.552199840545654, -7.55709981918335, -7.554500102996826, -7.6209001541137695, -7.597099781036377, -7.731100082397461, -7.75029993057251, -7.726799964904785, -7.8094000816345215, -7.738999843597412, -6.658599853515625, -7.854899883270264, -7.872700214385986, -7.680500030517578, -7.973700046539307, -8.01710033416748, -8.025099754333496, -8.03909969329834, -8.019399642944336, -7.91510009765625, -8.081500053405762, -8.095800399780273, -8.095499992370605, -8.13860034942627, -6.679999828338623, -4.241399765014648, -5.174200057983398, -7.778500080108643, -7.405200004577637, -5.617599964141846, -6.901100158691406, -5.732399940490723, -7.35290002822876, -6.676400184631348, -6.119500160217285, -6.427299976348877, -6.401899814605713, -5.9868998527526855, -7.336100101470947, -6.8383002281188965, -7.041999816894531, -7.235300064086914, -6.981900215148926, -6.211699962615967, -7.054699897766113, -6.951499938964844, -5.231599807739258, -6.656099796295166, -6.7642998695373535, -6.1996002197265625, -6.32480001449585, -6.024700164794922, -4.098599910736084, -5.787499904632568, -6.310200214385986, -6.42710018157959, -3.3457000255584717, -5.9506001472473145, -5.321899890899658, -5.2133002281188965, -4.939700126647949, -4.879499912261963, -5.1031999588012695, -4.77269983291626, -4.7291998863220215, -4.859399795532227, -5.356900215148926, -5.338500022888184, -5.405399799346924, -5.308300018310547, -4.986199855804443, -5.433199882507324, -5.190700054168701, -5.343299865722656, -5.571400165557861, -5.453700065612793, -5.493500232696533, -5.608099937438965, -5.694200038909912, -5.625, -5.694900035858154, -6.291800022125244, -6.504799842834473, -6.629700183868408, -6.726500034332275, -6.513299942016602, -4.544000148773193, -6.914599895477295, -6.950900077819824, -5.319699764251709, -6.698400020599365, -6.986499786376953, -6.999199867248535, -6.973700046539307, -7.259799957275391, -7.331600189208984, -7.338500022888184, -7.296599864959717, -7.285600185394287, -7.3317999839782715, -6.777699947357178, -7.397900104522705, -7.41349983215332, -6.420599937438965, -7.532199859619141, -7.585599899291992, -7.591400146484375, -7.619900226593018, -7.569799900054932, -7.629000186920166, -7.644100189208984, -6.2540998458862305, -6.658199787139893, -5.628799915313721, -5.651400089263916, -7.433800220489502, -4.115200042724609, -6.085400104522705, -5.342700004577637, -3.927799940109253, -6.306300163269043, -6.7993998527526855, -5.053699970245361, -5.7677001953125, -5.310699939727783, -6.288000106811523, -6.0167999267578125, -4.625800132751465, -5.498899936676025, -6.189700126647949, -4.446700096130371, -6.495699882507324, -6.011600017547607, -6.26140022277832, -6.312600135803223, -5.639100074768066, -4.4375, -5.5625, -4.104100227355957, -4.705399990081787, -5.940000057220459, -4.808199882507324, -5.251100063323975, -3.9556000232696533, -5.211100101470947, -5.160999774932861, -5.342800140380859, -4.989699840545654, -5.331500053405762, -5.273900032043457, -5.093900203704834, -5.2621002197265625, -5.142300128936768, -5.361400127410889, -5.435100078582764, -5.466700077056885, -5.495100021362305, -6.513299942016602, -6.535299777984619, -6.580399990081787, -6.610300064086914, -6.629700183868408, -6.6570000648498535, -6.676300048828125, -6.802199840545654, -6.820799827575684, -6.6717000007629395, -6.895199775695801, -6.923900127410889, -6.9695000648498535, -6.9567999839782715, -6.9766998291015625, -6.501699924468994, -7.316199779510498, -7.402699947357178, -7.596099853515625, -7.659900188446045, -7.690499782562256, -7.713099956512451, -7.731800079345703, -7.75600004196167, -7.781899929046631, -7.84089994430542, -7.843100070953369, -7.870500087738037, -7.924600124359131, -7.93149995803833, -3.496999979019165, -6.638800144195557, -6.860400199890137, -5.709199905395508, -6.2947001457214355, -6.435699939727783, -7.132900238037109, -2.9367001056671143, -7.132599830627441, -6.991300106048584, -6.9390997886657715, -5.673799991607666, -3.390700101852417, -4.408199787139893, -3.852400064468384, -4.413099765777588, -4.048799991607666, -6.22599983215332, -4.4664998054504395, -4.287300109863281, -5.991099834442139, -5.040500164031982, -4.759699821472168, -6.532199859619141, -5.393599987030029, -5.679900169372559, -4.825900077819824, -5.362500190734863, -5.906099796295166, -5.918399810791016, -2.9052000045776367, -5.90310001373291, -5.7692999839782715, -5.472599983215332, -5.290900230407715, -5.314899921417236, -5.747799873352051, -5.826600074768066, -5.457499980926514, -5.566299915313721, -5.407599925994873, -5.457799911499023, -5.789999961853027, -5.702700138092041, -5.738500118255615, -5.1620001792907715, -5.796299934387207, -5.753799915313721, -6.087900161743164, -6.570899963378906, -6.636899948120117, -6.698200225830078, -6.747499942779541, -6.752699851989746, -6.774600028991699, -6.911099910736084, -6.9131999015808105, -6.968900203704834, -7.091800212860107, -7.094299793243408, -7.140699863433838, -7.193600177764893, -7.213799953460693, -7.226900100708008, -7.262499809265137, -6.705900192260742, -7.415999889373779, -7.494999885559082, -7.498199939727783, -7.5381999015808105, -7.531799793243408, -7.575300216674805, -7.6153998374938965, -7.6153998374938965, -6.5640997886657715, -6.471099853515625, -5.9969000816345215, -6.381899833679199, -6.0843000411987305, -4.899099826812744, -6.646200180053711, -7.207699775695801, -5.403800010681152, -6.0406999588012695, -5.54040002822876, -5.5594000816345215, -6.4095001220703125, -6.877699851989746, -5.309500217437744, -6.349699974060059, -6.700900077819824, -5.0817999839782715, -6.135499954223633, -6.128799915313721, -5.964700222015381, -6.313000202178955, -5.4481000900268555, -5.194499969482422, -6.553100109100342, -6.167300224304199, -5.879300117492676, -6.105999946594238, -3.7697999477386475, -6.33459997177124, -6.203400135040283, -6.072000026702881, -5.780900001525879, -6.218800067901611, -6.201200008392334, -5.813000202178955, -5.746399879455566, -5.8256001472473145, -6.0914998054504395, -5.998300075531006, -5.908699989318848, -5.956200122833252, -5.976799964904785, -6.009200096130371, -5.988999843597412, -4.235899925231934, -5.149700164794922, -5.853700160980225, -5.817200183868408, -6.032100200653076, -6.138599872589111, -6.551599979400635, -5.753399848937988, -6.741300106048584, -5.7505998611450195, -6.264900207519531, -6.790900230407715, -5.657599925994873, -6.5432000160217285, -6.880199909210205, -7.0278000831604, -7.025700092315674, -6.67110013961792, -6.620299816131592, -7.097899913787842, -6.958399772644043, -7.146900177001953, -7.063000202178955, -6.993800163269043, -7.199699878692627, -7.273799896240234, -7.319799900054932, -7.323500156402588, -7.102399826049805, -7.351799964904785, -4.006100177764893, -6.885700225830078, -5.79040002822876, -6.106800079345703, -6.835599899291992, -5.740799903869629, -6.76140022277832, -6.94379997253418, -4.454999923706055, -5.290800094604492, -6.2642998695373535, -6.563199996948242, -6.333799839019775, -5.854400157928467, -6.095300197601318, -6.407599925994873, -6.283999919891357, -5.1894001960754395, -5.078100204467773, -6.0030999183654785, -5.71120023727417, -5.552199840545654, -6.27869987487793, -5.276700019836426, -5.5904998779296875, -5.8592000007629395, -5.779699802398682, -6.004700183868408, -4.07889986038208, -5.46120023727417, -6.016499996185303, -5.848599910736084, -5.7754998207092285, -5.551700115203857, -5.842899799346924, -5.913700103759766, -5.895400047302246, -5.858399868011475, -5.876200199127197, -5.8907999992370605, -4.291399955749512, -2.871500015258789, -2.1684999465942383, -6.4953999519348145, -6.680799961090088, -6.701700210571289, -6.894599914550781, -6.966899871826172, -7.027599811553955, -7.083700180053711, -7.152500152587891, -7.156799793243408, -5.334000110626221, -7.263800144195557, -7.425099849700928, -7.068299770355225, -7.54610013961792, -7.625999927520752, -7.712299823760986, -7.797299861907959, -6.898200035095215, -7.8069000244140625, -7.8069000244140625, -7.8069000244140625, -7.8069000244140625, -7.8069000244140625, -7.8572001457214355, -7.863500118255615, -7.8668999671936035, -7.879499912261963, -4.0447998046875, -6.82289981842041, -6.842299938201904, -7.1519999504089355, -6.259500026702881, -5.26200008392334, -7.517199993133545, -6.18209981918335, -6.986400127410889, -5.6570000648498535, -6.8394999504089355, -6.149499893188477, -6.433000087738037, -6.475900173187256, -6.644400119781494, -6.383699893951416, -5.943600177764893, -5.098400115966797, -5.7530999183654785, -5.255199909210205, -4.241799831390381, -2.273699998855591, -5.940800189971924, -5.454800128936768, -6.407700061798096, -6.11329984664917, -5.301199913024902, -4.771699905395508, -6.17710018157959, -5.475900173187256, -5.666800022125244, -5.724400043487549, -5.88730001449585, -5.376500129699707, -6.089399814605713, -5.826099872589111, -5.316800117492676, -5.706299781799316, -5.54640007019043, -5.884300231933594, -5.790500164031982, -5.844399929046631, -6.06689977645874, -6.021500110626221, -6.0131001472473145, -6.009699821472168, -1.8249000310897827, -4.084799766540527, -4.82859992980957, -5.02269983291626, -5.611299991607666, -6.016300201416016, -6.223700046539307, -6.370200157165527, -6.4430999755859375, -6.587100028991699, -6.624300003051758, -6.698999881744385, -6.849699974060059, -6.962600231170654, -7.009900093078613, -7.041900157928467, -7.128799915313721, -7.159599781036377, -7.162300109863281, -7.152500152587891, -7.233099937438965, -7.233099937438965, -7.274199962615967, -7.291999816894531, -7.325799942016602, -6.3796000480651855, -7.3379998207092285, -7.359499931335449, -7.206299781799316, -7.379799842834473, -5.931399822235107, -6.402699947357178, -5.906499862670898, -6.749899864196777, -6.398200035095215, -6.076900005340576, -6.836100101470947, -3.7651000022888184, -5.953400135040283, -6.40339994430542, -5.145899772644043, -4.203499794006348, -4.158100128173828, -4.435800075531006, -4.247900009155273, -3.7827000617980957, -6.590400218963623, -5.793900012969971, -6.338900089263916, -5.650899887084961, -4.593900203704834, -5.009200096130371, -4.8597002029418945, -5.4079999923706055, -5.6031999588012695, -5.9791998863220215, -6.203199863433838, -6.1479997634887695, -6.3024001121521, -6.057300090789795, -5.925300121307373, -6.215799808502197, -5.854400157928467, -5.131400108337402, -6.276899814605713, -6.240900039672852, -6.405700206756592, -6.446800231933594, -6.478700160980225, -6.464200019836426, -6.492199897766113, -6.474800109863281, -6.439199924468994, -6.601799964904785, -6.435699939727783, -6.658400058746338, -6.669899940490723, -6.673999786376953, -6.700399875640869, -6.70959997177124, -6.722400188446045, -6.417600154876709, -6.788099765777588, -6.810400009155273, -6.875500202178955, -6.89739990234375, -6.880199909210205, -6.910799980163574, -4.940999984741211, -5.374899864196777, -6.918900012969971, -6.944799900054932, -6.0782999992370605, -5.53410005569458, -6.45389986038208, -5.371099948883057, -5.78249979019165, -5.69379997253418, -6.368000030517578, -4.579400062561035, -5.062300205230713, -6.1768999099731445, -5.8597002029418945, -5.274199962615967, -5.956699848175049, -6.426199913024902, -5.539100170135498, -5.690800189971924, -5.662899971008301, -5.5192999839782715, -5.423999786376953, -5.130199909210205, -5.3333001136779785, -4.92710018157959, -5.633600234985352, -5.830399990081787, -4.078499794006348, -5.151700019836426, -5.8358001708984375, -5.545300006866455, -5.629000186920166, -5.729300022125244, -5.243599891662598, -5.262700080871582, -5.265699863433838, -5.485599994659424, -5.518099784851074, -5.567200183868408, -5.747200012207031, -5.598100185394287, -5.807000160217285, -5.816800117492676, -6.230800151824951, -6.2972002029418945, -6.279200077056885, -6.367400169372559, -6.372499942779541, -6.422299861907959, -6.427599906921387, -6.432700157165527, -5.282199859619141, -6.464300155639648, -6.4969000816345215, -6.502799987792969, -6.521999835968018, -6.522299766540527, -6.529799938201904, -6.539899826049805, -6.541800022125244, -6.583099842071533, -6.557799816131592, -6.595799922943115, -6.699100017547607, -6.041500091552734, -6.024499893188477, -6.7642998695373535, -6.799300193786621, -6.715000152587891, -6.843599796295166, -5.718500137329102, -6.362800121307373, -6.513999938964844, -5.643099784851074, -6.111199855804443, -6.352399826049805, -6.112500190734863, -5.729599952697754, -4.993299961090088, -6.188300132751465, -5.58050012588501, -5.952400207519531, -5.8231000900268555, -5.660900115966797, -4.137899875640869, -5.782800197601318, -4.815999984741211, -5.9039998054504395, -6.04449987411499, -6.013999938964844, -5.443699836730957, -6.084400177001953, -5.889599800109863, -6.159299850463867, -6.224800109863281, -4.4303998947143555, -5.236199855804443, -5.735499858856201, -5.748899936676025, -5.8155999183654785, -5.844600200653076, -5.85129976272583, -5.978300094604492, -5.991300106048584, -6.150599956512451, -6.222700119018555, -6.223899841308594, -5.326499938964844, -6.291999816894531, -6.329999923706055, -6.310999870300293, -6.348299980163574, -6.367099761962891, -6.422900199890137, -6.479000091552734, -6.500800132751465, -6.561200141906738, -6.594299793243408, -6.612100124359131, -6.604000091552734, -6.629499912261963, -6.651599884033203, -6.655900001525879, -6.678699970245361, -6.684599876403809, -5.4440999031066895, -4.695899963378906, -6.582799911499023, -6.023099899291992, -5.452499866485596, -6.296599864959717, -4.892199993133545, -5.134399890899658, -6.103799819946289, -6.263000011444092, -6.121399879455566, -6.103499889373779, -6.380899906158447, -6.262199878692627, -6.326000213623047, -4.231599807739258, -5.747700214385986, -5.6992998123168945, -5.783100128173828, -5.927999973297119, -5.685500144958496, -6.083899974822998, -6.147200107574463, -6.185800075531006, -6.239299774169922, -6.26039981842041, -6.32480001449585, -6.324399948120117, -6.372099876403809, -6.411799907684326, -6.418099880218506, -6.40939998626709, -6.456500053405762, -6.4918999671936035, -6.540800094604492, -6.696800231933594, -6.723400115966797, -6.848999977111816, -6.904600143432617, -6.929200172424316, -6.926300048828125, -6.9532999992370605, -6.971399784088135, -7.009500026702881, -6.997300148010254, -6.446700096130371, -5.929999828338623, -5.890900135040283, -5.16949987411499, -6.098899841308594, -6.2596001625061035, -6.209000110626221, -5.426400184631348, -5.480199813842773, -6.386099815368652, -5.367700099945068, -5.967100143432617, -5.619100093841553, -6.224800109863281, -6.190100193023682, -5.808199882507324, -6.192200183868408, -6.123300075531006, -6.111700057983398, -6.295199871063232, -4.621200084686279, -4.952899932861328, -5.50600004196167, -5.609000205993652, -5.803999900817871, -5.803999900817871, -6.144100189208984, -6.281400203704834, -6.304599761962891, -6.319200038909912, -6.374800205230713, -6.368299961090088, -6.452199935913086, -6.312399864196777, -6.468299865722656, -6.501800060272217, -6.501800060272217, -6.5381999015808105, -6.592299938201904, -6.58620023727417, -6.634799957275391, -6.6458001136779785, -6.745200157165527, -6.740300178527832, -6.807199954986572, -6.835700035095215, -6.861400127410889, -6.856500148773193, -6.884300231933594, -6.884300231933594, -6.10260009765625, -6.280200004577637, -5.695799827575684, -5.835299968719482, -6.01140022277832, -6.405700206756592, -5.730000019073486, -5.55049991607666, -5.315100193023682, -5.549799919128418, -5.356500148773193, -6.109799861907959, -6.053400039672852, -6.00029993057251, -6.399700164794922, -6.087699890136719, -6.234799861907959, -6.3856000900268555, -4.758600234985352, -5.203499794006348, -5.735199928283691, -6.13040018081665, -6.153800010681152, -6.156099796295166, -6.156099796295166, -6.156099796295166, -6.188000202178955, -6.272500038146973, -6.312099933624268, -6.375999927520752, -6.346499919891357, -6.44320011138916, -6.449100017547607, -5.9243998527526855, -6.44890022277832, -6.60290002822876, -6.59660005569458, -6.639200210571289, -6.673600196838379, -6.7555999755859375, -6.760200023651123, -5.144800186157227, -6.818600177764893, -6.849100112915039, -6.883900165557861, -6.936299800872803, -6.938199996948242, -6.982900142669678, -6.111999988555908, -6.104400157928467, -6.163899898529053, -6.496300220489502, -5.975299835205078, -5.998700141906738, -6.071199893951416, -6.186200141906738, -5.351099967956543, -5.521399974822998, -5.742400169372559, -5.74399995803833, -5.929900169372559, -6.161200046539307, -6.127500057220459, -6.18209981918335, -6.060699939727783, -6.081900119781494, -6.168799877166748, -6.23799991607666, -5.420899868011475, -5.6321001052856445, -5.840400218963623, -6.047399997711182, -5.664299964904785, -6.405700206756592, -6.483500003814697, -6.494100093841553, -6.5295000076293945, -6.549900054931641, -6.610099792480469, -6.6265997886657715, -5.892499923706055, -6.730899810791016, -6.735899925231934, -6.755300045013428, -6.026700019836426, -6.930799961090088, -6.949399948120117, -6.992800235748291, -7.005300045013428, -7.023200035095215, -7.033100128173828, -7.111800193786621, -7.111800193786621, -7.126100063323975, -7.126800060272217, -7.138500213623047, -7.142199993133545, -5.5279998779296875, -6.985099792480469, -5.945700168609619, -6.68310022354126, -6.798999786376953, -5.253900051116943, -5.619699954986572, -6.378200054168701, -6.605999946594238, -6.724599838256836, -6.6092000007629395, -6.546599864959717, -6.806399822235107, -6.780600070953369], \"loglift\": [30.0, 29.0, 28.0, 27.0, 26.0, 25.0, 24.0, 23.0, 22.0, 21.0, 20.0, 19.0, 18.0, 17.0, 16.0, 15.0, 14.0, 13.0, 12.0, 11.0, 10.0, 9.0, 8.0, 7.0, 6.0, 5.0, 4.0, 3.0, 2.0, 1.0, 1.6713, 1.6713, 1.6706, 1.6705, 1.6695, 1.6687, 1.6683, 1.6682, 1.6679, 1.6679, 1.6677, 1.6674, 1.6673, 1.6672, 1.6667, 1.6664, 1.666, 1.6658, 1.6657, 1.6657, 1.6655, 1.6655, 1.6649, 1.6648, 1.6646, 1.6646, 1.6645, 1.664, 1.6638, 1.6637, 1.6567, 1.6565, 1.6562, 1.6584, 1.6453, 1.6533, 1.6582, 1.6119, 1.6168, 1.6459, 1.5631, 1.6005, 1.6197, 1.594, 1.5659, 1.3608, 1.6068, 1.4222, 1.4542, 1.3475, 1.0511, 1.2846, 0.8347, 1.1919, 0.4948, 1.201, -0.024, 1.1861, 0.7673, 0.8266, 0.3702, 0.9577, 0.4943, 0.1029, 0.721, 0.3063, 0.8214, 0.6813, 0.8266, 1.0706, 0.2367, 0.3957, 0.3434, 0.59, -0.3065, -0.2929, 0.296, -0.2508, 0.3534, 0.2688, 1.8007, 1.7999, 1.7995, 1.7995, 1.7993, 1.7987, 1.7985, 1.7982, 1.7976, 1.7972, 1.797, 1.7969, 1.7966, 1.7962, 1.7962, 1.796, 1.7958, 1.7958, 1.7957, 1.7956, 1.7955, 1.7952, 1.7948, 1.7942, 1.7936, 1.7935, 1.7933, 1.7933, 1.7932, 1.7926, 1.7898, 1.7849, 1.7855, 1.7831, 1.7912, 1.7919, 1.7848, 1.7744, 1.7585, 1.7845, 1.7884, 1.763, 1.7873, 1.7863, 1.7318, 1.7672, 1.7166, 1.7526, 1.7397, 1.7351, 1.7429, 1.7427, 1.6788, 1.675, 1.6919, 1.6449, 1.6656, 1.6649, 1.5946, 1.4814, 1.465, 1.6361, 1.611, 1.6514, 1.5417, 1.6282, 1.4961, 1.0516, 1.1198, 1.1574, 1.2107, -0.1491, 1.0628, 1.2878, 1.1609, 0.8577, 1.2336, 0.25, 0.8294, 0.219, 0.4434, -0.1786, 0.2662, 0.2334, 0.9662, 0.2763, 0.1902, -0.423, -0.3049, 0.4881, 0.6489, 0.3483, 1.9439, 1.9434, 1.9433, 1.9432, 1.9397, 1.9395, 1.9393, 1.9381, 1.9379, 1.9375, 1.9374, 1.937, 1.936, 1.9358, 1.9357, 1.9351, 1.9347, 1.9342, 1.9338, 1.9336, 1.9333, 1.9332, 1.9331, 1.9328, 1.9325, 1.9321, 1.9318, 1.9318, 1.9311, 1.931, 1.9301, 1.9293, 1.93, 1.9126, 1.9178, 1.9212, 1.8952, 1.9229, 1.9226, 1.7647, 1.799, 1.3227, 1.6342, 1.8387, 0.9875, 1.7689, 1.8595, 1.6967, 1.3264, 0.9805, 1.2253, 0.9663, 1.0137, 1.4272, 1.2408, 1.6992, 0.8085, 1.3723, 0.9196, 1.329, 0.8062, 1.6612, 1.2196, 1.3129, 1.0007, 0.6927, 1.066, 1.236, 1.0914, 1.2655, 1.0519, 1.0472, 1.1072, 0.9971, 1.0398, 1.2373, 0.9326, -0.2338, 0.3217, 0.0963, 0.7245, -0.0707, 0.0955, 0.3891, 0.1366, 0.1974, 2.5729, 2.5713, 2.5709, 2.5708, 2.5708, 2.5706, 2.5702, 2.5701, 2.5695, 2.5688, 2.5679, 2.5679, 2.5673, 2.5667, 2.5666, 2.5662, 2.5643, 2.5633, 2.563, 2.5629, 2.5627, 2.5627, 2.5626, 2.5623, 2.5623, 2.5619, 2.5615, 2.5615, 2.5613, 2.5613, 2.5611, 2.5562, 2.5479, 2.5584, 2.5473, 2.5234, 2.4701, 2.4932, 2.4337, 2.4756, 2.5108, 2.4686, 2.4964, 2.4536, 2.421, 2.4051, 2.22, 2.3592, 2.3532, 2.2109, 1.9237, 1.9046, 1.9555, 2.0621, 2.1673, -0.4532, 0.9899, -0.0259, 0.6538, 0.7723, 0.9961, 0.4914, 0.1788, 0.0516, 1.0761, 0.4538, 0.3245, -0.0129, 1.0708, -0.6619, -0.7183, -0.8448, 2.6203, 2.6179, 2.6163, 2.6159, 2.6142, 2.6137, 2.6111, 2.6111, 2.6111, 2.6104, 2.6102, 2.6094, 2.6092, 2.609, 2.6088, 2.6082, 2.6069, 2.6069, 2.6069, 2.6063, 2.6061, 2.6059, 2.6055, 2.6055, 2.6055, 2.6049, 2.6047, 2.6044, 2.6043, 2.6041, 2.6008, 2.5999, 2.6002, 2.604, 2.6005, 2.6005, 2.5873, 2.5847, 2.5448, 2.5531, 2.5863, 2.5293, 2.4337, 2.3631, 2.3351, 2.5419, 2.5531, 2.4876, 2.2589, 2.1134, 2.2987, 2.1627, 2.1907, 2.2397, 2.1514, 1.9162, 2.103, 2.1794, 1.7493, 1.7319, 1.6003, 1.8674, 2.1151, 1.6098, 1.8426, 0.8699, 1.0357, -0.8532, 1.8156, 1.0669, 1.9056, 1.5036, 0.2993, 0.7943, 0.1362, -0.3627, 1.0038, -0.4217, 0.9068, 1.3239, 1.3352, -0.4192, 0.0525, -0.3494, -0.5642, -0.9339, 0.9128, 0.8103, -1.4224, 2.6439, 2.6423, 2.6421, 2.6418, 2.6401, 2.64, 2.6398, 2.6391, 2.6385, 2.6384, 2.6364, 2.6364, 2.6357, 2.6355, 2.6353, 2.6345, 2.6338, 2.633, 2.6328, 2.6327, 2.6326, 2.632, 2.6314, 2.6311, 2.6311, 2.6309, 2.6307, 2.6306, 2.6305, 2.63, 2.6293, 2.5916, 2.613, 2.6079, 2.6236, 2.5815, 2.5929, 2.5388, 2.4735, 2.4707, 2.5707, 2.4906, 2.4077, 2.4781, 2.3942, 2.3323, 2.2491, 2.3596, 2.4329, 2.3309, 2.3789, 2.2413, 2.2947, 2.3128, 2.4299, 2.3364, 2.4603, 2.1218, 2.2424, 1.2821, 1.9401, 1.0866, 0.5499, 1.1511, 1.5235, 0.9958, 1.4747, 1.0192, 0.426, -1.1859, 0.5473, 0.3059, 1.1205, 1.0715, 0.5505, 0.5225, 1.3342, 0.1221, 0.6346, 0.4122, 0.9818, 0.4023, -0.7586, 2.6789, 2.6721, 2.6715, 2.6712, 2.6709, 2.6703, 2.6702, 2.6698, 2.6693, 2.6686, 2.6678, 2.6672, 2.6667, 2.6664, 2.6659, 2.6657, 2.6651, 2.6647, 2.664, 2.6634, 2.6626, 2.6625, 2.6621, 2.6618, 2.6616, 2.6611, 2.6609, 2.6608, 2.6601, 2.6596, 2.6456, 2.6372, 2.6571, 2.649, 2.5913, 2.6294, 2.5779, 2.6406, 2.6119, 2.5851, 2.5625, 2.5126, 2.4617, 2.6103, 2.5472, 2.5644, 2.5742, 2.5156, 2.3488, 2.5291, 2.4841, 1.8742, 2.3654, 2.388, 2.1258, 2.0993, 1.8427, 0.597, 1.6726, 2.0012, 2.0617, -0.31, 1.6738, 1.1586, 1.0678, 0.6847, 0.5928, 0.7344, 0.3248, 0.2691, 0.2185, 0.7856, 0.7254, 0.8103, 0.5899, -0.0623, 0.7204, 0.2665, 0.3369, 0.6628, 0.0881, 0.119, 0.4836, 0.5614, 0.0858, 0.3582, 3.0194, 3.0174, 3.0171, 3.0166, 3.0154, 3.0149, 3.0148, 3.0146, 3.0145, 3.0144, 3.0141, 3.0138, 3.0119, 3.0103, 3.01, 3.0099, 3.0099, 3.0099, 3.0098, 3.009, 3.0085, 3.0085, 3.0078, 3.0061, 3.0058, 3.0055, 3.0051, 3.0049, 3.0047, 3.0047, 3.0034, 3.0033, 2.9907, 2.9907, 3.0044, 2.9479, 2.9844, 2.9685, 2.9386, 2.9783, 2.9882, 2.9125, 2.9393, 2.9022, 2.9563, 2.9371, 2.7495, 2.8398, 2.9152, 2.6857, 2.9349, 2.8393, 2.855, 2.8322, 2.4786, 1.7034, 2.3456, 0.5915, 1.1322, 2.3392, 0.872, 1.2577, -0.9199, 1.07, 0.9307, 1.1368, 0.0086, 0.811, 0.6244, -0.016, 0.4487, -0.0448, 0.263, 0.1775, 0.0056, -0.0379, 3.0204, 3.0202, 3.0199, 3.0197, 3.0196, 3.0194, 3.0192, 3.0182, 3.018, 3.0175, 3.0174, 3.0171, 3.0166, 3.0166, 3.0166, 3.0124, 3.0124, 3.0111, 3.0077, 3.006, 3.0059, 3.0054, 3.0049, 3.0044, 3.0037, 3.0025, 3.0023, 3.0018, 3.0004, 3.0002, 2.9737, 2.9859, 2.9868, 2.9577, 2.9538, 2.9423, 2.973, 2.7085, 2.9669, 2.9557, 2.9508, 2.8151, 2.5318, 2.6353, 2.5529, 2.5901, 2.4933, 2.8299, 2.497, 2.3857, 2.767, 2.3948, 2.1894, 2.8721, 2.3326, 2.4629, 2.0212, 2.2569, 2.5329, 2.4868, 0.1305, 2.4491, 2.3199, 2.0669, 1.8351, 1.823, 2.2546, 2.3065, 1.8918, 1.9472, 1.6253, 1.703, 2.2099, 1.4252, 1.3956, 3.3733, 3.372, 3.3718, 3.3705, 3.3668, 3.366, 3.3655, 3.3648, 3.3647, 3.364, 3.3629, 3.3629, 3.362, 3.3602, 3.3602, 3.3593, 3.3585, 3.358, 3.3578, 3.3571, 3.3556, 3.3539, 3.3521, 3.352, 3.3509, 3.3507, 3.35, 3.349, 3.349, 3.3478, 3.3454, 3.3277, 3.3328, 3.3142, 3.2769, 3.322, 3.3429, 3.2572, 3.2714, 3.211, 3.2125, 3.2747, 3.3239, 3.1162, 3.2363, 3.2927, 2.9781, 3.1523, 3.1326, 3.0102, 3.1053, 2.4529, 2.2527, 3.2132, 2.7146, 2.3271, 2.6043, -0.7341, 2.8476, 2.5144, 2.1837, 1.2865, 2.4128, 2.2973, 0.24, -0.7481, -0.728, 1.3503, 0.3346, -0.8309, -0.3318, -0.0785, -0.5369, -1.2934, 3.678, 3.6767, 3.6735, 3.6732, 3.6723, 3.6712, 3.6665, 3.6661, 3.6646, 3.6625, 3.6625, 3.6622, 3.6621, 3.6611, 3.6601, 3.6594, 3.6585, 3.6583, 3.6583, 3.658, 3.6577, 3.6569, 3.6563, 3.6559, 3.6548, 3.6534, 3.6523, 3.6523, 3.652, 3.6516, 3.6492, 3.6506, 3.63, 3.6268, 3.6416, 3.5951, 3.6308, 3.6438, 3.3538, 3.4478, 3.5647, 3.5996, 3.5622, 3.4791, 3.4492, 3.5174, 3.4673, 3.0038, 2.8681, 3.2765, 3.1015, 2.9139, 3.3745, 2.495, 2.6982, 2.7487, 2.6064, 2.9086, -1.0432, 1.4597, 2.9014, 2.2943, 1.7651, 0.1591, 1.658, 1.7983, 0.7839, -0.7609, -0.4039, -0.8129, 4.094, 4.0915, 4.0843, 4.0776, 4.0738, 4.0734, 4.0686, 4.0666, 4.0647, 4.063, 4.0606, 4.0605, 4.0585, 4.0504, 4.0498, 4.0478, 4.0437, 4.0398, 4.0348, 4.0296, 4.0292, 4.029, 4.029, 4.029, 4.029, 4.0289, 4.0256, 4.0252, 4.0249, 4.0241, 4.0239, 4.0201, 4.0115, 4.0178, 3.9939, 3.9503, 4.0191, 3.9471, 3.9616, 3.7696, 3.9049, 3.799, 3.7944, 3.7851, 3.82, 3.7255, 3.5507, 3.0263, 3.3301, 3.0278, 2.1975, 0.762, 3.2255, 2.8204, 3.5616, 3.2881, 2.445, 1.8842, 3.2098, 1.9658, 1.9874, 2.086, 2.3703, 1.0942, 2.8089, 1.9795, 0.2958, 1.5633, 0.3275, 1.6799, 0.8223, 0.2473, 2.5374, 1.1033, 0.6711, -0.9122, 4.4976, 4.4954, 4.4927, 4.4915, 4.4855, 4.4809, 4.477, 4.4738, 4.4719, 4.468, 4.4668, 4.4643, 4.4592, 4.4546, 4.4525, 4.4511, 4.4469, 4.4454, 4.4453, 4.4453, 4.4415, 4.4415, 4.4393, 4.438, 4.4363, 4.4351, 4.4347, 4.4342, 4.4332, 4.4329, 4.4203, 4.4215, 4.4082, 4.4167, 4.3945, 4.3716, 4.4114, 4.058, 4.2804, 4.3346, 4.135, 3.9282, 3.8984, 3.9235, 3.8748, 3.5446, 4.3195, 3.9312, 4.1909, 3.7631, 3.0255, 3.2007, 2.7886, 2.7455, 2.7345, 3.2037, 3.695, 3.452, 3.9562, 1.0841, -2.8896, 1.1335, 4.6333, 4.6251, 4.6242, 4.6221, 4.6208, 4.6191, 4.6184, 4.6184, 4.6182, 4.6174, 4.6164, 4.6145, 4.6135, 4.6124, 4.6119, 4.6118, 4.6108, 4.6104, 4.6099, 4.6099, 4.6072, 4.6063, 4.6033, 4.6024, 4.6018, 4.6016, 4.6014, 4.6007, 4.6003, 4.6001, 4.5947, 4.5882, 4.5958, 4.5556, 4.4905, 4.4552, 4.5057, 4.069, 3.8921, 4.3158, 4.0981, 3.5777, 4.0923, 4.4235, 3.5518, 3.6914, 3.4563, 3.2189, 2.935, 2.0408, 2.34, 1.4058, 2.9035, 3.2457, -1.0428, 1.482, 3.2014, 2.1585, 1.6983, 2.1645, -0.2453, -0.1652, -0.1878, -0.5618, -0.8225, -0.11, -0.2749, 4.8697, 4.8674, 4.8673, 4.8547, 4.853, 4.8529, 4.852, 4.8518, 4.85, 4.8498, 4.8496, 4.8494, 4.8484, 4.8471, 4.8463, 4.8461, 4.846, 4.8457, 4.8453, 4.8453, 4.8431, 4.8398, 4.8397, 4.8381, 4.838, 4.8358, 4.8347, 4.8327, 4.8308, 4.8305, 4.8276, 4.8289, 4.83, 4.7971, 4.7841, 4.7842, 4.7191, 4.4352, 4.0119, 4.5848, 3.5537, 4.0348, 3.6904, 3.3404, -1.1022, 2.9442, 0.1079, 3.1618, 3.539, 3.4158, 0.9875, 3.1877, 0.524, 2.9089, 2.5867, 5.1169, 5.1086, 5.0985, 5.0984, 5.0966, 5.096, 5.0954, 5.0923, 5.0914, 5.0865, 5.0838, 5.0828, 5.0819, 5.0808, 5.0794, 5.0788, 5.0784, 5.0768, 5.0752, 5.0724, 5.0712, 5.0681, 5.0663, 5.0653, 5.0647, 5.064, 5.0631, 5.0628, 5.0615, 5.0605, 5.0598, 5.043, 5.0578, 5.0036, 4.9297, 5.0075, 4.3573, 4.326, 4.5707, 4.5557, 4.1159, 3.8153, 4.6794, 3.4164, 3.577, 5.467, 5.4412, 5.4403, 5.4388, 5.4335, 5.4292, 5.4269, 5.4239, 5.4214, 5.4192, 5.4178, 5.4142, 5.4128, 5.4111, 5.4087, 5.4083, 5.4072, 5.4057, 5.4024, 5.3996, 5.3872, 5.3839, 5.3728, 5.3676, 5.3651, 5.3646, 5.3623, 5.3602, 5.3551, 5.3504, 5.3159, 5.2408, 4.9952, 4.4507, 4.8549, 4.941, 4.8998, 4.2609, 4.1366, 4.993, 2.3096, 3.7842, 2.3131, 4.4172, 4.2061, 2.1036, 3.966, 0.1321, -3.076, 2.1238, 5.7296, 5.7175, 5.7082, 5.7039, 5.6957, 5.6957, 5.6763, 5.6663, 5.665, 5.6639, 5.6595, 5.6588, 5.6529, 5.6519, 5.651, 5.6481, 5.6481, 5.6451, 5.6397, 5.6394, 5.6353, 5.6338, 5.6234, 5.6196, 5.6137, 5.6125, 5.6094, 5.6085, 5.6064, 5.6064, 5.588, 5.5503, 5.1923, 5.066, 5.1011, 5.3001, 4.4053, 4.0654, 3.4629, 3.4716, 2.9871, 4.4462, 4.2652, 4.1032, 5.0937, 2.7712, 1.207, 1.2627, 6.1268, 6.1098, 6.0842, 6.0504, 6.0503, 6.0502, 6.0502, 6.0502, 6.0472, 6.0383, 6.0338, 6.0246, 6.0201, 6.0182, 6.0175, 6.0106, 6.0066, 5.9967, 5.9925, 5.9913, 5.986, 5.973, 5.9722, 5.9674, 5.9624, 5.9569, 5.9507, 5.9408, 5.9404, 5.9318, 5.5948, 5.2696, 5.296, 5.5482, 4.9527, 4.9758, 5.0485, 4.8525, 2.862, 2.9575, 3.3142, 3.2787, 3.0754, 3.9983, 3.7345, 4.1057, 2.7173, 2.6631, 3.0239, 4.3243, 6.7175, 6.6813, 6.6682, 6.6389, 6.6124, 6.5736, 6.5564, 6.5536, 6.5458, 6.5409, 6.5263, 6.522, 6.4984, 6.4946, 6.4933, 6.4875, 6.4771, 6.4358, 6.4298, 6.416, 6.4119, 6.4059, 6.4014, 6.375, 6.3749, 6.3703, 6.3678, 6.3658, 6.3645, 6.3581, 6.3565, 6.198, 6.281, 6.2879, 5.0156, 4.8709, 5.6329, 5.7054, 5.3844, 4.8687, 3.9274, 5.0853, 4.788]}, \"token.table\": {\"Topic\": [1, 2, 3, 4, 5, 6, 7, 8, 9, 10, 11, 12, 13, 14, 15, 16, 17, 18, 1, 2, 3, 4, 5, 6, 7, 8, 9, 10, 11, 12, 14, 15, 17, 18, 1, 2, 3, 4, 5, 6, 7, 8, 9, 10, 11, 12, 14, 15, 18, 1, 2, 3, 5, 6, 7, 8, 9, 10, 11, 14, 15, 17, 2, 9, 12, 1, 2, 9, 18, 16, 3, 9, 16, 9, 19, 17, 1, 2, 3, 4, 5, 6, 7, 8, 9, 10, 11, 12, 14, 15, 1, 2, 3, 4, 5, 6, 7, 8, 9, 10, 11, 13, 14, 15, 17, 13, 1, 2, 3, 4, 5, 6, 7, 8, 9, 10, 11, 12, 13, 14, 17, 16, 1, 3, 9, 19, 1, 2, 3, 4, 5, 6, 7, 8, 9, 10, 11, 12, 13, 14, 15, 1, 2, 3, 4, 5, 6, 7, 8, 9, 10, 11, 13, 14, 1, 2, 3, 4, 5, 6, 7, 8, 9, 10, 11, 13, 14, 17, 1, 2, 3, 4, 5, 6, 7, 8, 9, 10, 11, 14, 1, 2, 3, 4, 5, 6, 7, 8, 9, 10, 11, 14, 9, 3, 13, 6, 3, 6, 10, 19, 3, 5, 7, 11, 19, 2, 3, 4, 5, 6, 7, 8, 9, 10, 11, 12, 1, 2, 3, 4, 5, 6, 7, 8, 9, 10, 11, 12, 14, 15, 17, 18, 20, 1, 2, 3, 6, 7, 8, 9, 1, 2, 3, 4, 5, 6, 7, 8, 9, 10, 11, 12, 14, 1, 2, 3, 4, 5, 6, 7, 8, 9, 10, 11, 13, 14, 16, 17, 15, 3, 2, 1, 2, 3, 4, 5, 6, 7, 8, 9, 10, 11, 12, 14, 15, 9, 1, 2, 3, 4, 5, 6, 7, 8, 9, 10, 11, 14, 1, 7, 1, 2, 3, 4, 5, 6, 7, 8, 9, 10, 11, 12, 14, 16, 1, 2, 3, 4, 5, 6, 7, 8, 9, 10, 11, 1, 2, 3, 4, 5, 6, 7, 8, 9, 10, 11, 1, 2, 3, 4, 5, 6, 7, 8, 9, 10, 1, 2, 3, 5, 6, 7, 9, 10, 15, 1, 2, 3, 4, 5, 7, 9, 10, 11, 1, 2, 3, 4, 5, 6, 7, 8, 9, 10, 15, 13, 16, 1, 2, 3, 4, 5, 6, 7, 8, 9, 10, 11, 12, 14, 16, 1, 2, 3, 1, 2, 3, 4, 5, 6, 7, 8, 9, 10, 11, 12, 13, 14, 17, 7, 9, 13, 1, 2, 3, 4, 5, 6, 7, 8, 9, 10, 11, 12, 13, 15, 1, 2, 3, 4, 5, 6, 7, 8, 9, 10, 11, 12, 13, 14, 13, 5, 16, 1, 2, 3, 4, 5, 6, 7, 8, 9, 10, 11, 12, 13, 14, 15, 4, 2, 10, 13, 1, 2, 3, 4, 5, 6, 7, 8, 9, 10, 11, 12, 13, 14, 8, 1, 2, 3, 4, 5, 6, 7, 8, 9, 10, 12, 15, 17, 8, 1, 2, 3, 9, 10, 16, 9, 15, 3, 4, 12, 13, 20, 6, 1, 6, 15, 2, 20, 1, 3, 8, 11, 17, 6, 20, 12, 17, 16, 3, 8, 14, 1, 5, 19, 3, 1, 4, 15, 1, 4, 5, 6, 9, 15, 17, 16, 11, 2, 3, 9, 1, 2, 3, 4, 5, 6, 7, 8, 9, 10, 11, 15, 17, 18, 1, 2, 3, 4, 5, 6, 7, 8, 9, 10, 11, 13, 14, 15, 11, 11, 17, 17, 6, 11, 14, 18, 6, 11, 6, 11, 11, 13, 5, 1, 14, 4, 19, 6, 6, 6, 1, 3, 4, 6, 7, 7, 3, 7, 17, 1, 3, 7, 17, 9, 16, 9, 7, 15, 10, 3, 10, 19, 6, 3, 5, 6, 5, 8, 11, 11, 19, 11, 1, 11, 3, 19, 17, 15, 15, 1, 2, 3, 4, 5, 7, 8, 9, 10, 19, 7, 8, 15, 1, 2, 3, 5, 6, 7, 8, 9, 10, 13, 18, 9, 19, 1, 2, 3, 4, 5, 7, 8, 9, 10, 11, 12, 14, 16, 9, 5, 9, 2, 7, 13, 15, 2, 7, 9, 1, 2, 3, 4, 5, 6, 7, 8, 9, 10, 11, 12, 14, 16, 17, 8, 15, 5, 16, 17, 15, 8, 19, 1, 2, 3, 4, 5, 6, 7, 8, 9, 10, 11, 17, 15, 15, 20, 8, 16, 2, 3, 4, 1, 2, 3, 7, 8, 9, 10, 14, 19, 1, 7, 1, 2, 3, 7, 9, 1, 1, 11, 1, 3, 14, 8, 1, 3, 4, 5, 6, 8, 4, 3, 4, 10, 19, 9, 12, 9, 12, 2, 3, 6, 2, 17, 1, 2, 3, 4, 5, 6, 7, 8, 9, 10, 1, 8, 19, 1, 14, 6, 13, 8, 9, 6, 12, 4, 20, 4, 9, 7, 15, 3, 13, 2, 8, 13, 12, 1, 6, 11, 3, 5, 8, 10, 7, 3, 7, 9, 2, 18, 5, 5, 11, 5, 1, 2, 3, 4, 5, 6, 7, 8, 9, 10, 11, 12, 13, 16, 7, 3, 5, 7, 10, 19, 12, 8, 15, 20, 12, 1, 2, 3, 4, 5, 6, 7, 8, 9, 10, 15, 18, 19, 1, 2, 3, 5, 6, 9, 11, 14, 20, 3, 7, 2, 13, 8, 15, 2, 4, 16, 20, 1, 2, 3, 4, 5, 10, 1, 3, 6, 14, 20, 3, 11, 17, 19, 5, 6, 8, 11, 15, 15, 18, 1, 18, 16, 19, 19, 3, 8, 6, 19, 9, 13, 2, 3, 4, 7, 9, 2, 15, 16, 1, 2, 3, 4, 5, 7, 9, 10, 11, 13, 14, 16, 16, 2, 3, 12, 7, 8, 15, 13, 19, 2, 5, 18, 1, 14, 11, 17, 17, 12, 1, 3, 17, 8, 10, 15, 8, 19, 4, 1, 3, 2, 3, 5, 6, 5, 6, 11, 4, 6, 17, 10, 19, 5, 8, 1, 2, 13, 8, 9, 2, 3, 4, 5, 6, 11, 15, 17, 18, 8, 4, 5, 6, 3, 19, 5, 9, 10, 11, 12, 4, 12, 14, 19, 19, 11, 18, 12, 17, 8, 9, 15, 11, 18, 14, 3, 7, 1, 3, 4, 5, 3, 2, 13, 11, 9, 16, 10, 1, 2, 3, 4, 5, 6, 7, 8, 9, 10, 11, 14, 18, 13, 1, 2, 3, 4, 5, 6, 7, 10, 11, 12, 14, 15, 16, 7, 20, 20, 1, 11, 1, 11, 17, 11, 17, 11, 18, 17, 17, 2, 5, 10, 9, 19, 8, 1, 11, 1, 10, 16, 1, 11, 17, 1, 2, 3, 4, 5, 6, 7, 8, 9, 10, 11, 15, 17, 1, 2, 3, 5, 10, 11, 14, 15, 16, 19, 10, 1, 2, 3, 4, 5, 6, 7, 9, 10, 11, 13, 14, 16, 18, 17, 6, 17, 12, 2, 3, 5, 8, 9, 14, 8, 1, 18, 20, 16, 14, 20, 15, 4, 16, 1, 3, 4, 6, 7, 8, 9, 2, 14, 9, 1, 3, 5, 19, 16, 8, 9, 12, 14, 11, 12, 19, 17, 1, 2, 3, 4, 5, 6, 7, 8, 9, 10, 11, 13, 14, 15, 16, 17, 18, 3, 16, 18, 20, 1, 14, 8, 1, 3, 9, 19, 5, 6, 1, 2, 3, 4, 5, 6, 7, 8, 9, 10, 11, 13, 14, 16, 13, 2, 9, 3, 13, 2, 3, 5, 9, 16, 9, 4, 14, 5, 2, 3, 5, 13, 10, 17, 18, 6, 6, 6, 5, 10, 3, 20, 12, 2, 18, 2, 5, 6, 10, 3, 9, 18, 14, 14, 8, 1, 4, 11, 15, 18, 15, 5, 12, 5, 9, 10, 2, 3, 2, 2, 7, 6, 2, 3, 5, 10, 2, 3, 7, 19, 18, 3, 8, 9, 15, 1, 2, 3, 4, 5, 6, 7, 8, 9, 10, 11, 14, 15, 16, 18, 4, 1, 2, 3, 16, 9, 19, 1, 20, 1, 6, 11, 11, 15, 16, 1, 2, 3, 4, 5, 6, 7, 8, 9, 10, 11, 12, 13, 14, 15, 18, 5, 6, 1, 2, 3, 5, 15, 17, 7, 1, 2, 3, 4, 5, 6, 7, 8, 9, 10, 11, 14, 15, 17, 2, 18, 19, 3, 18, 16, 16, 5, 14, 10, 3, 1, 2, 3, 4, 5, 6, 7, 8, 9, 10, 11, 12, 13, 14, 15, 16, 17, 18, 3, 20, 6, 11, 2, 18, 3, 4, 14, 18, 18, 1, 2, 5, 8, 11, 11, 17, 17, 3, 4, 10, 14, 16, 8, 9, 14, 9, 14, 17, 8, 14, 4, 5, 7, 11, 5, 11, 14, 17, 1, 4, 5, 6, 8, 11, 3, 5, 9, 9, 10, 9, 13, 5, 1, 2, 3, 4, 7, 8, 9, 14, 9, 2, 7, 13, 18, 1, 2, 2, 15, 20, 2, 3, 4, 4, 9, 15, 15, 13, 3, 1, 2, 3, 4, 5, 6, 7, 8, 9, 10, 11, 13, 15, 1, 2, 3, 4, 5, 6, 7, 8, 10, 11, 17, 20, 3, 10, 17, 10, 18, 2, 3, 4, 5, 8, 9, 14, 19, 20, 18, 18, 1, 3, 5, 7, 8, 14, 3, 3, 17, 2, 7, 13, 13, 13, 6, 5, 16, 3, 3, 7, 2, 13, 2, 9, 17, 18, 5, 5, 9, 15, 12, 14, 2, 3, 1, 8, 9, 14, 9, 3, 13, 17, 9, 15, 19, 4, 4, 1, 15, 6, 11, 14, 18, 19, 11, 9, 11, 17, 3, 5, 20, 3, 20, 3, 8, 9, 3, 5, 10, 10, 3, 19, 5, 6, 7, 10, 8, 10, 10, 15, 1, 2, 3, 4, 5, 6, 7, 8, 9, 10, 11, 13, 14, 15, 8, 4, 15, 12, 1, 2, 3, 4, 5, 6, 7, 8, 9, 10, 11, 12, 14, 15, 16, 17, 18, 6, 18, 1, 6, 11, 1, 2, 3, 4, 5, 6, 7, 9, 10, 13, 14, 19, 6, 9, 5, 1, 2, 3, 5, 9, 17, 9, 9, 16, 1, 2, 3, 4, 5, 7, 10, 11, 14, 15, 16, 12, 20, 1, 20, 9, 11, 15, 18, 10, 2, 3, 5, 7, 8, 9, 10, 15, 18, 7, 17, 6, 11, 6, 11, 3, 16, 18, 12, 5, 12, 18, 1, 2, 3, 4, 5, 6, 7, 8, 9, 10, 11, 13, 14, 15, 16, 17, 3, 9, 2, 2, 2, 13, 10, 9, 3, 7, 18, 18, 16, 2, 15, 20, 6, 17, 5, 7, 8, 19, 1, 2, 3, 6, 10, 19, 2, 3, 16, 6, 8, 9, 15, 2, 3, 9, 15, 14, 11, 2, 3, 12, 2, 18, 13, 1, 2, 3, 4, 5, 7, 9, 14, 17, 3, 2, 5, 7, 3, 11, 1, 16, 9, 3, 19, 17, 10, 14, 1, 7, 9, 15, 17, 16, 20, 18, 3, 7, 1, 4, 5, 6, 7, 8, 9, 11, 1, 4, 5, 6, 7, 10, 2, 3, 4, 12, 15, 18, 2, 7, 10, 5, 16, 16, 6, 1, 2, 3, 4, 5, 10, 12, 11, 17, 19, 1, 2, 3, 4, 5, 6, 8, 10, 12, 17, 20, 1, 2, 3, 4, 5, 6, 7, 8, 15, 6, 11, 1, 1, 2, 3, 4, 5, 6, 7, 8, 9, 10, 11, 13, 14, 15, 16, 17, 18, 17, 13, 1, 1, 1, 3, 4, 5, 6, 7, 9, 11, 15, 18, 2, 10, 15, 1, 2, 3, 4, 5, 6, 11, 12, 3, 2, 3, 4, 6, 7, 7, 1, 2, 3, 4, 5, 6, 7, 9, 10, 12, 6, 6, 14, 10, 6, 5, 6, 8, 1, 2, 3, 4, 5, 6, 7, 8, 10, 11, 14, 15, 16, 19, 1, 9, 1, 2, 3, 4, 5, 6, 7, 8, 10, 14, 15, 8, 13, 1, 3, 7, 10, 10, 1, 4, 5, 6, 2, 13, 1, 2, 3, 4, 5, 6, 7, 8, 9, 10, 12, 17, 2, 16, 13, 15, 7, 10, 2, 2, 3, 12, 17, 1, 2, 3, 4, 5, 6, 7, 8, 10, 11, 12, 18, 1, 2, 3, 6, 8, 10, 18, 1, 5, 6, 7, 8, 10, 1, 5, 6, 10, 13, 1, 2, 3, 4, 5, 6, 7, 10, 17, 2, 4, 12, 13, 1, 2, 3, 4, 5, 7, 8, 9, 10, 11, 12, 14, 15, 2, 3, 6, 7, 8, 9, 10, 15, 4, 5, 16, 6, 9, 1, 3, 4, 6, 7, 10, 7, 1, 2, 3, 4, 6, 9, 11, 18, 3, 19, 1, 6, 20, 4, 18, 15, 14, 2, 12, 6, 1, 3, 5, 6, 10, 1, 2, 3, 4, 5, 6, 7, 11, 2, 3, 4, 7, 9, 10, 13, 15, 1, 6, 11, 1, 7, 7, 18, 4, 2, 3, 10, 15, 11, 4, 5, 6, 11, 12, 1, 2, 3, 4, 5, 6, 7, 8, 10, 11, 12, 14, 19, 3, 17, 1, 5, 3, 4, 9, 6, 8, 11, 1, 2, 3, 6, 7, 11, 1, 2, 3, 4, 5, 6, 7, 8, 9, 10, 11, 13, 15, 16, 10, 7, 1, 2, 4, 6, 7, 11, 2, 2, 14, 1, 3, 5, 7, 12, 1, 2, 13, 2, 3, 10, 13, 7, 1, 2, 3, 7, 5, 19, 6, 1, 2, 3, 4, 5, 6, 7, 8, 9, 10, 11, 13, 14, 7, 10, 18, 10, 20, 11, 11, 2, 15, 14, 1, 3, 4, 6, 11, 4, 4, 4, 14, 18, 18, 3, 1, 5, 6, 10, 12, 6, 1, 2, 3, 4, 5, 6, 9, 10, 11, 16, 18, 2, 4, 7, 7, 13, 4, 10, 1, 2, 3, 4, 5, 8, 10, 12, 14, 19, 1, 5, 16, 5, 20, 5, 16, 1, 5, 6, 11, 16, 9, 15, 2, 3, 4, 5, 7, 1, 2, 3, 5, 6, 7, 11, 19, 3, 12, 1, 5, 6, 15, 16, 1, 1, 3, 6, 7, 8, 15, 19, 12, 2, 15, 3, 6, 7, 1, 2, 3, 4, 6, 7, 8, 9, 10, 11, 13, 16, 17, 1, 2, 3, 4, 5, 6, 7, 9, 10, 1, 3, 5, 6, 7, 12, 18, 5, 10, 1, 2, 3, 4, 5, 6, 7, 8, 9, 10, 11, 12, 15, 3, 4, 16, 4, 4, 1, 3, 4, 5, 7, 10, 2, 3, 5, 9, 10, 12, 13, 13, 4, 1, 1, 2, 3, 4, 5, 6, 7, 8, 9, 10, 11, 14, 17, 1, 4, 5, 6, 8, 11, 16, 1, 3, 4, 6, 1, 2, 4, 6, 9, 11, 17, 1, 2, 3, 5, 6, 10, 11, 17, 1, 2, 3, 4, 5, 6, 7, 8, 10, 11, 14, 1, 1, 20, 2, 3, 6, 7, 8, 15, 1, 4, 6, 1, 2, 3, 4, 5, 6, 9, 11, 12, 2, 12, 1, 2, 3, 4, 6, 7, 8, 10, 15, 17, 1, 4, 6, 14, 19, 2, 5, 7, 10, 8, 9, 1, 2, 3, 1, 3, 5, 6, 7, 1, 2, 3, 4, 5, 6, 7, 8, 10, 11, 15, 2, 3, 5, 9, 12, 10, 13, 15, 20, 1, 2, 3, 4, 5, 9, 10, 11, 13, 14, 1, 2, 3, 5, 6, 8, 9, 12, 15, 1, 4, 14, 14, 3, 4, 7, 10, 6, 1, 2, 3, 5, 6, 7, 11, 15, 1, 2, 3, 4, 5, 6, 7, 8, 9, 10, 11, 12, 14, 15, 4, 6, 17, 5, 1, 2, 3, 4, 5, 6, 7, 8, 9, 10, 11, 12, 14, 15, 16, 1, 4, 5, 6, 8, 9, 10, 11, 12, 14, 17, 1, 3, 1, 9, 20, 5, 1, 2, 3, 4, 5, 6, 7, 8, 9, 10, 11, 12, 14, 15, 16, 1, 3, 4, 5, 6, 10, 11, 17, 2, 3, 17, 1, 5, 6, 1, 3, 4, 5, 6, 7, 10, 11, 15, 16, 18, 11, 12, 1, 2, 3, 4, 5, 6, 8, 10, 15, 16, 1, 3, 5, 6, 7, 12, 17, 1, 4, 6, 7, 10, 10, 4, 6, 1, 2, 3, 4, 5, 6, 7, 8, 10, 11, 15, 1, 2, 3, 4, 5, 6, 7, 8, 10, 11, 12, 14, 16, 2, 3, 7, 19, 1, 4, 5, 6, 1, 6, 7, 9, 1, 2, 3, 4, 5, 6, 7, 8, 9, 10, 11, 12, 17, 10, 16, 12, 1, 14, 5, 1, 2, 3, 4, 5, 6, 7, 8, 9, 10, 11, 12, 14, 15, 16, 17, 15, 1, 2, 3, 4, 5, 6, 7, 8, 10, 12, 17, 8, 8, 9, 15, 15, 15, 8, 6, 1, 5, 14, 1, 2, 3, 4, 5, 6, 7, 11, 12, 14, 17, 3, 14, 15, 16, 3, 13, 1, 2, 3, 4, 5, 6, 10, 17, 1, 2, 3, 4, 5, 6, 7, 8, 9, 10, 11, 12, 15, 19, 1, 2, 3, 4, 5, 6, 7, 8, 10, 11, 5, 16, 1, 20, 1, 2, 3, 4, 5, 6, 7, 8, 10, 12, 15, 1, 2, 3, 4, 5, 6, 7, 8, 9, 10, 11, 12, 14, 6, 11, 17, 8, 14, 1, 3, 4, 5, 6, 7, 2, 9, 12, 15, 2, 13, 3, 13, 1, 2, 3, 4, 5, 11, 14, 18, 1, 3, 12, 20, 6, 11, 17, 11, 18, 1, 5, 11, 17, 7, 14, 17, 14, 14, 1, 2, 3, 4, 6, 7, 8, 10, 2, 7, 17, 4, 1, 2, 3, 4, 5, 6, 7, 8, 10, 11, 14, 5, 7, 10, 1, 6, 1, 2, 3, 4, 5, 6, 7, 8, 9, 10, 11, 12, 14, 15, 16, 17, 18, 5, 20, 1, 3, 4, 5, 6, 9, 10, 11, 17, 7, 3, 5, 6, 10, 11, 1, 3, 4, 5, 6, 7, 10, 11, 14, 17, 16, 20, 8, 11, 1, 3, 11, 12, 18, 1, 2, 3, 4, 5, 6, 7, 10, 11, 1, 2, 3, 4, 5, 6, 7, 8, 10, 1, 2, 3, 4, 5, 6, 7, 8, 9, 10, 11, 12, 14, 15, 16, 1, 2, 3, 4, 5, 6, 7, 8, 9, 10, 11, 12, 14, 15, 16, 17, 18, 1, 2, 3, 4, 5, 6, 7, 8, 9, 10, 11, 12, 13, 16, 1, 2, 3, 4, 5, 6, 7, 8, 9, 10, 11, 14, 17, 1, 14, 1, 2, 3, 4, 5, 6, 7, 8, 9, 10, 11, 12, 14, 15, 5, 10, 2, 3, 6, 7, 9, 10, 13, 14, 16, 1, 2, 3, 4, 5, 6, 7, 10, 11, 12, 14, 19, 1, 2, 5, 6, 7, 11, 14, 15, 1, 2, 3, 4, 5, 6, 7, 8, 9, 11, 12, 14, 7, 17, 1, 1, 2, 3, 4, 5, 6, 7, 10, 20, 13, 2, 3, 13, 14, 1, 2, 3, 4, 5, 6, 7, 8, 10, 11, 14, 17, 1, 2, 3, 4, 5, 6, 2, 3, 1, 2, 3, 5, 6, 7, 8, 10, 11, 14, 2, 3, 14, 16, 1, 3, 6, 7, 9, 10, 11, 19, 1, 4, 6, 11, 15, 1, 5, 10, 11, 1, 2, 3, 4, 5, 7, 10, 12, 13, 17, 2, 3, 4, 5, 7, 10, 1, 14, 1, 14, 2, 1, 2, 3, 12, 16, 3, 5, 6, 7, 10, 14, 1, 14, 2, 5, 2, 13, 5, 7, 10, 5, 9, 1, 2, 3, 4, 5, 7, 9, 10, 12, 14, 1, 3, 5, 18, 1, 2, 3, 4, 5, 6, 7, 8, 10, 11, 12, 14, 1, 4, 7, 10, 16, 1, 2, 3, 4, 5, 6, 7, 8, 9, 10, 11, 12, 14, 15, 17, 12, 5, 20, 1, 2, 3, 4, 5, 6, 7, 8, 9, 10, 11, 14, 15, 15, 1, 2, 3, 4, 5, 6, 7, 8, 9, 10, 11, 12, 14, 15, 16, 17, 17, 5, 1, 2, 3, 4, 5, 6, 7, 8, 9, 10, 11, 12, 14, 15, 16, 1, 2, 3, 5, 6, 9, 10, 12, 1, 12, 1, 4, 5, 10, 14, 15, 6, 11, 11, 1, 2, 3, 6, 11, 7, 1, 2, 3, 4, 5, 6, 7, 9, 10, 11, 17, 3, 4, 5, 6, 7, 11, 10, 5, 10, 14, 12, 3, 12, 16, 13, 16, 2, 3, 4, 7, 10, 12, 1, 2, 3, 4, 5, 6, 9, 10, 11, 12, 13, 14, 16, 11, 1, 3, 18, 5, 16, 2, 4, 1, 5, 6, 15, 16, 18, 5, 10, 2, 3, 13, 1, 4, 5, 6, 11, 7, 1, 2, 3, 4, 5, 6, 7, 8, 9, 10, 11, 12, 14, 15, 17, 1, 2, 3, 4, 5, 6, 7, 8, 9, 10, 11, 5, 6, 6, 3, 5, 7, 8, 10, 8, 8, 3, 6, 18, 4, 1, 2, 3, 5, 6, 8, 10, 19, 2, 6, 7, 10, 15, 16, 1, 2, 3, 4, 5, 6, 7, 8, 9, 11, 15, 2, 3, 5, 6, 8, 9, 8, 9, 19, 1, 2, 3, 4, 5, 6, 7, 8, 9, 10, 11, 12, 14, 15, 2, 13, 1, 4, 5, 6, 11, 14, 2, 3, 6, 7, 10, 11, 13, 1, 2, 3, 4, 5, 6, 7, 8, 9, 10, 11, 6, 9, 11, 1, 12, 1, 2, 3, 4, 5, 6, 7, 9, 11, 12, 4, 1, 2, 3, 4, 5, 6, 10, 5, 7, 10, 1, 2, 3, 4, 5, 6, 7, 8, 10, 11, 12, 15, 16, 18, 1, 2, 3, 4, 5, 6, 10, 12, 2, 3, 4, 5, 6, 8, 10, 11, 12, 2, 20, 4, 14, 9, 1, 1, 1, 2, 3, 4, 5, 6, 7, 10, 11, 9, 1, 2, 3, 4, 5, 6, 10, 11, 12, 8, 14, 1, 2, 3, 4, 5, 6, 7, 9, 10, 11, 17, 13, 5, 1, 2, 3, 4, 5, 6, 7, 8, 10, 11, 12, 14, 15, 16, 17, 18, 10, 1, 2, 3, 4, 5, 6, 7, 8, 9, 10, 11, 15, 13, 2, 3, 8, 3, 7, 10, 11, 1, 2, 3, 4, 5, 6, 7, 8, 10, 11, 12, 2, 10, 1, 6, 11, 17, 1, 6, 11, 1, 4, 5, 8, 12, 15, 2, 3, 5, 7, 10, 1, 2, 3, 4, 5, 6, 7, 8, 9, 10, 11, 12, 13, 14, 15, 1, 2, 3, 4, 5, 6, 10, 11, 2, 3, 5, 10, 4, 12, 1, 2, 3, 4, 5, 6, 7, 8, 9, 10, 11, 12, 1, 1, 3, 5, 7, 10, 3, 7, 9, 10, 1, 2, 3, 4, 5, 6, 7, 8, 9, 10, 11, 12, 14, 15, 17, 12, 1, 3, 6, 7, 8, 10, 11, 15, 16, 5, 6, 10, 11, 16, 13, 8, 12, 1, 2, 3, 4, 5, 6, 7, 8, 9, 10, 11, 12, 14, 15, 16, 17, 1, 2, 3, 4, 5, 6, 7, 8, 10, 11, 12, 14, 1, 2, 3, 4, 5, 6, 7, 8, 9, 10, 12, 14, 15, 16, 17, 3, 15, 2, 3, 4, 5, 6, 7, 9, 10, 17, 14, 5, 10, 1, 2, 3, 4, 5, 6, 7, 8, 9, 10, 11, 12, 13, 14, 15, 16, 18, 4, 1, 5, 10, 6, 8, 9, 1, 2, 3, 6, 8, 1, 3, 13, 5, 8, 9, 1, 3, 4, 6, 9, 11, 1, 2, 3, 4, 5, 6, 8, 9, 10, 11, 12, 1, 3, 4, 6, 11, 2, 3, 4, 6, 11, 16, 7, 1, 2, 3, 4, 5, 6, 7, 8, 10, 11, 15, 4, 5, 1, 6, 1, 2, 3, 4, 5, 6, 7, 8, 9, 10, 11, 17, 4, 1, 2, 3, 4, 5, 6, 7, 8, 9, 10, 11, 12, 4, 5, 1, 2, 3, 4, 5, 9, 1, 2, 3, 4, 5, 6, 7, 8, 9, 10, 11, 12, 1, 5, 11, 14, 17, 3, 14, 6, 6, 12, 2, 3, 9, 12, 1, 2, 3, 4, 6, 7, 8, 9, 10, 15, 6, 2, 3, 4, 6, 7, 10, 15, 1, 3, 16, 5, 6, 2, 3, 4, 5, 10, 11, 12, 4, 5, 10, 11, 1, 6, 9, 11, 14, 1, 2, 3, 4, 5, 6, 7, 10, 11, 12, 15, 1, 2, 3, 4, 5, 6, 7, 10, 12, 14, 10, 1, 2, 3, 4, 5, 7, 8, 10, 13, 1, 2, 3, 4, 5, 6, 7, 8, 9, 10, 11, 12, 14, 15, 1, 2, 3, 6, 8, 12, 1, 2, 3, 4, 5, 6, 7, 8, 10, 11, 12, 15, 17, 7, 10, 2, 4, 6, 12, 15, 1, 3, 4, 5, 6, 10, 14, 1, 2, 3, 4, 7, 8, 18, 18, 1, 2, 5, 7, 8, 10, 1, 4, 6, 7, 2, 2, 5, 16, 10, 13, 12, 17, 1, 2, 3, 4, 5, 6, 7, 10, 11, 12, 14, 16, 16, 1, 2, 3, 5, 7, 9, 10, 12, 13, 14, 15, 1, 2, 3, 4, 5, 6, 7, 8, 9, 10, 11, 15, 16, 3, 4, 7, 1, 3, 4, 5, 6, 7, 3, 4, 5, 6, 8, 9, 10, 1, 2, 3, 4, 5, 8, 10, 12, 19, 1, 2, 3, 4, 5, 6, 7, 8, 10, 11, 12, 14, 17, 1, 6, 11, 12, 1, 2, 3, 4, 5, 6, 7, 8, 9, 10, 1, 5, 8, 1, 2, 3, 4, 5, 6, 7, 8, 9, 10, 14, 15, 16, 1, 2, 3, 4, 5, 6, 7, 8, 9, 10, 11, 13, 14, 15, 1, 2, 3, 4, 5, 6, 7, 8, 9, 10, 11, 12, 14, 15, 16, 7, 1, 2, 3, 5, 6, 9, 10, 11, 12, 15, 7, 10, 1, 5, 6, 11, 14, 16, 1, 2, 4, 5, 6, 11, 15, 16, 19, 1, 2, 3, 4, 5, 6, 7, 8, 9, 10, 11, 12, 17, 1, 4, 6, 7, 8, 11, 14, 1, 2, 3, 4, 5, 6, 7, 8, 9, 10, 11, 12, 14, 15, 6, 11, 12, 2, 17, 18, 12, 1, 2, 3, 4, 5, 6, 7, 9, 11, 13, 1, 2, 3, 4, 5, 6, 7, 8, 9, 10, 11, 12, 13, 14, 15, 16, 10, 14, 7, 10, 4, 1, 5, 6, 7, 10, 11, 15, 15, 1, 1, 2, 3, 4, 5, 6, 7, 9, 10, 11, 12, 15, 17, 18, 2, 3, 1, 2, 3, 4, 5, 6, 8, 6, 11, 2, 10, 1, 2, 3, 4, 5, 6, 7, 8, 9, 11, 13, 14, 16, 1, 2, 3, 4, 5, 6, 7, 8, 9, 10, 11, 12, 15, 16, 1, 3, 4, 6, 7, 10, 11, 12, 1, 4, 5, 6, 7, 10, 11, 1, 3, 6, 10, 11, 1, 2, 3, 4, 5, 6, 7, 8, 9, 10, 11, 12, 14, 15, 16, 17, 1, 4, 6, 2, 3, 7, 10, 3, 15, 20, 2, 3, 12, 3, 1, 2, 3, 4, 5, 6, 7, 8, 9, 10, 12, 15, 1, 2, 3, 6, 7, 2, 6, 7, 10, 11, 16, 4, 20, 4, 2, 16, 1, 6, 11, 15, 13, 1, 5, 6, 7, 8, 11, 14, 1, 2, 3, 4, 5, 6, 7, 8, 10, 11, 12, 14, 15, 1, 2, 3, 4, 5, 6, 7, 8, 9, 10, 11, 12, 15, 1, 2, 3, 4, 5, 6, 7, 8, 9, 10, 11, 12, 13, 14, 15, 16, 17, 1, 1, 2, 3, 4, 5, 6, 7, 8, 9, 10, 11, 12, 14, 15, 16, 17, 18, 18, 2, 3, 5, 6, 9, 12, 3, 18, 1, 2, 3, 4, 9, 12, 1, 2, 3, 4, 5, 6, 7, 8, 9, 10, 11, 12, 15, 16, 17, 15, 16, 11], \"Freq\": [0.18340628755334693, 0.14177661986624615, 0.38141271928291, 0.048445402458411904, 0.030857538930388114, 0.02159094062829728, 0.05011432381508569, 0.01936182189315956, 0.05522612489356905, 0.016397444098787937, 0.008881462604396881, 0.03564255820476751, 0.0006185512720539221, 0.0033728550495015753, 0.0024975466456516856, 0.00016339090205197944, 0.00019840323820597504, 4.6683114871994126e-05, 0.20820694901674766, 0.10780493137978267, 0.5333182442221581, 0.005937753731218359, 0.014574486431172337, 0.020743581216853747, 0.06423569945590771, 0.006631776894607518, 0.012183962201720789, 0.0025447515990935825, 0.006863117949070571, 0.003084547392840706, 0.005475071622292253, 0.008405391645490925, 7.711368482101765e-05, 7.711368482101765e-05, 0.1655490806981564, 0.06533031903584272, 0.48364958699833294, 0.0023943048861303612, 0.026337353747433973, 0.13339698651297727, 0.06567236259100419, 0.0017102177758074007, 0.01983852619936585, 0.0006840871103229603, 0.0030783919964533215, 0.012313567985813286, 0.006498827548068123, 0.012655611540974766, 0.0006840871103229603, 0.14460426610175448, 0.05862335112233289, 0.48071147920312973, 0.021886051085670946, 0.06096828516722621, 0.05237019366928405, 0.0007816446816311053, 0.14382262142012336, 0.025794274493826472, 0.0007816446816311053, 0.0039082234081555265, 0.0054715127714177365, 0.0007816446816311053, 0.001810765365615114, 0.9481167454360737, 0.04961497101785412, 0.017473998740682024, 0.04659732997515206, 0.9319465995030413, 0.005824666246894008, 0.9193307255863887, 0.04118489666419981, 0.9472526232765957, 0.986569185618706, 0.9880317842682668, 0.9110827865857976, 0.9137974558154371, 0.03141024436360781, 0.08947160515694344, 0.05235040727267967, 0.01126326944351593, 0.05108130649031168, 0.008725067878779946, 0.008407792683187948, 0.00015863759779599903, 0.7273533858946555, 0.01142190704131193, 0.004441852738287972, 0.0033313895537159795, 0.00031727519559199806, 0.00015863759779599903, 0.00422150163031876, 0.19841057662498174, 0.15197405869147537, 0.025856697485702407, 0.1382541783929394, 0.019524445040224266, 0.04907495645245559, 0.00844300326063752, 0.3656875787263626, 0.030078199116021165, 0.0015830631113695351, 0.000527687703789845, 0.00527687703789845, 0.000527687703789845, 0.000527687703789845, 0.9552453815104857, 0.036219289403108305, 0.2490870429126045, 0.3850682347067304, 0.009531391948186396, 0.03240673262383375, 0.006354261298790931, 0.011437670337823676, 0.0025417045195163723, 0.24590991226320905, 0.008260539688428211, 0.0019062783896372794, 0.008895965818307304, 0.0019062783896372794, 0.0006354261298790931, 0.0006354261298790931, 0.9554952302238323, 0.06587188407441091, 0.4775711595394791, 0.2964234783348491, 0.13174376814882183, 0.027200229152401806, 0.2399199699596467, 0.265027873792633, 0.006276975958246571, 0.04812348234655704, 0.03696441397634092, 0.048820924119695554, 0.010461626597077618, 0.30338717131525095, 0.005579534185108063, 0.0027897670925540316, 0.0013948835462770158, 0.0020923253194155235, 0.0006974417731385079, 0.0013948835462770158, 0.018495785480525103, 0.18290276752963713, 0.30209782951524333, 0.012330523653683402, 0.05754244371718921, 0.013358067291490352, 0.028771221858594605, 0.011302980015876452, 0.3401169441141005, 0.015413154567104253, 0.007192805464648651, 0.0030826309134208505, 0.007192805464648651, 0.03749206880544572, 0.18833225260409944, 0.2545973044462826, 0.005231451461224984, 0.06016169180408732, 0.013950537229933292, 0.06277741753469981, 0.0008719085768708307, 0.3217342648653365, 0.007847177191837477, 0.005231451461224984, 0.03487634307483323, 0.006103360038095815, 0.0008719085768708307, 0.035994241105985196, 0.20537890513415083, 0.2279635270045729, 0.016232696969365874, 0.05293270750880176, 0.05363847694225245, 0.03387693280563312, 0.025407699604224843, 0.2999520092165433, 0.038111549406337264, 0.0028230777338027605, 0.007763463767957591, 0.025274868423176833, 0.40078719928180406, 0.15887060151711152, 0.050549736846353666, 0.041161928574887985, 0.020219894738541466, 0.010109947369270733, 0.00938780827146568, 0.26574718799225927, 0.005777112782440419, 0.007943530075855576, 0.003610695489025262, 0.9778964062692976, 0.4221620964099406, 0.5628827952132541, 0.981736370297517, 0.18743393849649764, 0.1249559589976651, 0.34362888724357904, 0.31238989749416274, 0.11833347043862054, 0.5163642346412533, 0.0860607057735422, 0.1721214115470844, 0.0860607057735422, 0.031667223739339334, 0.05488985448152151, 0.023222630742182178, 0.44545228060003994, 0.12878004320664663, 0.03588952023791791, 0.1541138221981181, 0.016889185994314312, 0.05911215098010009, 0.044334113235075065, 0.004222296498578578, 0.025557441145211163, 0.12252537960792409, 0.10147807513539726, 0.09020273345368646, 0.3585558654784036, 0.02405406225431639, 0.015033788908947741, 0.057128397854001416, 0.06163853452668574, 0.06314191341758052, 0.038336161717816744, 0.029315888372448095, 0.006765205009026484, 0.0007516894454473871, 0.0022550683363421614, 0.0022550683363421614, 0.7248756503596481, 0.046370554295036885, 0.017834828575014186, 0.08917414287507093, 0.007133931430005675, 0.04280358858003405, 0.024968760005019863, 0.7704645944406129, 0.05212241236129531, 0.15050608228020615, 0.08456809073880847, 0.013396925265553816, 0.029515100975673253, 0.0052331739318569595, 0.02993375489022181, 0.0035585582736627325, 0.6095600995826986, 0.013187598308279537, 0.005861154803679795, 0.002093269572742784, 0.00041865391454855674, 0.039828551707511324, 0.2277913659061174, 0.20543147722821628, 0.013276183902503774, 0.15861546030886087, 0.036334819101589276, 0.06148969386422801, 0.029347353889745183, 0.20123899810110984, 0.012577437381319365, 0.004192479127106455, 0.0048912256482908645, 0.0048912256482908645, 0.0006987465211844092, 0.0006987465211844092, 0.9393084328185932, 0.981574357768966, 0.9971083401088428, 0.008018939462915799, 0.07895571163486326, 0.10856410349793698, 0.011719988445800014, 0.009869463954357907, 0.04626311228605269, 0.04009469731457899, 0.00740209796576843, 0.6458330475132955, 0.015421037428684229, 0.02282313539445266, 0.0024673659885894768, 0.0006168414971473692, 0.0012336829942947384, 0.9753062479123821, 0.09525639631178141, 0.10695455024480721, 0.19218395747113795, 0.008355824237875563, 0.03843679149422759, 0.041779121189377814, 0.03175213210392714, 0.010026989085450676, 0.4411875197598297, 0.006684659390300451, 0.021725143018476462, 0.0033423296951502254, 0.05852478973289261, 0.9246916777797033, 0.022726462689197, 0.14551720139799273, 0.050201738477629196, 0.007801621520172105, 0.0478273319280116, 0.036633701051242924, 0.024761668303154943, 0.011872032748087985, 0.6224337169354701, 0.026457672981453226, 0.001356803742638627, 0.0006784018713193135, 0.0006784018713193135, 0.0006784018713193135, 0.10501124801663062, 0.14128786096783028, 0.15656222431570382, 0.0038185908369683863, 0.028639431277262897, 0.01718365876635774, 0.03436731753271548, 0.01718365876635774, 0.4868703317134692, 0.005727886255452579, 0.005727886255452579, 0.06940634589514459, 0.08868588642157364, 0.08868588642157364, 0.013495678368500337, 0.04048703510550101, 0.04048703510550101, 0.0732622540004304, 0.007711816210571621, 0.568746445529657, 0.005783862157928716, 0.0038559081052858104, 0.06365989073193445, 0.14239712400564286, 0.23621169982112522, 0.015077342541773951, 0.020103123389031932, 0.011726821976935295, 0.036855726213225214, 0.0016752602824193278, 0.46237183794773445, 0.008376301412096639, 0.08020144396566227, 0.07518885371780838, 0.10526439520493173, 0.05263219760246587, 0.010025180495707784, 0.08521403421351616, 0.5814604687510515, 0.005012590247853892, 0.002506295123926946, 0.08554991501345807, 0.04666359000734077, 0.13999077002202232, 0.031109060004893847, 0.031109060004893847, 0.02851663833781936, 0.6092190917625044, 0.020739373336595895, 0.005184843334148974, 0.118849724025436, 0.09745677370085752, 0.061801856493226726, 0.0356549172076308, 0.02139295032457848, 0.052293878571191846, 0.023769944805087203, 0.01663896136356104, 0.5609706974000579, 0.00475398896101744, 0.00237699448050872, 0.9450488153537079, 0.978729692683736, 0.0210038683496214, 0.210038683496214, 0.0770141839486118, 0.003111684199943911, 0.029560999899467155, 0.007390249974866789, 0.026060355174530255, 0.0175032236246845, 0.5865524716894273, 0.005056486824908855, 0.004278565774922877, 0.008557131549845755, 0.002333763149957933, 0.0011668815749789666, 0.10740058351786341, 0.05858213646428913, 0.8347954446161201, 0.033251732720243406, 0.15207125764057985, 0.1099523961949382, 0.0017734257450796485, 0.07625730703842488, 0.023941247558575254, 0.047439138680880594, 0.013300693088097363, 0.5267074462886556, 0.00842377228912833, 0.003990207926429209, 0.0013300693088097364, 0.0013300693088097364, 0.0004433564362699121, 0.0004433564362699121, 0.06512666932188599, 0.9345677047690639, 0.9079737265334188, 0.020747738486004186, 0.11737292057796653, 0.08773329416938913, 0.0005927925281715481, 0.1144089579371088, 0.0065207178098870295, 0.03616034421846444, 0.00948468045074477, 0.5886429804743473, 0.011263058035259415, 0.0011855850563430963, 0.0023711701126861925, 0.0011855850563430963, 0.0005927925281715481, 0.003210722864095624, 0.16117828777760035, 0.06293016813627424, 0.004495012009733874, 0.052013710398349115, 0.003210722864095624, 0.005779301155372124, 0.01605361432047812, 0.6761782351785385, 0.0012842891456382498, 0.003852867436914749, 0.004495012009733874, 0.003852867436914749, 0.0025685782912764996, 0.9227005782448353, 0.9908986588450287, 0.960399359755651, 0.035644378427529835, 0.3617027909285405, 0.09174044939544565, 0.011686681451649127, 0.019867358467803516, 0.015777019959726322, 0.004090338508077195, 0.0005843340725824564, 0.43299154778360016, 0.009933679233901758, 0.004674672580659651, 0.007012008870989477, 0.0017530022177473692, 0.0017530022177473692, 0.0011686681451649127, 0.9863256147742461, 0.6208326285361123, 0.016555536760962997, 0.34766627198022293, 0.004750797699463904, 0.14917504776316656, 0.17958015303973557, 0.007601276319142246, 0.05225877469410294, 0.007601276319142246, 0.045607657914853474, 0.0019003190797855615, 0.5311391828000644, 0.003800638159571123, 0.002850478619678342, 0.0009501595398927808, 0.0019003190797855615, 0.009501595398927807, 0.987042969751702, 0.09215372441793976, 0.21398407195352115, 0.25459418779871495, 0.03904818831268634, 0.08278215922289504, 0.009371565195044722, 0.12026842000307393, 0.024990840520119257, 0.09996336208047703, 0.015619275325074537, 0.004685782597522361, 0.003123855065014907, 0.042172043377701245, 0.979277866396771, 0.03362493716177505, 0.03362493716177505, 0.2465828725196837, 0.0224166247745167, 0.43712418310307566, 0.21295793535790863, 0.028173057256691614, 0.9578839467275149, 0.12825793104163266, 0.11222568966142857, 0.7374831034893877, 0.016032241380204083, 0.813495550388815, 0.9800500953383651, 0.03795888071427511, 0.6528927482855319, 0.3036710457142009, 0.9950119834411678, 0.8234313697212067, 0.4223372312184199, 0.06757395699494718, 0.08446744624368398, 0.05912721237057878, 0.3547632742234727, 0.6229948557083256, 0.3737969134249953, 0.8980699981323952, 0.9508534847776308, 0.9172967291283234, 0.011477296808753147, 0.08034107766127203, 0.9067064478914986, 0.2861906765660944, 0.09539689218869815, 0.5723813531321889, 0.9889856731872289, 0.02270910468095845, 0.936750568089536, 0.034063657021437675, 0.18813104284365742, 0.5380547825328602, 0.015050483427492593, 0.14297959256117965, 0.011287862570619445, 0.10159076313557501, 0.9142553442553145, 0.9747221029961897, 0.9792157694088581, 0.042520469144852885, 0.914190086614337, 0.031890351858639664, 0.09440785891071851, 0.30743072004259614, 0.2033400038077014, 0.05446607244849144, 0.13677035970398962, 0.01694500031730845, 0.04115214362774909, 0.0036310714965660964, 0.026627857641484707, 0.021786428979396578, 0.047203929455359256, 0.001210357165522032, 0.04236250079327113, 0.0036310714965660964, 0.005342379682230608, 0.014691544126134173, 0.01869832888780713, 0.0894848596773627, 0.32588516061606715, 0.10551199872405452, 0.001335594920557652, 0.045410227298960174, 0.2123595923686667, 0.11619675808851573, 0.038732252696171914, 0.008013569523345913, 0.013355949205576522, 0.005342379682230608, 0.9695704852066208, 0.9819421202298485, 0.01250881681821463, 0.9031661877306507, 0.527315254570821, 0.4603545873237326, 0.008370083405886047, 0.004185041702943024, 0.8409750129000033, 0.15637965115909153, 0.8366561710085667, 0.1615494639142558, 0.0563124165852598, 0.9291548736567867, 0.9895014381763096, 0.414358103763495, 0.580101345268893, 0.9882617300490335, 0.8716195524690972, 0.9943521789283273, 0.9870043470657406, 0.9795389312052065, 0.0052191097960089675, 0.0052191097960089675, 0.04175287836807174, 0.9342206534856052, 0.010438219592017935, 0.974753364454703, 0.09443837648427418, 0.8859219127334292, 0.017988262187480796, 0.11733736574405328, 0.3050771509345385, 0.2112072583392959, 0.3520120972321598, 0.9875650985715241, 0.007596654604396339, 0.9935620573170691, 0.029193771871761857, 0.9342006998963794, 0.9871063140116051, 0.2722668280749142, 0.06806670701872855, 0.5445336561498284, 0.9915184892417727, 0.0033153026880535902, 0.1392427128982508, 0.8520327908297727, 0.009986777731147884, 0.9687174399213447, 0.019973555462295768, 0.9829252528115778, 0.9643072609890315, 0.9833125072826159, 0.9948471445546057, 0.0027827892155373587, 0.6432702884071985, 0.34055485856851686, 0.8758272981721019, 0.9768221917289662, 0.9858162084286821, 0.16960396695035157, 0.11996378150146818, 0.3185245232970017, 0.026888433784811833, 0.002068341060370141, 0.07652861923369522, 0.2419959040633065, 0.002068341060370141, 0.006205023181110423, 0.03723013908666254, 0.9739057843499477, 0.9923217938172506, 0.9637335327301499, 0.14610795410153773, 0.24272773020094174, 0.289859328298212, 0.02356579904863512, 0.016496059334044584, 0.01178289952431756, 0.1555342737209918, 0.021209219143771607, 0.02592237895349863, 0.002356579904863512, 0.06362765743131482, 0.9854770985304449, 0.8774555511463372, 0.13186843533265774, 0.3631786415719098, 0.1967217641847845, 0.056206218338509854, 0.05512532952430774, 0.03242666442606338, 0.03242666442606338, 0.022698665098244364, 0.00432355525680845, 0.0010808888142021125, 0.08971377157877534, 0.012970665770425351, 0.9937636640174733, 0.9927367909523126, 0.9915831985614555, 0.9937608382647495, 0.9871063881346612, 0.9881562907724984, 0.9705598748097938, 0.9473448273747973, 0.006806456714148792, 0.13612913428297582, 0.8576135459827477, 0.040579056553037444, 0.07063761696269481, 0.330644164506231, 0.08566689716752349, 0.13526352184345813, 0.00901756812289721, 0.04358491259400318, 0.034567344471105974, 0.02705270436869163, 0.06462590488076334, 0.06462590488076334, 0.004508784061448605, 0.08266104112655775, 0.0015029280204828684, 0.0030058560409657368, 0.9873426136900026, 0.9696248761291482, 0.977424641474971, 0.9668395821954427, 0.9197292859494801, 0.9470694862723433, 0.9686702228846104, 0.8788091108779224, 0.007102685033554294, 0.10146692905077563, 0.16539109435276428, 0.06595350388300415, 0.362236936711269, 0.10349626763179114, 0.025366732262693908, 0.017249377938631856, 0.006088015743046538, 0.009132023614569806, 0.1319070077660083, 0.003044007871523269, 0.9794616712758297, 0.23930260305081766, 0.4786052061016353, 0.9815904196018622, 0.9748308498546362, 0.014293063737325874, 0.00952870915821725, 0.9719283341381595, 0.1537787228099905, 0.32104680726998014, 0.2940680839699818, 0.11061276552999316, 0.0404680849499975, 0.024280850969998498, 0.005395744659999666, 0.008093616989999499, 0.0404680849499975, 0.9854995037071381, 0.012870329339458893, 0.8996209656777899, 0.0784904198242367, 0.008050299469152483, 0.008050299469152483, 0.004025149734576241, 0.9981594256818092, 0.9943015664265644, 0.0046607885926245205, 0.03125813001268006, 0.01562906500634003, 0.9533729653867418, 0.9731820222142477, 0.10228797954434696, 0.006529019970915763, 0.8444199162384387, 0.0021763399903052543, 0.03482143984488407, 0.008705359961221017, 0.9873870947126429, 0.005989469368037028, 0.9822729763580726, 0.008984204052055543, 0.8952940852734975, 0.9654207224040496, 0.9292662403876049, 0.07955586412662075, 0.9069368510434765, 0.02853998835733479, 0.9418196157920481, 0.014269994178667395, 0.07197016860780411, 0.8636420232936494, 0.03590671127687171, 0.26664057818565845, 0.4049479105113865, 0.0472106759381091, 0.07314330074918311, 0.06183933608794572, 0.08045763082410141, 0.027927442104233553, 0.0006649390977198465, 0.0006649390977198465, 0.19634173118458947, 0.4908543279614737, 0.29451259677688424, 0.01936019707617261, 0.9776899523467167, 0.9751442693864409, 0.9752597278984635, 0.9597778619773765, 0.034103781897673276, 0.9809439765142346, 0.9976188920345849, 0.27056452404386294, 0.5411290480877259, 0.998778264386896, 0.9897749342615221, 0.029758425329740237, 0.9522696105516876, 0.9925676956042072, 0.9680344953995152, 0.20976259797276714, 0.04195251959455343, 0.734169092904685, 0.8927422569242186, 0.008897183232004842, 0.9786901555205326, 0.976780519092941, 0.7779382178507187, 0.1744467518816763, 0.014144331233649431, 0.028288662467298862, 0.9920705684880701, 0.9759616785807244, 0.016826925492771108, 0.9865596371199113, 0.9851747120267164, 0.006274998165775264, 0.986966810011308, 0.977318841924423, 0.9730526990223854, 0.9817390845701212, 0.03023506776309121, 0.1267922196516728, 0.5354532968366797, 0.05169221262722045, 0.03364870444602086, 0.0482785759442908, 0.1185019591359865, 0.02096948248085358, 0.0039012990662053173, 0.0034136366829296523, 0.01755584579792393, 0.00048766238327566466, 0.0078025981324106345, 0.00048766238327566466, 0.9825340735086945, 0.4655117494095837, 0.0022819203402430575, 0.5065863155339587, 0.022819203402430575, 0.0022819203402430575, 0.9292670940301349, 0.9905539346075974, 0.9492897002474302, 0.6238832219714874, 0.9292658931970844, 0.0036386270263980593, 0.05094077836957283, 0.3420309404814176, 0.029109016211184474, 0.12371331889753402, 0.0036386270263980593, 0.06185665944876701, 0.13826782700312626, 0.05457940539597089, 0.04366352431677671, 0.0072772540527961185, 0.10188155673914566, 0.03274764323758254, 0.11513013803878411, 0.026165940463360026, 0.06803144520473607, 0.6462987294449927, 0.04971528688038405, 0.04709869283404804, 0.04186550474137604, 0.0026165940463360026, 0.7660403345327871, 0.09187345318461773, 0.8983182089162624, 0.9942283140864948, 0.9932236579671118, 0.983224293005453, 0.013946443872417775, 0.43308506810389436, 0.3248138010779208, 0.054135633512986794, 0.1624069005389604, 0.09861237647006273, 0.010201280324489246, 0.06800853549659498, 0.05440682839727599, 0.3060384097346774, 0.4624580413768459, 0.4850825767538978, 0.2587107076020788, 0.016169419225129926, 0.04850825767538978, 0.16169419225129927, 0.9909088190863267, 0.9711479654438098, 0.021111912292256733, 0.7592055897085626, 0.02912344627433558, 0.20386412392034906, 0.05824689254867116, 0.07280861568583895, 0.6407158180353828, 0.8850707386217095, 0.0769626729236269, 0.2719896994646745, 0.6119768237955177, 0.9323218016112251, 0.9235880075816425, 0.8972099798746109, 0.9838116258180586, 0.9827815557671273, 0.9851924985690081, 0.8409241584579469, 0.9774384665754248, 0.9221196359706919, 0.07348274030310109, 0.033401245592318676, 0.006680249118463735, 0.8751126345187493, 0.006680249118463735, 0.06046908349897241, 0.9070362524845862, 0.9419095743982948, 0.039830224618230624, 0.13589135457984566, 0.15697794408361482, 0.01171477194653842, 0.04217317900753831, 0.035144315839615255, 0.3022411162206912, 0.08434635801507662, 0.007028863167923051, 0.1710356704194609, 0.014057726335846102, 0.0023429543893076837, 0.9402100967820654, 0.1515218589707905, 0.13774714451890047, 0.6887357225945023, 0.20915845584993667, 0.6517961182300351, 0.1361962038092611, 0.9560491611086941, 0.9879029842203072, 0.8539886666752903, 0.037129942029360444, 0.10210734058074122, 0.2627629982412964, 0.7074388414188749, 0.8089025886104969, 0.18296606170951718, 0.9650002349832414, 0.965139793351455, 0.6790890055933425, 0.018353756907928176, 0.27530635361892264, 0.9154976211341764, 0.027954125836158056, 0.0489197202132766, 0.9798103342828908, 0.8972040848094885, 0.9946194838232383, 0.9992144343194602, 0.00039793486034227807, 0.11915775034733304, 0.007943850023155535, 0.16946880049398477, 0.7017067520454057, 0.027525823930343616, 0.9634038375620265, 0.9751640658629905, 0.18593462023731286, 0.8021750758809784, 0.005312417721066082, 0.5317384646256859, 0.4253907717005487, 0.994790189182823, 0.9868926518987444, 0.051664134452879346, 0.07749620167931902, 0.8524582184725092, 0.06637460069754846, 0.9292444097656783, 0.014466377208774155, 0.1301973948789674, 0.04339913162632247, 0.30379392138425726, 0.10126464046141909, 0.04339913162632247, 0.08679826325264493, 0.2169956581316123, 0.05786550883509662, 0.9883813005539192, 0.028787255130984405, 0.9307879159018291, 0.03358513098614847, 0.08551478063327075, 0.8551478063327076, 0.025141409741344236, 0.018856057306008176, 0.9490882177357448, 0.9505981022376989, 0.036561465470680725, 0.01405318628871384, 0.8572443636115442, 0.11242549030971072, 0.7970584662899682, 0.8824403060186353, 0.9821889296055164, 0.9122797597352074, 0.8604229041587116, 0.0956025449065235, 0.27748384634508, 0.5094785375516223, 0.21379902915112722, 0.8951001200079202, 0.09367326837292188, 0.9844238846292415, 0.01914124046684104, 0.976203263808893, 0.016082440940841783, 0.05789678738703042, 0.9006166926871398, 0.019298929129010142, 0.9714909856218368, 0.435678542813039, 0.5625519646212317, 0.971624963945674, 0.9712841098875912, 0.9604742493658321, 0.9898041840238847, 0.1034263633565465, 0.2526445517106479, 0.42949573790810147, 0.04816036766984226, 0.05131842456622536, 0.0015790284481915495, 0.08210947930596058, 0.003947571120478874, 0.0007895142240957748, 0.012632227585532396, 0.006316113792766198, 0.003158056896383099, 0.003947571120478874, 0.9350994775895405, 0.04098871201586737, 0.11934948498737852, 0.5280310547926443, 0.051838665196538146, 0.12778833746123358, 0.0036166510602235915, 0.01205550353407864, 0.0036166510602235915, 0.004822201413631455, 0.0024111007068157277, 0.09885512897944483, 0.004822201413631455, 0.0024111007068157277, 0.9710196546763723, 0.8214203587796101, 0.8023791224183325, 0.98324573058686, 0.01467530941174418, 0.02723038565703601, 0.9696385153527171, 0.0011839298111754788, 0.994117706422021, 0.9151064277533495, 0.9791062315977435, 0.9639505264307643, 0.8386575032717021, 0.9867258310083228, 0.011963253394504016, 0.03588976018351205, 0.9450970181658174, 0.9864949925740325, 0.8685117057575764, 0.9860357530197663, 0.25317099524099435, 0.7333228827670182, 0.9990846298079447, 0.9725315010131459, 0.011308505825734255, 0.2705974432092237, 0.7220533816246122, 0.005522396800188239, 0.299518452296413, 0.0832390948187181, 0.40196656899637373, 0.022054802900685993, 0.03414937223332025, 0.007825897803469224, 0.03984093427220695, 0.06047284666317127, 0.006403007293747546, 0.03201503646873773, 0.004980116784025869, 0.004268671529165031, 0.0035572262743041923, 0.14686276185499117, 0.13637256457963468, 0.28323532643462584, 0.03147059182606954, 0.03496732425118838, 0.038464056676307215, 0.23777780490808095, 0.038464056676307215, 0.045457521526544885, 0.8972164133664431, 0.990883543740309, 0.0035272263363284157, 0.30334146492424374, 0.16460389569532607, 0.11639846909883772, 0.007054452672656831, 0.004702968448437888, 0.12462866388360402, 0.02469058435429891, 0.019987615905861022, 0.01763613168164208, 0.18106428526485868, 0.016460389569532607, 0.002351484224218944, 0.01175742112109472, 0.8899882157085328, 0.979572068775384, 0.9115545493284869, 0.9856771250801348, 0.051144619789191985, 0.19498886294629442, 0.015982693684122494, 0.16622001431487393, 0.012786154947297996, 0.5593942789442873, 0.9791477106062634, 0.4507645068314805, 0.5258919246367272, 0.7805507476230052, 0.9578347110465715, 0.9785120402255679, 0.8634455426728234, 0.9704030816006691, 0.9854070589822204, 0.9642462889904589, 0.0027250881457960437, 0.0027250881457960437, 0.0054501762915920874, 0.07357737993649319, 0.024525793312164396, 0.07902755622808527, 0.8093511793014251, 0.9895263870961443, 0.9652291482954952, 0.9803376104661244, 0.23176571371620208, 0.10139749975083841, 0.5359582129687174, 0.11588285685810104, 0.9148857272371902, 0.842169846790688, 0.15312179032557963, 0.9365591056777118, 0.03121863685592373, 0.9882385344380804, 0.006910758982084478, 0.8224296953744181, 0.8573076736725853, 0.1461684856584656, 0.2147835481708029, 0.3915790636479938, 0.0282609931803688, 0.041142748211420624, 0.007098109915069374, 0.08925215985800193, 0.046794946847494384, 0.0048635197566216076, 0.013276094470777901, 0.0030232690378999183, 0.0022345901584477656, 0.008544021194064987, 0.0021031436785390735, 0.0003943394397260763, 0.0003943394397260763, 0.0001314464799086921, 0.8947829528669278, 0.10034949004115078, 0.12033494960869823, 0.8423446472608875, 0.05582665689343923, 0.935096502965107, 0.9902388767755169, 0.9740500159280147, 0.007887044663384734, 0.015774089326769467, 0.8634290512495607, 0.9821054828240653, 0.9740759368022601, 0.028146393385478977, 0.16376083424278678, 0.16546667626614914, 0.040940208560696696, 0.06141031284104504, 0.004264605058405905, 0.006823368093449449, 0.05117526070087087, 0.021323025292029528, 0.013646736186898899, 0.0008529210116811812, 0.3855202972798939, 0.05202818171255205, 0.004264605058405905, 0.9971674419368595, 0.9886115057557531, 0.006337253242024058, 0.1872306369705148, 0.8113327602055642, 0.9916510106634554, 0.00631624847556341, 0.9810053408837793, 0.0689547246346861, 0.8964114202509195, 0.9900304173087656, 0.9971258356002831, 0.0023911890541973217, 0.9951249002465852, 0.9591046969659774, 0.004474827513060548, 0.0029832183420403654, 0.02983218342040365, 0.9799582814427354, 0.955068203444719, 0.9406649206194699, 0.9839979940367097, 0.9940469307571352, 0.9915944717610379, 0.054136471460605066, 0.9406211916280129, 0.9823285131091899, 0.8148426366713201, 0.9212387143870645, 0.989436946053272, 0.9149391641249494, 0.005834001041081954, 0.9742781738606863, 0.011668002082163908, 0.971918422048977, 0.32869512590637456, 0.465651428367364, 0.19173882344538518, 0.9407225233313329, 0.9708457235319418, 0.989712370873705, 0.05350803990113034, 0.160524119703391, 0.05350803990113034, 0.7491125586158247, 0.8716736537038896, 0.9747168995522164, 0.9883857440629529, 0.9209354667325557, 0.11428907932261563, 0.01632701133180223, 0.8653316005855183, 0.016447516874481937, 0.9704034955944342, 0.9924739207707746, 0.991910853558699, 0.9862445395841813, 0.9878857856312511, 0.0020543068832293374, 0.0164344550658347, 0.6286179062681773, 0.3492321701489874, 0.7668058317594938, 0.03253115649888762, 0.13941924213808976, 0.05576769685523591, 0.8943588343428305, 0.9834978165837892, 0.8301093001851455, 0.11255719324544346, 0.05627859662272173, 0.04689272225991905, 0.23872658605049699, 0.38665180990678705, 0.041777152558836975, 0.047319019735009224, 0.0021314873754508658, 0.10913215362308433, 0.035382690432484376, 0.002557784850541039, 0.03453009548230403, 0.008525949501803463, 0.04220345003392714, 0.00042629747509017316, 0.0017051899003606927, 0.002557784850541039, 0.997011763743596, 0.20405514475411715, 0.3148279376206379, 0.011660293985949552, 0.466411759437982, 0.9895610986212193, 0.8570855968680026, 0.32570557857473503, 0.6514111571494701, 0.03458439938965502, 0.013833759755862008, 0.9476125432765475, 0.9461147094669236, 0.03784458837867694, 0.9845380175016344, 0.17435469354835495, 0.04429171650623533, 0.24325291922472103, 0.04218258714879555, 0.12865689080382645, 0.036558242195622814, 0.017576077978664815, 0.037964328433916, 0.19544598712275274, 0.017576077978664815, 0.036558242195622814, 0.0007030431191465925, 0.004218258714879556, 0.01335781926378526, 0.00562434495317274, 0.001406086238293185, 0.9896123447425939, 0.0097020818112019, 0.05051464475599032, 0.21889679394262473, 0.06735285967465376, 0.39569805058859087, 0.00841910745933172, 0.26099233123928334, 0.9763901602570079, 0.07263698006564726, 0.21991012313452837, 0.40650053064261304, 0.04131644737679018, 0.031320532688857074, 0.013327886250577478, 0.10529030137956207, 0.06663943125288739, 0.005331154500230991, 0.009995914687933108, 0.01732625212575072, 0.0033319715626443694, 0.0019991829375866216, 0.004664760187702117, 0.7210789010049603, 0.2686372376292989, 0.8172466044798452, 0.9930265915638309, 0.9443649317327173, 0.9252054266236609, 0.9772738595345614, 0.9785337930650104, 0.9581525252507874, 0.9750381625432739, 0.9903369517469381, 0.13831146198026412, 0.21132994551218734, 0.37871588898980424, 0.032729559171305746, 0.050423457911123314, 0.012543562017429358, 0.08946633306471138, 0.049011268809823316, 0.005399546563794095, 0.016198639691382282, 0.0039042875153588066, 8.306994713529376e-05, 0.001412189101299994, 0.007476295242176439, 0.0019106087841117565, 0.0004153497356764688, 0.0004984196828117626, 0.00033227978854117506, 0.9767890453194978, 0.71575079873127, 0.011484917130356095, 0.9877028732106241, 0.7642148906713206, 0.22077319063838152, 0.007969526182478637, 0.988221246627351, 0.9618426715653186, 0.897223226498444, 0.9822247180752532, 0.01624213894040172, 0.05684748629140603, 0.9095597806624964, 0.00812106947020086, 0.9924242248603174, 0.9903614143517823, 0.8932057894434616, 0.9727642735532117, 0.19975339391487323, 0.04660912524680375, 0.3395807696552845, 0.3861898949020882, 0.019975339391487323, 0.9339347315337791, 0.06380920526007186, 0.9788848828985741, 0.9911916227990698, 0.9661158480569192, 0.9637650764358726, 0.9915434027291589, 0.9591493310153623, 0.09512483508541288, 0.031708278361804294, 0.05073324537888687, 0.8180735817345507, 0.0811299169365906, 0.04867795016195436, 0.8599771195278604, 0.9639402475074145, 0.003112032406065446, 0.9056014301650448, 0.024896259248523567, 0.040456421278850796, 0.018672194436392675, 0.006224064812130892, 0.9939641142950773, 0.9719099747783848, 0.01230265790858715, 0.020557337890285764, 0.9661948808434309, 0.9895292825021551, 0.95922712685051, 0.9854923739782991, 0.03491250584119508, 0.04617460449964511, 0.0011262098658450027, 0.9009678926760022, 0.0011262098658450027, 0.0011262098658450027, 0.010135888792605024, 0.003378629597535008, 0.9906376162419318, 0.6927998106542124, 0.027275583096622532, 0.27275583096622535, 0.8805597557947493, 0.9973231405766739, 0.9888921698146609, 0.9871256002135117, 0.9507561785251712, 0.7288897914568653, 0.9791654629581528, 0.0186153129839953, 0.9951308312126944, 0.011927540804241394, 0.7991452338841734, 0.1848768824657416, 0.9519305549248903, 0.9594645158426423, 0.9919373358084588, 0.08231620929218066, 0.21359173260781517, 0.41265707534053964, 0.02313462091218149, 0.04088909742618124, 0.06940386273654447, 0.08285422373199883, 0.026362707551090537, 0.0016140433194545226, 0.013450360995454356, 0.023672635351999666, 0.008608231037090788, 0.0010760288796363485, 0.02850552706378061, 0.1858138060453847, 0.2977243937772641, 0.002111520523243008, 0.27555342828321255, 0.001055760261621504, 0.02111520523243008, 0.003167280784864512, 0.03800736941837414, 0.14780643662701057, 0.001055760261621504, 0.8739298006801328, 0.35260048256191784, 0.06410917864762143, 0.5449280185047821, 0.9637857965339558, 0.021417462145199018, 0.023483451662824777, 0.054794720546591145, 0.06262253776753274, 0.011741725831412388, 0.8297486254198088, 0.003913908610470796, 0.003913908610470796, 0.003913908610470796, 0.9063633126878783, 0.8943533265601804, 0.8368114936725197, 0.0047151438183150925, 0.08487258872967167, 0.009430287636630185, 0.3960720807384678, 0.26404805382564517, 0.23575719091575464, 0.9924163909986131, 0.9857969554865501, 0.009664676034181863, 0.35291028966619653, 0.0014004376574055417, 0.6442013224065491, 0.9953301620802116, 0.9576668690427476, 0.9843406380692441, 0.16288016826811905, 0.8324986378148307, 0.9837390905854808, 0.9952000107906536, 0.9891544037396, 0.3998671924262191, 0.5758087570937555, 0.9900249260413052, 0.9861024791008214, 0.8544531681285045, 0.9525974071918373, 0.9872659196639637, 0.9897318356603851, 0.9958267726609351, 0.9577546778059048, 0.9114985116185359, 0.9622818624165692, 0.031160892018509488, 0.9581974295691668, 0.9941517954443324, 0.024105736664388228, 0.012052868332194114, 0.9521765982433349, 0.9777300738778938, 0.09669463771356372, 0.8895906669647862, 0.9260246701161067, 0.9369685744232656, 0.0585605359014541, 0.8730235945962688, 0.9922442242601588, 0.9880617670746683, 0.14183835802481182, 0.8510301481488709, 0.5081977769770262, 0.462376665938114, 0.016662222195968072, 0.008331111097984036, 0.004165555548992018, 0.9908612396008518, 0.9758824063103015, 0.35944316943369126, 0.6290255465089597, 0.9646200311062828, 0.022696941908383124, 0.9431233090388241, 0.9767777481450901, 0.7466395998929416, 0.9936848868236682, 0.9772106558989578, 0.017607399205386627, 0.0015137886201948964, 0.599460293597179, 0.3966126184910629, 0.9795476230273178, 0.9845234792287161, 0.9215920779222415, 0.0354050247706732, 0.0177025123853366, 0.1593226114680294, 0.7848113824165892, 0.9540670227493615, 0.036230393268963094, 0.07671750367125438, 0.9206100440550525, 0.044353934237214364, 0.1134635526998507, 0.4889247634520839, 0.07736151320444366, 0.05879475003537718, 0.01856676316906648, 0.08355043426079915, 0.025787171068147884, 0.01753527632634056, 0.0020629736854518308, 0.055700289507199435, 0.0041259473709036616, 0.0010314868427259154, 0.01134635526998507, 0.9690163259239094, 0.9888286449282958, 0.9221810011064457, 0.9292673628611922, 0.14014495146973227, 0.20491026922211175, 0.37339004720851005, 0.03715010587740656, 0.047494566351744955, 0.021768342911216435, 0.08500447954999807, 0.04776442184237987, 0.005307157982486652, 0.014842051984920298, 0.011154026946243133, 8.995183021163817e-05, 0.007915761058624158, 0.001619132943809487, 0.0003598073208465527, 0.00044975915105819085, 0.0003598073208465527, 0.9884707802844722, 0.92068787954716, 0.01453330821397762, 0.05813323285591048, 0.9155984174805901, 0.02829585737840019, 0.05305473258450035, 0.1202573938582008, 0.001768491086150012, 0.014147928689200095, 0.024758875206100164, 0.05659171475680038, 0.10964644734130073, 0.015916419775350105, 0.5482322367065037, 0.015916419775350105, 0.010610946516900071, 0.03179816484068102, 0.9645443335006577, 0.98845587330906, 0.01761350560745406, 0.17965775719603141, 0.7749942467279787, 0.0035227011214908122, 0.0035227011214908122, 0.014090804485963249, 0.9917803417455233, 0.9412630875261159, 0.040924482066352866, 0.02237268551055298, 0.2510712485073168, 0.48971322728654865, 0.03977366312987197, 0.09073366901502043, 0.01242926972808499, 0.0037287809184254972, 0.001242926972808499, 0.08327610717816944, 0.0037287809184254972, 0.002485853945616998, 0.9718061775005923, 0.9104772219637937, 0.9940339570188036, 0.8529236991755071, 0.022227044426736963, 0.9557629103496895, 0.9765740228454485, 0.8448374054193969, 0.9929973859134207, 0.030935417741332183, 0.033145090437141624, 0.004419345391618883, 0.004419345391618883, 0.5038053746445527, 0.13920937983599482, 0.265160723497133, 0.0066290180874283245, 0.008838690783237766, 0.9942766248267084, 0.9043585815984556, 0.7643340861551776, 0.2334576915871463, 0.7126429610598192, 0.28384931499840255, 0.0910063060247513, 0.9100630602475128, 0.9657540393844074, 0.9719628864476194, 0.03978379555949626, 0.915027297868414, 0.940664514452833, 0.12534715082042128, 0.21698608135264816, 0.35639243962995454, 0.011179610748848384, 0.08300014040811679, 0.007453073832565589, 0.07453073832565589, 0.07605523070049885, 0.007453073832565589, 0.004234701041230448, 0.029642907288613136, 0.0028795967080367047, 0.0015244923748429613, 0.002710208666387487, 0.00016938804164921793, 0.0006775521665968717, 0.9699081927678768, 0.9913730536745232, 0.9937874528247789, 0.9950902811803786, 0.5154793529769084, 0.4811140627784478, 0.9860053004053311, 0.9749372974427336, 0.9787595866653166, 0.008738924880940326, 0.008738924880940326, 0.8339789063034301, 0.9838817288078964, 0.9945244545242352, 0.13489860394486988, 0.6744930197243494, 0.34334064430697464, 0.6376326251415244, 0.9725428273923382, 0.016209047123205637, 0.15022706974989503, 0.8262488836244227, 0.06979183185078507, 0.1046877477761776, 0.4187509911047104, 0.06979183185078507, 0.03489591592539253, 0.27916732740314026, 0.9854264790494305, 0.010898726035569737, 0.003632908678523246, 0.015136684670972164, 0.8981099571443485, 0.07568342335486082, 0.005045561556990721, 0.013261199182988483, 0.05967539632344818, 0.9216533432176995, 0.006630599591494242, 0.967574148511245, 0.9656303594068653, 0.0035549204308334284, 0.0005924867384722381, 0.99537772063336, 0.9857908531726327, 0.005764858790483232, 0.954504117213843, 0.039973352474483276, 0.21467170773333613, 0.7284033117572508, 0.007402472680459867, 0.0014804945360919733, 0.0029609890721839466, 0.0014804945360919733, 0.0029609890721839466, 0.0014804945360919733, 0.9867966083467099, 0.9922837325394666, 0.9785339461140737, 0.9937208186710741, 0.983677673015482, 0.9822922621419483, 0.3209117680269651, 0.6418235360539302, 0.9719179287878434, 0.5367498010116721, 0.39036349164485246, 0.9112681842785039, 0.9863365829004597, 0.9682242300310347, 0.36577693440173503, 0.15850333824075183, 0.0365776934401735, 0.4267397568020242, 0.9457122960593505, 0.9390963726852093, 0.7529276700118832, 0.8767508936731743, 0.019091631319448483, 0.9736731972918726, 0.23558376599536912, 0.005121386217290633, 0.48653169064261015, 0.11523118988903924, 0.0153641586518719, 0.11523118988903924, 0.010242772434581266, 0.0153641586518719, 0.04349349391446118, 0.8059088578267807, 0.06396102046244291, 0.05884413882544748, 0.005116881636995433, 0.017909085729484017, 0.2944445955593616, 0.01879433588676776, 0.6661547942087683, 0.020882595429741954, 0.9271253665401646, 0.9234137444310512, 0.9891977326957696, 0.07362620284336992, 0.920327535542124, 0.42008096813328477, 0.5601079575110464, 0.9516082033570163, 0.992639873134161, 0.00898503962742888, 0.8243773858165998, 0.02021633916171498, 0.03930954837000135, 0.09546604604143186, 0.00898503962742888, 0.00224625990685722, 0.9967632017654549, 0.9241062461222582, 0.8310208291214483, 0.8966823470954801, 0.04086442988065339, 0.010507996255025158, 0.023351102788944793, 0.0011675551394472398, 0.0023351102788944796, 0.012843106533919638, 0.0011675551394472398, 0.007005330836683438, 0.003502665418341719, 0.6980958997713999, 0.07995182472961715, 0.006311986162864511, 0.07574383395437413, 0.19987956182404285, 0.002103995387621504, 0.589118708534021, 0.008415981550486016, 0.008415981550486016, 0.029455935426701052, 0.7481596535995321, 0.2506720488864411, 0.9938554524857663, 0.2551432730397348, 0.0809999826020497, 0.31812843249305844, 0.039899497196067314, 0.047639198993297764, 0.038431622717282225, 0.12356834248681717, 0.04884018720321283, 0.00013344313443500774, 0.02001647016525116, 0.016813834938810973, 0.0002668862688700155, 0.007205929259490418, 0.0022685332853951317, 0.00013344313443500774, 0.0004003294033050232, 0.00013344313443500774, 0.9540382550789895, 0.9745373790069569, 0.9965532668329056, 0.9983621247974406, 0.1223798178235652, 0.009311507877879962, 0.20352295790223343, 0.007981292466754253, 0.3338840681925529, 0.0066510770556285435, 0.003990646233377126, 0.305949544558913, 0.005320861644502835, 0.9540395757296971, 0.5097505381829244, 0.2513838270491134, 0.23043517479502063, 0.2832664024601436, 0.2529936571590596, 0.07784420220278755, 0.0021623389500774323, 0.14920138755534282, 0.04108444005147121, 0.01729871160061946, 0.17731179390634944, 0.9792505176291701, 0.0070229391191299435, 0.07725233031042937, 0.07022939119129944, 0.014045878238259887, 0.8216838769382033, 0.9919213208083727, 0.016228197852940274, 0.5235096418485548, 0.15326631305554703, 0.11059216314596333, 0.16288302289432643, 0.003005221824618569, 0.003005221824618569, 0.002404177459694855, 0.022839685867101125, 0.002404177459694855, 0.9863087951431101, 0.9911201630111719, 0.9827991367155396, 0.9772595299186247, 0.9870961807153013, 0.003105396113586747, 0.02794856502228072, 0.9657781913254783, 0.2526693560388147, 0.2331405222228376, 0.15623067052781672, 0.04870153618305398, 0.04966592303816396, 0.05424676059993636, 0.14104157755983454, 0.05979198501681874, 0.002652063851552444, 0.00048219342755498985, 0.00048219342755498985, 0.00024109671377749492, 0.00048219342755498985, 0.9140584952205028, 0.9921633172871027, 0.006309464656833722, 0.7326683611654927, 0.053306195156490974, 0.026458549420740045, 0.06770275881189364, 0.009338311560261192, 0.03735324624104477, 0.024902164160696513, 0.04202240202117537, 0.004669155780130596, 0.000778192630021766, 0.000389096315010883, 0.97750469202977, 0.9245278845128251, 0.9940650121638493, 0.04152448286951469, 0.9550631059988378, 0.001384149428983823, 0.9844326435407705, 0.10575416009088986, 0.24068188158616313, 0.641818350896435, 0.01094008552664378, 0.9815141475249562, 0.010015450484948533, 0.15603622014746996, 0.4130780292296861, 0.06547948524045615, 0.18250665035105862, 0.008359083222185891, 0.004876131879608436, 0.07244538792561106, 0.02229088859249571, 0.001393180537030982, 0.02229088859249571, 0.050154499333115346, 0.001393180537030982, 0.9852225395697647, 0.9580365286067186, 0.9029616456890422, 0.0429981736042401, 0.9875330359909492, 0.005675477218338788, 0.98963607759097, 0.5686105001175786, 0.006689535295500925, 0.41475118832105734, 0.006689535295500925, 0.05833834908507847, 0.2830844480193972, 0.09754937060127876, 0.09850573697972266, 0.05833834908507847, 0.03251645686709292, 0.07650931027551275, 0.025821892217985552, 0.1319785602252595, 0.006694564649107366, 0.11858943092704477, 0.010520030162883004, 0.04765984397544359, 0.023829921987721794, 0.06127694225414176, 0.8068130730128665, 0.006808549139349084, 0.04765984397544359, 0.003404274569674542, 0.17633185653562225, 0.01856124805638129, 0.6651113886869963, 0.06805790954006473, 0.00618708268546043, 0.05877728551187408, 0.06692395114501169, 0.033461975572505846, 0.1784638697200312, 0.26769580458004677, 0.44615967430007797, 0.018453910276263176, 0.2740747415104272, 0.1736034522285499, 0.06014607793745035, 0.004100868950280706, 0.02050434475140353, 0.4449442811054566, 0.0006834781583801177, 0.002050434475140353, 0.6319650294020465, 0.04924402826509453, 0.2749458244801111, 0.04103669022091211, 0.05807307789034239, 0.3608826983185563, 0.189428849308974, 0.09817115548129308, 0.005530769322889751, 0.01935769263011413, 0.0027653846614448755, 0.07881346285117896, 0.011061538645779502, 0.004148076992167313, 0.13412115608007646, 0.004148076992167313, 0.03180192360661607, 0.9970743029162229, 0.08142643059501617, 0.3094204362610614, 0.08956907365451777, 0.16285286119003234, 0.040713215297508085, 0.05699850141651131, 0.26056457790405174, 0.030952089136929258, 0.959514763244807, 0.9806598163281199, 0.033939286439921536, 0.9587848419277835, 0.0010982744534594245, 0.0005491372267297123, 0.0010982744534594245, 0.03294823360378273, 0.9631866956839152, 0.0005491372267297123, 0.9761773614212846, 0.0006280368214428408, 0.915677685663662, 0.06029153485851273, 0.0025121472857713633, 0.0006280368214428408, 0.0018841104643285227, 0.016956994178956703, 0.0006280368214428408, 0.9942118464122769, 0.8746401340186201, 0.555476003323117, 0.3769301451121151, 0.05951528607033396, 0.989605189751677, 0.9540486708539242, 0.9470976394005725, 0.9262074333672478, 0.033634080258210505, 0.9619346953848203, 0.9852508368412886, 0.04383108748525802, 0.05259730498230962, 0.8678555322081087, 0.017532434994103206, 0.017532434994103206, 0.4583667467374512, 0.006753101241067421, 0.0008441376551334277, 0.002532412965400283, 0.21356682674875718, 0.3089543817788345, 0.0008441376551334277, 0.006753101241067421, 0.35695792794955844, 0.08782298227330405, 0.5120646466419261, 0.005665998856342197, 0.0007082498570427746, 0.0014164997140855493, 0.03257949342396763, 0.002124749571128324, 0.983937440814592, 0.0025961410047878417, 0.010384564019151367, 0.984156263237979, 0.013035182294542768, 0.07702355230594636, 0.84725907536541, 0.992321324766377, 0.11693312055888745, 0.01417371158289545, 0.8468792670780031, 0.021260567374343172, 0.9786112043850542, 0.08287751006344014, 0.007534319096676376, 0.3465786784471133, 0.56130677270239, 0.9292672804908021, 0.7228926647235996, 0.03661124717070862, 0.04737926104444645, 0.0294325712548834, 0.006460808324242698, 0.09834786004680551, 0.012203749056902873, 0.023689630522223226, 0.002153602774747566, 0.015075219423232962, 0.002871470366330088, 0.000717867591582522, 0.000717867591582522, 0.4117427450132682, 0.5614673795635475, 0.9887412012319288, 0.9882867168248974, 0.01346218158595996, 0.9737644680511037, 0.011218484654966632, 0.01763291880963579, 0.9815658137363923, 0.9793274552674214, 0.01939886547287195, 0.8820778241488246, 0.0753132424240911, 0.0091288778695868, 0.0114110973369835, 0.0022822194673967, 0.33898890922071745, 0.13242638523814337, 0.08941610627190877, 0.05291396162293335, 0.016694779335577902, 0.19128255645509598, 0.071589477489851, 0.09337757933458828, 0.0016977741697197868, 0.009337757933458828, 0.0008488870848598934, 0.0002829623616199645, 0.0002829623616199645, 0.000565924723239929, 0.992217185912931, 0.9893566351581022, 0.9360714315645083, 0.00914727783287793, 0.030490926109593103, 0.0030490926109593103, 0.015245463054796552, 0.0030490926109593103, 0.9918223653665347, 0.9866381765973813, 0.010277481006222722, 0.034799642782786036, 0.034799642782786036, 0.18095814247048742, 0.013919857113114416, 0.7238325698819497, 0.9906117589010761, 0.03965283714870489, 0.9120152544202125, 0.816487612726473, 0.007794631147746759, 0.0019486577869366898, 0.17343054303736538, 0.9884196674206355, 0.09283608077819538, 0.11140329693383447, 0.06498525654473677, 0.7287632341088338, 0.8234639974274878, 0.15169073636822142, 0.9870948524283246, 0.01655031145255221, 0.1334368860862022, 0.10343944657845132, 0.0868891351258991, 0.27204574450132696, 0.007240761260491592, 0.2813552946933876, 0.006206366794707079, 0.001034394465784513, 0.08068276833119203, 0.004137577863138052, 0.005171972328922566, 0.002068788931569026, 0.18249714079766466, 0.3041619013294411, 0.5170752322600498, 0.9825159100911778, 0.7619448601431853, 0.9675262689905716, 0.984653946140263, 0.9957842796066557, 0.966236663372484, 0.9521024259221293, 0.16908449496283748, 0.019892293525039705, 0.14256143692945122, 0.6647341419617434, 0.001657691127086642, 0.9943821513973303, 0.9931091164288922, 0.9832641406683642, 0.39021348490196944, 0.5703120163951861, 0.9565237809165604, 0.9893433468058086, 0.10156943859455993, 0.06572140144353877, 0.83047952733199, 0.21613732993969573, 0.766305078877103, 0.9787838767220245, 0.1025770497232589, 0.03550744028882039, 0.445815639181856, 0.07890542286404531, 0.01578108457280906, 0.03550744028882039, 0.1262486765824725, 0.05523379600483172, 0.023671626859213594, 0.019726355716011328, 0.05128852486162945, 0.02355872562394904, 0.17014635172852086, 0.8009966712142674, 0.9738613133964896, 0.9867000711101467, 0.9918657814981396, 0.994615636083659, 0.04079844692118868, 0.15542265493786164, 0.007771132746893082, 0.24867624790057863, 0.4565540488799686, 0.013599482307062894, 0.05828349560169812, 0.005828349560169812, 0.005828349560169812, 0.003885566373446541, 0.04774787100361317, 0.9191465168195536, 0.011936967750903292, 0.9924660017757111, 0.6324273289019435, 0.04088311395120556, 0.9403116208777278, 0.16063810641784293, 0.8248148925685397, 0.0061783887083785745, 0.0030891943541892872, 0.0030891943541892872, 0.04066459810034251, 0.9352857563078777, 0.9554197950163739, 0.009213305641430799, 0.032246569745007794, 0.0027639916924292397, 0.0009213305641430798, 0.034361229681597924, 0.8791735318532986, 0.05568888948396905, 0.01184869989020618, 0.010663829901185562, 0.003554609967061854, 0.002369739978041236, 0.002369739978041236, 0.15598159305683054, 0.8319018296364296, 0.04347297556808138, 0.6926694107180966, 0.2202630762116123, 0.01738919022723255, 0.0231855869696434, 0.9981461639034152, 0.06394240556062139, 0.14158675516994737, 0.1781252726331596, 0.15072138453575043, 0.004567314682901528, 0.4156256361440391, 0.045673146829015285, 0.9687189370794107, 0.9848088962440703, 0.9696538442514915, 0.012269261036359065, 0.012269261036359065, 0.9570023608360071, 0.020846604706055944, 0.7120761291700162, 0.008777517770970925, 0.0025601093498665195, 0.022675254241674887, 0.21760929473865415, 0.0010971897213713656, 0.0018286495356189425, 0.0003657299071237885, 0.007680328049599558, 0.002925839256990308, 0.0003657299071237885, 0.0010971897213713656, 0.0016917864673798677, 0.7689169494241499, 0.0042294661684496694, 0.005921252635829538, 0.0008458932336899338, 0.020301437608558414, 0.19286365728130492, 0.005921252635829538, 0.9719183780460923, 0.0744798240650317, 0.21599148978859195, 0.01489596481300634, 0.02234394721950951, 0.08192780647153487, 0.5809426277072474, 0.00744798240650317, 0.9918278572016902, 0.9849456363671452, 0.020179779289917668, 0.37111106303897373, 0.49120535930092274, 0.023625107461367027, 0.049218973877847974, 0.0004921897387784798, 0.011812553730683514, 0.0004921897387784798, 0.007382846081677196, 0.0009843794775569595, 0.0014765692163354392, 0.021656348506253108, 0.0004921897387784798, 0.9927392002104856, 0.9931705998765523, 0.0031629636938743703, 0.9989779833083897, 0.996847461855012, 0.002279521090421304, 0.002279521090421304, 0.004559042180842608, 0.01139760545210652, 0.9004108307164151, 0.07750371707432434, 0.012531344267673796, 0.0017901920382391138, 0.0035803840764782277, 0.04117441687949962, 0.008950960191195569, 0.9308998598843392, 0.9227001067219448, 0.9343519678112195, 0.9982735901552545, 0.9940891108018829, 0.3550314576737529, 0.3381980695943939, 0.003060616014428904, 0.010712156050501164, 0.033666776158717944, 0.11018217651944055, 0.015303080072144521, 0.001530308007214452, 0.003060616014428904, 0.06274262829579254, 0.030606160144289043, 0.001530308007214452, 0.033666776158717944, 0.9419983821296386, 0.011324570714126804, 0.02985568642815248, 0.0010295064285569821, 0.0010295064285569821, 0.013383583571240767, 0.0010295064285569821, 0.9485931171517261, 0.03259770162033423, 0.006519540324066846, 0.009779310486100269, 0.9255188853209788, 0.0025566820036491125, 0.005113364007298225, 0.007670046010947338, 0.012783410018245563, 0.030680184043789353, 0.01022672801459645, 0.22584212098110049, 0.17164001194563636, 0.027101054517732058, 0.07226947871395215, 0.08130316355319617, 0.07226947871395215, 0.045168424196220094, 0.29811159969505263, 0.547844890260281, 0.03361373384804738, 0.040690309395004724, 0.11794292578262239, 0.0395108801371785, 0.08432919193457501, 0.043049167910657174, 0.02653715830109004, 0.011204577949349127, 0.0542537458600063, 0.000589714628913112, 0.9988163839516643, 0.8472281351643075, 0.14120468919405124, 0.033086889280406505, 0.01240758348015244, 0.01240758348015244, 0.05376619508066057, 0.885074288250874, 0.0020679305800254066, 0.01975465285451947, 0.8856669363109563, 0.09218837998775753, 0.0003509607537381233, 0.7240320349617483, 0.03790376140371731, 0.07580752280743462, 0.0031586467836431094, 0.007019215074762465, 0.0003509607537381233, 0.0014038430149524931, 0.14986024184617863, 0.2463208089161322, 0.7389624267483966, 0.10560545007490957, 0.0014466500010261586, 0.011573200008209269, 0.0014466500010261586, 0.7276649505161578, 0.08969230006362183, 0.0347196000246278, 0.015913150011287742, 0.005786600004104634, 0.002893300002052317, 0.02475363266078769, 0.2450609633417981, 0.727756800227158, 0.9828403715027301, 0.7563294213946855, 0.99618180032641, 0.026076362027082217, 0.964825395002042, 0.965813428873896, 0.9877494555875045, 0.009977267228156611, 0.9923594103729169, 0.9944817974177241, 0.0022499588176871587, 0.14915763178198616, 0.0021008117152392417, 0.7478889706251701, 0.07352841003337346, 0.027310552298110143, 0.31327680307713524, 0.038846323581564764, 0.01629039376001103, 0.1779412241478128, 0.01378417933539395, 0.1929785106955153, 0.050124288492341636, 0.026315251458479356, 0.01503728654770249, 0.15287907990164198, 0.0037593216369256224, 0.8928925095313442, 0.0244628084803108, 0.016818180830213678, 0.0045867765900582756, 0.058099170140738156, 0.027894208125562016, 0.9484030762691085, 0.934049145012786, 0.7744048762649587, 0.011337095574480639, 0.06991208937596394, 0.035900802652522025, 0.07747015309228437, 0.01700564336172096, 0.13415563096468758, 0.09636531238308543, 0.005668547787240319, 0.5366225238587503, 0.015116127432640852, 0.008069203160879878, 0.012910725057407804, 0.02097992821828768, 0.0005379468773919918, 0.0010758937547839837, 0.917199425953346, 0.035504493907871464, 0.0016138406321759755, 0.0010758937547839837, 0.6500498569978304, 0.04094802248805231, 0.30199166584938575, 0.9526501631784297, 0.04483104250376321, 0.05977472333835095, 0.8443179671542073, 0.04483104250376321, 0.9850642570745649, 0.10815538613001423, 0.03605179537667141, 0.10214675356723565, 0.024034530251114274, 0.024034530251114274, 0.018025897688335703, 0.6669582144684211, 0.018025897688335703, 0.13033512177975873, 0.18786234794461776, 0.13722640408075745, 0.046141629319730676, 0.026366645325560385, 0.10696468615028475, 0.19864870285052882, 0.14172071862488708, 0.0008988629088259222, 0.018276879146127085, 0.0017977258176518445, 0.001198483878434563, 0.0008988629088259222, 0.001198483878434563, 0.11946939856073333, 0.07964626570715555, 0.7964626570715555, 0.9895428323599402, 0.19693041746299966, 0.07955467195525152, 0.09807395624647401, 0.10016063616661175, 0.019823459241308575, 0.22353558644475593, 0.1499801192599004, 0.1092898608172144, 0.0002608349900172181, 0.018519284291222488, 0.0018258449301205267, 0.0005216699800344362, 0.0007825049700516543, 0.0005216699800344362, 0.0002608349900172181, 0.05828537216252424, 0.0996491846649608, 0.08272762500487311, 0.003760346591130596, 0.5790933750341117, 0.04700433238913245, 0.01692155966008768, 0.011281039773391788, 0.007520693182261192, 0.0864879715960037, 0.003760346591130596, 0.9961000814175293, 0.0014562866687390778, 0.27680898225666106, 0.36907864300888144, 0.27680898225666106, 0.9941500070775755, 0.2647894411704428, 0.1326831622422698, 0.19594803235488834, 0.05230408714477883, 0.02403680475403439, 0.023652215877969836, 0.14249017858191584, 0.15075883941730367, 0.0011537666281936506, 0.007307188645226454, 0.0003845888760645502, 0.0034612998845809516, 0.0001922944380322751, 0.0003845888760645502, 0.0001922944380322751, 0.06079743472509535, 0.0011364006490672026, 0.7017274007989976, 0.003409201947201608, 0.173869299307282, 0.0011364006490672026, 0.056820032453360134, 0.9205137442715043, 0.9713587855037416, 0.026783790041463463, 0.0017855860027642307, 0.25904138408020966, 0.007618864237653225, 0.7314109668147096, 0.1526098023882208, 0.008872662929547722, 0.030167053960462254, 0.007098130343638177, 0.09050116188138677, 0.026617988788643167, 0.6707733174738078, 0.0017745325859095443, 0.0017745325859095443, 0.0053235977577286335, 0.0017745325859095443, 0.9552830338153232, 0.019901729871152567, 0.12784284315035044, 0.004123962682269369, 0.7464372454907557, 0.004123962682269369, 0.06185944023404053, 0.008247925364538737, 0.02474377609361621, 0.004123962682269369, 0.008247925364538737, 0.008247925364538737, 0.04790795361396564, 0.01197698840349141, 0.21558579126284536, 0.02395397680698282, 0.09581590722793128, 0.5868724317710791, 0.02395397680698282, 0.009043774433435554, 0.03692874560319518, 0.9435671325551095, 0.008290126563982592, 0.0007536478694529629, 0.9866541672711682, 0.09903984466712262, 0.895664682207022, 0.24284473533142018, 0.1108192876723664, 0.036939762557455465, 0.09098126703965884, 0.03078313546454622, 0.3242490268932202, 0.0937175457476185, 0.05335743480521345, 0.004788487738929412, 0.009576975477858823, 0.000684069676989916, 0.26741995060444274, 0.2682111338902547, 0.09151353339225013, 0.06223975181720758, 0.04272389743384588, 0.06804176257982862, 0.1405668971125917, 0.04509744729128176, 0.01054911047749281, 0.0005274555238746405, 0.00026372776193732026, 0.002109822095498562, 0.0007911832858119608, 0.903409488907049, 0.03856016111188624, 0.01652578333366553, 0.044068755556441415, 0.030081900667542554, 0.2543287965528598, 0.5934338586233394, 0.12032760267017022, 0.9879782617273256, 0.010291440226326309, 0.9902670824000043, 0.0048781629674877055, 0.12665912870119617, 0.432643209377969, 0.1366699876707065, 0.04352547378047978, 0.06833499383535326, 0.07660483385364442, 0.0587593896036477, 0.01784544424999671, 0.0008705094756095956, 0.01610442529877752, 0.014798661085363126, 0.005223056853657574, 0.0017410189512191913, 0.9948997595984893, 0.9726909948853142, 0.9594512520637942, 0.17330972691681065, 0.808778725611783, 0.9788353421079833, 0.0923633366780059, 0.20949075637837572, 0.06157555778533727, 0.05287466375045266, 0.180710876109142, 0.04484306925671301, 0.19008106968517158, 0.06425275594991715, 0.002007898623434911, 0.09169403713686093, 0.0013385990822899407, 0.0026771981645798814, 0.0006692995411449703, 0.0006692995411449703, 0.0013385990822899407, 0.0026771981645798814, 0.9375615140056794, 0.030490111915613533, 0.015245055957806767, 0.09756835812996331, 0.016769561553587442, 0.0030490111915613535, 0.16617110994009376, 0.1387300092160416, 0.5076603633949653, 0.01829406714936812, 0.00457351678734203, 0.0015245055957806767, 0.995652253413942, 0.9897711972482255, 0.007003098093737445, 0.002334366031245815, 0.9753036189154698, 0.9778067441972608, 0.9905102519936315, 0.9940183710563647, 0.5208571221520726, 0.008680952035867877, 0.46877140993686534, 0.8046669707682496, 0.006213644561916985, 0.0020712148539723282, 0.007249251988903149, 0.07974177187793464, 0.03210383023657109, 0.007249251988903149, 0.046602334214377386, 0.0041424297079446564, 0.007249251988903149, 0.0031068222809584926, 0.09393783806629125, 0.375751352265165, 0.14090675709943687, 0.3600950459207831, 0.0526613630824211, 0.9303507477894394, 0.040529216733058634, 0.8105843346611727, 0.034492950411113735, 0.003449295041111373, 0.03621759793166942, 0.0017246475205556866, 0.07071054834278315, 0.0008623237602778433, 0.10267836809633056, 0.3752916772778545, 0.15334498641460723, 0.06591144152908555, 0.1600706437134935, 0.0399055666400586, 0.0040353943793317686, 0.007622411605404452, 0.020176971896658843, 0.017935086130363417, 0.017935086130363417, 0.032731532187913234, 0.0004483771532590854, 0.0004483771532590854, 0.03166821713288882, 0.12500612026140323, 0.010000489620912259, 0.11333888237033894, 0.4683562639127241, 0.03666846194334495, 0.060002937725473555, 0.07167017561653785, 0.0616696859956256, 0.020000979241824517, 0.7173107915381239, 0.2732612539192853, 0.8298185638167751, 0.11854550911668216, 0.021289150307340184, 0.464813115043594, 0.2507388813975622, 0.0011827305726300101, 0.08752206237462075, 0.005913652863150051, 0.04257830061468037, 0.0011827305726300101, 0.0023654611452600203, 0.12182124898089106, 0.0011827305726300101, 0.04943644053863345, 0.3290269764737937, 0.06866172297032423, 0.2235625699913757, 0.21037951918107345, 0.012633757026539658, 0.00714081918891372, 0.013732344594064846, 0.0010985875675251877, 0.02856327675565488, 0.013183050810302252, 0.03899985864714416, 0.003295762702575563, 0.10016850743545562, 0.8903867327596056, 0.973156644678886, 0.9885924975087376, 0.9753574252879992, 0.0025541264109369506, 0.038311896164054254, 0.0664072866843607, 0.04086602257499121, 0.2937245372577493, 0.5567995575842551, 0.10673407979533649, 0.02247033258849189, 0.8651078046569378, 0.0056175831471229724, 0.9796144067745114, 0.017933444517611193, 0.06766455835108995, 0.9134715377397143, 0.007263202661946158, 0.3341073224495233, 0.5035820512282669, 0.03631601330973079, 0.11257964126016545, 0.0024210675539820528, 0.0012105337769910264, 0.0024210675539820528, 0.9874662532605697, 0.004201984056427956, 0.008403968112855912, 0.8071504130702505, 0.9745505711860337, 0.9982883212636303, 0.0015334690034771586, 0.9829919155626723, 0.9376220461072863, 0.44806185735838244, 0.038521155157507994, 0.5088847339228688, 0.0040548584376324205, 0.9734962649143959, 0.9659516660219613, 0.9412150792582731, 0.9855113205524859, 0.974640368560393, 0.000995733422914253, 0.07667147356439749, 0.021408268592656442, 0.869275278204143, 0.004480800403114139, 0.010953067652056784, 0.012446667786428164, 0.003982933691657012, 0.9883081399509807, 0.0027151322526125844, 0.008145396757837754, 0.9893155772879924, 0.20649705118972417, 0.004001880837010158, 0.0032015046696081267, 0.005602633171814222, 0.010404890176226412, 0.6699148521155005, 0.012806018678432507, 0.01920902801764876, 0.0016007523348040634, 0.06082858872255441, 0.00480225700441219, 0.07820996182098962, 0.06843371659336592, 0.8505333348032621, 0.06866388935346363, 0.923147845752122, 0.3079829858148143, 0.20784917714302145, 0.13231967574486914, 0.08025009523553685, 0.03204281877497371, 0.10828756166363884, 0.07467121160953696, 0.04033962006492226, 0.00028609659620512244, 0.012016057040615143, 0.0014304829810256122, 0.0008582897886153674, 0.0011443863848204898, 0.00028609659620512244, 0.00014304829810256122, 0.00014304829810256122, 0.00014304829810256122, 0.98455799389668, 0.8072155925333727, 0.21860846219568403, 0.017845588750668086, 0.02676838312600213, 0.04461397187667021, 0.21637776360185051, 0.020076287344501596, 0.07361305359650586, 0.3747573637640298, 0.008922794375334043, 0.9855405092576659, 0.0019928630183290797, 0.06377161658653055, 0.005978589054987239, 0.9047598103214022, 0.019928630183290795, 0.3883403277689013, 0.008325826322763581, 0.5215535489331186, 0.007136422562368783, 0.05649667861875287, 0.0005947018801973987, 0.0011894037603947974, 0.0059470188019739864, 0.009515230083158379, 0.0005947018801973987, 0.15102145987654245, 0.7551072993827123, 0.9656106806849956, 0.02858715830975316, 0.013265893708135903, 0.9684102406939209, 0.9820154024543056, 0.013734481153207072, 0.8852180814532048, 0.7787105440729233, 0.01269230992256922, 0.017918555184803602, 0.008212671126368318, 0.026877832777205405, 0.06794118840904699, 0.061968336680779126, 0.011945703456535735, 0.01269230992256922, 0.19468862677328566, 0.07758268585702362, 0.014638242614532757, 0.011710594091626206, 0.02049353966034586, 0.05855297045813103, 0.43182815712871636, 0.0014638242614532758, 0.18883332972747258, 0.23801074227655233, 0.19901550969729997, 0.15644700879405235, 0.048006083135414275, 0.035421964255257135, 0.09601216627082855, 0.13547347732712378, 0.06323131338548094, 0.00015535949234761902, 0.024546799790923807, 0.0020196734005190472, 0.00015535949234761902, 0.0007767974617380951, 0.00046607847704285707, 0.00031071898469523803, 0.12973976233654866, 0.25640876106749855, 0.2840456335178876, 0.043604843199502745, 0.04038054141362402, 0.041915923216423415, 0.07692262832024956, 0.05803743214581703, 0.005680912670357752, 0.019038734354712466, 0.016428585289953498, 0.02241657432087113, 0.0038384545069984808, 0.0010747672619595746, 0.00015353818027993924, 0.0003070763605598785, 0.0003070763605598785, 0.06194394462738528, 0.19242161522549472, 0.36112001761496954, 0.05205927261237699, 0.1976934403001658, 0.03360788485102819, 0.023723212836019896, 0.01845138776134881, 0.04085664432870093, 0.002635912537335544, 0.007248759477672746, 0.007907737612006633, 0.000658978134333886, 0.000658978134333886, 0.4505983727961618, 0.009894896699915714, 0.07915917359932571, 0.007611458999935165, 0.03196812779972769, 0.2686845026977113, 0.06926427689941, 0.026640106499773077, 0.0007611458999935165, 0.0007611458999935165, 0.05175792119955912, 0.003044583599974066, 0.0007611458999935165, 0.02420622347469918, 0.9440427155132681, 0.15322984970696885, 0.25426051984343184, 0.17315534298388238, 0.05500558707429651, 0.026099589785252935, 0.07408915810007285, 0.15379113120772697, 0.07633428410310536, 0.0011225630015162553, 0.026380230535632, 0.001683844502274383, 0.003928970505306894, 0.0011225630015162553, 0.9790593196743196, 0.1938606288004803, 0.7996750938019812, 0.18556523870237188, 0.059793243581875384, 0.008247343942327639, 0.004123671971163819, 0.2948425459382131, 0.14639035497631558, 0.274224186082394, 0.022680195841401008, 0.004123671971163819, 0.002813263005956527, 0.7342616445546536, 0.10502848555571034, 0.07970911850210159, 0.004688771676594212, 0.019692841041695688, 0.03188364740084064, 0.0037510173412753692, 0.010315297688507266, 0.002813263005956527, 0.0018755086706376846, 0.0018755086706376846, 0.34805546061016723, 0.03431532710241085, 0.25491385847505205, 0.04902189586058693, 0.044119706274528235, 0.004902189586058693, 0.24510947930293467, 0.019608758344234773, 0.6244520372330088, 0.013860500826433607, 0.021155501261398663, 0.010213000608951079, 0.02480300147888119, 0.13641650813384654, 0.015319500913426617, 0.04231100252279733, 0.008754000521958067, 0.02480300147888119, 0.005106500304475539, 0.07367950439314706, 0.3692286502530266, 0.5743556781713747, 0.9937755995694557, 0.19637180356319256, 0.06452216402790613, 0.028053114794741797, 0.030858426274215974, 0.6227791484432679, 0.019637180356319256, 0.028053114794741797, 0.00841593443842254, 0.6215722968080778, 0.9996635318925895, 0.9799604304861973, 0.006876915301657524, 0.010315372952486287, 0.001719228825414381, 0.4894663214194826, 0.09281546741202774, 0.10571806602087465, 0.12070172892147105, 0.007908044308648103, 0.061183290177435325, 0.05327524586878722, 0.04037264725994032, 0.018729578625745508, 0.00041621285834990017, 0.007908044308648103, 0.0008324257166998003, 0.02656924137104091, 0.0037956059101487013, 0.0037956059101487013, 0.03036484728118961, 0.7211651229282532, 0.20875832505817857, 0.984863410287353, 0.010533298505747092, 0.03166014976185713, 0.8446927956463482, 0.08484920136177711, 0.005065623961897141, 0.008864841933319996, 0.0012664059904742852, 0.011397653914268568, 0.0012664059904742852, 0.007598435942845711, 0.0037992179714228555, 0.994708165598679, 0.057337361816099996, 0.8170574058794249, 0.100340383178175, 0.0029274562223776165, 0.0731864055594404, 0.1229531613398599, 0.7142993182601384, 0.0029274562223776165, 0.06733149311468518, 0.011709824889510466, 0.8172930358376923, 0.020782839258522583, 0.5819194992386323, 0.06754422759019839, 0.06234851777556775, 0.2649812005461629, 0.05424789912366152, 0.09041316520610253, 0.8498837529373638, 0.0036165266082441015, 0.022051264103623857, 0.8702898899563549, 0.010290589915024467, 0.02352134837719878, 0.010290589915024467, 0.0014700842735749238, 0.03234185401864832, 0.013230758462174315, 0.01617092700932416, 0.9511556253792017, 0.8383365216340675, 0.0792609074999482, 0.00762124110576425, 0.036581957307668396, 0.018290978653834198, 0.018290978653834198, 0.816093979835333, 0.17949281081422283, 0.6542313571155047, 0.34082711418592165, 0.9975745876450609, 0.008582394448896111, 0.9640889764259964, 0.017164788897792223, 0.002860798149632037, 0.005721596299264074, 0.08758295332680541, 0.004170616825085972, 0.004170616825085972, 0.8424645986673663, 0.05421801872611764, 0.9585544925165403, 0.4150479498044762, 0.5706909309811548, 0.9411797090009663, 0.05675455531664118, 0.15338194468809882, 0.8282625013157336, 0.006283588907672772, 0.9802398695969523, 0.006283588907672772, 0.9820318053033987, 0.008322303434774565, 0.019963408106139984, 0.12199860509307768, 0.046581285580993295, 0.12643491800555323, 0.046581285580993295, 0.05101759849346885, 0.23512458436120426, 0.002218156456237776, 0.3438142507168553, 0.002218156456237776, 0.27492783356950873, 0.05498556671390174, 0.10997113342780349, 0.49487010042511564, 0.1427446410802836, 0.37721492604865814, 0.1150641213270727, 0.1199489189305805, 0.04287766785301294, 0.03799287024950514, 0.08874048979705842, 0.02930878562104682, 0.027409142108571562, 0.0008141329339179672, 0.017096791612277312, 0.0002713776446393224, 0.07199700860010506, 0.028798803440042025, 0.014399401720021012, 0.43198205160063036, 0.4535811541806619, 0.10791715962640487, 0.24368390883381744, 0.209568161597083, 0.11766451597975756, 0.07902321043610937, 0.01601351400907943, 0.1343742697283622, 0.015665394139316835, 0.013576674920741258, 0.024020271013619147, 0.011487955702165679, 0.0027849589581007707, 0.0013924794790503854, 0.02019095244623059, 0.002088719218575578, 0.9715281357110445, 0.9822734587143743, 0.8149374781145026, 0.03505479013441065, 0.23036004945469854, 0.42280369325381006, 0.024323731929999225, 0.0558015026629394, 0.0050078271620586645, 0.12805729457264298, 0.07440200355058586, 0.0021462116408822846, 0.006438634922646854, 0.0007154038802940949, 0.015023481486175992, 0.0007154038802940949, 0.9773422790903569, 0.3081062432373043, 0.1376657975261501, 0.11244036605791663, 0.07426465225441, 0.01749208751446847, 0.1225059883469441, 0.12416313347989374, 0.08776731630066636, 0.0001227514913296033, 0.009390489086714653, 0.0001227514913296033, 0.0007978846936424215, 0.004173550705206512, 0.00042963021965361156, 0.0003682544739888099, 0.00018412723699440494, 0.912185740744531, 0.9856059508615964, 0.07222175620012353, 0.2421307433298939, 0.13985137761295596, 0.20622859862925447, 0.0663772210162985, 0.09142522894697717, 0.022125740338766166, 0.060532685832473475, 0.004174667988446447, 0.01168907036765005, 0.02129080674107688, 0.03798947869486267, 0.019203472746853655, 0.004592134787291091, 0.00041746679884464464, 0.029526586081320035, 0.1887592467341531, 0.3553735539073161, 0.011599730246232872, 0.006327125588854294, 0.38279109812568474, 0.010545209314757156, 0.014763293040660017, 0.24803236945428972, 0.7440971083628691, 0.689201374194426, 0.0057195134787919166, 0.08293294544248278, 0.04289635109093937, 0.17444516110315345, 0.9615625446094996, 0.13749338186483262, 0.8478758548331344, 0.9887891757975511, 0.007831653388290607, 0.10181149404777788, 0.03132661355316243, 0.06265322710632486, 0.7909969922173512, 0.9904200263886531, 0.09825386125696221, 0.1919377754787169, 0.5598185118129243, 0.026277195452443385, 0.09025645394534901, 0.006854920552811317, 0.014852327864424522, 0.0022849735176037724, 0.0011424867588018862, 0.006854920552811317, 0.0011424867588018862, 0.0033814108404771107, 0.04733975176667955, 0.010144232521431332, 0.010144232521431332, 0.9062181052478657, 0.020288465042862663, 0.9962505822881925, 0.030216930590528535, 0.9518333136016489, 0.015108465295264268, 0.9145844457310388, 0.2909056936383434, 0.09696856454611447, 0.5818113872766868, 0.9764889152680085, 0.9894979747798718, 0.6535951887452965, 0.006601971603487844, 0.026407886413951375, 0.006601971603487844, 0.026407886413951375, 0.27948346454765205, 0.009138385905769352, 0.02398826300264455, 0.029699754193750396, 0.01370757885865403, 0.06396870134038547, 0.03769584186129858, 0.46263078647957345, 0.01370757885865403, 0.0479765260052891, 0.05939950838750079, 0.22960194588245497, 0.007996087667548184, 0.9419391230489312, 0.9929866370601976, 0.013064659838974618, 0.9798494879230965, 0.9154071117487588, 0.9649632719764663, 0.027182063999337078, 0.007739098350704979, 0.9828654905395323, 0.049338651361605694, 0.9220160473200064, 0.012334662840401424, 0.003083665710100356, 0.009250997130301067, 0.003083665710100356, 0.01313282167396025, 0.9849616255470188, 0.9376721532086791, 0.04863129481795418, 0.012157823704488546, 0.45551720628266296, 0.03196611973913424, 0.00532768662318904, 0.0399576496739178, 0.4635087362174465, 0.9723019010448373, 0.5374804974231236, 0.0432667607910034, 0.021801081018722645, 0.09122913903219322, 0.03639103523894472, 0.20945807840295835, 0.028006004077897554, 0.01173904362546604, 0.00016770062322094342, 0.002012407478651321, 0.015428457336326796, 0.0010062037393256606, 0.0013416049857675474, 0.00033540124644188685, 0.00016770062322094342, 0.1717604126176332, 0.02923581491363969, 0.018272384321024807, 0.03289029177784465, 0.03106305334574217, 0.0475081992346645, 0.03471753020994713, 0.043853722370459536, 0.4933543766676698, 0.0566443913951769, 0.040199245506254574, 0.9726960445539282, 0.01870569316449862, 0.97560842086109, 0.12076994467886354, 0.005250867159950589, 0.026254335799752945, 0.8243861441122424, 0.015752601479851767, 0.9944285266624443, 0.9934172165761962, 0.9905690644792001, 0.0669674155641515, 0.8705764023339696, 0.9896549669830675, 0.024038108118053826, 0.3028801622874782, 0.02884572974166459, 0.01923048649444306, 0.29807254066386746, 0.0961524324722153, 0.163459135202766, 0.05769145948332918, 0.008331916259690316, 0.008331916259690316, 0.8915150397868639, 0.02499574877907095, 0.041659581298451584, 0.016663832519380632, 0.0603648603497588, 0.025970928290012504, 0.0301824301748794, 0.02386517734757906, 0.0049134188656780415, 0.019653675462712166, 0.002807667923244595, 0.712445735523316, 0.10318179617923887, 0.014740256597034125, 0.0014038339616222976, 0.0010752203876733845, 0.0010752203876733845, 0.0010752203876733845, 0.0010752203876733845, 0.9902779770471871, 0.004300881550693538, 0.918438645483107, 0.07794866732882458, 0.9027615364876806, 0.4292811043253198, 0.13506741143978074, 0.03423714328974943, 0.07976125689480087, 0.019187849536013418, 0.04401918422967784, 0.05267252813807605, 0.17080948410490376, 0.004514788126120804, 0.026712496412881426, 0.001128697031530201, 0.00037623234384340037, 0.00037623234384340037, 0.0015049293753736015, 0.2948137981835931, 0.6979265426387102, 0.15737153878749313, 0.00245893029355458, 0.0983572117421832, 0.3467091713911958, 0.34179131080408665, 0.05163753616464618, 0.9495154963196456, 0.009290758281014146, 0.001858151656202829, 0.001858151656202829, 0.003716303312405658, 0.024155971530636776, 0.011148909937216974, 0.1966539796345748, 0.17626510549185967, 0.009865584262604086, 0.04735480446049961, 0.00723476179257633, 0.03683151458038859, 0.21638514815978296, 0.05590497748808982, 0.08615943589340902, 0.12364865609130454, 0.04340857075545798, 0.004804070422316019, 0.8214960422160392, 0.16814246478106065, 0.9924591494737989, 0.9554784385446304, 0.02727479449899609, 0.17923436385054572, 0.32437523457734635, 0.006818698624749022, 0.03409349312374511, 0.02337839528485379, 0.36431332652230486, 0.024352495088389364, 0.014611497053033618, 0.9652581073138363, 0.9961743889708131, 0.17586079260615448, 0.019344687186676993, 0.026379118890923172, 0.6946501307943101, 0.017586079260615447, 0.04220659022547708, 0.022861903038800084, 0.043452263063892535, 0.05586719536786183, 0.900082592037774, 0.18751289829725742, 0.5044155379429339, 0.025994778735912636, 0.020737407755615698, 0.06630128958485582, 0.044103501001379865, 0.11975122788454136, 0.01723249376875107, 0.009346437298305666, 0.0014603808278602604, 0.0014603808278602604, 0.0005841523311441041, 0.0005841523311441041, 0.00029207616557205205, 0.0017433559368645341, 0.5522079930018412, 0.024406983116103478, 0.10155048332235911, 0.20397264461315048, 0.0008716779684322671, 0.005230067810593602, 0.10939558503824952, 0.13814287667554673, 0.05396206120138544, 0.0366942016169421, 0.4295380071630281, 0.0021584824480554176, 0.023743306928609594, 0.3043460251758139, 0.0021584824480554176, 0.004316964896110835, 0.3160699437576581, 0.5267832395960969, 0.035279295444037094, 0.9525409769890015, 0.9880176442184707, 0.9895999239980231, 0.9953951937089457, 0.07996633320175141, 0.04732701352756716, 0.06038274139724086, 0.5989315160212809, 0.0016319659837092124, 0.1827801901754318, 0.0016319659837092124, 0.01958359180451055, 0.004895897951127637, 0.9916417498699438, 0.15388291582365796, 0.07332068342186054, 0.04254410025712896, 0.5385902053828028, 0.10228687934160793, 0.05069084285955791, 0.004525968112460528, 0.021724646939810535, 0.012672710714889478, 0.9889821958909784, 0.9730652918960336, 0.02287053059398607, 0.3023992378538158, 0.2795287072598297, 0.1321408434319195, 0.010164680263993808, 0.07115276184795666, 0.1372231835639164, 0.002541170065998452, 0.002541170065998452, 0.005082340131996904, 0.03557638092397833, 0.9765193101107771, 0.9791702647533984, 0.4272489699990692, 0.1890576692245881, 0.14597673141634865, 0.09043436531646964, 0.035604080833255766, 0.009969142633311614, 0.04664134589156505, 0.008188938591648825, 0.029551387091602287, 0.009969142633311614, 0.002136244849995346, 0.0007120816166651153, 0.002136244849995346, 0.00035604080833255764, 0.0017802040416627883, 0.9148274654628415, 0.9941546028161944, 0.06603316701518328, 0.01375690979482985, 0.08804422268691103, 0.06053040309725134, 0.18984535516865192, 0.0275138195896597, 0.0825414587689791, 0.10730389639967283, 0.01100552783586388, 0.3411713629117803, 0.00275138195896597, 0.01100552783586388, 0.9601115957451356, 0.9803302126454615, 0.017824185684462937, 0.9762045645213755, 0.015444330871991182, 0.9498263486274576, 0.007722165435995591, 0.023166496307986773, 0.6189632667841185, 0.06573637218211983, 0.05662439980043986, 0.0781026204143998, 0.03644788952671991, 0.02863762748527993, 0.06248209633151985, 0.043607296398039896, 0.003254275850599992, 0.0006508551701199984, 0.005206841360959987, 0.03713541172361289, 0.956236851883032, 0.9736308446684528, 0.0026674817662149393, 0.018672372363504573, 0.004001222649322409, 0.9317650374924639, 0.010961941617558398, 0.054809708087791995, 0.22711862526817764, 0.19255709533606363, 0.01481208425662028, 0.07899778270197483, 0.4641119733741021, 0.01481208425662028, 0.02443735759910749, 0.04887471519821498, 0.008145785866369163, 0.8553075159687621, 0.05702050106458414, 0.013981984305565331, 0.10586359545642322, 0.015979410634931808, 0.06591506886909371, 0.4164633896729102, 0.18076708280766607, 0.02396911595239771, 0.06491635570441047, 0.009987131646832379, 0.008988418482149142, 0.07690091368060932, 0.005992278988099427, 0.000998713164683238, 0.009987131646832379, 0.000998713164683238, 0.14984468090055006, 0.014047938834426567, 0.016389261973497663, 0.03511984708606642, 0.7702953127543901, 0.0023413231390710947, 0.009365292556284379, 0.0023413231390710947, 0.013118455514244388, 0.03935536654273316, 0.9314103415113515, 0.990803669341622, 0.9935839743336626, 0.9572334445117314, 0.10320908073443731, 0.22568385653930292, 0.11697029149902895, 0.04816423767607075, 0.03715526906439743, 0.12935538118716142, 0.01651345291750997, 0.04265975337023409, 0.009632847535214149, 0.08394338566400901, 0.06742993274649904, 0.12109865472840645, 0.995997999533274, 0.014417375303247857, 0.05149062608302806, 0.004119250086642245, 0.9124138941912572, 0.0185366253898901, 0.04761641477648832, 0.7459904981649836, 0.03174427651765888, 0.17459352084712385, 0.3714287685078232, 0.07008089971845721, 0.07650498219264912, 0.16498211808720134, 0.00817610496715334, 0.10570535707533962, 0.09402520712226342, 0.06336481349543839, 0.001460018744134525, 0.009052116213634056, 0.024528314901460024, 0.002628033739442145, 0.0017520224929614301, 0.001460018744134525, 0.004672059981230481, 0.9425258872599946, 0.01619876311809037, 0.004628218033740105, 0.28000719104127636, 0.571584927166903, 0.030083417219310685, 0.004628218033740105, 0.08562203362419195, 0.004628218033740105, 0.0023141090168700526, 0.1107597673419449, 0.09303820456723372, 0.6911409482137362, 0.08417742317987811, 0.013291172081033387, 0.9651526939470773, 0.9899199340218942, 0.9182682768013095, 0.4486813376438069, 0.009077368102620371, 0.02334180369245238, 0.1283799203084881, 0.01167090184622619, 0.051870674872116405, 0.005187067487211641, 0.07391571169276588, 0.006483834359014551, 0.03501270553867857, 0.009077368102620371, 0.1919214970268307, 0.0012967668718029102, 0.0012967668718029102, 0.0012967668718029102, 0.0012967668718029102, 0.023021101914083037, 0.5236387149663649, 0.13483788263962923, 0.026309830758952043, 0.020097787385310588, 0.05517756173057998, 0.052619661517904086, 0.15128152686397425, 0.008039114954124234, 0.0018270715804827808, 0.002557900212675893, 0.00036541431609655615, 0.24593104933573573, 0.08999291422265329, 0.1313946130523588, 0.124700925217616, 0.009420745841489877, 0.12246969593936839, 0.11081772081963091, 0.1232134390321176, 0.0019833149139978686, 0.01586651931198295, 0.021320635325477087, 0.001735400549748135, 0.0004958287284994672, 0.0004958287284994672, 0.0002479143642497336, 0.042641399884084524, 0.9381107974498595, 0.028514604613361243, 0.8294030646234205, 0.023555542941472333, 0.026035073777416786, 0.0012397654179722279, 0.06942686340644477, 0.013637419597694508, 0.00619882708986114, 0.0012397654179722279, 0.947127466025311, 0.11005806904128199, 0.8869385563915079, 0.4046264985273835, 0.04738273267069034, 0.04694196306445136, 0.07426967865126811, 0.03746541653031329, 0.2547648324061304, 0.057079664007947895, 0.055316585582991976, 0.00022038480311948995, 0.013663857793408377, 0.002865002440553369, 0.0008815392124779598, 0.0006611544093584698, 0.0033057720467923493, 0.0004407696062389799, 0.00022038480311948995, 0.00022038480311948995, 0.9892583865010447, 0.3888936238938731, 0.601621760040949, 0.006647754254596122, 0.009126150294954501, 0.9445565555277908, 0.04334921390103388, 0.025886933374421734, 0.9336553970374772, 0.03279011560760086, 0.0017257955582947824, 0.005177386674884347, 0.9971180862717929, 0.9898559351084529, 0.99602265014313, 0.061402372632215395, 0.8935661069898714, 0.04362800160710041, 0.03438264648139441, 0.0024559033200996006, 0.8571102587147607, 0.06385348632258962, 0.0024559033200996006, 0.036838549801494015, 0.0416548433376101, 0.1836599910794627, 0.06816247091608925, 0.1912335989590282, 0.024614225608587784, 0.07384267682576336, 0.0037868039397827365, 0.0037868039397827365, 0.05869546106663241, 0.007573607879565473, 0.34270575655033764, 0.020568107560715542, 0.0029383010801022204, 0.9520095499531195, 0.005876602160204441, 0.020568107560715542, 0.006257840162941182, 0.012515680325882364, 0.9219884506733342, 0.004171893441960789, 0.050062721303529456, 0.0020859467209803943, 0.9748924206706563, 0.26553843744419175, 0.16674559359192354, 0.11604238801694992, 0.01149969610978783, 0.03397637486982768, 0.1886995588924276, 0.11813324185509318, 0.08206601314712225, 0.015681403786074313, 0.0005227134595358105, 0.001045426919071621, 0.03198392074308766, 0.9595176222926297, 0.015233664139499952, 0.974954504927997, 0.015412986057352517, 0.0683951256295018, 0.5365645771215845, 0.09055129308694604, 0.01252305117159892, 0.026972725600366905, 0.21000193503142806, 0.013486362800183452, 0.0009633116285845323, 0.019266232571690647, 0.0009633116285845323, 0.0038532465143381292, 0.986754103044339, 0.06894565438735263, 0.3061654482963794, 0.188724121755211, 0.05024852777383327, 0.17937555844845132, 0.07478850645407742, 0.019281411820191836, 0.015775700580156957, 0.026877119506934076, 0.017528556200174395, 0.014022844960139518, 0.03739425322703871, 0.019290513979586504, 0.9741709559691184, 0.002470553603816283, 0.8708701453452398, 0.12105712658699787, 0.0012352768019081414, 0.0037058304057244248, 0.0012352768019081414, 0.17049618988290832, 0.5647686289871339, 0.053280059338408854, 0.01361601516426004, 0.01480001648289135, 0.06156806856882801, 0.027824030987835736, 0.008288009230419155, 0.005328005933840885, 0.0449920501079897, 0.0011840013186313078, 0.03256003626236097, 0.5871098218703342, 0.0447795626850255, 0.004975506965002832, 0.33335896665518977, 0.029853041790016997, 0.11835121045963297, 0.8580462758323391, 0.9878260720297782, 0.058007113999057516, 0.9281138239849203, 0.1042126312744691, 0.8597542080143701, 0.015631894691170364, 0.015631894691170364, 0.03310054209706928, 0.0022067028064712856, 0.0066201084194138565, 0.011033514032356428, 0.7745526850714212, 0.011033514032356428, 0.14343568242063356, 0.0022067028064712856, 0.011033514032356428, 0.0022067028064712856, 0.9879237091016047, 0.42141443717134025, 0.013704534542157407, 0.01713066817769676, 0.010278400906618055, 0.10621014270171991, 0.42141443717134025, 0.0034261336355393517, 0.9916968131860445, 0.0045490679503947, 0.9798076117291323, 0.04862762718559799, 0.9433759674006009, 0.8525843893275091, 0.04637488310149632, 0.008918246750287753, 0.08383151945270488, 0.005350948050172652, 0.0008918246750287753, 0.002675474025086326, 0.04502896575812278, 0.027017379454873664, 0.9005793151624555, 0.01801158630324911, 0.003069560940877207, 0.5862861397075465, 0.015347804704386035, 0.3929038004322825, 0.9680693972898872, 0.1642454411723364, 0.33573700474933466, 0.1103020854931867, 0.019322993079098398, 0.13204045270717238, 0.0426716097163423, 0.0032204988465163995, 0.0700458499117317, 0.0410613602930841, 0.0797073464512809, 0.0016102494232581998, 0.022117871435267163, 0.1750196783138532, 0.01634799193041486, 0.009616465841420506, 0.4096614448445135, 0.010578112425562556, 0.008654819257278455, 0.3250365454400131, 0.01827128509869896, 0.0028849397524261518, 0.9916192571911189, 0.006888131933666612, 0.55908670861594, 0.013776263867333225, 0.006888131933666612, 0.0011480219889444354, 0.363922970495386, 0.010332197900499917, 0.02755252773466645, 0.008036153922611047, 0.1797632794048108, 0.14927710921335166, 0.06833107111878772, 0.06097234038291828, 0.038370524551319264, 0.21655693308415802, 0.09724037043827484, 0.13666214223757545, 0.0005256236239906748, 0.025755557575543066, 0.007358730735869448, 0.015768708719720245, 0.0015768708719720245, 0.002102494495962699, 0.02169244888467276, 0.013015469330803657, 0.008676979553869105, 0.008676979553869105, 0.9154213429331906, 0.030369428438541866, 0.380637197216942, 0.046585448017595885, 0.03579125884278708, 0.22213305091317062, 0.0818085916406562, 0.0704462872461206, 0.046585448017595885, 0.0005681152197267791, 0.0005681152197267791, 0.1085100069678148, 0.0011362304394535582, 0.0022724608789071164, 0.0022724608789071164, 0.981238519451178, 0.9927962879290634, 0.10730420575933479, 0.41312119217343896, 0.053652102879667395, 0.41848640246140567, 0.0053652102879667395, 0.35151647567680394, 0.01565457988844066, 0.0042694308786656344, 0.49240769467276985, 0.06688775043242828, 0.0327323034031032, 0.03557859065554696, 0.10933659066523208, 0.016821013948497242, 0.17662064645922104, 0.008410506974248621, 0.23549419527896137, 0.26072571620170726, 0.18503115343346965, 0.9252958027146144, 0.028261397261787162, 0.2341658630262365, 0.13323230137699663, 0.0807468493193919, 0.004037342465969595, 0.5167798356441081, 0.006915295775195138, 0.027661183100780553, 0.9612261127521242, 0.9760155006000779, 0.9931475951943273, 0.1611875852703248, 0.6537052069296506, 0.17909731696702758, 0.08185180794533456, 0.9003698873986801, 0.91811792532164, 0.0573823703326025, 0.09561038550478419, 0.4764741983901787, 0.07541545259288258, 0.20510478738650076, 0.04417641574478478, 0.0003155458267484627, 0.01167519558969312, 0.047647419839017865, 0.002839912440736164, 0.0012621833069938508, 0.03912768251680937, 0.0003155458267484627, 0.9447440243752688, 0.043852613363442455, 0.022879624363535193, 0.024786259727163126, 0.0038132707272558655, 0.01334644754539553, 0.28980857527144577, 0.009533176818139664, 0.0038132707272558655, 0.566270702997496, 0.017159718272651395, 0.007626541454511731, 0.27932651874245157, 0.07273601934703983, 0.0454600120918999, 0.0798075767835576, 0.0676849068923843, 0.20659049939541174, 0.12829825634825082, 0.08182802176541981, 0.0005051112454655544, 0.016668671100363294, 0.01969933857315662, 0.0005051112454655544, 0.0005051112454655544, 0.04758641176908825, 0.9231763883203119, 0.023793205884544123, 0.04923180353116823, 0.10135959550534636, 0.8021887987137412, 0.017375930658059376, 0.01447994221504948, 0.011583953772039584, 0.0006549441334597803, 0.003929664800758682, 0.02619776533839121, 0.0006549441334597803, 0.9260910047121292, 0.02619776533839121, 0.015718659203034727, 0.0035206312475467437, 0.25348544982336557, 0.03520631247546744, 0.39079006847768855, 0.20419661235771114, 0.007041262495093487, 0.07041262495093488, 0.007041262495093487, 0.031685681227920696, 0.3623286885690184, 0.16065155609568116, 0.08435165236527412, 0.062113489468974575, 0.016870330473054824, 0.19592588344843215, 0.07706673693372772, 0.031056744734487288, 0.006901498829886064, 0.0003834166016603369, 0.0007668332033206739, 0.0011502498049810108, 0.0003834166016603369, 0.019071573474882645, 0.05085752926635372, 0.915435526794367, 0.01271438231658843, 0.04891961101736629, 0.5253143276537744, 0.2930604734778672, 0.009601045152941048, 0.0438904921277305, 0.012344200910924204, 0.05303434465434102, 0.007315082021288417, 0.004571926263305261, 0.0013715778789915782, 0.9887726059625033, 0.981769331808322, 0.013827737067722846, 0.4294155377709224, 0.13265566546318774, 0.06432656191641646, 0.06975858270046942, 0.024301145612868443, 0.08405337423745085, 0.13265566546318774, 0.030019062227661018, 0.0005717916614792575, 0.028589583073962876, 0.00228716664591703, 0.001143583322958515, 0.00028589583073962877, 0.43286555512561115, 0.09708673361640842, 0.06932419896129331, 0.0752381116688918, 0.020862969829583536, 0.07983782155257951, 0.09577253079249765, 0.11614267456311464, 0.00016427535298884672, 0.007228115531509256, 0.0004928260589665402, 0.00016427535298884672, 0.004435434530698862, 0.00032855070597769345, 0.2790839597150909, 0.1681450211167788, 0.056184545330636895, 0.060883616394653804, 0.05066824451635618, 0.12217584766443951, 0.12319738485226928, 0.09071250227928285, 0.001634459500527619, 0.03166765282272262, 0.010215371878297618, 0.0036775338761871426, 0.0008172297502638095, 0.0006129223126978571, 0.00020430743756595236, 0.99613359886295, 0.17739110042693154, 0.08563708296472558, 0.24773584714795613, 0.07646168121850498, 0.05199394322858338, 0.10704635370590697, 0.012233868994960796, 0.015292336243700995, 0.21103424016307373, 0.012233868994960796, 0.9809087243807815, 0.961467770812681, 0.17283986013023994, 0.6800872757298572, 0.11272164791102605, 0.007514776527401737, 0.007514776527401737, 0.011272164791102605, 0.17635326405078508, 0.013831628553002752, 0.26280094250705227, 0.12794256411527546, 0.23859559253929746, 0.024205349967754815, 0.1417741926682782, 0.003457907138250688, 0.010373721414752065, 0.6148075932916517, 0.12253897048424672, 0.06056523828531735, 0.05774825045809328, 0.009155210438478204, 0.019014667833762423, 0.03732508871071883, 0.042254817408360935, 0.0007042469568060157, 0.007042469568060156, 0.011972198265702266, 0.014789186092926329, 0.0014084939136120313, 0.9458472834965621, 0.002901372035265528, 0.010154802123429348, 0.010154802123429348, 0.013056174158694875, 0.010154802123429348, 0.005802744070531056, 0.3016301991675624, 0.3148709252552177, 0.08913269268763087, 0.062005351434873644, 0.03164856479488342, 0.07815257837103866, 0.07847552290976195, 0.02454378494297082, 0.0003229445387233002, 0.007427724390635906, 0.005167112619572803, 0.0038753344646796028, 0.0019376672323398014, 0.0003229445387233002, 0.8383510031570568, 0.1594689408179184, 0.9707382221791191, 0.6890813156039243, 0.021533791112622633, 0.2799392844640942, 0.9008854227266941, 0.030019828693957088, 0.1131516620002998, 0.5923143123076918, 0.013855305551057118, 0.006927652775528559, 0.02309217591842853, 0.19859271289848535, 0.0011546087959214265, 0.0011546087959214265, 0.019628349530664252, 0.10348867780224456, 0.4709831540826621, 0.08215286176209009, 0.14655911018236947, 0.09770607345491297, 0.018544213941442667, 0.03329982503463361, 0.0013958010493558997, 0.00019940014990798568, 0.019940014990798567, 0.001196400899447914, 0.02313041738932634, 0.00039880029981597136, 0.00039880029981597136, 0.00039880029981597136, 0.00019940014990798568, 0.9867749578331393, 0.9571268365851893, 0.9826775028872778, 0.9867223088328112, 0.9858984436043203, 0.0031431701915188045, 0.09115193555404533, 0.05029072306430087, 0.45890284796174546, 0.38032359317377534, 0.0031431701915188045, 0.009429510574556413, 0.9701834024340926, 0.9942460659455904, 0.06420344964028733, 0.5965084139306696, 0.31109489689339226, 0.006420344964028733, 0.010506019032047018, 0.0005836677240026122, 0.0005836677240026122, 0.0005836677240026122, 0.0005836677240026122, 0.0011673354480052243, 0.0058366772400261216, 0.0005836677240026122, 0.0005836677240026122, 0.0005836677240026122, 0.9806628677656597, 0.01783023395937563, 0.0015455104133405093, 0.8577582794039827, 0.08654858314706852, 0.010818572893383565, 0.0030910208266810187, 0.02472816661344815, 0.012364083306724075, 0.2028861642691513, 0.7940544705016783, 0.2277923786407932, 0.7593079288026441, 0.06736279519722163, 0.09786670245634085, 0.07498877201200144, 0.002541992271593269, 0.008896972950576442, 0.026690918851729323, 0.06736279519722163, 0.10549267927112066, 0.49950148136807737, 0.0012709961357966345, 0.03940088020969567, 0.006354980678983172, 0.0012709961357966345, 0.24772345084498595, 0.2283659689415763, 0.16296907061924631, 0.0852775554123183, 0.03296003675445431, 0.10672773806204253, 0.09757217229691634, 0.02406605858261743, 0.0007847627798679598, 0.005231751865786398, 0.007324452612100958, 0.0005231751865786399, 0.0007847627798679598, 0.00026158759328931994, 0.247073405506995, 0.0015838038814550961, 0.0015838038814550961, 0.296171325832103, 0.00791901940727548, 0.0015838038814550961, 0.4434650868074269, 0.9718351905832457, 0.08719790748798759, 0.002724934608999612, 0.15259633810397827, 0.1144472535779837, 0.5368121179729236, 0.010899738435998448, 0.09264777670598681, 0.05996166653175162, 0.2180424237518241, 0.10902121187591204, 0.588714544129925, 0.021804242375182407, 0.3863535142604302, 0.17427746274331576, 0.045589137605039555, 0.07963672138601846, 0.019332102655301584, 0.09954590173252308, 0.07502009985639421, 0.06665247333395023, 0.0002885388456015162, 0.022217491111316746, 0.021351874574512198, 0.006924932294436388, 0.0002885388456015162, 0.001442694228007581, 0.0005770776912030324, 0.0005770776912030324, 0.006092931843188782, 0.20563644970762138, 0.7859882077713528, 0.018183449633870873, 0.006061149877956957, 0.9334170812053714, 0.03636689926774175, 0.5088089953342081, 0.20352359813368323, 0.20352359813368323, 0.9403982975278934, 0.0023807551836149197, 0.05713812440675808, 0.993130749057462, 0.0796451634404206, 0.014318231629738533, 0.03579557907434633, 0.0107386737223039, 0.002684668430575975, 0.008054005291727924, 0.0017897789537173166, 0.7597611658530009, 0.03042624221319438, 0.01521312110659719, 0.03758535802806365, 0.003579557907434633, 0.002631926480750668, 0.9297280293251736, 0.020397430225817678, 0.040794860451635356, 0.005263852961501336, 0.18674216746013955, 0.010232447532062441, 0.0025581118830156103, 0.7699916767876988, 0.005116223766031221, 0.020464895064124883, 0.7369440943126775, 0.1637653542917061, 0.9970247967970856, 0.06658552850354246, 0.9226851806919456, 0.5968230632100853, 0.20864546112222496, 0.014556660078294764, 0.1795321409656354, 0.9486150050167643, 0.44456662045110545, 0.052473437167999334, 0.49120967571154933, 0.0029151909537777406, 0.0029151909537777406, 0.0014575954768888703, 0.0029151909537777406, 0.6785536813645344, 0.08899064673633239, 0.08501785000703184, 0.032576933180264535, 0.023836780375803317, 0.035755170563704974, 0.004767356075160664, 0.023836780375803317, 0.007151034112740995, 0.0007945593458601105, 0.003972796729300553, 0.007151034112740995, 0.006356474766880884, 0.1285570783258005, 0.38805633847138665, 0.06678289783158467, 0.10542157443414438, 0.07632331180752534, 0.06487481503639654, 0.09778924325339185, 0.0100174346747377, 0.00047702069879703335, 0.04340888359053004, 0.016457214108497653, 0.0014310620963911, 0.00023851034939851668, 0.3323889765383134, 0.14723270101697103, 0.1887255531217538, 0.015615589501799958, 0.06424699680740555, 0.0780779475089998, 0.040154373004628464, 0.024538783502828506, 0.0008923194001028547, 0.04060053270467989, 0.055323802806377, 0.0013384791001542823, 0.0008923194001028547, 0.003569277600411419, 0.004907756700565701, 0.00044615970005142737, 0.00044615970005142737, 0.9936485503090542, 0.27208494225352386, 0.1213649287260324, 0.3188696086558493, 0.039354160561956085, 0.028437738401413486, 0.03311620504164603, 0.09457841384470098, 0.046417727842307174, 0.00018346928000911926, 0.016512235200820735, 0.011742033920583633, 0.006696628720332853, 0.008072648320401247, 0.002018162080100312, 9.173464000455963e-05, 0.00018346928000911926, 0.00018346928000911926, 0.8570576475386741, 0.002912382759172603, 0.002621144483255343, 0.0005824765518345206, 0.0002912382759172603, 0.005242288966510686, 0.9881714701872643, 0.9840353575289397, 0.8768692407252542, 0.12217575249735037, 0.2036262541622506, 0.04751279263785847, 0.006787541805408354, 0.16290100332980048, 0.44797775915695137, 0.11145369925675638, 0.011197451093552628, 0.0981730014481242, 0.07239282334901466, 0.17290947735160336, 0.11926587443830473, 0.08046540436994795, 0.2666555795301835, 0.00703095766339351, 0.020832467150795588, 0.019530437953870862, 0.01874922043571603, 0.0007812175181548345, 0.0002604058393849448, 0.0002604058393849448, 0.018578192842657864, 0.9660660278182088, 0.986844601412849], \"Term\": [\" \", \" \", \" \", \" \", \" \", \" \", \" \", \" \", \" \", \" \", \" \", \" \", \" \", \" \", \" \", \" \", \" \", \" \", \"  \", \"  \", \"  \", \"  \", \"  \", \"  \", \"  \", \"  \", \"  \", \"  \", \"  \", \"  \", \"  \", \"  \", \"  \", \"  \", \"   \", \"   \", \"   \", \"   \", \"   \", \"   \", \"   \", \"   \", \"   \", \"   \", \"   \", \"   \", \"   \", \"   \", \"   \", \"    \", \"    \", \"    \", \"    \", \"    \", \"    \", \"    \", \"    \", \"    \", \"    \", \"    \", \"    \", \"    \", \"0\", \"0\", \"0\", \"00\", \"00\", \"00\", \"00\", \"0273\", \"03\", \"03\", \"0333\", \"04\", \"042293\", \"0700\", \"1\", \"1\", \"1\", \"1\", \"1\", \"1\", \"1\", \"1\", \"1\", \"1\", \"1\", \"1\", \"1\", \"1\", \"10\", \"10\", \"10\", \"10\", \"10\", \"10\", \"10\", \"10\", \"10\", \"10\", \"10\", \"10\", \"10\", \"10\", \"10\", \"10mbs\", \"11\", \"11\", \"11\", \"11\", \"11\", \"11\", \"11\", \"11\", \"11\", \"11\", \"11\", \"11\", \"11\", \"11\", \"11\", \"110v\", \"114\", \"114\", \"114\", \"114\", \"12\", \"12\", \"12\", \"12\", \"12\", \"12\", \"12\", \"12\", \"12\", \"12\", \"12\", \"12\", \"12\", \"12\", \"12\", \"13\", \"13\", \"13\", \"13\", \"13\", \"13\", \"13\", \"13\", \"13\", \"13\", \"13\", \"13\", \"13\", \"14\", \"14\", \"14\", \"14\", \"14\", \"14\", \"14\", \"14\", \"14\", \"14\", \"14\", \"14\", \"14\", \"14\", \"15\", \"15\", \"15\", \"15\", \"15\", \"15\", \"15\", \"15\", \"15\", \"15\", \"15\", \"15\", \"16\", \"16\", \"16\", \"16\", \"16\", \"16\", \"16\", \"16\", \"16\", \"16\", \"16\", \"16\", \"168\", \"16bit\", \"16bit\", \"1923\", \"1975\", \"1975\", \"1975\", \"1975\", \"1983\", \"1983\", \"1983\", \"1983\", \"1983\", \"1992\", \"1992\", \"1992\", \"1992\", \"1992\", \"1992\", \"1992\", \"1992\", \"1992\", \"1992\", \"1992\", \"1993\", \"1993\", \"1993\", \"1993\", \"1993\", \"1993\", \"1993\", \"1993\", \"1993\", \"1993\", \"1993\", \"1993\", \"1993\", \"1993\", \"1993\", \"1993\", \"1993apr151746576176newsuiowaedu\", \"1st\", \"1st\", \"1st\", \"1st\", \"1st\", \"1st\", \"1st\", \"2\", \"2\", \"2\", \"2\", \"2\", \"2\", \"2\", \"2\", \"2\", \"2\", \"2\", \"2\", \"2\", \"20\", \"20\", \"20\", \"20\", \"20\", \"20\", \"20\", \"20\", \"20\", \"20\", \"20\", \"20\", \"20\", \"20\", \"20\", \"219\", \"2419760\", \"24bit\", \"25\", \"25\", \"25\", \"25\", \"25\", \"25\", \"25\", \"25\", \"25\", \"25\", \"25\", \"25\", \"25\", \"25\", \"253\", \"28\", \"28\", \"28\", \"28\", \"28\", \"28\", \"28\", \"28\", \"28\", \"28\", \"28\", \"28\", \"280\", \"280\", \"3\", \"3\", \"3\", \"3\", \"3\", \"3\", \"3\", \"3\", \"3\", \"3\", \"3\", \"3\", \"3\", \"3\", \"33\", \"33\", \"33\", \"33\", \"33\", \"33\", \"33\", \"33\", \"33\", \"33\", \"33\", \"34\", \"34\", \"34\", \"34\", \"34\", \"34\", \"34\", \"34\", \"34\", \"34\", \"34\", \"35\", \"35\", \"35\", \"35\", \"35\", \"35\", \"35\", \"35\", \"35\", \"35\", \"36\", \"36\", \"36\", \"36\", \"36\", \"36\", \"36\", \"36\", \"36\", \"37\", \"37\", \"37\", \"37\", \"37\", \"37\", \"37\", \"37\", \"37\", \"38\", \"38\", \"38\", \"38\", \"38\", \"38\", \"38\", \"38\", \"38\", \"38\", \"38\", \"386SX\", \"386bsd\", \"4\", \"4\", \"4\", \"4\", \"4\", \"4\", \"4\", \"4\", \"4\", \"4\", \"4\", \"4\", \"4\", \"4\", \"408\", \"408\", \"408\", \"5\", \"5\", \"5\", \"5\", \"5\", \"5\", \"5\", \"5\", \"5\", \"5\", \"5\", \"5\", \"5\", \"5\", \"5\", \"550\", \"550\", \"5mbs\", \"6\", \"6\", \"6\", \"6\", \"6\", \"6\", \"6\", \"6\", \"6\", \"6\", \"6\", \"6\", \"6\", \"6\", \"7\", \"7\", \"7\", \"7\", \"7\", \"7\", \"7\", \"7\", \"7\", \"7\", \"7\", \"7\", \"7\", \"7\", \"702623610\", \"706\", \"7135201569\", \"8\", \"8\", \"8\", \"8\", \"8\", \"8\", \"8\", \"8\", \"8\", \"8\", \"8\", \"8\", \"8\", \"8\", \"8\", \"80bit\", \"8bit\", \"8bit\", \"8bit\", \"9\", \"9\", \"9\", \"9\", \"9\", \"9\", \"9\", \"9\", \"9\", \"9\", \"9\", \"9\", \"9\", \"9\", \"9192\", \"93\", \"93\", \"93\", \"93\", \"93\", \"93\", \"93\", \"93\", \"93\", \"93\", \"93\", \"93\", \"93\", \"AAA\", \"AC\", \"AC\", \"AC\", \"AC\", \"AC\", \"AC\", \"AHL\", \"AHL\", \"ANSI\", \"ANSI\", \"ANSI\", \"ANSI\", \"ARGUMENTUM\", \"ARMENIA\", \"ATF\", \"ATF\", \"ATF\", \"ATI\", \"Actix\", \"Adam\", \"Adam\", \"Adam\", \"Adam\", \"Adam\", \"Aegean\", \"Aegean\", \"Aided\", \"Aiken\", \"Albicans\", \"Allan\", \"Allan\", \"Allan\", \"Allegheny\", \"Allegheny\", \"Allegheny\", \"Alomar\", \"Amendment\", \"Amendment\", \"Amendment\", \"Americans\", \"Americans\", \"Americans\", \"Americans\", \"Americans\", \"Americans\", \"Analyst\", \"Anas\", \"Andi\", \"Andre\", \"Andre\", \"Andre\", \"Apr\", \"Apr\", \"Apr\", \"Apr\", \"Apr\", \"Apr\", \"Apr\", \"Apr\", \"Apr\", \"Apr\", \"Apr\", \"Apr\", \"Apr\", \"Apr\", \"April\", \"April\", \"April\", \"April\", \"April\", \"April\", \"April\", \"April\", \"April\", \"April\", \"April\", \"April\", \"April\", \"April\", \"Arab\", \"Arabs\", \"Arabs\", \"Arafat\", \"Argic\", \"Argic\", \"Argic\", \"Argic\", \"Armenia\", \"Armenia\", \"Armenians\", \"Armenians\", \"Askew\", \"Askew\", \"Associate\", \"Atheists\", \"Atheists\", \"Attorney\", \"Azerbadjan\", \"Azerbaijan\", \"Azerbaijanis\", \"Azeris\", \"BATF\", \"BATF\", \"BATF\", \"BATF\", \"BATF\", \"BJ200\", \"BMW\", \"BMW\", \"BMW\", \"BNR\", \"BNR\", \"BNR\", \"BNR\", \"BOS\", \"BOS\", \"BUF\", \"BURNS\", \"BURNS\", \"Baalke\", \"Baby\", \"Baby\", \"Baby\", \"Baku\", \"Banks\", \"Banks\", \"Banks\", \"Baseball\", \"Baseball\", \"Baseball\", \"Basil\", \"BeHanna\", \"Beyer\", \"Bible\", \"Bible\", \"Bike\", \"Bike\", \"Biker\", \"Blackhawks\", \"Blues\", \"Bob\", \"Bob\", \"Bob\", \"Bob\", \"Bob\", \"Bob\", \"Bob\", \"Bob\", \"Bob\", \"Bob\", \"Boyle\", \"Braves\", \"Breton\", \"Brian\", \"Brian\", \"Brian\", \"Brian\", \"Brian\", \"Brian\", \"Brian\", \"Brian\", \"Brian\", \"Brian\", \"Brian\", \"Bulletin\", \"Butch\", \"C\", \"C\", \"C\", \"C\", \"C\", \"C\", \"C\", \"C\", \"C\", \"C\", \"C\", \"C\", \"C650\", \"CAL\", \"CDC\", \"CHI\", \"CMOS\", \"CONVEX\", \"CPU\", \"Cache\", \"Calgary\", \"Calgary\", \"Calgary\", \"California\", \"California\", \"California\", \"California\", \"California\", \"California\", \"California\", \"California\", \"California\", \"California\", \"California\", \"California\", \"California\", \"California\", \"California\", \"Callison\", \"Canadiens\", \"Cancer\", \"Candida\", \"CapsLock\", \"Carderock\", \"Cardinals\", \"Cashman\", \"Center\", \"Center\", \"Center\", \"Center\", \"Center\", \"Center\", \"Center\", \"Center\", \"Center\", \"Center\", \"Center\", \"Center\", \"Champs\", \"Chan\", \"Chan\", \"Cherry\", \"Chicogo\", \"Chip\", \"Chip\", \"Chip\", \"Chris\", \"Chris\", \"Chris\", \"Chris\", \"Chris\", \"Chris\", \"Chris\", \"Chris\", \"Chris\", \"Christ\", \"Christ\", \"Christian\", \"Christian\", \"Christian\", \"Christian\", \"Christian\", \"Christianity\", \"Christians\", \"Christians\", \"Clayton\", \"Clayton\", \"Clayton\", \"Clemens\", \"Clinton\", \"Clinton\", \"Clinton\", \"Clinton\", \"Clinton\", \"Clinton\", \"Clintons\", \"Clipper\", \"Clipper\", \"Clipper\", \"Cobra\", \"Coffey\", \"CollieGolden\", \"Comet\", \"Comet\", \"Communication\", \"Communication\", \"Communication\", \"Computation\", \"Computation\", \"Computer\", \"Computer\", \"Computer\", \"Computer\", \"Computer\", \"Computer\", \"Computer\", \"Computer\", \"Computer\", \"Computer\", \"Cooper\", \"Cooper\", \"Cooper\", \"Cramer\", \"Cramer\", \"Crary\", \"Cruces\", \"Cup\", \"Cup\", \"Cyprus\", \"DB\", \"DC1\", \"DC1\", \"DES\", \"DET\", \"DIVIDIAN\", \"DIVIDIAN\", \"Daker\", \"Dane\", \"Dartmouth\", \"Dartmouth\", \"Dartmouth\", \"Dating\", \"Davidian\", \"Davidian\", \"Deir\", \"Denver\", \"Denver\", \"Denver\", \"Denver\", \"DeskJet\", \"Desktop\", \"Desktop\", \"Devils\", \"Diamond\", \"Diamond\", \"Digest\", \"Dillon\", \"Dir\", \"Disease\", \"Distribution\", \"Distribution\", \"Distribution\", \"Distribution\", \"Distribution\", \"Distribution\", \"Distribution\", \"Distribution\", \"Distribution\", \"Distribution\", \"Distribution\", \"Distribution\", \"Distribution\", \"Distribution\", \"Divine\", \"DoD\", \"DoD\", \"DoD\", \"DoD\", \"DoD\", \"DoD0721\", \"Dodgers\", \"Dog\", \"Dong\", \"Doright\", \"Doug\", \"Doug\", \"Doug\", \"Doug\", \"Doug\", \"Doug\", \"Doug\", \"Doug\", \"Doug\", \"Doug\", \"Doug\", \"Doug\", \"Doug\", \"Dr\", \"Dr\", \"Dr\", \"Dr\", \"Dr\", \"Dr\", \"Dr\", \"Dr\", \"Duffey\", \"Duo\", \"Duo\", \"EISA\", \"ESDI\", \"ESPN\", \"ESPN\", \"ET\", \"ET\", \"ET\", \"ET\", \"Earth\", \"Earth\", \"Earth\", \"Earth\", \"Earth\", \"Earth\", \"Easter\", \"Easter\", \"Easter\", \"Easter\", \"Easter\", \"Edition\", \"Elias\", \"Elias\", \"Eren\", \"Europeans\", \"Europeans\", \"Europeans\", \"Europeans\", \"Europeans\", \"Expos\", \"Expos\", \"Ezekiel\", \"Ezekiel\", \"F1\", \"FAN\", \"FXWG\", \"Face\", \"Fame\", \"Firearms\", \"Fizuli\", \"Flames\", \"Fly\", \"Ford\", \"Ford\", \"Ford\", \"Ford\", \"Ford\", \"Fraser\", \"Fraser\", \"Ft\", \"G\", \"G\", \"G\", \"G\", \"G\", \"G\", \"G\", \"G\", \"G\", \"G\", \"G\", \"G\", \"GI\", \"GL\", \"GL\", \"GL\", \"GM\", \"GM\", \"GM\", \"GRUBB\", \"Gainey\", \"Gateway\", \"Gateway\", \"Gateway\", \"Gay\", \"Gay\", \"Gaza\", \"Gaza\", \"Gazans\", \"Gehrels\", \"Genesis\", \"Genesis\", \"Genesis\", \"Gerald\", \"Gerald\", \"Gerald\", \"Giants\", \"Glide\", \"Glock\", \"God\", \"God\", \"Gordon\", \"Gordon\", \"Gordon\", \"Gordon\", \"Greece\", \"Greece\", \"Guday\", \"Gun\", \"Gun\", \"Gun\", \"HGA\", \"HGA\", \"HIV\", \"Habs\", \"Hanover\", \"Hanover\", \"Hanover\", \"Hartford\", \"Hartford\", \"Harvard\", \"Harvard\", \"Harvard\", \"Harvard\", \"Harvard\", \"Harvard\", \"Harvard\", \"Harvard\", \"Harvard\", \"Hawks\", \"Health\", \"Health\", \"Health\", \"Henrik\", \"Henrik\", \"Henry\", \"Henry\", \"Henry\", \"Hernlem\", \"Hernlem\", \"Hezbollah\", \"Hezbollah\", \"Hezbollah\", \"Higher\", \"Hilmi\", \"History\", \"Hitachi\", \"Hizbollah\", \"Hizbollah\", \"Hockey\", \"Hockey\", \"Hockey\", \"Holocaust\", \"Holocaust\", \"Homeopathy\", \"Honda\", \"Honda\", \"House\", \"House\", \"House\", \"House\", \"Hz\", \"IDE\", \"IDE\", \"IDF\", \"IHL\", \"IIfx\", \"IR\", \"Inc\", \"Inc\", \"Inc\", \"Inc\", \"Inc\", \"Inc\", \"Inc\", \"Inc\", \"Inc\", \"Inc\", \"Inc\", \"Inc\", \"Inc\", \"Ingres\", \"Institute\", \"Institute\", \"Institute\", \"Institute\", \"Institute\", \"Institute\", \"Institute\", \"Institute\", \"Institute\", \"Institute\", \"Institute\", \"Institute\", \"Institute\", \"Integra\", \"InterNews\", \"Ishtar\", \"Islam\", \"Islam\", \"Israel\", \"Israel\", \"Israel\", \"Israelis\", \"Isreal\", \"Istanbul\", \"JB\", \"JEWS\", \"JPEG\", \"JPL\", \"JPL\", \"JPL\", \"Jagr\", \"Jarvis\", \"Jays\", \"Jerusalem\", \"Jerusalem\", \"Jesus\", \"Jet\", \"Jet\", \"Jews\", \"Jews\", \"Jews\", \"John\", \"John\", \"John\", \"John\", \"John\", \"John\", \"John\", \"John\", \"John\", \"John\", \"John\", \"John\", \"John\", \"Jon\", \"Jon\", \"Jon\", \"Jon\", \"Jon\", \"Jon\", \"Jon\", \"Jon\", \"Jon\", \"Jubilees\", \"Jupiter\", \"K\", \"K\", \"K\", \"K\", \"K\", \"K\", \"K\", \"K\", \"K\", \"K\", \"K\", \"K\", \"K\", \"K\", \"K100RS\", \"Karina\", \"Kay\", \"Keenan\", \"Keith\", \"Keith\", \"Keith\", \"Keith\", \"Keith\", \"Keith\", \"Keller\", \"Kendig\", \"Kendig\", \"Kincy\", \"Kingman\", \"Kinsey\", \"Konstantinople\", \"Kovalev\", \"Kratz\", \"Krehbiel\", \"LA\", \"LA\", \"LA\", \"LA\", \"LA\", \"LA\", \"LA\", \"LC\", \"LDS\", \"LED\", \"Lady\", \"Lady\", \"Lady\", \"Lady\", \"Lauderdale\", \"Leafs\", \"Leafs\", \"Lebanese\", \"Lebanese\", \"Lebanon\", \"Lebanon\", \"Liberalizer\", \"Libraries\", \"Lines\", \"Lines\", \"Lines\", \"Lines\", \"Lines\", \"Lines\", \"Lines\", \"Lines\", \"Lines\", \"Lines\", \"Lines\", \"Lines\", \"Lines\", \"Lines\", \"Lines\", \"Lines\", \"Lines\", \"Linux\", \"Linux\", \"Liverpool\", \"Liverpool\", \"Livesey\", \"Livesey\", \"Lopez\", \"Lord\", \"Lord\", \"Lord\", \"Lurie\", \"Lyme\", \"Lyuda\", \"M\", \"M\", \"M\", \"M\", \"M\", \"M\", \"M\", \"M\", \"M\", \"M\", \"M\", \"M\", \"M\", \"M\", \"MAXAXAXAXAXAXAXAXAXAXAXAXAXAXAX\", \"MB\", \"MB\", \"MFM\", \"MFM\", \"MHz\", \"MHz\", \"MMWR\", \"MOA\", \"MOA\", \"MON\", \"MR\", \"MR\", \"MSG\", \"Mac\", \"Mac\", \"Mac\", \"Mac\", \"Magellan\", \"Maidenhead\", \"MailtoNews\", \"Mamma\", \"Manes\", \"Marina\", \"Mars\", \"Mars\", \"MathCS\", \"Mau\", \"Maxim\", \"Maxtor\", \"Mayhew\", \"Medical\", \"Medical\", \"Medical\", \"Medin\", \"Memorial\", \"Memorial\", \"Memorial\", \"Memphis\", \"Merrill\", \"Mets\", \"Militia\", \"Militia\", \"Militia\", \"Militia\", \"Mistake\", \"Mode\", \"Mohammad\", \"Mohney\", \"Moon\", \"Moon\", \"Moon\", \"Morgan\", \"Morgan\", \"Motif\", \"Mouse\", \"Mustang\", \"N3JXP\", \"NASA\", \"NASA\", \"NASA\", \"NASA\", \"NEC\", \"NEC\", \"NEC\", \"NEC\", \"NEOUCOM\", \"NETCOM\", \"NHL\", \"NHL\", \"NHL\", \"NNTPPostingHost\", \"NNTPPostingHost\", \"NNTPPostingHost\", \"NNTPPostingHost\", \"NNTPPostingHost\", \"NNTPPostingHost\", \"NNTPPostingHost\", \"NNTPPostingHost\", \"NNTPPostingHost\", \"NNTPPostingHost\", \"NNTPPostingHost\", \"NNTPPostingHost\", \"NNTPPostingHost\", \"NNTPPostingHost\", \"NNTPPostingHost\", \"NSA\", \"NT\", \"NT\", \"NT\", \"NT\", \"NYI\", \"NagarnoKarabagh\", \"Napoleon\", \"Napoleon\", \"Nazi\", \"Nazi\", \"Nazi\", \"Nazis\", \"Nazis\", \"Netware\", \"New\", \"New\", \"New\", \"New\", \"New\", \"New\", \"New\", \"New\", \"New\", \"New\", \"New\", \"New\", \"New\", \"New\", \"New\", \"New\", \"Newsletter\", \"Newsletter\", \"Nick\", \"Nick\", \"Nick\", \"Nick\", \"Nick\", \"Nick\", \"Nissan\", \"NntpPostingHost\", \"NntpPostingHost\", \"NntpPostingHost\", \"NntpPostingHost\", \"NntpPostingHost\", \"NntpPostingHost\", \"NntpPostingHost\", \"NntpPostingHost\", \"NntpPostingHost\", \"NntpPostingHost\", \"NntpPostingHost\", \"NntpPostingHost\", \"NntpPostingHost\", \"NntpPostingHost\", \"NuBus\", \"NuBus\", \"Nystrom\", \"Nyx\", \"OKeefe\", \"Olde\", \"Omran\", \"Onur\", \"Optilink\", \"Orbit\", \"Orchid\", \"Organization\", \"Organization\", \"Organization\", \"Organization\", \"Organization\", \"Organization\", \"Organization\", \"Organization\", \"Organization\", \"Organization\", \"Organization\", \"Organization\", \"Organization\", \"Organization\", \"Organization\", \"Organization\", \"Organization\", \"Organization\", \"Orlando\", \"Osinski\", \"Ottoman\", \"Ottoman\", \"PDS\", \"PDS\", \"PGP\", \"PGP\", \"PISGA\", \"PS2\", \"PT\", \"Page\", \"Page\", \"Page\", \"Page\", \"Palestine\", \"Palestinians\", \"Panther\", \"Paradise\", \"Pasadena\", \"Pasadena\", \"Pasadena\", \"Pasadena\", \"Pasadena\", \"Pens\", \"Pens\", \"Percentage\", \"Persians\", \"Petaluma\", \"Pettefar\", \"Phillies\", \"Pink\", \"Policy\", \"Policy\", \"Policy\", \"Policy\", \"Political\", \"Political\", \"Political\", \"Portable\", \"President\", \"President\", \"President\", \"President\", \"President\", \"President\", \"Privacy\", \"Programs\", \"Programs\", \"Propulsion\", \"Propulsion\", \"Pts\", \"Pure\", \"Pyron\", \"Q\", \"Q\", \"Q\", \"Q\", \"Q\", \"Q\", \"Q\", \"Q\", \"QUE\", \"Quadra\", \"Quadra\", \"Quadra\", \"QuickDraw\", \"Quran\", \"R5\", \"RAM\", \"RANCH\", \"RC2\", \"RIPEM\", \"RIPEM\", \"RSA\", \"Rangers\", \"Rangers\", \"Rangers\", \"Rauser\", \"RecArtsComicsInfo\", \"Reds\", \"ReplyTo\", \"ReplyTo\", \"ReplyTo\", \"ReplyTo\", \"ReplyTo\", \"ReplyTo\", \"ReplyTo\", \"ReplyTo\", \"ReplyTo\", \"ReplyTo\", \"ReplyTo\", \"ReplyTo\", \"ReplyTo\", \"Research\", \"Research\", \"Research\", \"Research\", \"Research\", \"Research\", \"Research\", \"Research\", \"Research\", \"Research\", \"Research\", \"Resurrection\", \"Rider\", \"Rider\", \"Rider\", \"Rockefeller\", \"Rockefeller\", \"Roger\", \"Roger\", \"Roger\", \"Roger\", \"Roger\", \"Roger\", \"Roger\", \"Roger\", \"Rolla\", \"Rootstown\", \"RoseMail\", \"Ryan\", \"Ryan\", \"Ryan\", \"Ryan\", \"Ryan\", \"Ryan\", \"S3\", \"SALE\", \"SALE\", \"SCSI\", \"SCSI\", \"SCSI\", \"SCSI1\", \"SCSI2\", \"SDPA\", \"SE\", \"SE\", \"SE30\", \"SGI\", \"SHO\", \"SI\", \"SI\", \"SIMM\", \"SJ\", \"SNES\", \"SPSS\", \"SSF\", \"SSTO\", \"STL\", \"SURVIVORS\", \"SYSMGRCADLABENGUMDEDU\", \"Saddam\", \"Sale\", \"Sale\", \"Satan\", \"Schneider\", \"Schneider\", \"Schneider\", \"Scorer\", \"Seagate\", \"Seagate\", \"Sega\", \"Selanne\", \"Selanne\", \"Selke\", \"Senate\", \"Senator\", \"Senators\", \"Senators\", \"Serdar\", \"Serdar\", \"Serdar\", \"Serdar\", \"Serdar\", \"Shai\", \"Shanahan\", \"Shostack\", \"Shostack\", \"Silicon\", \"Silicon\", \"Slick\", \"Snyder\", \"Solun\", \"Sound\", \"Sox\", \"Sox\", \"Space\", \"Space\", \"Space\", \"Spacecraft\", \"Sparc\", \"Spence\", \"Spencer\", \"Spencer\", \"Spencer\", \"Spencer\", \"Stanley\", \"Stanley\", \"Stars\", \"Stars\", \"State\", \"State\", \"State\", \"State\", \"State\", \"State\", \"State\", \"State\", \"State\", \"State\", \"State\", \"State\", \"State\", \"State\", \"Stephenson\", \"Sternlight\", \"Stony\", \"Studley\", \"Subject\", \"Subject\", \"Subject\", \"Subject\", \"Subject\", \"Subject\", \"Subject\", \"Subject\", \"Subject\", \"Subject\", \"Subject\", \"Subject\", \"Subject\", \"Subject\", \"Subject\", \"Subject\", \"Subject\", \"Sumgait\", \"Symbol\", \"Syria\", \"Syria\", \"Syria\", \"T\", \"T\", \"T\", \"T\", \"T\", \"T\", \"T\", \"T\", \"T\", \"T\", \"T\", \"T\", \"TB\", \"TB\", \"TIDSEG\", \"TIN\", \"TIN\", \"TIN\", \"TIN\", \"TIN\", \"TIN\", \"TOR\", \"Tampa\", \"Tampa\", \"Technology\", \"Technology\", \"Technology\", \"Technology\", \"Technology\", \"Technology\", \"Technology\", \"Technology\", \"Technology\", \"Technology\", \"Technology\", \"Temporary\", \"Tesla\", \"Testament\", \"Thessaloniki\", \"Thinking\", \"Thinking\", \"Thor\", \"Thx\", \"Titan\", \"Toronto\", \"Toronto\", \"Toronto\", \"Toronto\", \"Toronto\", \"Toronto\", \"Toronto\", \"Toronto\", \"Toronto\", \"Toyota\", \"Trent\", \"Turkey\", \"Turkey\", \"Turks\", \"Turks\", \"Turpin\", \"Turpin\", \"Tyre\", \"UART\", \"UTC\", \"UTC\", \"UTexas\", \"University\", \"University\", \"University\", \"University\", \"University\", \"University\", \"University\", \"University\", \"University\", \"University\", \"University\", \"University\", \"University\", \"University\", \"University\", \"University\", \"User\", \"VAN\", \"VESA\", \"VLB\", \"VRAM\", \"VRAM\", \"Venus\", \"Vernon\", \"Video\", \"Video\", \"Video\", \"Ville\", \"Virgin\", \"W4WG\", \"WINDOWS\", \"WINDOWS\", \"Warsaw\", \"Warsaw\", \"Water\", \"Water\", \"Weaver\", \"Weaver\", \"Wide\", \"Wide\", \"Wide\", \"Wide\", \"Wide\", \"Wide\", \"Windows\", \"Windows\", \"Windows\", \"Wings\", \"Wings\", \"Wings\", \"Wings\", \"Winnipeg\", \"Winnipeg\", \"Winnipeg\", \"Winnipeg\", \"Wisdom\", \"Wtte\", \"X\", \"X\", \"X\", \"X11R5\", \"X11R5\", \"XGA2\", \"XNewsreader\", \"XNewsreader\", \"XNewsreader\", \"XNewsreader\", \"XNewsreader\", \"XNewsreader\", \"XNewsreader\", \"XNewsreader\", \"XNewsreader\", \"XV\", \"Xt\", \"Yalcin\", \"Yamaha\", \"Yankees\", \"Yassin\", \"Ye\", \"Ye\", \"Yzerman\", \"ZX11\", \"ZX11\", \"Zbib\", \"Zoology\", \"aa888freenetcarletonca\", \"acid\", \"acid\", \"acid\", \"acid\", \"adamdasharvardedu\", \"adb\", \"aesthetically\", \"aeweosvcrwimseybcca\", \"aftermarket\", \"aftermarket\", \"age\", \"age\", \"age\", \"age\", \"age\", \"age\", \"age\", \"age\", \"agency\", \"agency\", \"agency\", \"agency\", \"agency\", \"agency\", \"algorithm\", \"algorithm\", \"algorithm\", \"algorithm\", \"amino\", \"analgesic\", \"animation\", \"antenna\", \"antenna\", \"antibiotic\", \"antibiotic\", \"antifungal\", \"apartment\", \"application\", \"application\", \"application\", \"application\", \"application\", \"application\", \"application\", \"arab\", \"arabs\", \"arc\", \"argument\", \"argument\", \"argument\", \"argument\", \"argument\", \"argument\", \"argument\", \"argument\", \"argument\", \"argument\", \"argumentum\", \"arm\", \"arm\", \"arm\", \"arm\", \"arm\", \"arm\", \"arm\", \"arm\", \"arm\", \"armenian\", \"armenian\", \"arrogance\", \"article\", \"article\", \"article\", \"article\", \"article\", \"article\", \"article\", \"article\", \"article\", \"article\", \"article\", \"article\", \"article\", \"article\", \"article\", \"article\", \"article\", \"assailant\", \"asynchronous\", \"atheism\", \"atheist\", \"attack\", \"attack\", \"attack\", \"attack\", \"attack\", \"attack\", \"attack\", \"attack\", \"attack\", \"aucun\", \"audio\", \"audio\", \"audio\", \"author\", \"author\", \"author\", \"author\", \"author\", \"author\", \"author\", \"author\", \"authorization\", \"auto\", \"auto\", \"auto\", \"auto\", \"auto\", \"automotive\", \"available\", \"available\", \"available\", \"available\", \"available\", \"available\", \"available\", \"available\", \"available\", \"available\", \"azerbaijani\", \"azeri\", \"b64635studentcwruedu\", \"baalkekelvinjplnasagov\", \"balcony\", \"baseball\", \"baseball\", \"baseball\", \"be\", \"be\", \"be\", \"be\", \"be\", \"be\", \"be\", \"be\", \"be\", \"be\", \"be\", \"be\", \"be\", \"behannasylnjneccom\", \"belief\", \"belief\", \"believe\", \"believe\", \"believe\", \"believe\", \"believe\", \"believe\", \"believe\", \"believe\", \"believe\", \"believe\", \"believe\", \"bench\", \"bgrubbdantenmsuedu\", \"bible\", \"bike\", \"bike\", \"bike\", \"billboard\", \"billion\", \"billion\", \"billion\", \"billion\", \"bio\", \"bio\", \"bit\", \"bit\", \"bit\", \"bit\", \"bit\", \"bit\", \"bit\", \"bit\", \"bit\", \"bit\", \"bit\", \"bit\", \"bitmap\", \"bloom\", \"bottleneck\", \"bottleneck\", \"brake\", \"brake\", \"breaker\", \"buffer\", \"buffer\", \"buffer\", \"buffer\", \"build\", \"build\", \"build\", \"build\", \"build\", \"build\", \"build\", \"build\", \"build\", \"build\", \"build\", \"build\", \"building\", \"building\", \"building\", \"building\", \"building\", \"building\", \"building\", \"burn\", \"burn\", \"burn\", \"burn\", \"burn\", \"burn\", \"burst\", \"burst\", \"burst\", \"burst\", \"burst\", \"buy\", \"buy\", \"buy\", \"buy\", \"buy\", \"buy\", \"buy\", \"buy\", \"buy\", \"byte\", \"byte\", \"byte\", \"byte\", \"c\", \"c\", \"c\", \"c\", \"c\", \"c\", \"c\", \"c\", \"c\", \"c\", \"c\", \"c\", \"c\", \"cache\", \"canadian\", \"canadian\", \"canadian\", \"canadian\", \"canadian\", \"canadian\", \"canadian\", \"cancer\", \"cancer\", \"candida\", \"captain\", \"captain\", \"car\", \"car\", \"car\", \"car\", \"car\", \"car\", \"carb\", \"card\", \"card\", \"card\", \"card\", \"card\", \"card\", \"card\", \"card\", \"catcher\", \"cb360\", \"celebrate\", \"celebrate\", \"celebrate\", \"cellular\", \"ceux\", \"championship\", \"chaos\", \"char\", \"char\", \"chastity\", \"chemical\", \"chemical\", \"chemical\", \"chemical\", \"chemical\", \"child\", \"child\", \"child\", \"child\", \"child\", \"child\", \"child\", \"child\", \"chip\", \"chip\", \"chip\", \"chip\", \"chip\", \"chip\", \"chip\", \"chip\", \"christian\", \"christian\", \"christian\", \"church\", \"church\", \"cica\", \"cica\", \"cipher\", \"circuit\", \"circuit\", \"circuit\", \"circuit\", \"citizenship\", \"civilian\", \"civilian\", \"civilian\", \"civilian\", \"cjacksonmvusadobecom\", \"claim\", \"claim\", \"claim\", \"claim\", \"claim\", \"claim\", \"claim\", \"claim\", \"claim\", \"claim\", \"claim\", \"claim\", \"claim\", \"cleaning\", \"cleaning\", \"clh\", \"clinical\", \"clipper\", \"clipper\", \"clipper\", \"coach\", \"coach\", \"collaborator\", \"color\", \"color\", \"color\", \"color\", \"color\", \"color\", \"come\", \"come\", \"come\", \"come\", \"come\", \"come\", \"come\", \"come\", \"come\", \"come\", \"come\", \"come\", \"come\", \"come\", \"comet\", \"compartment\", \"conclusion\", \"conclusion\", \"conclusion\", \"conclusion\", \"conclusion\", \"conclusion\", \"configure\", \"connector\", \"connector\", \"contest\", \"contest\", \"contest\", \"contest\", \"contest\", \"contradiction\", \"controler\", \"controler\", \"controller\", \"controller\", \"controller\", \"controller\", \"convertible\", \"cool\", \"cool\", \"cool\", \"cool\", \"corn\", \"corn\", \"corpse\", \"cost\", \"cost\", \"cost\", \"cost\", \"cost\", \"cost\", \"cost\", \"cost\", \"cost\", \"cost\", \"cost\", \"cost\", \"cost\", \"costly\", \"costly\", \"costly\", \"countersteere\", \"cpk\", \"cpr\", \"cprigcapcorg\", \"cpu\", \"craig\", \"crameroptilinkCOM\", \"crime\", \"crime\", \"crime\", \"crime\", \"crime\", \"crypto\", \"cryptography\", \"cryptosystem\", \"csutexasedu\", \"csutexasedu\", \"cub\", \"cview\", \"daughter\", \"daughter\", \"daughter\", \"db\", \"db\", \"dbdurartusdpaorg\", \"de\", \"de\", \"de\", \"de\", \"de\", \"de\", \"de\", \"de\", \"de\", \"de\", \"de\", \"dealer\", \"dealer\", \"dealer\", \"dealership\", \"decimal\", \"decrypt\", \"detector\", \"develop\", \"develop\", \"develop\", \"develop\", \"develop\", \"develop\", \"develop\", \"develop\", \"develop\", \"develop\", \"diagnose\", \"diagnose\", \"diagnose\", \"diet\", \"disapproval\", \"disc\", \"disc\", \"disease\", \"disease\", \"disease\", \"disease\", \"disease\", \"disguise\", \"disguise\", \"disk\", \"disk\", \"disk\", \"disk\", \"disk\", \"display\", \"display\", \"display\", \"display\", \"display\", \"display\", \"display\", \"display\", \"divorce\", \"divorce\", \"doctor\", \"doctor\", \"doctor\", \"doctor\", \"doctor\", \"doctrine\", \"dog\", \"dog\", \"dog\", \"dog\", \"dog\", \"dog\", \"dog\", \"domino\", \"dos\", \"douglas\", \"drain\", \"drain\", \"drain\", \"drive\", \"drive\", \"drive\", \"drive\", \"drive\", \"drive\", \"drive\", \"drive\", \"drive\", \"drive\", \"drive\", \"drive\", \"drive\", \"driver\", \"driver\", \"driver\", \"driver\", \"driver\", \"driver\", \"driver\", \"driver\", \"dtmedincatbyteb30ingrcom\", \"echo\", \"echo\", \"echo\", \"echo\", \"echo\", \"echo\", \"echo\", \"egg\", \"egreeneastsuncom\", \"email\", \"email\", \"email\", \"email\", \"email\", \"email\", \"email\", \"email\", \"email\", \"email\", \"email\", \"email\", \"email\", \"emulate\", \"encrypt\", \"encrypt\", \"encryption\", \"enforcement\", \"engine\", \"engine\", \"engine\", \"engine\", \"engine\", \"engine\", \"entry\", \"entry\", \"entry\", \"entry\", \"entry\", \"entry\", \"ericsinfoservcom\", \"ericsnetcomcom\", \"escrow\", \"eternal\", \"event\", \"event\", \"event\", \"event\", \"event\", \"event\", \"event\", \"event\", \"event\", \"event\", \"event\", \"event\", \"event\", \"evidence\", \"evidence\", \"evidence\", \"evidence\", \"evidence\", \"evidence\", \"evidence\", \"evil\", \"evil\", \"evil\", \"evil\", \"existence\", \"existence\", \"existence\", \"existence\", \"existence\", \"existence\", \"existence\", \"expose\", \"expose\", \"expose\", \"expose\", \"expose\", \"expose\", \"expose\", \"expose\", \"fact\", \"fact\", \"fact\", \"fact\", \"fact\", \"fact\", \"fact\", \"fact\", \"fact\", \"fact\", \"fact\", \"faith\", \"fallacy\", \"fallacy\", \"fan\", \"fan\", \"fan\", \"fan\", \"fan\", \"fan\", \"federal\", \"federal\", \"federal\", \"file\", \"file\", \"file\", \"file\", \"file\", \"file\", \"file\", \"file\", \"file\", \"filename\", \"filename\", \"fire\", \"fire\", \"fire\", \"fire\", \"fire\", \"fire\", \"fire\", \"fire\", \"fire\", \"fire\", \"firearm\", \"firearm\", \"firearm\", \"fixture\", \"flattery\", \"floppy\", \"fluid\", \"fluid\", \"flyby\", \"flyer\", \"flyer\", \"follower\", \"font\", \"font\", \"food\", \"food\", \"food\", \"food\", \"food\", \"force\", \"force\", \"force\", \"force\", \"force\", \"force\", \"force\", \"force\", \"force\", \"force\", \"force\", \"format\", \"format\", \"format\", \"format\", \"format\", \"formatting\", \"formatting\", \"frankd012s658uucp\", \"furnish\", \"g\", \"g\", \"g\", \"g\", \"g\", \"g\", \"g\", \"g\", \"g\", \"g\", \"game\", \"game\", \"game\", \"game\", \"game\", \"game\", \"game\", \"game\", \"game\", \"gay\", \"gay\", \"gay\", \"gaybi\", \"gear\", \"gear\", \"gear\", \"gear\", \"gebcadredslpittedu\", \"german\", \"german\", \"german\", \"german\", \"german\", \"german\", \"german\", \"german\", \"get\", \"get\", \"get\", \"get\", \"get\", \"get\", \"get\", \"get\", \"get\", \"get\", \"get\", \"get\", \"get\", \"get\", \"ghetto\", \"ghetto\", \"ghetto\", \"glutamate\", \"go\", \"go\", \"go\", \"go\", \"go\", \"go\", \"go\", \"go\", \"go\", \"go\", \"go\", \"go\", \"go\", \"go\", \"go\", \"goal\", \"goal\", \"goal\", \"goal\", \"goal\", \"goal\", \"goal\", \"goal\", \"goal\", \"goal\", \"goal\", \"god\", \"god\", \"goddess\", \"goddess\", \"goddess\", \"gonorrhea\", \"good\", \"good\", \"good\", \"good\", \"good\", \"good\", \"good\", \"good\", \"good\", \"good\", \"good\", \"good\", \"good\", \"good\", \"good\", \"government\", \"government\", \"government\", \"government\", \"government\", \"government\", \"government\", \"grammar\", \"graphic\", \"graphic\", \"graphic\", \"greek\", \"greek\", \"greek\", \"ground\", \"ground\", \"ground\", \"ground\", \"ground\", \"ground\", \"ground\", \"ground\", \"ground\", \"ground\", \"ground\", \"guerilla\", \"guerilla\", \"guest\", \"guest\", \"guest\", \"guest\", \"guest\", \"guest\", \"guest\", \"guest\", \"guest\", \"guest\", \"guideline\", \"guideline\", \"guideline\", \"guideline\", \"guideline\", \"guideline\", \"guideline\", \"gun\", \"gun\", \"gun\", \"gun\", \"gun\", \"ham\", \"handgun\", \"handgun\", \"happen\", \"happen\", \"happen\", \"happen\", \"happen\", \"happen\", \"happen\", \"happen\", \"happen\", \"happen\", \"happen\", \"have\", \"have\", \"have\", \"have\", \"have\", \"have\", \"have\", \"have\", \"have\", \"have\", \"have\", \"have\", \"have\", \"hd\", \"hd\", \"hd\", \"hd\", \"health\", \"health\", \"health\", \"health\", \"heaven\", \"heaven\", \"helmet\", \"helmet\", \"help\", \"help\", \"help\", \"help\", \"help\", \"help\", \"help\", \"help\", \"help\", \"help\", \"help\", \"help\", \"help\", \"henryzootorontoedu\", \"hernia\", \"hernlemchessncsuedu\", \"heterosexual\", \"heterosexual\", \"hicnet\", \"high\", \"high\", \"high\", \"high\", \"high\", \"high\", \"high\", \"high\", \"high\", \"high\", \"high\", \"high\", \"high\", \"high\", \"high\", \"high\", \"hispanic\", \"hit\", \"hit\", \"hit\", \"hit\", \"hit\", \"hit\", \"hit\", \"hit\", \"hit\", \"hit\", \"hit\", \"hitter\", \"hockey\", \"hockey\", \"hockey\", \"holland\", \"hollandCSColoStateEDU\", \"homer\", \"homicide\", \"homosexual\", \"homosexual\", \"homosexual\", \"human\", \"human\", \"human\", \"human\", \"human\", \"human\", \"human\", \"human\", \"human\", \"human\", \"human\", \"hypothesis\", \"hypothesis\", \"hypothesis\", \"hypothesis\", \"ide\", \"ide\", \"image\", \"image\", \"image\", \"image\", \"image\", \"image\", \"image\", \"image\", \"include\", \"include\", \"include\", \"include\", \"include\", \"include\", \"include\", \"include\", \"include\", \"include\", \"include\", \"include\", \"include\", \"include\", \"increase\", \"increase\", \"increase\", \"increase\", \"increase\", \"increase\", \"increase\", \"increase\", \"increase\", \"increase\", \"infection\", \"infection\", \"inference\", \"inference\", \"info\", \"info\", \"info\", \"info\", \"info\", \"info\", \"info\", \"info\", \"info\", \"info\", \"info\", \"information\", \"information\", \"information\", \"information\", \"information\", \"information\", \"information\", \"information\", \"information\", \"information\", \"information\", \"information\", \"information\", \"inhabitant\", \"inhabitant\", \"injector\", \"inning\", \"instinctive\", \"insurance\", \"insurance\", \"insurance\", \"insurance\", \"insurance\", \"insurance\", \"int\", \"int\", \"int\", \"int\", \"interface\", \"interface\", \"interleave\", \"interleave\", \"internet\", \"internet\", \"internet\", \"internet\", \"internet\", \"internet\", \"internet\", \"internet\", \"interpretation\", \"interpretation\", \"interpretation\", \"involment\", \"iranian\", \"israeli\", \"israeli\", \"israels\", \"je\", \"jewish\", \"jewish\", \"jewish\", \"jewish\", \"jimfcenterlinecom\", \"jon\", \"jpeg\", \"keith\", \"keithccocaltechedu\", \"key\", \"key\", \"key\", \"key\", \"key\", \"key\", \"key\", \"key\", \"keyboard\", \"keyboard\", \"keyboard\", \"keyescrow\", \"kill\", \"kill\", \"kill\", \"kill\", \"kill\", \"kill\", \"kill\", \"kill\", \"kill\", \"kill\", \"kill\", \"km\", \"km\", \"km\", \"knife\", \"knife\", \"know\", \"know\", \"know\", \"know\", \"know\", \"know\", \"know\", \"know\", \"know\", \"know\", \"know\", \"know\", \"know\", \"know\", \"know\", \"know\", \"know\", \"laboratory\", \"lakesorry\", \"land\", \"land\", \"land\", \"land\", \"land\", \"land\", \"land\", \"land\", \"land\", \"lane\", \"launch\", \"launch\", \"launch\", \"launch\", \"launch\", \"law\", \"law\", \"law\", \"law\", \"law\", \"law\", \"law\", \"law\", \"law\", \"law\", \"lcd\", \"lcd\", \"league\", \"league\", \"leather\", \"leather\", \"lebanese\", \"lebanese\", \"libXmulibXmua\", \"life\", \"life\", \"life\", \"life\", \"life\", \"life\", \"life\", \"life\", \"life\", \"light\", \"light\", \"light\", \"light\", \"light\", \"light\", \"light\", \"light\", \"light\", \"like\", \"like\", \"like\", \"like\", \"like\", \"like\", \"like\", \"like\", \"like\", \"like\", \"like\", \"like\", \"like\", \"like\", \"like\", \"line\", \"line\", \"line\", \"line\", \"line\", \"line\", \"line\", \"line\", \"line\", \"line\", \"line\", \"line\", \"line\", \"line\", \"line\", \"line\", \"line\", \"list\", \"list\", \"list\", \"list\", \"list\", \"list\", \"list\", \"list\", \"list\", \"list\", \"list\", \"list\", \"list\", \"list\", \"live\", \"live\", \"live\", \"live\", \"live\", \"live\", \"live\", \"live\", \"live\", \"live\", \"live\", \"live\", \"live\", \"liveseysolntzewpdsgicom\", \"liveseysolntzewpdsgicom\", \"look\", \"look\", \"look\", \"look\", \"look\", \"look\", \"look\", \"look\", \"look\", \"look\", \"look\", \"look\", \"look\", \"loser\", \"lunar\", \"lunar\", \"m\", \"m\", \"m\", \"m\", \"m\", \"m\", \"m\", \"m\", \"m\", \"machine\", \"machine\", \"machine\", \"machine\", \"machine\", \"machine\", \"machine\", \"machine\", \"machine\", \"machine\", \"machine\", \"machine\", \"male\", \"male\", \"male\", \"male\", \"male\", \"male\", \"male\", \"male\", \"man\", \"man\", \"man\", \"man\", \"man\", \"man\", \"man\", \"man\", \"man\", \"man\", \"man\", \"man\", \"manually\", \"manually\", \"marriage\", \"material\", \"material\", \"material\", \"material\", \"material\", \"material\", \"material\", \"material\", \"mauherkycsuiowaedu\", \"maxaxaxaxaxaxaxaxaxaxaxaxaxaxax\", \"mb\", \"mb\", \"mb\", \"mb\", \"mean\", \"mean\", \"mean\", \"mean\", \"mean\", \"mean\", \"mean\", \"mean\", \"mean\", \"mean\", \"mean\", \"mean\", \"medical\", \"medical\", \"medical\", \"medical\", \"medical\", \"medical\", \"meg\", \"meg\", \"memory\", \"memory\", \"memory\", \"memory\", \"memory\", \"memory\", \"memory\", \"memory\", \"memory\", \"memory\", \"menu\", \"methodology\", \"methodology\", \"methodology\", \"mile\", \"mile\", \"mile\", \"mile\", \"mile\", \"mile\", \"mile\", \"militant\", \"militia\", \"militia\", \"militia\", \"militia\", \"militia\", \"mission\", \"mission\", \"mission\", \"mission\", \"mode\", \"mode\", \"mode\", \"mode\", \"mode\", \"mode\", \"mode\", \"mode\", \"mode\", \"modifier\", \"monitor\", \"monitor\", \"monitor\", \"monitor\", \"monitor\", \"monitor\", \"moral\", \"moral\", \"morality\", \"morality\", \"motherboard\", \"motif\", \"motif\", \"motif\", \"motif\", \"motif\", \"motorcycle\", \"motorcycle\", \"motorcycle\", \"motorcycle\", \"motorcycle\", \"motorcycling\", \"motto\", \"motto\", \"mouse\", \"mouse\", \"mp\", \"mp\", \"mph\", \"mph\", \"mph\", \"msg\", \"msg\", \"n\", \"n\", \"n\", \"n\", \"n\", \"n\", \"n\", \"n\", \"n\", \"n\", \"ne\", \"ne\", \"ne\", \"ne\", \"need\", \"need\", \"need\", \"need\", \"need\", \"need\", \"need\", \"need\", \"need\", \"need\", \"need\", \"need\", \"neutral\", \"neutral\", \"neutral\", \"neutral\", \"neutral\", \"new\", \"new\", \"new\", \"new\", \"new\", \"new\", \"new\", \"new\", \"new\", \"new\", \"new\", \"new\", \"new\", \"new\", \"new\", \"newline\", \"newsletter\", \"next4csumredu\", \"nntppostinghost\", \"nntppostinghost\", \"nntppostinghost\", \"nntppostinghost\", \"nntppostinghost\", \"nntppostinghost\", \"nntppostinghost\", \"nntppostinghost\", \"nntppostinghost\", \"nntppostinghost\", \"nntppostinghost\", \"nntppostinghost\", \"nntppostinghost\", \"nonlethal\", \"not\", \"not\", \"not\", \"not\", \"not\", \"not\", \"not\", \"not\", \"not\", \"not\", \"not\", \"not\", \"not\", \"not\", \"not\", \"not\", \"npetbnrca\", \"nsmcaacad3alaskaedu\", \"number\", \"number\", \"number\", \"number\", \"number\", \"number\", \"number\", \"number\", \"number\", \"number\", \"number\", \"number\", \"number\", \"number\", \"number\", \"o\", \"o\", \"o\", \"o\", \"o\", \"o\", \"o\", \"o\", \"obfuscate\", \"obfuscate\", \"objective\", \"objective\", \"objective\", \"objective\", \"objective\", \"occupant\", \"occupation\", \"occupation\", \"occupied\", \"occupy\", \"occupy\", \"occupy\", \"occupy\", \"occupy\", \"odometer\", \"offer\", \"offer\", \"offer\", \"offer\", \"offer\", \"offer\", \"offer\", \"offer\", \"offer\", \"offer\", \"offer\", \"oil\", \"oil\", \"oil\", \"oil\", \"oil\", \"oil\", \"orbit\", \"orbital\", \"orbital\", \"orbital\", \"ore\", \"os\", \"os\", \"os\", \"oscillator\", \"outlet\", \"output\", \"output\", \"output\", \"output\", \"output\", \"output\", \"p\", \"p\", \"p\", \"p\", \"p\", \"p\", \"p\", \"p\", \"p\", \"p\", \"p\", \"p\", \"packaging\", \"palestinian\", \"parking\", \"parking\", \"pas\", \"password\", \"password\", \"patent\", \"patent\", \"patient\", \"patient\", \"patient\", \"patient\", \"patient\", \"patient\", \"payload\", \"payload\", \"pc\", \"pc\", \"pc\", \"peace\", \"peace\", \"peace\", \"peace\", \"peace\", \"pedal\", \"people\", \"people\", \"people\", \"people\", \"people\", \"people\", \"people\", \"people\", \"people\", \"people\", \"people\", \"people\", \"people\", \"people\", \"people\", \"period\", \"period\", \"period\", \"period\", \"period\", \"period\", \"period\", \"period\", \"period\", \"period\", \"period\", \"physician\", \"physician\", \"pistol\", \"pitch\", \"pitch\", \"pitch\", \"pitch\", \"pitch\", \"pitcher\", \"pitching\", \"pixmap\", \"placebo\", \"placebo\", \"plaintext\", \"plane\", \"plane\", \"plane\", \"plane\", \"plane\", \"plane\", \"plane\", \"plane\", \"plastic\", \"plastic\", \"plastic\", \"plastic\", \"plastic\", \"plastic\", \"play\", \"play\", \"play\", \"play\", \"play\", \"play\", \"play\", \"play\", \"play\", \"play\", \"play\", \"player\", \"player\", \"player\", \"player\", \"player\", \"player\", \"playoff\", \"playoff\", \"plugger\", \"point\", \"point\", \"point\", \"point\", \"point\", \"point\", \"point\", \"point\", \"point\", \"point\", \"point\", \"point\", \"point\", \"point\", \"polygon\", \"polygon\", \"population\", \"population\", \"population\", \"population\", \"population\", \"population\", \"port\", \"port\", \"port\", \"port\", \"port\", \"port\", \"port\", \"power\", \"power\", \"power\", \"power\", \"power\", \"power\", \"power\", \"power\", \"power\", \"power\", \"power\", \"pp\", \"pp\", \"pp\", \"prayer\", \"preprocessor\", \"price\", \"price\", \"price\", \"price\", \"price\", \"price\", \"price\", \"price\", \"price\", \"printf\", \"privacy\", \"private\", \"private\", \"private\", \"private\", \"private\", \"private\", \"private\", \"probe\", \"probe\", \"probe\", \"problem\", \"problem\", \"problem\", \"problem\", \"problem\", \"problem\", \"problem\", \"problem\", \"problem\", \"problem\", \"problem\", \"problem\", \"problem\", \"problem\", \"program\", \"program\", \"program\", \"program\", \"program\", \"program\", \"program\", \"program\", \"project\", \"project\", \"project\", \"project\", \"project\", \"project\", \"project\", \"project\", \"project\", \"projector\", \"projector\", \"promiscuous\", \"promiscuous\", \"prong\", \"prophecy\", \"prophet\", \"protect\", \"protect\", \"protect\", \"protect\", \"protect\", \"protect\", \"protect\", \"protect\", \"protect\", \"pts\", \"public\", \"public\", \"public\", \"public\", \"public\", \"public\", \"public\", \"public\", \"public\", \"puck\", \"punishercaltechedu\", \"purchase\", \"purchase\", \"purchase\", \"purchase\", \"purchase\", \"purchase\", \"purchase\", \"purchase\", \"purchase\", \"purchase\", \"purchase\", \"pwisemansalmonusdedu\", \"pyronskndivdsegticom\", \"question\", \"question\", \"question\", \"question\", \"question\", \"question\", \"question\", \"question\", \"question\", \"question\", \"question\", \"question\", \"question\", \"question\", \"question\", \"qui\", \"radar\", \"radio\", \"radio\", \"radio\", \"radio\", \"radio\", \"radio\", \"radio\", \"radio\", \"radio\", \"radio\", \"radio\", \"radio\", \"rag\", \"ram\", \"ram\", \"rbi\", \"rear\", \"rear\", \"rear\", \"rear\", \"reason\", \"reason\", \"reason\", \"reason\", \"reason\", \"reason\", \"reason\", \"reason\", \"reason\", \"reason\", \"reason\", \"receiver\", \"receiver\", \"religion\", \"religion\", \"religion\", \"religion\", \"religious\", \"religious\", \"religious\", \"remark\", \"remark\", \"remark\", \"remark\", \"remark\", \"remark\", \"repair\", \"repair\", \"repair\", \"repair\", \"repair\", \"report\", \"report\", \"report\", \"report\", \"report\", \"report\", \"report\", \"report\", \"report\", \"report\", \"report\", \"report\", \"report\", \"report\", \"report\", \"research\", \"research\", \"research\", \"research\", \"research\", \"research\", \"research\", \"research\", \"researcher\", \"researcher\", \"researcher\", \"resistor\", \"restraint\", \"retaliation\", \"return\", \"return\", \"return\", \"return\", \"return\", \"return\", \"return\", \"return\", \"return\", \"return\", \"return\", \"return\", \"revelation\", \"ride\", \"ride\", \"ride\", \"ride\", \"ride\", \"rider\", \"rider\", \"rider\", \"rider\", \"right\", \"right\", \"right\", \"right\", \"right\", \"right\", \"right\", \"right\", \"right\", \"right\", \"right\", \"right\", \"right\", \"right\", \"right\", \"rite\", \"road\", \"road\", \"road\", \"road\", \"road\", \"road\", \"road\", \"road\", \"road\", \"rocket\", \"rocket\", \"rocket\", \"rocket\", \"rocket\", \"romanbmp\", \"rookie\", \"rs6000\", \"rule\", \"rule\", \"rule\", \"rule\", \"rule\", \"rule\", \"rule\", \"rule\", \"rule\", \"rule\", \"rule\", \"rule\", \"rule\", \"rule\", \"rule\", \"rule\", \"run\", \"run\", \"run\", \"run\", \"run\", \"run\", \"run\", \"run\", \"run\", \"run\", \"run\", \"run\", \"s\", \"s\", \"s\", \"s\", \"s\", \"s\", \"s\", \"s\", \"s\", \"s\", \"s\", \"s\", \"s\", \"s\", \"s\", \"s1\", \"s1\", \"sale\", \"sale\", \"sale\", \"sale\", \"sale\", \"sale\", \"sale\", \"sale\", \"sale\", \"sasghmtheseusunxsascom\", \"satellite\", \"satellite\", \"say\", \"say\", \"say\", \"say\", \"say\", \"say\", \"say\", \"say\", \"say\", \"say\", \"say\", \"say\", \"say\", \"say\", \"say\", \"say\", \"say\", \"scicrypt\", \"scientific\", \"scientific\", \"scientific\", \"score\", \"score\", \"score\", \"screen\", \"screen\", \"screen\", \"screen\", \"screen\", \"scripture\", \"scroll\", \"scsi2\", \"season\", \"season\", \"season\", \"secret\", \"secret\", \"secret\", \"secret\", \"secret\", \"secret\", \"section\", \"section\", \"section\", \"section\", \"section\", \"section\", \"section\", \"section\", \"section\", \"section\", \"section\", \"secure\", \"secure\", \"secure\", \"secure\", \"secure\", \"security\", \"security\", \"security\", \"security\", \"security\", \"security\", \"sedan\", \"see\", \"see\", \"see\", \"see\", \"see\", \"see\", \"see\", \"see\", \"see\", \"see\", \"see\", \"seizure\", \"seizure\", \"selfdefense\", \"selfdefense\", \"sell\", \"sell\", \"sell\", \"sell\", \"sell\", \"sell\", \"sell\", \"sell\", \"sell\", \"sell\", \"sell\", \"sell\", \"semiauto\", \"send\", \"send\", \"send\", \"send\", \"send\", \"send\", \"send\", \"send\", \"send\", \"send\", \"send\", \"send\", \"sensitivity\", \"sensitivity\", \"server\", \"server\", \"server\", \"server\", \"server\", \"server\", \"set\", \"set\", \"set\", \"set\", \"set\", \"set\", \"set\", \"set\", \"set\", \"set\", \"set\", \"set\", \"sexual\", \"sexual\", \"sexual\", \"sexual\", \"sexual\", \"sgi\", \"sgi\", \"shameful\", \"shelling\", \"shelling\", \"shipping\", \"shipping\", \"shipping\", \"shipping\", \"shoot\", \"shoot\", \"shoot\", \"shoot\", \"shoot\", \"shoot\", \"shoot\", \"shoot\", \"shoot\", \"shoot\", \"shout\", \"signal\", \"signal\", \"signal\", \"signal\", \"signal\", \"signal\", \"signal\", \"sin\", \"sin\", \"sinus\", \"skepticism\", \"skepticism\", \"software\", \"software\", \"software\", \"software\", \"software\", \"software\", \"software\", \"solar\", \"solar\", \"solar\", \"solar\", \"soldier\", \"soldier\", \"soldier\", \"soldier\", \"solntzewpdsgicom\", \"source\", \"source\", \"source\", \"source\", \"source\", \"source\", \"source\", \"source\", \"source\", \"source\", \"source\", \"space\", \"space\", \"space\", \"space\", \"space\", \"space\", \"space\", \"space\", \"space\", \"space\", \"spacecraft\", \"speed\", \"speed\", \"speed\", \"speed\", \"speed\", \"speed\", \"speed\", \"speed\", \"speed\", \"start\", \"start\", \"start\", \"start\", \"start\", \"start\", \"start\", \"start\", \"start\", \"start\", \"start\", \"start\", \"start\", \"start\", \"stat\", \"stat\", \"stat\", \"stat\", \"stat\", \"stat\", \"state\", \"state\", \"state\", \"state\", \"state\", \"state\", \"state\", \"state\", \"state\", \"state\", \"state\", \"state\", \"state\", \"steam\", \"steering\", \"stream\", \"stream\", \"stream\", \"stream\", \"stream\", \"study\", \"study\", \"study\", \"study\", \"study\", \"study\", \"study\", \"suck\", \"suck\", \"suck\", \"suck\", \"suck\", \"suck\", \"suck\", \"suis\", \"surface\", \"surface\", \"surface\", \"surface\", \"surface\", \"surface\", \"surrender\", \"surrender\", \"surrender\", \"suspension\", \"swap\", \"symptom\", \"symptom\", \"symptom\", \"synchronous\", \"synchronous\", \"syrian\", \"syrian\", \"system\", \"system\", \"system\", \"system\", \"system\", \"system\", \"system\", \"system\", \"system\", \"system\", \"system\", \"system\", \"systemic\", \"t\", \"t\", \"t\", \"t\", \"t\", \"t\", \"t\", \"t\", \"t\", \"t\", \"t\", \"take\", \"take\", \"take\", \"take\", \"take\", \"take\", \"take\", \"take\", \"take\", \"take\", \"take\", \"take\", \"take\", \"tap\", \"tap\", \"tap\", \"tax\", \"tax\", \"tax\", \"tax\", \"tax\", \"tax\", \"team\", \"team\", \"team\", \"team\", \"team\", \"team\", \"team\", \"technical\", \"technical\", \"technical\", \"technical\", \"technical\", \"technical\", \"technical\", \"technical\", \"technical\", \"tell\", \"tell\", \"tell\", \"tell\", \"tell\", \"tell\", \"tell\", \"tell\", \"tell\", \"tell\", \"tell\", \"tell\", \"tell\", \"territory\", \"territory\", \"territory\", \"territory\", \"thank\", \"thank\", \"thank\", \"thank\", \"thank\", \"thank\", \"thank\", \"thank\", \"thank\", \"thank\", \"theist\", \"therapy\", \"therapy\", \"thing\", \"thing\", \"thing\", \"thing\", \"thing\", \"thing\", \"thing\", \"thing\", \"thing\", \"thing\", \"thing\", \"thing\", \"thing\", \"think\", \"think\", \"think\", \"think\", \"think\", \"think\", \"think\", \"think\", \"think\", \"think\", \"think\", \"think\", \"think\", \"think\", \"time\", \"time\", \"time\", \"time\", \"time\", \"time\", \"time\", \"time\", \"time\", \"time\", \"time\", \"time\", \"time\", \"time\", \"time\", \"tire\", \"title\", \"title\", \"title\", \"title\", \"title\", \"title\", \"title\", \"title\", \"title\", \"title\", \"torque\", \"trajectory\", \"treatment\", \"treatment\", \"treatment\", \"treatment\", \"treatment\", \"treatment\", \"trial\", \"trial\", \"trial\", \"trial\", \"trial\", \"trial\", \"trial\", \"trial\", \"trial\", \"true\", \"true\", \"true\", \"true\", \"true\", \"true\", \"true\", \"true\", \"true\", \"true\", \"true\", \"true\", \"true\", \"truth\", \"truth\", \"truth\", \"truth\", \"truth\", \"truth\", \"truth\", \"try\", \"try\", \"try\", \"try\", \"try\", \"try\", \"try\", \"try\", \"try\", \"try\", \"try\", \"try\", \"try\", \"try\", \"turkish\", \"turkish\", \"uart\", \"undefined\", \"undefined\", \"undefined\", \"unpack\", \"usa\", \"usa\", \"usa\", \"usa\", \"usa\", \"usa\", \"usa\", \"usa\", \"usa\", \"usa\", \"use\", \"use\", \"use\", \"use\", \"use\", \"use\", \"use\", \"use\", \"use\", \"use\", \"use\", \"use\", \"use\", \"use\", \"use\", \"use\", \"utzoohenry\", \"uunetpyramidoptilinkcramer\", \"valve\", \"vandalize\", \"vat\", \"vehicle\", \"vehicle\", \"vehicle\", \"vehicle\", \"vehicle\", \"vehicle\", \"vehicle\", \"ver\", \"verse\", \"version\", \"version\", \"version\", \"version\", \"version\", \"version\", \"version\", \"version\", \"version\", \"version\", \"version\", \"version\", \"version\", \"version\", \"vga\", \"vga\", \"video\", \"video\", \"video\", \"video\", \"video\", \"video\", \"video\", \"village\", \"village\", \"voltage\", \"voltage\", \"vs\", \"vs\", \"vs\", \"vs\", \"vs\", \"vs\", \"vs\", \"vs\", \"vs\", \"vs\", \"vs\", \"vs\", \"vs\", \"want\", \"want\", \"want\", \"want\", \"want\", \"want\", \"want\", \"want\", \"want\", \"want\", \"want\", \"want\", \"want\", \"want\", \"war\", \"war\", \"war\", \"war\", \"war\", \"war\", \"war\", \"wasgo\", \"water\", \"water\", \"water\", \"water\", \"water\", \"water\", \"water\", \"wave\", \"wave\", \"wave\", \"wave\", \"wave\", \"way\", \"way\", \"way\", \"way\", \"way\", \"way\", \"way\", \"way\", \"way\", \"way\", \"way\", \"way\", \"way\", \"way\", \"way\", \"way\", \"weapon\", \"weapon\", \"weapon\", \"wheel\", \"wheel\", \"wheel\", \"wheel\", \"whore\", \"whore\", \"whore\", \"widget\", \"widget\", \"widget\", \"width\", \"win\", \"win\", \"win\", \"win\", \"win\", \"win\", \"win\", \"win\", \"win\", \"win\", \"win\", \"win\", \"window\", \"window\", \"window\", \"window\", \"window\", \"wire\", \"wire\", \"wire\", \"wire\", \"wire\", \"wire\", \"wireless\", \"wireless\", \"wiretap\", \"wiring\", \"wiring\", \"witness\", \"witness\", \"witness\", \"witness\", \"wlsmithvalveheartrriuwoca\", \"woman\", \"woman\", \"woman\", \"woman\", \"woman\", \"woman\", \"woman\", \"word\", \"word\", \"word\", \"word\", \"word\", \"word\", \"word\", \"word\", \"word\", \"word\", \"word\", \"word\", \"word\", \"work\", \"work\", \"work\", \"work\", \"work\", \"work\", \"work\", \"work\", \"work\", \"work\", \"work\", \"work\", \"work\", \"world\", \"world\", \"world\", \"world\", \"world\", \"world\", \"world\", \"world\", \"world\", \"world\", \"world\", \"world\", \"world\", \"world\", \"world\", \"world\", \"world\", \"worship\", \"write\", \"write\", \"write\", \"write\", \"write\", \"write\", \"write\", \"write\", \"write\", \"write\", \"write\", \"write\", \"write\", \"write\", \"write\", \"write\", \"write\", \"wtmuhuraneoucomedu\", \"x\", \"x\", \"x\", \"x\", \"x\", \"x\", \"xfree86\", \"xrdb\", \"y\", \"y\", \"y\", \"y\", \"y\", \"y\", \"year\", \"year\", \"year\", \"year\", \"year\", \"year\", \"year\", \"year\", \"year\", \"year\", \"year\", \"year\", \"year\", \"year\", \"year\", \"yeast\", \"yeast\", \"zionist\"]}, \"R\": 30, \"lambda.step\": 0.01, \"plot.opts\": {\"xlab\": \"PC1\", \"ylab\": \"PC2\"}, \"topic.order\": [2, 19, 9, 16, 5, 14, 7, 17, 3, 1, 18, 10, 11, 15, 13, 4, 8, 12, 6, 20]};\n",
       "\n",
       "function LDAvis_load_lib(url, callback){\n",
       "  var s = document.createElement('script');\n",
       "  s.src = url;\n",
       "  s.async = true;\n",
       "  s.onreadystatechange = s.onload = callback;\n",
       "  s.onerror = function(){console.warn(\"failed to load library \" + url);};\n",
       "  document.getElementsByTagName(\"head\")[0].appendChild(s);\n",
       "}\n",
       "\n",
       "if(typeof(LDAvis) !== \"undefined\"){\n",
       "   // already loaded: just create the visualization\n",
       "   !function(LDAvis){\n",
       "       new LDAvis(\"#\" + \"ldavis_el1641403177884296481354774762\", ldavis_el1641403177884296481354774762_data);\n",
       "   }(LDAvis);\n",
       "}else if(typeof define === \"function\" && define.amd){\n",
       "   // require.js is available: use it to load d3/LDAvis\n",
       "   require.config({paths: {d3: \"https://cdnjs.cloudflare.com/ajax/libs/d3/3.5.5/d3.min\"}});\n",
       "   require([\"d3\"], function(d3){\n",
       "      window.d3 = d3;\n",
       "      LDAvis_load_lib(\"https://cdn.rawgit.com/bmabey/pyLDAvis/files/ldavis.v1.0.0.js\", function(){\n",
       "        new LDAvis(\"#\" + \"ldavis_el1641403177884296481354774762\", ldavis_el1641403177884296481354774762_data);\n",
       "      });\n",
       "    });\n",
       "}else{\n",
       "    // require.js not available: dynamically load d3 & LDAvis\n",
       "    LDAvis_load_lib(\"https://cdnjs.cloudflare.com/ajax/libs/d3/3.5.5/d3.min.js\", function(){\n",
       "         LDAvis_load_lib(\"https://cdn.rawgit.com/bmabey/pyLDAvis/files/ldavis.v1.0.0.js\", function(){\n",
       "                 new LDAvis(\"#\" + \"ldavis_el1641403177884296481354774762\", ldavis_el1641403177884296481354774762_data);\n",
       "            })\n",
       "         });\n",
       "}\n",
       "</script>"
      ],
      "text/plain": [
       "PreparedData(topic_coordinates=              x         y  topics  cluster       Freq\n",
       "topic                                                \n",
       "1     -0.253534 -0.081135       1        1  18.786488\n",
       "18    -0.239541  0.065416       2        1  16.457098\n",
       "8     -0.218959  0.104272       3        1  14.207382\n",
       "15    -0.208579 -0.086865       4        1   7.622657\n",
       "4     -0.180151 -0.016348       5        1   7.241427\n",
       "13    -0.187793 -0.128478       6        1   7.068713\n",
       "6     -0.203963 -0.007799       7        1   6.833530\n",
       "16    -0.161374 -0.006652       8        1   4.857025\n",
       "2     -0.024478  0.337815       9        1   4.846527\n",
       "0     -0.099200 -0.014805      10        1   3.416130\n",
       "17    -0.023187 -0.109358      11        1   2.521300\n",
       "9      0.042146  0.063154      12        1   1.663680\n",
       "10     0.239471  0.024628      13        1   1.113211\n",
       "14     0.123301 -0.013775      14        1   0.955535\n",
       "12     0.148145  0.004981      15        1   0.753288\n",
       "3      0.232151 -0.028506      16        1   0.595426\n",
       "7      0.216807 -0.036679      17        1   0.418269\n",
       "11     0.250479 -0.018753      18        1   0.319892\n",
       "5      0.263357 -0.026557      19        1   0.212611\n",
       "19     0.284902 -0.024558      20        1   0.109810, topic_info=                                  Term          Freq         Total Category  \\\n",
       "0                                       85684.000000  85684.000000  Default   \n",
       "8249   maxaxaxaxaxaxaxaxaxaxaxaxaxaxax   3202.000000   3202.000000  Default   \n",
       "1780                                 x   3433.000000   3433.000000  Default   \n",
       "693                                  1   6303.000000   6303.000000  Default   \n",
       "921                                  2   4777.000000   4777.000000  Default   \n",
       "...                                ...           ...           ...      ...   \n",
       "32280                            whore      2.352228      9.826870  Topic20   \n",
       "23155                               ET      2.639892     18.472122  Topic20   \n",
       "13545                        celebrate      2.810518     50.407218  Topic20   \n",
       "23183                         wireless      2.167546     12.212595  Topic20   \n",
       "16427                        inference      2.224189     16.871158  Topic20   \n",
       "\n",
       "       logprob  loglift  \n",
       "0      30.0000  30.0000  \n",
       "8249   29.0000  29.0000  \n",
       "1780   28.0000  28.0000  \n",
       "693    27.0000  27.0000  \n",
       "921    26.0000  26.0000  \n",
       "...        ...      ...  \n",
       "32280  -6.7246   5.3844  \n",
       "23155  -6.6092   4.8687  \n",
       "13545  -6.5466   3.9274  \n",
       "23183  -6.8064   5.0853  \n",
       "16427  -6.7806   4.7880  \n",
       "\n",
       "[1409 rows x 6 columns], token_table=       Topic      Freq     Term\n",
       "term                           \n",
       "0          1  0.183406         \n",
       "0          2  0.141777         \n",
       "0          3  0.381413         \n",
       "0          4  0.048445         \n",
       "0          5  0.030858         \n",
       "...      ...       ...      ...\n",
       "49        16  0.000260     year\n",
       "49        17  0.000260     year\n",
       "8480      15  0.018578    yeast\n",
       "8480      16  0.966066    yeast\n",
       "18942     11  0.986845  zionist\n",
       "\n",
       "[4550 rows x 3 columns], R=30, lambda_step=0.01, plot_opts={'xlab': 'PC1', 'ylab': 'PC2'}, topic_order=[2, 19, 9, 16, 5, 14, 7, 17, 3, 1, 18, 10, 11, 15, 13, 4, 8, 12, 6, 20])"
      ]
     },
     "execution_count": 80,
     "metadata": {},
     "output_type": "execute_result"
    }
   ],
   "source": [
    "pyLDAvis.enable_notebook()\n",
    "vis = pyLDAvis.gensim.prepare(lda_multicore, corpus, id2word)\n",
    "vis"
   ]
  },
  {
   "cell_type": "code",
   "execution_count": null,
   "metadata": {
    "colab": {},
    "colab_type": "code",
    "id": "rjtXk8J3LaXC"
   },
   "outputs": [],
   "source": [
    "def compute_coherence_values(dictionary, corpus, texts, limit, start=2, step=3):\n",
    "    \"\"\"\n",
    "    Compute c_v coherence for various number of topics\n",
    "\n",
    "    Parameters:\n",
    "    ----------\n",
    "    dictionary : Gensim dictionary\n",
    "    corpus : Gensim corpus\n",
    "    texts : List of input texts\n",
    "    limit : Max num of topics\n",
    "\n",
    "    Returns:\n",
    "    -------\n",
    "    model_list : List of LDA topic models\n",
    "    coherence_values : Coherence values corresponding to the LDA model with respective number of topics\n",
    "    \"\"\"\n",
    "    coherence_values = []\n",
    "    model_list = []\n",
    "    for num_topics in range(start, limit, step):\n",
    "        model = gensim.models.ldamulticore.LdaMulticore(corpus=corpus,\n",
    "                                                        id2word=id2word,\n",
    "                                                        num_topics=num_topics, \n",
    "                                                        chunksize=100,\n",
    "                                                        passes=10,\n",
    "                                                        per_word_topics=True,\n",
    "                                                        workers=12)\n",
    "        model_list.append(model)\n",
    "        coherencemodel = CoherenceModel(model=model, texts=texts, dictionary=dictionary, coherence='c_v')\n",
    "        coherence_values.append(coherencemodel.get_coherence())\n",
    "\n",
    "    return model_list, coherence_values"
   ]
  },
  {
   "cell_type": "code",
   "execution_count": null,
   "metadata": {},
   "outputs": [],
   "source": [
    "# %%time\n",
    "# model_list, coherence_values = compute_coherence_values(dictionary=id2word, corpus=corpus, texts=df['lemmas'], start=2, limit=40, step=6)"
   ]
  },
  {
   "cell_type": "code",
   "execution_count": 82,
   "metadata": {},
   "outputs": [
    {
     "name": "stderr",
     "output_type": "stream",
     "text": [
      "/home/akim/.local/share/virtualenvs/DS-Unit-4-Sprint-1-NLP-2AapNZ9Q/lib/python3.7/site-packages/ipykernel/ipkernel.py:287: DeprecationWarning: `should_run_async` will not call `transform_cell` automatically in the future. Please pass the result to `transformed_cell` argument and any exception that happen during thetransform in `preprocessing_exc_tuple` in IPython 7.17 and above.\n",
      "  and should_run_async(code)\n"
     ]
    }
   ],
   "source": [
    "coherence_values = [0.5054, 0.5332, 0.5452, 0.564, 0.5678, 0.5518, 0.519]"
   ]
  },
  {
   "cell_type": "code",
   "execution_count": 83,
   "metadata": {},
   "outputs": [
    {
     "name": "stderr",
     "output_type": "stream",
     "text": [
      "/home/akim/.local/share/virtualenvs/DS-Unit-4-Sprint-1-NLP-2AapNZ9Q/lib/python3.7/site-packages/ipykernel/ipkernel.py:287: DeprecationWarning: `should_run_async` will not call `transform_cell` automatically in the future. Please pass the result to `transformed_cell` argument and any exception that happen during thetransform in `preprocessing_exc_tuple` in IPython 7.17 and above.\n",
      "  and should_run_async(code)\n"
     ]
    },
    {
     "data": {
      "image/png": "[encoded data removed]",
      "text/plain": [
       "<Figure size 432x288 with 1 Axes>"
      ]
     },
     "metadata": {
      "needs_background": "light"
     },
     "output_type": "display_data"
    }
   ],
   "source": [
    "limit=40; start=2; step=6;\n",
    "x = range(start, limit, step)\n",
    "plt.plot(x, coherence_values)\n",
    "plt.xlabel(\"Num Topics\")\n",
    "plt.ylabel(\"Coherence score\")\n",
    "plt.legend((\"coherence_values\"), loc='best')\n",
    "plt.show()"
   ]
  },
  {
   "cell_type": "code",
   "execution_count": 84,
   "metadata": {},
   "outputs": [
    {
     "name": "stdout",
     "output_type": "stream",
     "text": [
      "Num Topics = 2  has Coherence Value of 0.5054\n",
      "Num Topics = 8  has Coherence Value of 0.5332\n",
      "Num Topics = 14  has Coherence Value of 0.5452\n",
      "Num Topics = 20  has Coherence Value of 0.564\n",
      "Num Topics = 26  has Coherence Value of 0.5678\n",
      "Num Topics = 32  has Coherence Value of 0.5518\n",
      "Num Topics = 38  has Coherence Value of 0.519\n"
     ]
    },
    {
     "name": "stderr",
     "output_type": "stream",
     "text": [
      "/home/akim/.local/share/virtualenvs/DS-Unit-4-Sprint-1-NLP-2AapNZ9Q/lib/python3.7/site-packages/ipykernel/ipkernel.py:287: DeprecationWarning: `should_run_async` will not call `transform_cell` automatically in the future. Please pass the result to `transformed_cell` argument and any exception that happen during thetransform in `preprocessing_exc_tuple` in IPython 7.17 and above.\n",
      "  and should_run_async(code)\n"
     ]
    }
   ],
   "source": [
    "# Print the coherence scores\n",
    "for m, cv in zip(x, coherence_values):\n",
    "    print(\"Num Topics =\", m, \" has Coherence Value of\", round(cv, 4))"
   ]
  },
  {
   "cell_type": "code",
   "execution_count": 85,
   "metadata": {},
   "outputs": [
    {
     "name": "stdout",
     "output_type": "stream",
     "text": [
      "[(25,\n",
      "  '0.009*\"VAXVMS\" + 0.009*\"VNEWS\" + 0.009*\"NewsSoftware\" + 0.008*\"Maria\" + '\n",
      "  '0.008*\"Brian\" + 0.007*\"141\" + 0.005*\"obscure\" + 0.005*\"GL\" + 0.005*\"de\" + '\n",
      "  '0.004*\"beep\"'),\n",
      " (8,\n",
      "  '0.022*\"dog\" + 0.010*\"DOS\" + 0.005*\"Nick\" + 0.005*\"        \" + '\n",
      "  '0.004*\"Pettefar\" + 0.004*\"do\" + 0.004*\"ryancousineaucompdynquestororg\" + '\n",
      "  '0.004*\"Cousineau\" + 0.004*\"2500\" + 0.004*\"MPC\"'),\n",
      " (7,\n",
      "  '0.021*\" \" + 0.008*\"not\" + 0.005*\"Gordon\" + 0.005*\"patient\" + 0.005*\"doctor\" '\n",
      "  '+ 0.005*\"drug\" + 0.005*\"article\" + 0.004*\"Organization\" + 0.004*\"use\" + '\n",
      "  '0.004*\"write\"'),\n",
      " (14,\n",
      "  '0.019*\"absolute\" + 0.015*\"truth\" + 0.009*\"Darren\" + 0.009*\"Mormon\" + '\n",
      "  '0.008*\"Jumper\" + 0.006*\"ye\" + 0.005*\"Lucifer\" + 0.004*\"LDS\" + '\n",
      "  '0.004*\"holland\" + 0.004*\"craig\"'),\n",
      " (22,\n",
      "  '0.009*\"Weiss\" + 0.006*\"IR\" + 0.005*\"cursor\" + 0.004*\"Bethesda\" + '\n",
      "  '0.004*\"Diamond\" + 0.004*\"Meritt\" + 0.004*\"presentation\" + 0.004*\"Integra\" + '\n",
      "  '0.004*\"driver\" + 0.004*\"Joseph\"'),\n",
      " (5,\n",
      "  '0.014*\" \" + 0.008*\"space\" + 0.008*\"Space\" + 0.007*\"turkish\" + '\n",
      "  '0.006*\"launch\" + 0.005*\"NASA\" + 0.005*\"armenian\" + 0.005*\"year\" + '\n",
      "  '0.004*\"Armenians\" + 0.004*\"orbit\"'),\n",
      " (6,\n",
      "  '0.075*\"1\" + 0.048*\"2\" + 0.042*\"0\" + 0.031*\"3\" + 0.025*\"4\" + 0.020*\"5\" + '\n",
      "  '0.018*\"7\" + 0.017*\"6\" + 0.017*\"25\" + 0.012*\"10\"'),\n",
      " (17,\n",
      "  '0.065*\" \" + 0.015*\"x\" + 0.011*\"file\" + 0.008*\"use\" + 0.007*\"X\" + '\n",
      "  '0.007*\"program\" + 0.007*\"Organization\" + 0.006*\"line\" + 0.006*\"Subject\" + '\n",
      "  '0.006*\"window\"'),\n",
      " (12,\n",
      "  '0.008*\"xfree86\" + 0.007*\"convertible\" + 0.007*\"visualization\" + '\n",
      "  '0.005*\"Mode\" + 0.004*\"Chevrolet\" + 0.004*\"Aerospace\" + 0.004*\"serbian\" + '\n",
      "  '0.003*\"Amsterdam\" + 0.003*\"P9000\" + 0.003*\"endometriosis\"'),\n",
      " (3,\n",
      "  '0.042*\" \" + 0.018*\"drive\" + 0.013*\"Organization\" + 0.012*\"Subject\" + '\n",
      "  '0.009*\"card\" + 0.009*\"Lines\" + 0.009*\"University\" + 0.008*\"not\" + '\n",
      "  '0.008*\"disk\" + 0.006*\"system\"'),\n",
      " (13,\n",
      "  '0.021*\" \" + 0.016*\"car\" + 0.009*\"not\" + 0.008*\"Organization\" + '\n",
      "  '0.007*\"Subject\" + 0.007*\"power\" + 0.006*\"like\" + 0.005*\"Lines\" + '\n",
      "  '0.005*\"bike\" + 0.005*\"problem\"'),\n",
      " (2,\n",
      "  '0.009*\"Denver\" + 0.006*\"Nyx\" + 0.006*\"Machines\" + 0.006*\"Shai\" + '\n",
      "  '0.006*\"water\" + 0.006*\"Unix\" + 0.005*\"Guday\" + 0.005*\"Thinking\" + '\n",
      "  '0.005*\"MathCS\" + 0.005*\"dept\"'),\n",
      " (4,\n",
      "  '0.006*\"Roby\" + 0.005*\"FBI\" + 0.005*\"compound\" + 0.005*\"Paradox\" + 0.004*\"W\" '\n",
      "  '+ 0.004*\"robychopinudeledu\" + 0.004*\"Scott\" + 0.004*\"BATFFBI\" + '\n",
      "  '0.003*\"Championships\" + 0.003*\"book\"'),\n",
      " (1,\n",
      "  '0.011*\"Walker\" + 0.008*\"Amanda\" + 0.007*\"InterCon\" + 0.007*\"homicide\" + '\n",
      "  '0.006*\"latch\" + 0.005*\"Vancouver\" + 0.005*\"headache\" + 0.004*\"Zisfein\" + '\n",
      "  '0.004*\"Seattle\" + 0.004*\"Mykotronx\"'),\n",
      " (15,\n",
      "  '0.023*\"550\" + 0.008*\"mouse\" + 0.007*\" \" + 0.007*\"C650\" + 0.007*\"Hawks\" + '\n",
      "  '0.006*\"040\" + 0.006*\"logo\" + 0.005*\"speed\" + 0.004*\"switch\" + '\n",
      "  '0.004*\"Centris\"'),\n",
      " (20,\n",
      "  '0.029*\"maxaxaxaxaxaxaxaxaxaxaxaxaxaxax\" + 0.018*\"game\" + 0.016*\"team\" + '\n",
      "  '0.015*\"not\" + 0.011*\"year\" + 0.011*\"play\" + 0.010*\" \" + 0.010*\"player\" + '\n",
      "  '0.009*\"win\" + 0.008*\"good\"'),\n",
      " (0,\n",
      "  '0.006*\"suck\" + 0.006*\"weight\" + 0.005*\"cub\" + 0.005*\"0333\" + 0.003*\"0500\" + '\n",
      "  '0.003*\"Commonwealth\" + 0.003*\"Mayhew\" + 0.003*\"Durham\" + 0.002*\"Chuck\" + '\n",
      "  '0.002*\"Forsberg\"'),\n",
      " (9,\n",
      "  '0.014*\"point\" + 0.010*\"Sabbath\" + 0.008*\"sphere\" + 0.008*\"Gregg\" + '\n",
      "  '0.006*\"cell\" + 0.006*\"ceremonial\" + 0.005*\"Romans\" + 0.005*\"cross\" + '\n",
      "  '0.004*\"plane\" + 0.004*\"Rushdie\"'),\n",
      " (18,\n",
      "  '0.030*\" \" + 0.011*\"not\" + 0.010*\"key\" + 0.006*\"use\" + 0.005*\"government\" + '\n",
      "  '0.005*\"system\" + 0.005*\"encryption\" + 0.005*\"Q\" + 0.004*\"chip\" + '\n",
      "  '0.004*\"people\"'),\n",
      " (21,\n",
      "  '0.132*\" \" + 0.027*\"  \" + 0.018*\"write\" + 0.015*\"Organization\" + '\n",
      "  '0.014*\"article\" + 0.014*\"Subject\" + 0.012*\"not\" + 0.010*\"Lines\" + '\n",
      "  '0.007*\"University\" + 0.007*\"line\"')]\n"
     ]
    },
    {
     "name": "stderr",
     "output_type": "stream",
     "text": [
      "/home/akim/.local/share/virtualenvs/DS-Unit-4-Sprint-1-NLP-2AapNZ9Q/lib/python3.7/site-packages/ipykernel/ipkernel.py:287: DeprecationWarning: `should_run_async` will not call `transform_cell` automatically in the future. Please pass the result to `transformed_cell` argument and any exception that happen during thetransform in `preprocessing_exc_tuple` in IPython 7.17 and above.\n",
      "  and should_run_async(code)\n"
     ]
    }
   ],
   "source": [
    "# Select the model and print the topics\n",
    "#optimal_model = model_list[4]\n",
    "optimal_model =  models.LdaModel.load('optimal_model.model')\n",
    "model_topics = optimal_model.show_topics(formatted=False)\n",
    "pprint(optimal_model.print_topics(num_words=10))"
   ]
  },
  {
   "cell_type": "code",
   "execution_count": 87,
   "metadata": {},
   "outputs": [
    {
     "name": "stderr",
     "output_type": "stream",
     "text": [
      "/home/akim/.local/share/virtualenvs/DS-Unit-4-Sprint-1-NLP-2AapNZ9Q/lib/python3.7/site-packages/ipykernel/ipkernel.py:287: DeprecationWarning: `should_run_async` will not call `transform_cell` automatically in the future. Please pass the result to `transformed_cell` argument and any exception that happen during thetransform in `preprocessing_exc_tuple` in IPython 7.17 and above.\n",
      "  and should_run_async(code)\n"
     ]
    },
    {
     "data": {
      "text/plain": [
       "0         wheres my thing Subject WHAT car is this Nntp...\n",
       "1         Guy Kuo Subject SI Clock Poll  Final Call Sum...\n",
       "2         Thomas E Willis Subject PB questions Organiza...\n",
       "3         Joe Green Subject Re Weitek P9000  Organizati...\n",
       "4         Jonathan McDowell Subject Re Shuttle Launch Q...\n",
       "                               ...                        \n",
       "11309     Jim Zisfein Subject Re Migraines and scans Di...\n",
       "11310     Subject Screen Death Mac Plus512 Lines 22 Org...\n",
       "11311     Will Estes Subject Mounting CPU Cooler in ver...\n",
       "11312     Steven Collins Subject Re Sphere from 4 point...\n",
       "11313     Kevin J Gunning Subject stolen CBR900RR Organ...\n",
       "Name: content, Length: 11314, dtype: object"
      ]
     },
     "execution_count": 87,
     "metadata": {},
     "output_type": "execute_result"
    }
   ],
   "source": [
    "df['content']"
   ]
  },
  {
   "cell_type": "code",
   "execution_count": 88,
   "metadata": {},
   "outputs": [
    {
     "name": "stderr",
     "output_type": "stream",
     "text": [
      "/home/akim/.local/share/virtualenvs/DS-Unit-4-Sprint-1-NLP-2AapNZ9Q/lib/python3.7/site-packages/ipykernel/ipkernel.py:287: DeprecationWarning: `should_run_async` will not call `transform_cell` automatically in the future. Please pass the result to `transformed_cell` argument and any exception that happen during thetransform in `preprocessing_exc_tuple` in IPython 7.17 and above.\n",
      "  and should_run_async(code)\n"
     ]
    }
   ],
   "source": [
    "X = [nlp(doc_str).vector for doc_str in df['content'].iloc[:500]]"
   ]
  },
  {
   "cell_type": "code",
   "execution_count": 91,
   "metadata": {},
   "outputs": [
    {
     "name": "stderr",
     "output_type": "stream",
     "text": [
      "/home/akim/.local/share/virtualenvs/DS-Unit-4-Sprint-1-NLP-2AapNZ9Q/lib/python3.7/site-packages/ipykernel/ipkernel.py:287: DeprecationWarning: `should_run_async` will not call `transform_cell` automatically in the future. Please pass the result to `transformed_cell` argument and any exception that happen during thetransform in `preprocessing_exc_tuple` in IPython 7.17 and above.\n",
      "  and should_run_async(code)\n"
     ]
    },
    {
     "data": {
      "text/plain": [
       "500"
      ]
     },
     "execution_count": 91,
     "metadata": {},
     "output_type": "execute_result"
    }
   ],
   "source": [
    "len(X)"
   ]
  },
  {
   "cell_type": "code",
   "execution_count": 92,
   "metadata": {},
   "outputs": [
    {
     "name": "stderr",
     "output_type": "stream",
     "text": [
      "/home/akim/.local/share/virtualenvs/DS-Unit-4-Sprint-1-NLP-2AapNZ9Q/lib/python3.7/site-packages/ipykernel/ipkernel.py:287: DeprecationWarning: `should_run_async` will not call `transform_cell` automatically in the future. Please pass the result to `transformed_cell` argument and any exception that happen during thetransform in `preprocessing_exc_tuple` in IPython 7.17 and above.\n",
      "  and should_run_async(code)\n"
     ]
    },
    {
     "data": {
      "text/plain": [
       "array([ 6.49627000e-02,  1.72942400e-01, -1.35103658e-01, -4.95198295e-02,\n",
       "        1.29333496e-01, -2.27665883e-02, -3.40190828e-02, -1.59262538e-01,\n",
       "       -4.76956815e-02,  2.11056066e+00, -1.90587997e-01,  2.84368619e-02,\n",
       "        7.72864595e-02, -4.35103886e-02, -1.20283395e-01, -6.05300777e-02,\n",
       "       -9.24635008e-02,  1.09331322e+00, -1.04713582e-01, -7.70829171e-02,\n",
       "        1.63354017e-02, -1.11703359e-01, -5.84971113e-03, -6.72326074e-04,\n",
       "       -1.83199309e-02,  2.22165305e-02, -6.67345598e-02, -3.23292576e-02,\n",
       "       -4.76965867e-03,  1.63094854e-04,  3.27783115e-02,  6.64760470e-02,\n",
       "       -9.30016395e-03,  7.82725364e-02,  2.62791142e-02, -4.33743112e-02,\n",
       "       -4.57467809e-02,  7.00696260e-02, -9.43757445e-02, -6.07523695e-02,\n",
       "       -4.77724010e-03,  9.09976289e-02, -1.77201291e-03, -1.96540635e-02,\n",
       "        4.87061627e-02,  6.86471909e-02, -1.03824727e-01, -8.38322565e-02,\n",
       "        4.95778471e-02,  1.10743474e-02, -5.53632677e-02,  1.08983675e-02,\n",
       "        1.04528125e-02,  8.03043507e-03,  4.04907651e-02, -2.65581161e-02,\n",
       "       -4.87163709e-03, -1.39179498e-01,  3.35325263e-02, -6.85273707e-02,\n",
       "       -6.92868307e-02, -3.46503817e-02, -1.83020178e-02,  2.35564440e-01,\n",
       "        5.17650768e-02, -9.73680913e-02, -4.97094840e-02,  4.35941517e-02,\n",
       "        2.77848355e-02,  1.22253686e-01,  3.65597159e-02,  2.82876436e-02,\n",
       "        2.07020342e-01,  3.60106095e-03,  8.99856165e-02,  2.27082856e-02,\n",
       "        3.30492631e-02, -5.68263642e-02, -1.09681465e-01,  1.84597552e-01,\n",
       "        1.74061749e-02,  1.31531492e-01, -9.78148505e-02,  1.57713834e-02,\n",
       "        7.89230242e-02, -1.28045782e-01, -6.66574482e-03, -7.65678510e-02,\n",
       "        1.64557248e-01, -3.38238105e-02, -1.23817779e-01,  5.89049049e-02,\n",
       "       -6.46455362e-02, -1.18417386e-02,  1.66787609e-01, -1.08333975e-02,\n",
       "        7.14639649e-02, -3.44658084e-02,  5.48374020e-02,  4.29454371e-02,\n",
       "       -2.97734607e-02,  1.52222598e-02, -3.54506336e-02, -1.94454081e-02,\n",
       "        9.13806185e-02, -6.29293621e-01,  1.20008036e-01,  3.91660556e-02,\n",
       "       -2.62745004e-02, -3.32832523e-02, -2.12308671e-02, -1.75480828e-01,\n",
       "        1.60035342e-01, -5.37774190e-02,  9.65640228e-03, -1.45402606e-04,\n",
       "       -5.28816227e-03,  8.83428976e-02, -4.89265956e-02, -7.76636822e-04,\n",
       "        4.97265495e-02, -9.25140530e-02, -2.27424521e-02, -7.25332573e-02,\n",
       "        3.84243838e-02,  7.77242631e-02, -1.24495644e-02, -1.30267918e-01,\n",
       "        3.27810533e-02,  2.40417873e-03,  2.35307924e-02, -3.99312936e-02,\n",
       "       -1.21603154e-01,  3.07524856e-02,  1.01889312e-01, -6.13885485e-02,\n",
       "       -8.29699412e-02,  2.83460151e-02, -3.62391397e-03, -8.38975683e-02,\n",
       "       -1.27901053e+00,  4.25130837e-02,  1.49042502e-01, -5.74726565e-03,\n",
       "        2.82348562e-02, -1.24238640e-01, -7.00112283e-02,  2.71819271e-02,\n",
       "        4.57273275e-02, -1.58810653e-02, -1.02649868e-01,  2.18609944e-02,\n",
       "        4.73776944e-02, -1.01464003e-01, -3.62415314e-02, -2.91789602e-02,\n",
       "       -7.56488442e-02,  1.08994171e-02, -4.60894331e-02, -4.51696143e-02,\n",
       "       -3.64364274e-02,  2.15208698e-02,  2.05269903e-02, -6.47478849e-02,\n",
       "       -1.90061759e-02, -1.41872451e-01, -8.02172814e-03,  2.54909694e-02,\n",
       "        2.13858604e-01, -2.99790222e-02, -3.61257456e-02,  1.07694250e-02,\n",
       "        6.57511428e-02, -7.27633834e-02, -1.21153258e-01,  3.79868075e-02,\n",
       "       -6.39732331e-02,  1.16768740e-01,  6.76759286e-03,  2.76077669e-02,\n",
       "       -6.70374895e-04,  1.79248285e-02, -9.85099003e-02, -9.11186561e-02,\n",
       "       -4.83361222e-02, -3.60234231e-02, -1.03551820e-01, -3.48806567e-02,\n",
       "        1.69649906e-02,  3.85886021e-02,  1.10271256e-02,  1.04879495e-02,\n",
       "       -1.46047711e-01,  9.63951740e-03,  3.81652787e-02,  1.37528315e-01,\n",
       "       -1.83064509e-02, -8.58316794e-02,  2.49743857e-03,  1.18388012e-01,\n",
       "       -6.45784140e-02, -4.14165035e-02, -9.04401392e-02, -1.52966129e-02,\n",
       "        1.40917048e-01,  7.23547339e-02,  6.03143722e-02, -1.63959954e-02,\n",
       "        7.17969537e-02,  4.32484746e-02, -1.22688778e-01, -1.48755722e-02,\n",
       "       -3.74238975e-02, -1.05624102e-01,  3.61470617e-02,  1.78434342e-01,\n",
       "       -7.83931911e-02,  2.95786075e-02, -1.85545519e-01, -1.80150028e-02,\n",
       "        5.76267727e-02, -9.07397494e-02, -5.08894324e-02,  6.59637451e-02,\n",
       "       -1.01781525e-02, -6.48555383e-02,  4.80916817e-03,  1.68696970e-01,\n",
       "        3.91597673e-02, -1.43840816e-02, -1.05175897e-01,  4.40916829e-02,\n",
       "        5.98757993e-04,  8.06555897e-02, -3.82489413e-02, -6.63776696e-02,\n",
       "       -1.25232991e-02, -4.29737307e-02, -8.45539272e-02,  1.49175540e-01,\n",
       "        2.08189227e-02,  6.19030036e-02,  4.61601391e-02,  1.09313153e-01,\n",
       "        8.56053308e-02, -1.45791575e-01,  4.52667139e-02, -6.95969537e-02,\n",
       "       -1.09260201e-01,  4.91163991e-02,  2.49051508e-02, -1.41127691e-01,\n",
       "       -6.63577439e-03, -8.67923349e-03,  5.63548729e-02,  2.20296815e-01,\n",
       "        4.85841446e-02, -8.63969028e-02,  4.29399982e-02,  3.60387377e-02,\n",
       "        1.24508217e-01,  9.54480097e-02,  1.93676241e-02,  4.00228612e-02,\n",
       "        7.69413263e-02, -8.76383558e-02, -3.39079797e-02,  1.25511974e-01,\n",
       "        2.09085956e-01,  5.12010045e-03,  8.38144124e-02, -3.20603549e-02,\n",
       "       -7.63925016e-02, -1.75604075e-01, -5.40889986e-02,  2.08974164e-02,\n",
       "        3.49354967e-02,  3.07064373e-02,  2.26502102e-02,  9.61521789e-02,\n",
       "        7.20019192e-02,  6.08681776e-02,  9.43214539e-03, -1.30060166e-02,\n",
       "       -2.67311316e-02, -5.00259437e-02,  1.55946031e-01, -3.56940478e-02,\n",
       "        6.92882016e-02, -7.00816214e-02, -2.42169887e-01, -3.04751433e-02,\n",
       "        1.31832093e-01, -5.61689660e-02,  8.82827863e-02, -1.14977024e-01,\n",
       "       -7.06424490e-02, -2.52380315e-03,  2.57631950e-02,  1.42175272e-01],\n",
       "      dtype=float32)"
      ]
     },
     "execution_count": 92,
     "metadata": {},
     "output_type": "execute_result"
    }
   ],
   "source": [
    "X[0]"
   ]
  },
  {
   "cell_type": "code",
   "execution_count": 93,
   "metadata": {},
   "outputs": [
    {
     "name": "stderr",
     "output_type": "stream",
     "text": [
      "/home/akim/.local/share/virtualenvs/DS-Unit-4-Sprint-1-NLP-2AapNZ9Q/lib/python3.7/site-packages/ipykernel/ipkernel.py:287: DeprecationWarning: `should_run_async` will not call `transform_cell` automatically in the future. Please pass the result to `transformed_cell` argument and any exception that happen during thetransform in `preprocessing_exc_tuple` in IPython 7.17 and above.\n",
      "  and should_run_async(code)\n"
     ]
    },
    {
     "data": {
      "text/plain": [
       "KMeans(algorithm='auto', copy_x=True, init='k-means++', max_iter=300,\n",
       "       n_clusters=20, n_init=10, n_jobs=None, precompute_distances='auto',\n",
       "       random_state=None, tol=0.0001, verbose=0)"
      ]
     },
     "execution_count": 93,
     "metadata": {},
     "output_type": "execute_result"
    }
   ],
   "source": [
    "from sklearn.cluster import KMeans\n",
    "\n",
    "kmeans = KMeans(n_clusters=20)\n",
    "kmeans.fit(X)"
   ]
  },
  {
   "cell_type": "code",
   "execution_count": 94,
   "metadata": {},
   "outputs": [
    {
     "name": "stderr",
     "output_type": "stream",
     "text": [
      "/home/akim/.local/share/virtualenvs/DS-Unit-4-Sprint-1-NLP-2AapNZ9Q/lib/python3.7/site-packages/ipykernel/ipkernel.py:287: DeprecationWarning: `should_run_async` will not call `transform_cell` automatically in the future. Please pass the result to `transformed_cell` argument and any exception that happen during thetransform in `preprocessing_exc_tuple` in IPython 7.17 and above.\n",
      "  and should_run_async(code)\n"
     ]
    },
    {
     "data": {
      "text/plain": [
       "array([ 4, 13,  5,  3, 13, 17, 16, 13, 10, 13, 14,  9,  6, 19, 14,  9,  5,\n",
       "       14,  5, 10,  9, 11, 10, 13, 13, 10, 17,  6,  9,  4,  5,  4, 19, 15,\n",
       "       15, 11,  4,  5, 14,  4, 11, 18, 18, 11, 11, 16,  7, 16, 16, 19, 13,\n",
       "        9, 10, 17, 15,  3,  4,  1, 10, 19,  6, 10, 18,  6, 19,  9,  8, 15,\n",
       "        0,  8, 15,  9, 14, 14,  8, 14,  5, 14, 10, 13,  0, 11, 19,  8,  4,\n",
       "        3, 13,  3,  1,  3, 10,  0, 13, 13, 16, 11, 19, 13, 15,  3,  7, 13,\n",
       "       14,  6,  9, 13, 13, 13, 18,  8,  9, 13, 18, 11, 11,  9, 17,  3,  5,\n",
       "       16,  9,  4, 16,  0,  9, 13,  1,  4,  1,  4,  3, 17, 18,  0,  5,  9,\n",
       "       11, 18, 18,  0, 19, 12, 18, 14, 12, 17, 10,  9,  9, 17,  3,  8,  0,\n",
       "       19, 16, 13, 14,  9, 16, 17, 15, 15, 18,  9,  6, 10, 11,  2,  5,  8,\n",
       "       17, 10,  1, 18, 11, 13,  6, 17, 13,  6, 17, 14, 17,  4,  4, 18, 11,\n",
       "       16, 16,  5, 13,  2, 13, 17,  6, 18, 13,  0, 17, 18, 11, 14,  6,  9,\n",
       "       13, 19, 13, 14, 11,  5,  9,  5, 15, 13, 13, 17,  8,  5, 17, 17, 17,\n",
       "        9, 16, 16, 11,  5, 15,  9, 17, 19,  5, 13, 16, 11, 18, 10,  1,  9,\n",
       "        1, 10,  9,  0, 18, 13, 17,  5, 17, 17,  9, 16, 10,  4,  0, 19,  9,\n",
       "       13, 11, 13, 11, 18,  9, 17,  4, 11, 17,  8,  6, 15, 14,  8, 10,  3,\n",
       "       17, 18, 14, 13, 13, 18, 16,  5,  6,  8,  4, 11, 16,  8, 11,  0,  9,\n",
       "        7, 13, 16, 14,  5, 17,  9,  1, 14, 11,  0, 11, 17,  8,  0,  5,  3,\n",
       "        3, 16, 16, 10, 16, 17,  6, 16,  5,  9, 16,  1, 11, 15, 13,  3,  4,\n",
       "       11,  3,  5, 16, 14, 16, 16,  9, 15,  0, 16, 11,  6, 10,  8,  8, 13,\n",
       "        3,  4, 10,  5,  0, 11, 18, 16, 10, 17, 11, 17, 15, 19, 15,  1, 19,\n",
       "       10, 16,  9,  5, 17, 19,  8, 15,  4,  0, 13, 13,  9,  3,  1,  8, 13,\n",
       "       13, 13, 14, 17,  0, 18, 13,  9,  9,  9,  1,  1, 13,  9, 14, 16,  9,\n",
       "        1, 18, 18,  1, 10, 11,  8, 17, 10,  6,  1, 18,  3, 17,  8,  1,  6,\n",
       "       15,  3, 17, 13,  9,  3, 10, 11, 13, 13, 16, 16,  3, 17,  9, 17, 17,\n",
       "        3,  7,  5,  8,  4, 10,  4,  5,  8,  9,  1,  0, 11, 18,  8,  0, 11,\n",
       "        0,  9,  0, 14,  4,  5,  1,  1, 13,  1,  4, 15, 13,  4,  1,  5,  9,\n",
       "       16,  9,  4, 10,  8, 16,  3,  4, 17,  9,  1, 18, 11,  1,  6, 17, 15,\n",
       "        0,  9,  1,  1,  0, 17, 11, 10,  0, 13,  3, 15,  1,  4, 15,  9, 19,\n",
       "        6, 11,  9,  9,  4, 12, 14], dtype=int32)"
      ]
     },
     "execution_count": 94,
     "metadata": {},
     "output_type": "execute_result"
    }
   ],
   "source": [
    "kmeans.labels_"
   ]
  },
  {
   "cell_type": "code",
   "execution_count": 97,
   "metadata": {},
   "outputs": [
    {
     "name": "stderr",
     "output_type": "stream",
     "text": [
      "/home/akim/.local/share/virtualenvs/DS-Unit-4-Sprint-1-NLP-2AapNZ9Q/lib/python3.7/site-packages/ipykernel/ipkernel.py:287: DeprecationWarning: `should_run_async` will not call `transform_cell` automatically in the future. Please pass the result to `transformed_cell` argument and any exception that happen during thetransform in `preprocessing_exc_tuple` in IPython 7.17 and above.\n",
      "  and should_run_async(code)\n"
     ]
    },
    {
     "data": {
      "text/plain": [
       "array([[-0.03011884,  0.0919892 , -0.09240624, ..., -0.01459576,\n",
       "         0.00373113,  0.0621932 ],\n",
       "       [-0.02128587,  0.12861456, -0.0946875 , ..., -0.0632641 ,\n",
       "        -0.01760532,  0.08252365],\n",
       "       [-0.10286831,  0.18308058, -0.08469541, ..., -0.08065693,\n",
       "        -0.09260087,  0.13351642],\n",
       "       ...,\n",
       "       [-0.06502199,  0.1271009 , -0.11462541, ..., -0.06938158,\n",
       "         0.01833629,  0.09441931],\n",
       "       [-0.01493553,  0.14481361, -0.08716783, ..., -0.05867859,\n",
       "        -0.02189718,  0.11950826],\n",
       "       [-0.02326071,  0.12501206, -0.04013256, ..., -0.04111465,\n",
       "        -0.02204668,  0.08281143]])"
      ]
     },
     "execution_count": 97,
     "metadata": {},
     "output_type": "execute_result"
    }
   ],
   "source": [
    "kmeans.cluster_centers_"
   ]
  },
  {
   "cell_type": "code",
   "execution_count": 98,
   "metadata": {},
   "outputs": [
    {
     "name": "stderr",
     "output_type": "stream",
     "text": [
      "/home/akim/.local/share/virtualenvs/DS-Unit-4-Sprint-1-NLP-2AapNZ9Q/lib/python3.7/site-packages/ipykernel/ipkernel.py:287: DeprecationWarning: `should_run_async` will not call `transform_cell` automatically in the future. Please pass the result to `transformed_cell` argument and any exception that happen during thetransform in `preprocessing_exc_tuple` in IPython 7.17 and above.\n",
      "  and should_run_async(code)\n"
     ]
    },
    {
     "data": {
      "text/plain": [
       "203.4194912288186"
      ]
     },
     "execution_count": 98,
     "metadata": {},
     "output_type": "execute_result"
    }
   ],
   "source": [
    "kmeans.inertia_"
   ]
  },
  {
   "cell_type": "code",
   "execution_count": 102,
   "metadata": {},
   "outputs": [
    {
     "name": "stderr",
     "output_type": "stream",
     "text": [
      "/home/akim/.local/share/virtualenvs/DS-Unit-4-Sprint-1-NLP-2AapNZ9Q/lib/python3.7/site-packages/ipykernel/ipkernel.py:287: DeprecationWarning: `should_run_async` will not call `transform_cell` automatically in the future. Please pass the result to `transformed_cell` argument and any exception that happen during thetransform in `preprocessing_exc_tuple` in IPython 7.17 and above.\n",
      "  and should_run_async(code)\n"
     ]
    }
   ],
   "source": [
    "sum_of_sq_distances = []\n",
    "\n",
    "for K in range(3, 50, 3):\n",
    "    kmeans = KMeans(n_clusters=K)\n",
    "    kmeans.fit(X)\n",
    "    sum_of_sq_distances.append(kmeans.inertia_)"
   ]
  },
  {
   "cell_type": "code",
   "execution_count": 104,
   "metadata": {},
   "outputs": [
    {
     "name": "stderr",
     "output_type": "stream",
     "text": [
      "/home/akim/.local/share/virtualenvs/DS-Unit-4-Sprint-1-NLP-2AapNZ9Q/lib/python3.7/site-packages/ipykernel/ipkernel.py:287: DeprecationWarning: `should_run_async` will not call `transform_cell` automatically in the future. Please pass the result to `transformed_cell` argument and any exception that happen during thetransform in `preprocessing_exc_tuple` in IPython 7.17 and above.\n",
      "  and should_run_async(code)\n"
     ]
    },
    {
     "data": {
      "text/plain": [
       "Text(0, 0.5, 'Inertia (sum of squared distances)')"
      ]
     },
     "execution_count": 104,
     "metadata": {},
     "output_type": "execute_result"
    },
    {
     "data": {
      "image/png": "[encoded data removed]",
      "text/plain": [
       "<Figure size 432x288 with 1 Axes>"
      ]
     },
     "metadata": {
      "needs_background": "light"
     },
     "output_type": "display_data"
    }
   ],
   "source": [
    "plt.plot(range(3, 50, 3), sum_of_sq_distances)\n",
    "plt.xlabel('# of clusters')\n",
    "plt.ylabel('Inertia (sum of squared distances)')"
   ]
  },
  {
   "cell_type": "code",
   "execution_count": 105,
   "metadata": {},
   "outputs": [
    {
     "name": "stderr",
     "output_type": "stream",
     "text": [
      "/home/akim/.local/share/virtualenvs/DS-Unit-4-Sprint-1-NLP-2AapNZ9Q/lib/python3.7/site-packages/ipykernel/ipkernel.py:287: DeprecationWarning: `should_run_async` will not call `transform_cell` automatically in the future. Please pass the result to `transformed_cell` argument and any exception that happen during thetransform in `preprocessing_exc_tuple` in IPython 7.17 and above.\n",
      "  and should_run_async(code)\n"
     ]
    },
    {
     "data": {
      "text/plain": [
       "KMeans(algorithm='auto', copy_x=True, init='k-means++', max_iter=300,\n",
       "       n_clusters=15, n_init=10, n_jobs=None, precompute_distances='auto',\n",
       "       random_state=None, tol=0.0001, verbose=0)"
      ]
     },
     "execution_count": 105,
     "metadata": {},
     "output_type": "execute_result"
    }
   ],
   "source": [
    "kmeans = KMeans(n_clusters=15)\n",
    "kmeans.fit(X)"
   ]
  },
  {
   "cell_type": "code",
   "execution_count": 113,
   "metadata": {},
   "outputs": [
    {
     "name": "stderr",
     "output_type": "stream",
     "text": [
      "/home/akim/.local/share/virtualenvs/DS-Unit-4-Sprint-1-NLP-2AapNZ9Q/lib/python3.7/site-packages/ipykernel/ipkernel.py:287: DeprecationWarning: `should_run_async` will not call `transform_cell` automatically in the future. Please pass the result to `transformed_cell` argument and any exception that happen during thetransform in `preprocessing_exc_tuple` in IPython 7.17 and above.\n",
      "  and should_run_async(code)\n"
     ]
    },
    {
     "data": {
      "text/plain": [
       "array([ 1,  5,  1,  9, 10,  6,  4,  5,  5,  5,  9, 11, 12,  0,  9,  6, 11,\n",
       "        1,  0,  5,  6,  3,  5,  5,  5,  5,  1, 14, 11,  1,  1,  1,  8,  6,\n",
       "        8,  3, 11, 11,  1,  1, 10,  9,  7,  3,  3,  9,  2,  9,  9,  8,  5,\n",
       "       11,  5, 11,  6,  5,  1,  3,  5,  7, 14,  5,  2, 14,  8, 11,  2,  8,\n",
       "        6,  2,  6, 10,  5,  1,  2,  0,  1,  1,  5,  5,  6, 10,  7,  7,  1,\n",
       "        7,  5,  7,  3,  5,  5,  6,  5,  1,  9,  3,  8,  0,  8,  7,  2,  5,\n",
       "        9, 14, 11,  0,  0,  0,  2,  2,  6,  0,  7, 10,  3, 11, 13,  5,  5,\n",
       "        9, 11,  1,  5,  6, 11, 10,  8, 11,  3,  1,  7, 13,  7,  6,  1, 10,\n",
       "       11,  9,  4,  6, 13, 12,  7,  9, 12, 11,  5, 11, 11,  8,  7,  2,  6,\n",
       "        0,  5,  5,  1, 11, 10,  6,  8,  6,  9, 10,  2,  7,  1,  4, 11,  2,\n",
       "        6,  5,  9,  9,  3,  1,  4,  6,  5, 14, 13,  1, 13,  1,  0,  5, 10,\n",
       "        9,  5,  1,  5,  4,  5,  6,  2,  9,  0,  6,  6,  7, 10,  9, 14, 11,\n",
       "       10,  9,  5,  1,  3, 11, 11,  5,  8,  5,  5, 13,  2,  1, 13,  6, 10,\n",
       "       11,  9,  9,  3, 11,  8, 11,  6,  8,  1,  5,  9,  3,  9,  5,  9, 10,\n",
       "        9,  5, 10,  6,  7,  1,  0,  1,  1,  6, 11,  5,  4,  1,  6,  8, 10,\n",
       "        5,  3,  0,  3,  5, 11,  6,  1,  3,  6,  4, 14,  8,  9,  7,  5,  7,\n",
       "       13,  4,  9,  5,  0,  5,  9,  5,  2,  2,  1,  3,  5,  2, 10,  6, 11,\n",
       "        2,  5,  4,  9,  1,  1, 10,  4,  1,  3,  6,  3,  6,  7,  6, 11,  9,\n",
       "        7,  9,  9,  5, 10,  6, 14,  9,  1, 11, 10,  8,  3,  8,  5,  8,  1,\n",
       "        3,  7, 11,  9,  9,  9, 13, 11, 10,  6,  4,  3, 14,  5,  7,  4,  5,\n",
       "        9,  1,  5,  1,  6,  3,  5, 10,  5,  6,  3,  0,  8,  8,  6,  9,  7,\n",
       "        5,  9,  6,  0,  6,  8,  7,  8,  1,  6,  5,  1, 11,  8,  9,  2,  0,\n",
       "        5,  5,  9,  6,  6,  7,  5, 10, 11, 11,  9,  8,  5, 11,  9,  9,  6,\n",
       "        8,  9,  7, 10,  5, 11,  4, 13,  5, 14,  8,  7,  7,  1,  7,  3,  2,\n",
       "       10,  5,  6,  5, 11,  9,  5, 10,  1,  5,  1,  5, 13, 10, 11,  8,  8,\n",
       "        5,  2,  1,  7,  1,  5,  1, 11,  7, 11,  4,  6,  3,  9,  2,  6,  3,\n",
       "        6, 11,  6,  9,  1, 11, 10,  8,  5,  9,  1,  8,  5,  1,  8, 11, 11,\n",
       "        9, 11,  1,  4,  7,  9,  7,  1,  1, 11,  8,  7,  3,  9, 14,  1,  6,\n",
       "        6, 11,  9,  9,  6, 13,  3,  5,  6,  5,  5,  8,  4,  1,  8, 11,  7,\n",
       "       14, 11, 11, 10,  1, 12,  9], dtype=int32)"
      ]
     },
     "execution_count": 113,
     "metadata": {},
     "output_type": "execute_result"
    }
   ],
   "source": [
    "kmeans.labels_"
   ]
  },
  {
   "cell_type": "code",
   "execution_count": 115,
   "metadata": {},
   "outputs": [
    {
     "name": "stderr",
     "output_type": "stream",
     "text": [
      "/home/akim/.local/share/virtualenvs/DS-Unit-4-Sprint-1-NLP-2AapNZ9Q/lib/python3.7/site-packages/ipykernel/ipkernel.py:287: DeprecationWarning: `should_run_async` will not call `transform_cell` automatically in the future. Please pass the result to `transformed_cell` argument and any exception that happen during thetransform in `preprocessing_exc_tuple` in IPython 7.17 and above.\n",
      "  and should_run_async(code)\n"
     ]
    },
    {
     "data": {
      "text/plain": [
       "array([ 27,  60,  63, 103, 179, 202, 266, 312, 335, 400, 473, 493])"
      ]
     },
     "execution_count": 115,
     "metadata": {},
     "output_type": "execute_result"
    }
   ],
   "source": [
    "np.where(kmeans.labels_ == 14)[0]"
   ]
  },
  {
   "cell_type": "code",
   "execution_count": 116,
   "metadata": {},
   "outputs": [
    {
     "name": "stderr",
     "output_type": "stream",
     "text": [
      "/home/akim/.local/share/virtualenvs/DS-Unit-4-Sprint-1-NLP-2AapNZ9Q/lib/python3.7/site-packages/ipykernel/ipkernel.py:287: DeprecationWarning: `should_run_async` will not call `transform_cell` automatically in the future. Please pass the result to `transformed_cell` argument and any exception that happen during thetransform in `preprocessing_exc_tuple` in IPython 7.17 and above.\n",
      "  and should_run_async(code)\n"
     ]
    },
    {
     "data": {
      "text/plain": [
       "27      Doug Roberts Subject Re NL vs AL Organization...\n",
       "60      Jason Blakey Subject FTP sites anyone NntpPos...\n",
       "63      Subject Re CDs priced for immediate sale Arti...\n",
       "103     Robert Horton Subject Re Macs suck Buy a PC N...\n",
       "179     Dale Stephenson Subject Re Giants GM Quinn is...\n",
       "202     Stewart Clamen Subject Re Binyamin Netanyahu ...\n",
       "266     Gerald Olchowy Subject Re WC 93 Results April...\n",
       "312     Edward A Shnekendorf Subject Happy Birthday I...\n",
       "335     Michael C Davis Subject Love Europe Organizat...\n",
       "400     Andy Hooper Subject Re text of White House an...\n",
       "473     Subject Re This years biggest and worst opini...\n",
       "493     Stephen Hite Subject Re Searching for xgolf O...\n",
       "Name: content, dtype: object"
      ]
     },
     "execution_count": 116,
     "metadata": {},
     "output_type": "execute_result"
    }
   ],
   "source": [
    "df['content'].iloc[np.where(kmeans.labels_ == 14)[0]]"
   ]
  },
  {
   "cell_type": "code",
   "execution_count": null,
   "metadata": {},
   "outputs": [],
   "source": []
  }
 ],
 "metadata": {
  "colab": {
   "collapsed_sections": [],
   "name": "REFERENCE_LS_DS_414_Topic_Modeling.ipynb",
   "provenance": []
  },
  "kernelspec": {
   "display_name": "Python 3",
   "language": "python",
   "name": "python3"
  },
  "language_info": {
   "codemirror_mode": {
    "name": "ipython",
    "version": 3
   },
   "file_extension": ".py",
   "mimetype": "text/x-python",
   "name": "python",
   "nbconvert_exporter": "python",
   "pygments_lexer": "ipython3",
   "version": "3.7.7"
  }
 },
 "nbformat": 4,
 "nbformat_minor": 1
}
